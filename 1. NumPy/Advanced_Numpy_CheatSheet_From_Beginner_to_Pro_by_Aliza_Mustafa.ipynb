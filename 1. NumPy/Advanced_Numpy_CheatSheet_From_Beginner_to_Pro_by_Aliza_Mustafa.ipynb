{
  "nbformat": 4,
  "nbformat_minor": 0,
  "metadata": {
    "colab": {
      "provenance": [],
      "collapsed_sections": []
    },
    "kernelspec": {
      "name": "python3",
      "display_name": "Python 3"
    },
    "language_info": {
      "name": "python"
    }
  },
  "cells": [
    {
      "cell_type": "markdown",
      "source": [
        "**What is Numpy?**\n",
        "\n",
        "Numpy is a Python library for creating n-dimensional arrays.\n",
        "\n",
        "**Why to use Numpy?**\n",
        "\n",
        "Numpy structure look similar to standard Python lists but Numpy arrays are more efficient e.g.\n",
        "1. Its broadcasting capabilities are extremely useful for quickly applying functions to any dataset.\n",
        "2.  It has alot of built-in features like linear algebra, statistical distribution, trignometry and random numbers handling capabilities. "
      ],
      "metadata": {
        "id": "Lg_rVljk2e1i"
      }
    },
    {
      "cell_type": "markdown",
      "source": [
        "**How many methods are there to create Numpy arrays?**\n",
        "\n",
        "There are three methods for it: \n",
        "\n",
        "1. Getting Numpy arrays by transforming python lists to arrays\n",
        "2. Getting Numpy arrays by using builtin function\n",
        "3. Getting Numpy arrays by generating random data in whatever shape you want\n"
      ],
      "metadata": {
        "id": "Rvgy3ic23OYl"
      }
    },
    {
      "cell_type": "markdown",
      "source": [
        "**Method-1:**"
      ],
      "metadata": {
        "id": "7wrnRScB3ztJ"
      }
    },
    {
      "cell_type": "code",
      "source": [
        "# Must import numpy library before using it\n",
        "import numpy as np\n",
        "\n",
        "# 1D Numpy Array ----->>>>\n",
        "mylist = [1,2,3]  # creating the list\n",
        "# transforming the mylist to numpy array as below\n",
        "np.array(mylist)"
      ],
      "metadata": {
        "colab": {
          "base_uri": "https://localhost:8080/"
        },
        "id": "g5-9OthF32oO",
        "outputId": "90128c5b-3f19-4d1b-bffd-4f61751ff9cd"
      },
      "execution_count": null,
      "outputs": [
        {
          "output_type": "execute_result",
          "data": {
            "text/plain": [
              "array([1, 2, 3])"
            ]
          },
          "metadata": {},
          "execution_count": 2
        }
      ]
    },
    {
      "cell_type": "code",
      "source": [
        "#directly writing mylist into np.array() function gives same result\n",
        "np.array([1,2,3])"
      ],
      "metadata": {
        "colab": {
          "base_uri": "https://localhost:8080/"
        },
        "id": "FRPkIWJ94GlF",
        "outputId": "88e2d21d-7e48-4dcf-9c63-c0df3a8e8455"
      },
      "execution_count": null,
      "outputs": [
        {
          "output_type": "execute_result",
          "data": {
            "text/plain": [
              "array([1, 2, 3])"
            ]
          },
          "metadata": {},
          "execution_count": 3
        }
      ]
    },
    {
      "cell_type": "code",
      "source": [
        "# 2D Numpy Array ----->>>>\n",
        "mymatrix = [[1,2,3], [5,6,7], [8,9,10]]\n",
        "np.array(mymatrix)"
      ],
      "metadata": {
        "colab": {
          "base_uri": "https://localhost:8080/"
        },
        "id": "L6LfHEQI4aZi",
        "outputId": "e1ac4eba-0149-45e5-9e92-03936b4734df"
      },
      "execution_count": null,
      "outputs": [
        {
          "output_type": "execute_result",
          "data": {
            "text/plain": [
              "array([[ 1,  2,  3],\n",
              "       [ 5,  6,  7],\n",
              "       [ 8,  9, 10]])"
            ]
          },
          "metadata": {},
          "execution_count": 4
        }
      ]
    },
    {
      "cell_type": "code",
      "source": [
        "#directly writing 2D list(matrix) into np.array() function gives same result\n",
        "np.array([[1,2,3], [5,6,7], [8,9,10]])"
      ],
      "metadata": {
        "colab": {
          "base_uri": "https://localhost:8080/"
        },
        "id": "lZE3dEtJ4oVX",
        "outputId": "bed5b1ef-f8ec-4854-f2fb-fbf1dde34e8c"
      },
      "execution_count": null,
      "outputs": [
        {
          "output_type": "execute_result",
          "data": {
            "text/plain": [
              "array([[ 1,  2,  3],\n",
              "       [ 5,  6,  7],\n",
              "       [ 8,  9, 10]])"
            ]
          },
          "metadata": {},
          "execution_count": 5
        }
      ]
    },
    {
      "cell_type": "markdown",
      "source": [
        "**Method-2:**"
      ],
      "metadata": {
        "id": "5LSvRUgO40if"
      }
    },
    {
      "cell_type": "markdown",
      "source": [
        "**1. Using arange function:**\n",
        "\n",
        "**Syntax:** np.arange(start, stop, step)\n",
        "\n",
        "**Nota bene:** \n",
        "\n",
        "1. It always produces integers in return\n",
        "2.'Stop' number is not included in result\n",
        "3. It always gives 1D in return. To make it 2D, reshape it.\n",
        "4. np.arange(0,9) = np.arange(9)"
      ],
      "metadata": {
        "id": "76zqYQKF48Gt"
      }
    },
    {
      "cell_type": "code",
      "source": [
        "np.arange(0, 10, 1)"
      ],
      "metadata": {
        "colab": {
          "base_uri": "https://localhost:8080/"
        },
        "id": "qge6n5Mf4yvQ",
        "outputId": "4fb723ad-7f24-4754-d58d-a2567591fdfc"
      },
      "execution_count": null,
      "outputs": [
        {
          "output_type": "execute_result",
          "data": {
            "text/plain": [
              "array([0, 1, 2, 3, 4, 5, 6, 7, 8, 9])"
            ]
          },
          "metadata": {},
          "execution_count": 6
        }
      ]
    },
    {
      "cell_type": "code",
      "source": [
        "np.arange(0, 10, 2)"
      ],
      "metadata": {
        "colab": {
          "base_uri": "https://localhost:8080/"
        },
        "id": "2djdynxW5Ir9",
        "outputId": "a2d2e97d-c6a3-4ce9-9b09-746d7d00069d"
      },
      "execution_count": null,
      "outputs": [
        {
          "output_type": "execute_result",
          "data": {
            "text/plain": [
              "array([0, 2, 4, 6, 8])"
            ]
          },
          "metadata": {},
          "execution_count": 7
        }
      ]
    },
    {
      "cell_type": "markdown",
      "source": [
        "\n",
        "\n",
        "**2. Producing array of zeros and ones with np.zeros and np.ones function:**\n",
        "\n",
        "**Syntax:** \n",
        "1. np.zeros(shape) \n",
        "2. np.ones(shape)\n",
        "\n",
        "**Nota bene:** Shape = ((Number of rows, Number of columns)) : must have double brackets if you want to produce 2D array."
      ],
      "metadata": {
        "id": "3hBYMbSQ5Y5f"
      }
    },
    {
      "cell_type": "code",
      "source": [
        "np.zeros(5) # To get 1D array, Shape = Number of zeros needed in 1D array"
      ],
      "metadata": {
        "colab": {
          "base_uri": "https://localhost:8080/"
        },
        "id": "_ebWtvDx5WEe",
        "outputId": "e0445778-61b0-47be-8bd6-29b3d38323df"
      },
      "execution_count": null,
      "outputs": [
        {
          "output_type": "execute_result",
          "data": {
            "text/plain": [
              "array([0., 0., 0., 0., 0.])"
            ]
          },
          "metadata": {},
          "execution_count": 9
        }
      ]
    },
    {
      "cell_type": "code",
      "source": [
        "np.zeros((4,5))   # Shape = (4,5) = (4 rows, 5 columns)"
      ],
      "metadata": {
        "colab": {
          "base_uri": "https://localhost:8080/"
        },
        "id": "qwoh_lES5rWM",
        "outputId": "20d39e7b-bec5-4f1e-d512-660aa213b7f1"
      },
      "execution_count": null,
      "outputs": [
        {
          "output_type": "execute_result",
          "data": {
            "text/plain": [
              "array([[0., 0., 0., 0., 0.],\n",
              "       [0., 0., 0., 0., 0.],\n",
              "       [0., 0., 0., 0., 0.],\n",
              "       [0., 0., 0., 0., 0.]])"
            ]
          },
          "metadata": {},
          "execution_count": 12
        }
      ]
    },
    {
      "cell_type": "code",
      "source": [
        "np.ones(5)"
      ],
      "metadata": {
        "colab": {
          "base_uri": "https://localhost:8080/"
        },
        "id": "wgZ7NyBi51jR",
        "outputId": "0a3f1d53-0275-48f7-808c-c99b6f162e26"
      },
      "execution_count": null,
      "outputs": [
        {
          "output_type": "execute_result",
          "data": {
            "text/plain": [
              "array([1., 1., 1., 1., 1.])"
            ]
          },
          "metadata": {},
          "execution_count": 13
        }
      ]
    },
    {
      "cell_type": "code",
      "source": [
        "np.ones((4,5))"
      ],
      "metadata": {
        "colab": {
          "base_uri": "https://localhost:8080/"
        },
        "id": "mCJtIzfx6ZPA",
        "outputId": "c543d201-eb07-4c66-d32f-94eedada02e2"
      },
      "execution_count": null,
      "outputs": [
        {
          "output_type": "execute_result",
          "data": {
            "text/plain": [
              "array([[1., 1., 1., 1., 1.],\n",
              "       [1., 1., 1., 1., 1.],\n",
              "       [1., 1., 1., 1., 1.],\n",
              "       [1., 1., 1., 1., 1.]])"
            ]
          },
          "metadata": {},
          "execution_count": 14
        }
      ]
    },
    {
      "cell_type": "markdown",
      "source": [
        "**3. Using linspace function:**\n",
        "\n",
        "It gives n number of evenly spaced numbers in range min_limit to max_limit\n",
        "\n",
        "**Syntax:** np.linspace(min_limit**,** max_limit**,** n)\n",
        "\n",
        "**Nota bene:** \n",
        "\n",
        "1. 'max_limit' number is included in result\n",
        "2. It produces floats in return e.g. 0., 1. etc."
      ],
      "metadata": {
        "id": "TpwZKLxj6djH"
      }
    },
    {
      "cell_type": "code",
      "source": [
        "np.linspace(0,10,3)"
      ],
      "metadata": {
        "colab": {
          "base_uri": "https://localhost:8080/"
        },
        "id": "hzBP4C9H6a4d",
        "outputId": "02a49376-4cb8-4846-9e81-4dec27658a7c"
      },
      "execution_count": null,
      "outputs": [
        {
          "output_type": "execute_result",
          "data": {
            "text/plain": [
              "array([ 0.,  5., 10.])"
            ]
          },
          "metadata": {},
          "execution_count": 15
        }
      ]
    },
    {
      "cell_type": "code",
      "source": [
        "np.linspace(0,10,11)"
      ],
      "metadata": {
        "colab": {
          "base_uri": "https://localhost:8080/"
        },
        "id": "myxB3hes7RX1",
        "outputId": "2483ecf0-827d-47d5-8269-e14bcad39e84"
      },
      "execution_count": 4,
      "outputs": [
        {
          "output_type": "execute_result",
          "data": {
            "text/plain": [
              "array([ 0.,  1.,  2.,  3.,  4.,  5.,  6.,  7.,  8.,  9., 10.])"
            ]
          },
          "metadata": {},
          "execution_count": 4
        }
      ]
    },
    {
      "cell_type": "markdown",
      "source": [
        "**4. Using eye function to get identity matrix:**\n",
        "\n",
        "**Syntax:** np.eye(shape)\n",
        "\n",
        "**Nota bene:** Shape = (n) : Number of rows = n and number of columns = n"
      ],
      "metadata": {
        "id": "6xq9kfWV7dld"
      }
    },
    {
      "cell_type": "code",
      "source": [
        "np.eye(5)"
      ],
      "metadata": {
        "colab": {
          "base_uri": "https://localhost:8080/"
        },
        "id": "Pm74T2o87ZKB",
        "outputId": "59737aa4-3f16-4b5f-c485-0d6de88ba674"
      },
      "execution_count": null,
      "outputs": [
        {
          "output_type": "execute_result",
          "data": {
            "text/plain": [
              "array([[1., 0., 0., 0., 0.],\n",
              "       [0., 1., 0., 0., 0.],\n",
              "       [0., 0., 1., 0., 0.],\n",
              "       [0., 0., 0., 1., 0.],\n",
              "       [0., 0., 0., 0., 1.]])"
            ]
          },
          "metadata": {},
          "execution_count": 17
        }
      ]
    },
    {
      "cell_type": "markdown",
      "source": [
        "**Method-3:**"
      ],
      "metadata": {
        "id": "hOlr_z2Z7_mU"
      }
    },
    {
      "cell_type": "markdown",
      "source": [
        "**1. Using np.random.rand() function:**\n",
        "\n",
        "**Syntax:** np.random.rand(shape)\n",
        "\n",
        "**Nota bene:** \n",
        "1. Shape = ((Number of rows, Number of columns)) : must have double brackets\n",
        "2. All generated numbers lie between 0 & 1"
      ],
      "metadata": {
        "id": "OCyQGZnL8Gb4"
      }
    },
    {
      "cell_type": "code",
      "source": [
        "np.random.rand(5) # To get 1D array of random numbers, Shape = Number of random integers needed in 1D array"
      ],
      "metadata": {
        "colab": {
          "base_uri": "https://localhost:8080/"
        },
        "id": "n4xSTW-F8B0a",
        "outputId": "392b0415-9e52-424b-e22a-150b3f3d5e52"
      },
      "execution_count": null,
      "outputs": [
        {
          "output_type": "execute_result",
          "data": {
            "text/plain": [
              "array([0.19094959, 0.17330918, 0.77339487, 0.50050293, 0.47724927])"
            ]
          },
          "metadata": {},
          "execution_count": 18
        }
      ]
    },
    {
      "cell_type": "code",
      "source": [
        "np.random.rand(4,5)"
      ],
      "metadata": {
        "colab": {
          "base_uri": "https://localhost:8080/"
        },
        "id": "K6Tnqyu08t9v",
        "outputId": "29c7a22a-7170-47d5-9e47-13752ff91643"
      },
      "execution_count": null,
      "outputs": [
        {
          "output_type": "execute_result",
          "data": {
            "text/plain": [
              "array([[0.11160308, 0.01451946, 0.69295744, 0.94286861, 0.79286264],\n",
              "       [0.83949239, 0.04591028, 0.37970204, 0.95892099, 0.37398896],\n",
              "       [0.36004257, 0.80366683, 0.44411184, 0.70100194, 0.20929319],\n",
              "       [0.11235763, 0.02314392, 0.99399227, 0.78890615, 0.22399345]])"
            ]
          },
          "metadata": {},
          "execution_count": 19
        }
      ]
    },
    {
      "cell_type": "markdown",
      "source": [
        "**2. Using np.random.randn() function:**\n",
        "\n",
        "It gives standard normally distributed random integers. It means that the variance of all produced random inetgers = 1 and mean = 1.\n",
        "\n",
        "**Syntax:** np.random.randn(shape)\n",
        "\n",
        "**Nota bene:** \n",
        "1. Shape = (Number of rows, Number of columns)\n",
        "2. All generated random numbers lie between -1 & 1 (because we can have mean = 0 only if we have negative numbers with positive numbers to give us 0 sum so thats why limit is -1 to +1)"
      ],
      "metadata": {
        "id": "iEBJmaOj9VLV"
      }
    },
    {
      "cell_type": "code",
      "source": [
        "np.random.randn(10)"
      ],
      "metadata": {
        "colab": {
          "base_uri": "https://localhost:8080/"
        },
        "id": "C4K1bsRl9KMe",
        "outputId": "b8469ab4-0607-45b6-da65-a59cb09d400c"
      },
      "execution_count": null,
      "outputs": [
        {
          "output_type": "execute_result",
          "data": {
            "text/plain": [
              "array([ 0.27497129, -0.58232082,  0.02950219, -2.94568226,  0.58800858,\n",
              "       -0.74145297, -0.29757586, -0.18415128,  1.95819524,  0.47188413])"
            ]
          },
          "metadata": {},
          "execution_count": 20
        }
      ]
    },
    {
      "cell_type": "code",
      "source": [
        "np.random.randn(4,5)"
      ],
      "metadata": {
        "colab": {
          "base_uri": "https://localhost:8080/"
        },
        "id": "MSCdAK6L-Epe",
        "outputId": "2e2e7dc8-81af-49dc-f7d6-c87ad1a173c3"
      },
      "execution_count": null,
      "outputs": [
        {
          "output_type": "execute_result",
          "data": {
            "text/plain": [
              "array([[ 1.40578371,  0.05956482, -0.98894187,  1.3074693 , -0.82914767],\n",
              "       [-0.26557385,  1.08353995, -2.60316621, -0.65912286, -1.51705903],\n",
              "       [-1.69939497,  0.80169912,  1.09999835, -0.96117025,  0.46186788],\n",
              "       [ 0.47898847,  1.30347   , -0.11065359, -0.4481102 ,  0.15262056]])"
            ]
          },
          "metadata": {},
          "execution_count": 21
        }
      ]
    },
    {
      "cell_type": "markdown",
      "source": [
        "**2. Using np.random.randint() function:**\n",
        "\n",
        "\n",
        "**Syntax:** np.random.randint(min_limit, max_limit, shape)\n",
        "\n",
        "**Nota bene:** \n",
        "1. Shape = (Number of rows, Number of columns) for 2D\n",
        "2. 'max_limit' number is not included in result\n",
        "3. It works like np.linspace(min_limit, max_limit, shape) but the only difference is: we can give shape like (3,4) etc. in np.random.randint to generate 2D arrays but not in np.linspace. The np.linspace just needs one number as a shape and always produces 1D array."
      ],
      "metadata": {
        "id": "A7_cIwq4-THW"
      }
    },
    {
      "cell_type": "code",
      "source": [
        "np.random.randint(0, 10, 4) # To get 1D array of random integers, Shape = Number of random numbers needed in 1D array"
      ],
      "metadata": {
        "colab": {
          "base_uri": "https://localhost:8080/"
        },
        "id": "mwix42fQ-NCW",
        "outputId": "391198e3-96ac-4bc0-8543-aef8ca0aef59"
      },
      "execution_count": null,
      "outputs": [
        {
          "output_type": "execute_result",
          "data": {
            "text/plain": [
              "array([4, 1, 7, 9])"
            ]
          },
          "metadata": {},
          "execution_count": 22
        }
      ]
    },
    {
      "cell_type": "code",
      "source": [
        "np.random.randint(0, 10, (2,3))"
      ],
      "metadata": {
        "colab": {
          "base_uri": "https://localhost:8080/"
        },
        "id": "sBzv-lZZ_AlC",
        "outputId": "0210ecec-8511-44c0-ac63-0134ac01dac4"
      },
      "execution_count": null,
      "outputs": [
        {
          "output_type": "execute_result",
          "data": {
            "text/plain": [
              "array([[2, 5, 7],\n",
              "       [6, 4, 4]])"
            ]
          },
          "metadata": {},
          "execution_count": 23
        }
      ]
    },
    {
      "cell_type": "markdown",
      "source": [
        "**Why we need to use seed in numpy?**\n",
        "\n",
        "The seed is used to set a random state so that the random results can actually be reproduced. Every time we give it the same seed, it generates the same numbers."
      ],
      "metadata": {
        "id": "ZVTs7wH3_NUI"
      }
    },
    {
      "cell_type": "code",
      "source": [
        "np.random.seed(42)\n",
        "np.random.rand(5)"
      ],
      "metadata": {
        "colab": {
          "base_uri": "https://localhost:8080/"
        },
        "id": "v8agaF3p_JlN",
        "outputId": "8a1a5421-b36f-4c1c-af94-4f3029b2a366"
      },
      "execution_count": null,
      "outputs": [
        {
          "output_type": "execute_result",
          "data": {
            "text/plain": [
              "array([0.37454012, 0.95071431, 0.73199394, 0.59865848, 0.15601864])"
            ]
          },
          "metadata": {},
          "execution_count": 31
        }
      ]
    },
    {
      "cell_type": "code",
      "source": [
        "# Reproducing the same result\n",
        "np.random.seed(42)\n",
        "np.random.rand(5)"
      ],
      "metadata": {
        "colab": {
          "base_uri": "https://localhost:8080/"
        },
        "id": "ALwuNboB_iVr",
        "outputId": "59c0d4e1-0a28-43c0-9b5a-cff12ca5025d"
      },
      "execution_count": null,
      "outputs": [
        {
          "output_type": "execute_result",
          "data": {
            "text/plain": [
              "array([0.37454012, 0.95071431, 0.73199394, 0.59865848, 0.15601864])"
            ]
          },
          "metadata": {},
          "execution_count": 32
        }
      ]
    },
    {
      "cell_type": "markdown",
      "source": [
        "**Nota bene:**\n",
        "1. Never forget to write *np.random.seed(42)* on top each time you want to reproduce the result\n",
        "2. 42 is default number in python to use as seed because it was mentioned in book 'Hitchhiker's Guide to the Galaxy' of python. you can use number '101' etc. also."
      ],
      "metadata": {
        "id": "M5ADu0gkApLs"
      }
    },
    {
      "cell_type": "markdown",
      "source": [
        "## **Useful Attributes and Methods calls in Numpy:**"
      ],
      "metadata": {
        "id": "3XL05Pt2BxkY"
      }
    },
    {
      "cell_type": "code",
      "source": [
        "firstarray = np.arange(0,25) # here step = 1. By default, step = 1 so not mentioning doesn't make any difference.\n",
        "print(firstarray) "
      ],
      "metadata": {
        "colab": {
          "base_uri": "https://localhost:8080/"
        },
        "id": "CtjZuYCV_jp0",
        "outputId": "b8d71d1e-f1a7-421e-f9f2-b59400d55a39"
      },
      "execution_count": null,
      "outputs": [
        {
          "output_type": "stream",
          "name": "stdout",
          "text": [
            "[ 0  1  2  3  4  5  6  7  8  9 10 11 12 13 14 15 16 17 18 19 20 21 22 23\n",
            " 24]\n"
          ]
        }
      ]
    },
    {
      "cell_type": "code",
      "source": [
        "firstarray.reshape(5,5)"
      ],
      "metadata": {
        "colab": {
          "base_uri": "https://localhost:8080/"
        },
        "id": "rc7JY5UDCD8P",
        "outputId": "1c9d668d-91ca-436e-958e-51294790ae5d"
      },
      "execution_count": null,
      "outputs": [
        {
          "output_type": "execute_result",
          "data": {
            "text/plain": [
              "array([[ 0,  1,  2,  3,  4],\n",
              "       [ 5,  6,  7,  8,  9],\n",
              "       [10, 11, 12, 13, 14],\n",
              "       [15, 16, 17, 18, 19],\n",
              "       [20, 21, 22, 23, 24]])"
            ]
          },
          "metadata": {},
          "execution_count": 14
        }
      ]
    },
    {
      "cell_type": "code",
      "source": [
        "second_array = np.arange(1,40,2)\n",
        "second_array.reshape(5,4)"
      ],
      "metadata": {
        "colab": {
          "base_uri": "https://localhost:8080/"
        },
        "id": "4XVUUIpOqVpR",
        "outputId": "707bdd64-068d-428f-9fff-2dcae07be921"
      },
      "execution_count": null,
      "outputs": [
        {
          "output_type": "execute_result",
          "data": {
            "text/plain": [
              "array([[ 1,  3,  5,  7],\n",
              "       [ 9, 11, 13, 15],\n",
              "       [17, 19, 21, 23],\n",
              "       [25, 27, 29, 31],\n",
              "       [33, 35, 37, 39]])"
            ]
          },
          "metadata": {},
          "execution_count": 7
        }
      ]
    },
    {
      "cell_type": "markdown",
      "source": [
        "**Reshaping into wrong dimensions ---> It will raise error**"
      ],
      "metadata": {
        "id": "rvY-RstNCdDq"
      }
    },
    {
      "cell_type": "code",
      "source": [
        "# reshaping into wrong dimensionality will raise error. For example, for above example, myarray.reshape(4,5) will raise error as 4 x 5 != 25\n",
        "\n",
        "firstarray.reshape(4,5)\n"
      ],
      "metadata": {
        "colab": {
          "base_uri": "https://localhost:8080/",
          "height": 200
        },
        "id": "Eyp6HlicCKix",
        "outputId": "a14d0877-2661-44a1-d933-fbe856e989ec"
      },
      "execution_count": null,
      "outputs": [
        {
          "output_type": "error",
          "ename": "ValueError",
          "evalue": "ignored",
          "traceback": [
            "\u001b[0;31m---------------------------------------------------------------------------\u001b[0m",
            "\u001b[0;31mValueError\u001b[0m                                Traceback (most recent call last)",
            "\u001b[0;32m<ipython-input-15-901062155721>\u001b[0m in \u001b[0;36m<module>\u001b[0;34m\u001b[0m\n\u001b[1;32m      1\u001b[0m \u001b[0;31m# reshaping into wrong dimensionality will raise error. For example, for above example, myarray.reshape(4,5) will raise error as 4 x 5 != 25\u001b[0m\u001b[0;34m\u001b[0m\u001b[0;34m\u001b[0m\u001b[0;34m\u001b[0m\u001b[0m\n\u001b[1;32m      2\u001b[0m \u001b[0;34m\u001b[0m\u001b[0m\n\u001b[0;32m----> 3\u001b[0;31m \u001b[0mfirstarray\u001b[0m\u001b[0;34m.\u001b[0m\u001b[0mreshape\u001b[0m\u001b[0;34m(\u001b[0m\u001b[0;36m4\u001b[0m\u001b[0;34m,\u001b[0m\u001b[0;36m5\u001b[0m\u001b[0;34m)\u001b[0m\u001b[0;34m\u001b[0m\u001b[0;34m\u001b[0m\u001b[0m\n\u001b[0m",
            "\u001b[0;31mValueError\u001b[0m: cannot reshape array of size 25 into shape (4,5)"
          ]
        }
      ]
    },
    {
      "cell_type": "code",
      "source": [
        "# to get maximum number from array\n",
        "firstarray.max()"
      ],
      "metadata": {
        "colab": {
          "base_uri": "https://localhost:8080/"
        },
        "id": "Fjc4XKzBCbLy",
        "outputId": "a516a647-14c2-4d97-bcdb-ef0408fe9633"
      },
      "execution_count": null,
      "outputs": [
        {
          "output_type": "execute_result",
          "data": {
            "text/plain": [
              "24"
            ]
          },
          "metadata": {},
          "execution_count": 16
        }
      ]
    },
    {
      "cell_type": "code",
      "source": [
        "# to get minimum number from array\n",
        "firstarray.min()"
      ],
      "metadata": {
        "colab": {
          "base_uri": "https://localhost:8080/"
        },
        "id": "_CEL9cYKC2ws",
        "outputId": "7903cd59-e05a-4888-8e0a-ee3e0ff90446"
      },
      "execution_count": null,
      "outputs": [
        {
          "output_type": "execute_result",
          "data": {
            "text/plain": [
              "0"
            ]
          },
          "metadata": {},
          "execution_count": 17
        }
      ]
    },
    {
      "cell_type": "code",
      "source": [
        "# to get index of maximum number from array\n",
        "firstarray.argmax()"
      ],
      "metadata": {
        "colab": {
          "base_uri": "https://localhost:8080/"
        },
        "id": "eTXJ4xXXC4_o",
        "outputId": "8484b2d6-2f8d-431f-ead2-3c5e6ee9df39"
      },
      "execution_count": null,
      "outputs": [
        {
          "output_type": "execute_result",
          "data": {
            "text/plain": [
              "24"
            ]
          },
          "metadata": {},
          "execution_count": 18
        }
      ]
    },
    {
      "cell_type": "code",
      "source": [
        "# to get index of minimum number from array\n",
        "firstarray.argmin()"
      ],
      "metadata": {
        "colab": {
          "base_uri": "https://localhost:8080/"
        },
        "id": "4Rnbx-iKC-Jf",
        "outputId": "bcc0f109-bc58-4aa1-c1b8-19d4278f9984"
      },
      "execution_count": null,
      "outputs": [
        {
          "output_type": "execute_result",
          "data": {
            "text/plain": [
              "0"
            ]
          },
          "metadata": {},
          "execution_count": 19
        }
      ]
    },
    {
      "cell_type": "code",
      "source": [
        "# to check data type of elements in array\n",
        "firstarray.dtype"
      ],
      "metadata": {
        "colab": {
          "base_uri": "https://localhost:8080/"
        },
        "id": "XEwwE9i2DPkh",
        "outputId": "8038f303-0877-49a2-e69b-3df9ecf54061"
      },
      "execution_count": null,
      "outputs": [
        {
          "output_type": "execute_result",
          "data": {
            "text/plain": [
              "dtype('int64')"
            ]
          },
          "metadata": {},
          "execution_count": 20
        }
      ]
    },
    {
      "cell_type": "code",
      "source": [
        "# to check data type of array: to check if the array is a list or its a numpy array?\n",
        "type(firstarray)"
      ],
      "metadata": {
        "colab": {
          "base_uri": "https://localhost:8080/"
        },
        "id": "w2VTQefKDY7v",
        "outputId": "077471b8-b1fc-495a-802d-4f52094e3133"
      },
      "execution_count": null,
      "outputs": [
        {
          "output_type": "execute_result",
          "data": {
            "text/plain": [
              "numpy.ndarray"
            ]
          },
          "metadata": {},
          "execution_count": 21
        }
      ]
    },
    {
      "cell_type": "code",
      "source": [
        "# to check shape of the array\n",
        "firstarray.shape"
      ],
      "metadata": {
        "colab": {
          "base_uri": "https://localhost:8080/"
        },
        "id": "xWI2J87wDcso",
        "outputId": "2055148c-cfb0-45a7-e2fd-124345c35257"
      },
      "execution_count": null,
      "outputs": [
        {
          "output_type": "execute_result",
          "data": {
            "text/plain": [
              "(25,)"
            ]
          },
          "metadata": {},
          "execution_count": 22
        }
      ]
    },
    {
      "cell_type": "markdown",
      "source": [
        "**Nota bene:** (25,) and (25,1) are different.\n",
        "\n",
        "*   (25,) means 25 columns and 1 row\n",
        "*   (25,1) means 25 rows and 1 column\n",
        "\n"
      ],
      "metadata": {
        "id": "ZdPEVe8vD2OQ"
      }
    },
    {
      "cell_type": "code",
      "source": [
        "np.random.rand(5,)"
      ],
      "metadata": {
        "colab": {
          "base_uri": "https://localhost:8080/"
        },
        "id": "bBTv2MOaDpa4",
        "outputId": "61de6893-96c8-41f4-a55b-cce37873e0bf"
      },
      "execution_count": null,
      "outputs": [
        {
          "output_type": "execute_result",
          "data": {
            "text/plain": [
              "array([0.04645041, 0.60754485, 0.17052412, 0.06505159, 0.94888554])"
            ]
          },
          "metadata": {},
          "execution_count": 51
        }
      ]
    },
    {
      "cell_type": "code",
      "source": [
        "np.random.rand(5,1)"
      ],
      "metadata": {
        "colab": {
          "base_uri": "https://localhost:8080/"
        },
        "id": "LAlU3qXFEJCQ",
        "outputId": "78ab9a7d-6c65-492f-9303-f4b8e75ed16b"
      },
      "execution_count": null,
      "outputs": [
        {
          "output_type": "execute_result",
          "data": {
            "text/plain": [
              "array([[0.96563203],\n",
              "       [0.80839735],\n",
              "       [0.30461377],\n",
              "       [0.09767211],\n",
              "       [0.68423303]])"
            ]
          },
          "metadata": {},
          "execution_count": 52
        }
      ]
    },
    {
      "cell_type": "code",
      "source": [
        "# Indexing\n",
        "firstarray[2]"
      ],
      "metadata": {
        "colab": {
          "base_uri": "https://localhost:8080/"
        },
        "id": "DWZb9-b9EK4l",
        "outputId": "21ed0917-7297-499e-e7ef-5becae174de3"
      },
      "execution_count": null,
      "outputs": [
        {
          "output_type": "execute_result",
          "data": {
            "text/plain": [
              "2"
            ]
          },
          "metadata": {},
          "execution_count": 23
        }
      ]
    },
    {
      "cell_type": "code",
      "source": [
        "# Slicing\n",
        "firstarray[1:3]"
      ],
      "metadata": {
        "colab": {
          "base_uri": "https://localhost:8080/"
        },
        "id": "TGCApRlxE5Jy",
        "outputId": "48614198-08f7-48f0-d80b-6ce59342eea9"
      },
      "execution_count": null,
      "outputs": [
        {
          "output_type": "execute_result",
          "data": {
            "text/plain": [
              "array([1, 2])"
            ]
          },
          "metadata": {},
          "execution_count": 25
        }
      ]
    },
    {
      "cell_type": "code",
      "source": [
        "firstarray[:4]"
      ],
      "metadata": {
        "colab": {
          "base_uri": "https://localhost:8080/"
        },
        "id": "niGv1BmsE7hU",
        "outputId": "c153c3b2-a738-4af2-e809-ecdbdb1ac8f4"
      },
      "execution_count": null,
      "outputs": [
        {
          "output_type": "execute_result",
          "data": {
            "text/plain": [
              "array([0, 1, 2, 3])"
            ]
          },
          "metadata": {},
          "execution_count": 26
        }
      ]
    },
    {
      "cell_type": "code",
      "source": [
        "firstarray[3:]"
      ],
      "metadata": {
        "colab": {
          "base_uri": "https://localhost:8080/"
        },
        "id": "iTZJ8xgcE9jQ",
        "outputId": "f3f9d8c9-7f30-4f5a-d963-9ca231de6c2e"
      },
      "execution_count": null,
      "outputs": [
        {
          "output_type": "execute_result",
          "data": {
            "text/plain": [
              "array([ 3,  4,  5,  6,  7,  8,  9, 10, 11, 12, 13, 14, 15, 16, 17, 18, 19,\n",
              "       20, 21, 22, 23, 24])"
            ]
          },
          "metadata": {},
          "execution_count": 27
        }
      ]
    },
    {
      "cell_type": "markdown",
      "source": [
        "## **Broadcasting:**\n",
        "\n",
        "Numpy is different from the normal Python list due to its ability of broadcasting. We can broadcast a single value across a larger set of values in numpy."
      ],
      "metadata": {
        "id": "bWFCqxJqFCf7"
      }
    },
    {
      "cell_type": "code",
      "source": [
        "firstarray[0:5]"
      ],
      "metadata": {
        "id": "dkvvBx01E_5h",
        "colab": {
          "base_uri": "https://localhost:8080/"
        },
        "outputId": "d00dd1bb-8ed0-4303-c973-0c24cc3a1bee"
      },
      "execution_count": null,
      "outputs": [
        {
          "output_type": "execute_result",
          "data": {
            "text/plain": [
              "array([0, 1, 2, 3, 4])"
            ]
          },
          "metadata": {},
          "execution_count": 29
        }
      ]
    },
    {
      "cell_type": "code",
      "source": [
        "firstarray[0:5] = 100"
      ],
      "metadata": {
        "id": "E1obJy6Dr3wm"
      },
      "execution_count": null,
      "outputs": []
    },
    {
      "cell_type": "code",
      "source": [
        "firstarray"
      ],
      "metadata": {
        "colab": {
          "base_uri": "https://localhost:8080/"
        },
        "id": "xb4CO7MQr-_c",
        "outputId": "66f5cd04-db90-4c42-9173-db397df92b48"
      },
      "execution_count": null,
      "outputs": [
        {
          "output_type": "execute_result",
          "data": {
            "text/plain": [
              "array([100, 100, 100, 100, 100,   5,   6,   7,   8,   9,  10,  11,  12,\n",
              "        13,  14,  15,  16,  17,  18,  19,  20,  21,  22,  23,  24])"
            ]
          },
          "metadata": {},
          "execution_count": 31
        }
      ]
    },
    {
      "cell_type": "markdown",
      "source": [
        "Hurrah ! Broadcasting worked !!! We can't do this with normal python lists. This is called **broadcasting reassignment**.\n",
        "\n",
        "## ** ---- Hold on (0_0) ----**\n",
        "What if we just want to take slice of array and do operations on that but not on original array?\n",
        "\n",
        "Solution ---> Use .copy() method. Don't copy directly like did above, in case you don't want to modify your original array. If we do it directly like above, it doesn't copy the array. It just creates a pointer to the original array."
      ],
      "metadata": {
        "id": "m7MubqqNsErV"
      }
    },
    {
      "cell_type": "code",
      "source": [
        "array_copy = firstarray.copy()\n",
        "array_copy[:] = 90\n",
        "print(array_copy)"
      ],
      "metadata": {
        "colab": {
          "base_uri": "https://localhost:8080/"
        },
        "id": "zUfEzJjnsCVe",
        "outputId": "8f3ec578-0b6b-4132-cbe8-6c8e484bc3cd"
      },
      "execution_count": null,
      "outputs": [
        {
          "output_type": "stream",
          "name": "stdout",
          "text": [
            "[90 90 90 90 90 90 90 90 90 90 90 90 90 90 90 90 90 90 90 90 90 90 90 90\n",
            " 90]\n"
          ]
        }
      ]
    },
    {
      "cell_type": "code",
      "source": [
        "firstarray"
      ],
      "metadata": {
        "colab": {
          "base_uri": "https://localhost:8080/"
        },
        "id": "r3-NdQK1sATo",
        "outputId": "05951ced-480f-4459-8660-4ec2a906648a"
      },
      "execution_count": null,
      "outputs": [
        {
          "output_type": "execute_result",
          "data": {
            "text/plain": [
              "array([ 0,  1,  2,  3,  4,  5,  6,  7,  8,  9, 10, 11, 12, 13, 14, 15, 16,\n",
              "       17, 18, 19, 20, 21, 22, 23, 24])"
            ]
          },
          "metadata": {},
          "execution_count": 42
        }
      ]
    },
    {
      "cell_type": "markdown",
      "source": [
        "## **Conditional Selection:**"
      ],
      "metadata": {
        "id": "bwXM3jTst0r0"
      }
    },
    {
      "cell_type": "code",
      "source": [
        "myarray = np.arange(1,11)\n",
        "print(myarray)"
      ],
      "metadata": {
        "colab": {
          "base_uri": "https://localhost:8080/"
        },
        "id": "CvCp7X6HtD6A",
        "outputId": "cf030df9-aa6f-4b53-9627-49ca162095d5"
      },
      "execution_count": null,
      "outputs": [
        {
          "output_type": "execute_result",
          "data": {
            "text/plain": [
              "array([ 1,  2,  3,  4,  5,  6,  7,  8,  9, 10])"
            ]
          },
          "metadata": {},
          "execution_count": 45
        }
      ]
    },
    {
      "cell_type": "code",
      "source": [
        "# to check the values greater than 4 in the array\n",
        "myarray > 4"
      ],
      "metadata": {
        "colab": {
          "base_uri": "https://localhost:8080/"
        },
        "id": "b3tsrZD5uEuy",
        "outputId": "f8c84f39-920e-4334-e825-9c1cdb6da4e1"
      },
      "execution_count": null,
      "outputs": [
        {
          "output_type": "execute_result",
          "data": {
            "text/plain": [
              "array([False, False, False, False,  True,  True,  True,  True,  True,\n",
              "        True])"
            ]
          },
          "metadata": {},
          "execution_count": 46
        }
      ]
    },
    {
      "cell_type": "code",
      "source": [
        "# to get the actual values of array instead of booleans\n",
        "myarray[myarray > 4]"
      ],
      "metadata": {
        "colab": {
          "base_uri": "https://localhost:8080/"
        },
        "id": "UibFFizPuQVm",
        "outputId": "0b162d75-430d-4827-e9f9-88657456949f"
      },
      "execution_count": null,
      "outputs": [
        {
          "output_type": "execute_result",
          "data": {
            "text/plain": [
              "array([ 5,  6,  7,  8,  9, 10])"
            ]
          },
          "metadata": {},
          "execution_count": 48
        }
      ]
    },
    {
      "cell_type": "markdown",
      "source": [
        "## **Numpy Operations:**"
      ],
      "metadata": {
        "id": "PIVsCYJ5ueiw"
      }
    },
    {
      "cell_type": "code",
      "source": [
        "lastarray = np.arange(0,10)\n",
        "print(lastarray)"
      ],
      "metadata": {
        "colab": {
          "base_uri": "https://localhost:8080/"
        },
        "id": "ibWjIdbSuwmQ",
        "outputId": "9cdbb97e-caef-4a59-dc76-fa1002408c91"
      },
      "execution_count": null,
      "outputs": [
        {
          "output_type": "stream",
          "name": "stdout",
          "text": [
            "[0 1 2 3 4 5 6 7 8 9]\n"
          ]
        }
      ]
    },
    {
      "cell_type": "code",
      "source": [
        "# adding same number in all elements of array\n",
        "lastarray + 5"
      ],
      "metadata": {
        "colab": {
          "base_uri": "https://localhost:8080/"
        },
        "id": "2KgD6obGuib3",
        "outputId": "b257e65b-c893-49e0-de82-297240676633"
      },
      "execution_count": null,
      "outputs": [
        {
          "output_type": "execute_result",
          "data": {
            "text/plain": [
              "array([ 5,  6,  7,  8,  9, 10, 11, 12, 13, 14])"
            ]
          },
          "metadata": {},
          "execution_count": 55
        }
      ]
    },
    {
      "cell_type": "code",
      "source": [
        "lastarray - 2"
      ],
      "metadata": {
        "colab": {
          "base_uri": "https://localhost:8080/"
        },
        "id": "GTJNL8aaulhu",
        "outputId": "13ee0971-d4fa-4fc5-ee04-ab3959ab099e"
      },
      "execution_count": null,
      "outputs": [
        {
          "output_type": "execute_result",
          "data": {
            "text/plain": [
              "array([-2, -1,  0,  1,  2,  3,  4,  5,  6,  7])"
            ]
          },
          "metadata": {},
          "execution_count": 56
        }
      ]
    },
    {
      "cell_type": "code",
      "source": [
        "lastarray * lastarray"
      ],
      "metadata": {
        "colab": {
          "base_uri": "https://localhost:8080/"
        },
        "id": "ELB-clhDurRb",
        "outputId": "bdc01797-c528-4d34-e116-103850a1c703"
      },
      "execution_count": null,
      "outputs": [
        {
          "output_type": "execute_result",
          "data": {
            "text/plain": [
              "array([ 0,  1,  4,  9, 16, 25, 36, 49, 64, 81])"
            ]
          },
          "metadata": {},
          "execution_count": 57
        }
      ]
    },
    {
      "cell_type": "code",
      "source": [
        "lastarray / lastarray"
      ],
      "metadata": {
        "colab": {
          "base_uri": "https://localhost:8080/"
        },
        "id": "3v90BqO0utNw",
        "outputId": "90ad642f-3e8f-4ae7-a979-fbf92416bc57"
      },
      "execution_count": null,
      "outputs": [
        {
          "output_type": "stream",
          "name": "stderr",
          "text": [
            "/usr/local/lib/python3.7/dist-packages/ipykernel_launcher.py:1: RuntimeWarning: divide by zero encountered in true_divide\n",
            "  \"\"\"Entry point for launching an IPython kernel.\n",
            "/usr/local/lib/python3.7/dist-packages/ipykernel_launcher.py:1: RuntimeWarning: invalid value encountered in true_divide\n",
            "  \"\"\"Entry point for launching an IPython kernel.\n"
          ]
        },
        {
          "output_type": "execute_result",
          "data": {
            "text/plain": [
              "array([nan, inf, inf, inf, inf, inf, inf, inf, inf, inf])"
            ]
          },
          "metadata": {},
          "execution_count": 61
        }
      ]
    },
    {
      "cell_type": "markdown",
      "source": [
        "We just caught **nan** value in case of diving array. So, just few things to remember, in Numpy:\n",
        "\n",
        "1. 0/0 = nan\n",
        "2. scalar / 0 = inf (infinity) \n",
        "\n",
        "Example is below to test:"
      ],
      "metadata": {
        "id": "Y6ifhPBtu5_0"
      }
    },
    {
      "cell_type": "code",
      "source": [
        "lastarray / 0"
      ],
      "metadata": {
        "colab": {
          "base_uri": "https://localhost:8080/"
        },
        "id": "LzzpGtXcuuEQ",
        "outputId": "34dc3be4-6f99-4715-8205-8ffc6b79c155"
      },
      "execution_count": null,
      "outputs": [
        {
          "output_type": "stream",
          "name": "stderr",
          "text": [
            "/usr/local/lib/python3.7/dist-packages/ipykernel_launcher.py:1: RuntimeWarning: divide by zero encountered in true_divide\n",
            "  \"\"\"Entry point for launching an IPython kernel.\n",
            "/usr/local/lib/python3.7/dist-packages/ipykernel_launcher.py:1: RuntimeWarning: invalid value encountered in true_divide\n",
            "  \"\"\"Entry point for launching an IPython kernel.\n"
          ]
        },
        {
          "output_type": "execute_result",
          "data": {
            "text/plain": [
              "array([nan, inf, inf, inf, inf, inf, inf, inf, inf, inf])"
            ]
          },
          "metadata": {},
          "execution_count": 62
        }
      ]
    },
    {
      "cell_type": "code",
      "source": [
        "# to take sqaure root of all values\n",
        "np.sqrt(lastarray)"
      ],
      "metadata": {
        "colab": {
          "base_uri": "https://localhost:8080/"
        },
        "id": "Ep-19NEvvKwd",
        "outputId": "49fe06c7-13de-4c33-a8da-0949a501240c"
      },
      "execution_count": null,
      "outputs": [
        {
          "output_type": "execute_result",
          "data": {
            "text/plain": [
              "array([0.        , 1.        , 1.41421356, 1.73205081, 2.        ,\n",
              "       2.23606798, 2.44948974, 2.64575131, 2.82842712, 3.        ])"
            ]
          },
          "metadata": {},
          "execution_count": 63
        }
      ]
    },
    {
      "cell_type": "code",
      "source": [
        "np.log(lastarray) # log(0) = -inf (in Numpy)"
      ],
      "metadata": {
        "colab": {
          "base_uri": "https://localhost:8080/"
        },
        "id": "oB5fS-p6vkVK",
        "outputId": "2fb597ae-6a46-4edc-9841-dfa9bfb92c8c"
      },
      "execution_count": null,
      "outputs": [
        {
          "output_type": "stream",
          "name": "stderr",
          "text": [
            "/usr/local/lib/python3.7/dist-packages/ipykernel_launcher.py:1: RuntimeWarning: divide by zero encountered in log\n",
            "  \"\"\"Entry point for launching an IPython kernel.\n"
          ]
        },
        {
          "output_type": "execute_result",
          "data": {
            "text/plain": [
              "array([      -inf, 0.        , 0.69314718, 1.09861229, 1.38629436,\n",
              "       1.60943791, 1.79175947, 1.94591015, 2.07944154, 2.19722458])"
            ]
          },
          "metadata": {},
          "execution_count": 64
        }
      ]
    },
    {
      "cell_type": "code",
      "source": [
        "lastarray.sum()"
      ],
      "metadata": {
        "colab": {
          "base_uri": "https://localhost:8080/"
        },
        "id": "BLLXdEt1vnuK",
        "outputId": "611c530b-9752-4b11-c5d7-2ada39e2c911"
      },
      "execution_count": null,
      "outputs": [
        {
          "output_type": "execute_result",
          "data": {
            "text/plain": [
              "45"
            ]
          },
          "metadata": {},
          "execution_count": 65
        }
      ]
    },
    {
      "cell_type": "code",
      "source": [
        "lastarray.mean()"
      ],
      "metadata": {
        "colab": {
          "base_uri": "https://localhost:8080/"
        },
        "id": "94BgtQL-vwnp",
        "outputId": "a1317d94-fbff-4b0d-bc4b-d4b5e10e151e"
      },
      "execution_count": null,
      "outputs": [
        {
          "output_type": "execute_result",
          "data": {
            "text/plain": [
              "4.5"
            ]
          },
          "metadata": {},
          "execution_count": 66
        }
      ]
    },
    {
      "cell_type": "code",
      "source": [
        "# To get sum of all rows in 2D Array in Numpy:\n",
        "\n",
        "last2darray = np.random.randint(0,20,(4,5))\n",
        "print(last2darray)"
      ],
      "metadata": {
        "colab": {
          "base_uri": "https://localhost:8080/"
        },
        "id": "hHoVhiOmvx9k",
        "outputId": "1050f013-0112-438c-9cfa-1464899f6c45"
      },
      "execution_count": null,
      "outputs": [
        {
          "output_type": "stream",
          "name": "stdout",
          "text": [
            "[[ 4 10 15  0  4]\n",
            " [16 11 15  8  4]\n",
            " [17 10  8  6 10]\n",
            " [ 2  2 14 11  9]]\n"
          ]
        }
      ]
    },
    {
      "cell_type": "code",
      "source": [
        "# to get sum of all column: use axis = 0\n",
        "last2darray.sum(axis=0)     # 4 + 16 + 17 + 2 = 39 and so on. "
      ],
      "metadata": {
        "colab": {
          "base_uri": "https://localhost:8080/"
        },
        "id": "RFfrBBnFv8zo",
        "outputId": "1e0e08a6-632d-42f4-b475-dc6e75d42c06"
      },
      "execution_count": null,
      "outputs": [
        {
          "output_type": "execute_result",
          "data": {
            "text/plain": [
              "array([39, 33, 52, 25, 27])"
            ]
          },
          "metadata": {},
          "execution_count": 69
        }
      ]
    },
    {
      "cell_type": "code",
      "source": [
        "# to get sum of all rows: : use axis = 1\n",
        "last2darray.sum(axis=1)     # 4 + 10 + 15 + 0 + 4 = 33 and so on. "
      ],
      "metadata": {
        "colab": {
          "base_uri": "https://localhost:8080/"
        },
        "id": "oacXsvynwBtJ",
        "outputId": "c627a783-ae0e-44dc-a9e1-3b56f0242510"
      },
      "execution_count": null,
      "outputs": [
        {
          "output_type": "execute_result",
          "data": {
            "text/plain": [
              "array([33, 54, 51, 38])"
            ]
          },
          "metadata": {},
          "execution_count": 70
        }
      ]
    },
    {
      "cell_type": "markdown",
      "source": [
        "## **Hope you enjoyed both flavours of Numpy: vectors (1D) and Arrays (nD)**\n",
        "\n",
        "Keep it to your computer to use it for any Numpy related functions. Thanks.  "
      ],
      "metadata": {
        "id": "2bAptFmIwXzg"
      }
    }
  ]
}