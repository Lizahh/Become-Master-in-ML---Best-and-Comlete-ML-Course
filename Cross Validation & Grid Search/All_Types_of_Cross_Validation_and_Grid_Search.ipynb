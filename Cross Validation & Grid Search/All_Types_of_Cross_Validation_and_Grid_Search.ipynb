{
  "nbformat": 4,
  "nbformat_minor": 0,
  "metadata": {
    "colab": {
      "provenance": []
    },
    "kernelspec": {
      "name": "python3",
      "display_name": "Python 3"
    },
    "language_info": {
      "name": "python"
    }
  },
  "cells": [
    {
      "cell_type": "markdown",
      "source": [
        "# **Introduction:**\n",
        "\n",
        "* Cross-validation is a common technique used in machine learning to assess the performance and generalization ability of a predictive model. \n",
        "\n",
        "* It involves dividing a dataset into multiple subsets or folds, training the model on a subset of the data, and then evaluating its performance on the remaining subset."
      ],
      "metadata": {
        "id": "dmzKzUS_nE-p"
      }
    },
    {
      "cell_type": "markdown",
      "source": [
        "# **Methods:**\n",
        "\n",
        "*1. Train-Test Split*\n",
        "\n",
        "*2. Cross-val-score function*\n",
        "\n",
        "*3. Cross-validate function*\n",
        "\n",
        "*4. Grid Search*"
      ],
      "metadata": {
        "id": "iw-xH16on9AJ"
      }
    },
    {
      "cell_type": "code",
      "execution_count": 2,
      "metadata": {
        "id": "_qxMPEbPma2C"
      },
      "outputs": [],
      "source": [
        "import pandas as pd\n",
        "import seaborn as sns\n",
        "import matplotlib.pyplot as plt\n",
        "import numpy as np"
      ]
    },
    {
      "cell_type": "code",
      "source": [
        "df = pd.read_csv('/content/sample_data/Advertising.csv')\n",
        "df.head()"
      ],
      "metadata": {
        "colab": {
          "base_uri": "https://localhost:8080/",
          "height": 206
        },
        "id": "HNhRT5QRousI",
        "outputId": "6c7e819e-df56-442b-e02c-5a37850b075b"
      },
      "execution_count": 3,
      "outputs": [
        {
          "output_type": "execute_result",
          "data": {
            "text/plain": [
              "      TV  radio  newspaper  sales\n",
              "0  230.1   37.8       69.2   22.1\n",
              "1   44.5   39.3       45.1   10.4\n",
              "2   17.2   45.9       69.3    9.3\n",
              "3  151.5   41.3       58.5   18.5\n",
              "4  180.8   10.8       58.4   12.9"
            ],
            "text/html": [
              "\n",
              "  <div id=\"df-e9697a13-46fb-4581-98ef-41439d8560b6\">\n",
              "    <div class=\"colab-df-container\">\n",
              "      <div>\n",
              "<style scoped>\n",
              "    .dataframe tbody tr th:only-of-type {\n",
              "        vertical-align: middle;\n",
              "    }\n",
              "\n",
              "    .dataframe tbody tr th {\n",
              "        vertical-align: top;\n",
              "    }\n",
              "\n",
              "    .dataframe thead th {\n",
              "        text-align: right;\n",
              "    }\n",
              "</style>\n",
              "<table border=\"1\" class=\"dataframe\">\n",
              "  <thead>\n",
              "    <tr style=\"text-align: right;\">\n",
              "      <th></th>\n",
              "      <th>TV</th>\n",
              "      <th>radio</th>\n",
              "      <th>newspaper</th>\n",
              "      <th>sales</th>\n",
              "    </tr>\n",
              "  </thead>\n",
              "  <tbody>\n",
              "    <tr>\n",
              "      <th>0</th>\n",
              "      <td>230.1</td>\n",
              "      <td>37.8</td>\n",
              "      <td>69.2</td>\n",
              "      <td>22.1</td>\n",
              "    </tr>\n",
              "    <tr>\n",
              "      <th>1</th>\n",
              "      <td>44.5</td>\n",
              "      <td>39.3</td>\n",
              "      <td>45.1</td>\n",
              "      <td>10.4</td>\n",
              "    </tr>\n",
              "    <tr>\n",
              "      <th>2</th>\n",
              "      <td>17.2</td>\n",
              "      <td>45.9</td>\n",
              "      <td>69.3</td>\n",
              "      <td>9.3</td>\n",
              "    </tr>\n",
              "    <tr>\n",
              "      <th>3</th>\n",
              "      <td>151.5</td>\n",
              "      <td>41.3</td>\n",
              "      <td>58.5</td>\n",
              "      <td>18.5</td>\n",
              "    </tr>\n",
              "    <tr>\n",
              "      <th>4</th>\n",
              "      <td>180.8</td>\n",
              "      <td>10.8</td>\n",
              "      <td>58.4</td>\n",
              "      <td>12.9</td>\n",
              "    </tr>\n",
              "  </tbody>\n",
              "</table>\n",
              "</div>\n",
              "      <button class=\"colab-df-convert\" onclick=\"convertToInteractive('df-e9697a13-46fb-4581-98ef-41439d8560b6')\"\n",
              "              title=\"Convert this dataframe to an interactive table.\"\n",
              "              style=\"display:none;\">\n",
              "        \n",
              "  <svg xmlns=\"http://www.w3.org/2000/svg\" height=\"24px\"viewBox=\"0 0 24 24\"\n",
              "       width=\"24px\">\n",
              "    <path d=\"M0 0h24v24H0V0z\" fill=\"none\"/>\n",
              "    <path d=\"M18.56 5.44l.94 2.06.94-2.06 2.06-.94-2.06-.94-.94-2.06-.94 2.06-2.06.94zm-11 1L8.5 8.5l.94-2.06 2.06-.94-2.06-.94L8.5 2.5l-.94 2.06-2.06.94zm10 10l.94 2.06.94-2.06 2.06-.94-2.06-.94-.94-2.06-.94 2.06-2.06.94z\"/><path d=\"M17.41 7.96l-1.37-1.37c-.4-.4-.92-.59-1.43-.59-.52 0-1.04.2-1.43.59L10.3 9.45l-7.72 7.72c-.78.78-.78 2.05 0 2.83L4 21.41c.39.39.9.59 1.41.59.51 0 1.02-.2 1.41-.59l7.78-7.78 2.81-2.81c.8-.78.8-2.07 0-2.86zM5.41 20L4 18.59l7.72-7.72 1.47 1.35L5.41 20z\"/>\n",
              "  </svg>\n",
              "      </button>\n",
              "      \n",
              "  <style>\n",
              "    .colab-df-container {\n",
              "      display:flex;\n",
              "      flex-wrap:wrap;\n",
              "      gap: 12px;\n",
              "    }\n",
              "\n",
              "    .colab-df-convert {\n",
              "      background-color: #E8F0FE;\n",
              "      border: none;\n",
              "      border-radius: 50%;\n",
              "      cursor: pointer;\n",
              "      display: none;\n",
              "      fill: #1967D2;\n",
              "      height: 32px;\n",
              "      padding: 0 0 0 0;\n",
              "      width: 32px;\n",
              "    }\n",
              "\n",
              "    .colab-df-convert:hover {\n",
              "      background-color: #E2EBFA;\n",
              "      box-shadow: 0px 1px 2px rgba(60, 64, 67, 0.3), 0px 1px 3px 1px rgba(60, 64, 67, 0.15);\n",
              "      fill: #174EA6;\n",
              "    }\n",
              "\n",
              "    [theme=dark] .colab-df-convert {\n",
              "      background-color: #3B4455;\n",
              "      fill: #D2E3FC;\n",
              "    }\n",
              "\n",
              "    [theme=dark] .colab-df-convert:hover {\n",
              "      background-color: #434B5C;\n",
              "      box-shadow: 0px 1px 3px 1px rgba(0, 0, 0, 0.15);\n",
              "      filter: drop-shadow(0px 1px 2px rgba(0, 0, 0, 0.3));\n",
              "      fill: #FFFFFF;\n",
              "    }\n",
              "  </style>\n",
              "\n",
              "      <script>\n",
              "        const buttonEl =\n",
              "          document.querySelector('#df-e9697a13-46fb-4581-98ef-41439d8560b6 button.colab-df-convert');\n",
              "        buttonEl.style.display =\n",
              "          google.colab.kernel.accessAllowed ? 'block' : 'none';\n",
              "\n",
              "        async function convertToInteractive(key) {\n",
              "          const element = document.querySelector('#df-e9697a13-46fb-4581-98ef-41439d8560b6');\n",
              "          const dataTable =\n",
              "            await google.colab.kernel.invokeFunction('convertToInteractive',\n",
              "                                                     [key], {});\n",
              "          if (!dataTable) return;\n",
              "\n",
              "          const docLinkHtml = 'Like what you see? Visit the ' +\n",
              "            '<a target=\"_blank\" href=https://colab.research.google.com/notebooks/data_table.ipynb>data table notebook</a>'\n",
              "            + ' to learn more about interactive tables.';\n",
              "          element.innerHTML = '';\n",
              "          dataTable['output_type'] = 'display_data';\n",
              "          await google.colab.output.renderOutput(dataTable, element);\n",
              "          const docLink = document.createElement('div');\n",
              "          docLink.innerHTML = docLinkHtml;\n",
              "          element.appendChild(docLink);\n",
              "        }\n",
              "      </script>\n",
              "    </div>\n",
              "  </div>\n",
              "  "
            ]
          },
          "metadata": {},
          "execution_count": 3
        }
      ]
    },
    {
      "cell_type": "code",
      "source": [
        "X = df.drop('sales', axis = 1)\n",
        "y = df['sales']"
      ],
      "metadata": {
        "id": "TVP2f4yHpGkQ"
      },
      "execution_count": 4,
      "outputs": []
    },
    {
      "cell_type": "markdown",
      "source": [
        "# **1. Using 'train-test-split' method:**"
      ],
      "metadata": {
        "id": "NO9V6FcrpcSd"
      }
    },
    {
      "cell_type": "code",
      "source": [
        "from sklearn.model_selection import train_test_split\n",
        "\n",
        "X_train, X_test, y_train, y_test = train_test_split(X, y, test_size = 0.3, random_state = 101)"
      ],
      "metadata": {
        "id": "kprqn0OupWag"
      },
      "execution_count": 5,
      "outputs": []
    },
    {
      "cell_type": "code",
      "source": [
        "from sklearn.preprocessing import StandardScaler\n",
        "\n",
        "scaler = StandardScaler()\n",
        "\n",
        "scaler.fit(X_train)\n",
        "\n",
        "X_train = scaler.transform(X_train)\n",
        "X_test = scaler.transform(X_test)"
      ],
      "metadata": {
        "id": "VrQZh63Opy7D"
      },
      "execution_count": 6,
      "outputs": []
    },
    {
      "cell_type": "code",
      "source": [
        "from sklearn.linear_model import Ridge\n",
        "\n",
        "model = Ridge(alpha = 100)\n",
        "model.fit(X_train, y_train)"
      ],
      "metadata": {
        "colab": {
          "base_uri": "https://localhost:8080/",
          "height": 75
        },
        "id": "16Quo_IKqGbW",
        "outputId": "ff74734b-74dd-47ae-b4e3-bb7ae97627ca"
      },
      "execution_count": 6,
      "outputs": [
        {
          "output_type": "execute_result",
          "data": {
            "text/plain": [
              "Ridge(alpha=100)"
            ],
            "text/html": [
              "<style>#sk-container-id-1 {color: black;background-color: white;}#sk-container-id-1 pre{padding: 0;}#sk-container-id-1 div.sk-toggleable {background-color: white;}#sk-container-id-1 label.sk-toggleable__label {cursor: pointer;display: block;width: 100%;margin-bottom: 0;padding: 0.3em;box-sizing: border-box;text-align: center;}#sk-container-id-1 label.sk-toggleable__label-arrow:before {content: \"▸\";float: left;margin-right: 0.25em;color: #696969;}#sk-container-id-1 label.sk-toggleable__label-arrow:hover:before {color: black;}#sk-container-id-1 div.sk-estimator:hover label.sk-toggleable__label-arrow:before {color: black;}#sk-container-id-1 div.sk-toggleable__content {max-height: 0;max-width: 0;overflow: hidden;text-align: left;background-color: #f0f8ff;}#sk-container-id-1 div.sk-toggleable__content pre {margin: 0.2em;color: black;border-radius: 0.25em;background-color: #f0f8ff;}#sk-container-id-1 input.sk-toggleable__control:checked~div.sk-toggleable__content {max-height: 200px;max-width: 100%;overflow: auto;}#sk-container-id-1 input.sk-toggleable__control:checked~label.sk-toggleable__label-arrow:before {content: \"▾\";}#sk-container-id-1 div.sk-estimator input.sk-toggleable__control:checked~label.sk-toggleable__label {background-color: #d4ebff;}#sk-container-id-1 div.sk-label input.sk-toggleable__control:checked~label.sk-toggleable__label {background-color: #d4ebff;}#sk-container-id-1 input.sk-hidden--visually {border: 0;clip: rect(1px 1px 1px 1px);clip: rect(1px, 1px, 1px, 1px);height: 1px;margin: -1px;overflow: hidden;padding: 0;position: absolute;width: 1px;}#sk-container-id-1 div.sk-estimator {font-family: monospace;background-color: #f0f8ff;border: 1px dotted black;border-radius: 0.25em;box-sizing: border-box;margin-bottom: 0.5em;}#sk-container-id-1 div.sk-estimator:hover {background-color: #d4ebff;}#sk-container-id-1 div.sk-parallel-item::after {content: \"\";width: 100%;border-bottom: 1px solid gray;flex-grow: 1;}#sk-container-id-1 div.sk-label:hover label.sk-toggleable__label {background-color: #d4ebff;}#sk-container-id-1 div.sk-serial::before {content: \"\";position: absolute;border-left: 1px solid gray;box-sizing: border-box;top: 0;bottom: 0;left: 50%;z-index: 0;}#sk-container-id-1 div.sk-serial {display: flex;flex-direction: column;align-items: center;background-color: white;padding-right: 0.2em;padding-left: 0.2em;position: relative;}#sk-container-id-1 div.sk-item {position: relative;z-index: 1;}#sk-container-id-1 div.sk-parallel {display: flex;align-items: stretch;justify-content: center;background-color: white;position: relative;}#sk-container-id-1 div.sk-item::before, #sk-container-id-1 div.sk-parallel-item::before {content: \"\";position: absolute;border-left: 1px solid gray;box-sizing: border-box;top: 0;bottom: 0;left: 50%;z-index: -1;}#sk-container-id-1 div.sk-parallel-item {display: flex;flex-direction: column;z-index: 1;position: relative;background-color: white;}#sk-container-id-1 div.sk-parallel-item:first-child::after {align-self: flex-end;width: 50%;}#sk-container-id-1 div.sk-parallel-item:last-child::after {align-self: flex-start;width: 50%;}#sk-container-id-1 div.sk-parallel-item:only-child::after {width: 0;}#sk-container-id-1 div.sk-dashed-wrapped {border: 1px dashed gray;margin: 0 0.4em 0.5em 0.4em;box-sizing: border-box;padding-bottom: 0.4em;background-color: white;}#sk-container-id-1 div.sk-label label {font-family: monospace;font-weight: bold;display: inline-block;line-height: 1.2em;}#sk-container-id-1 div.sk-label-container {text-align: center;}#sk-container-id-1 div.sk-container {/* jupyter's `normalize.less` sets `[hidden] { display: none; }` but bootstrap.min.css set `[hidden] { display: none !important; }` so we also need the `!important` here to be able to override the default hidden behavior on the sphinx rendered scikit-learn.org. See: https://github.com/scikit-learn/scikit-learn/issues/21755 */display: inline-block !important;position: relative;}#sk-container-id-1 div.sk-text-repr-fallback {display: none;}</style><div id=\"sk-container-id-1\" class=\"sk-top-container\"><div class=\"sk-text-repr-fallback\"><pre>Ridge(alpha=100)</pre><b>In a Jupyter environment, please rerun this cell to show the HTML representation or trust the notebook. <br />On GitHub, the HTML representation is unable to render, please try loading this page with nbviewer.org.</b></div><div class=\"sk-container\" hidden><div class=\"sk-item\"><div class=\"sk-estimator sk-toggleable\"><input class=\"sk-toggleable__control sk-hidden--visually\" id=\"sk-estimator-id-1\" type=\"checkbox\" checked><label for=\"sk-estimator-id-1\" class=\"sk-toggleable__label sk-toggleable__label-arrow\">Ridge</label><div class=\"sk-toggleable__content\"><pre>Ridge(alpha=100)</pre></div></div></div></div></div>"
            ]
          },
          "metadata": {},
          "execution_count": 6
        }
      ]
    },
    {
      "cell_type": "code",
      "source": [
        "predictions = model.predict(X_test)"
      ],
      "metadata": {
        "id": "8vkf7h2FqW5J"
      },
      "execution_count": 7,
      "outputs": []
    },
    {
      "cell_type": "code",
      "source": [
        "from sklearn.metrics import mean_squared_error\n",
        "\n",
        "mean_squared_error(y_test, predictions)"
      ],
      "metadata": {
        "colab": {
          "base_uri": "https://localhost:8080/"
        },
        "id": "aY3zhdCIqZ4V",
        "outputId": "3000ccd7-5cf9-4e36-a7df-204948b29423"
      },
      "execution_count": 8,
      "outputs": [
        {
          "output_type": "execute_result",
          "data": {
            "text/plain": [
              "7.34177578903413"
            ]
          },
          "metadata": {},
          "execution_count": 8
        }
      ]
    },
    {
      "cell_type": "markdown",
      "source": [
        "Now check the model performance for alpha = 1."
      ],
      "metadata": {
        "id": "txoP7rZ6rEFT"
      }
    },
    {
      "cell_type": "code",
      "source": [
        "from sklearn.linear_model import Ridge\n",
        "\n",
        "model = Ridge(alpha = 1)\n",
        "model.fit(X_train, y_train)"
      ],
      "metadata": {
        "colab": {
          "base_uri": "https://localhost:8080/",
          "height": 75
        },
        "id": "n6Nk0nruqtQq",
        "outputId": "769e4bb4-9373-4416-e681-407bb48aa062"
      },
      "execution_count": 9,
      "outputs": [
        {
          "output_type": "execute_result",
          "data": {
            "text/plain": [
              "Ridge(alpha=1)"
            ],
            "text/html": [
              "<style>#sk-container-id-2 {color: black;background-color: white;}#sk-container-id-2 pre{padding: 0;}#sk-container-id-2 div.sk-toggleable {background-color: white;}#sk-container-id-2 label.sk-toggleable__label {cursor: pointer;display: block;width: 100%;margin-bottom: 0;padding: 0.3em;box-sizing: border-box;text-align: center;}#sk-container-id-2 label.sk-toggleable__label-arrow:before {content: \"▸\";float: left;margin-right: 0.25em;color: #696969;}#sk-container-id-2 label.sk-toggleable__label-arrow:hover:before {color: black;}#sk-container-id-2 div.sk-estimator:hover label.sk-toggleable__label-arrow:before {color: black;}#sk-container-id-2 div.sk-toggleable__content {max-height: 0;max-width: 0;overflow: hidden;text-align: left;background-color: #f0f8ff;}#sk-container-id-2 div.sk-toggleable__content pre {margin: 0.2em;color: black;border-radius: 0.25em;background-color: #f0f8ff;}#sk-container-id-2 input.sk-toggleable__control:checked~div.sk-toggleable__content {max-height: 200px;max-width: 100%;overflow: auto;}#sk-container-id-2 input.sk-toggleable__control:checked~label.sk-toggleable__label-arrow:before {content: \"▾\";}#sk-container-id-2 div.sk-estimator input.sk-toggleable__control:checked~label.sk-toggleable__label {background-color: #d4ebff;}#sk-container-id-2 div.sk-label input.sk-toggleable__control:checked~label.sk-toggleable__label {background-color: #d4ebff;}#sk-container-id-2 input.sk-hidden--visually {border: 0;clip: rect(1px 1px 1px 1px);clip: rect(1px, 1px, 1px, 1px);height: 1px;margin: -1px;overflow: hidden;padding: 0;position: absolute;width: 1px;}#sk-container-id-2 div.sk-estimator {font-family: monospace;background-color: #f0f8ff;border: 1px dotted black;border-radius: 0.25em;box-sizing: border-box;margin-bottom: 0.5em;}#sk-container-id-2 div.sk-estimator:hover {background-color: #d4ebff;}#sk-container-id-2 div.sk-parallel-item::after {content: \"\";width: 100%;border-bottom: 1px solid gray;flex-grow: 1;}#sk-container-id-2 div.sk-label:hover label.sk-toggleable__label {background-color: #d4ebff;}#sk-container-id-2 div.sk-serial::before {content: \"\";position: absolute;border-left: 1px solid gray;box-sizing: border-box;top: 0;bottom: 0;left: 50%;z-index: 0;}#sk-container-id-2 div.sk-serial {display: flex;flex-direction: column;align-items: center;background-color: white;padding-right: 0.2em;padding-left: 0.2em;position: relative;}#sk-container-id-2 div.sk-item {position: relative;z-index: 1;}#sk-container-id-2 div.sk-parallel {display: flex;align-items: stretch;justify-content: center;background-color: white;position: relative;}#sk-container-id-2 div.sk-item::before, #sk-container-id-2 div.sk-parallel-item::before {content: \"\";position: absolute;border-left: 1px solid gray;box-sizing: border-box;top: 0;bottom: 0;left: 50%;z-index: -1;}#sk-container-id-2 div.sk-parallel-item {display: flex;flex-direction: column;z-index: 1;position: relative;background-color: white;}#sk-container-id-2 div.sk-parallel-item:first-child::after {align-self: flex-end;width: 50%;}#sk-container-id-2 div.sk-parallel-item:last-child::after {align-self: flex-start;width: 50%;}#sk-container-id-2 div.sk-parallel-item:only-child::after {width: 0;}#sk-container-id-2 div.sk-dashed-wrapped {border: 1px dashed gray;margin: 0 0.4em 0.5em 0.4em;box-sizing: border-box;padding-bottom: 0.4em;background-color: white;}#sk-container-id-2 div.sk-label label {font-family: monospace;font-weight: bold;display: inline-block;line-height: 1.2em;}#sk-container-id-2 div.sk-label-container {text-align: center;}#sk-container-id-2 div.sk-container {/* jupyter's `normalize.less` sets `[hidden] { display: none; }` but bootstrap.min.css set `[hidden] { display: none !important; }` so we also need the `!important` here to be able to override the default hidden behavior on the sphinx rendered scikit-learn.org. See: https://github.com/scikit-learn/scikit-learn/issues/21755 */display: inline-block !important;position: relative;}#sk-container-id-2 div.sk-text-repr-fallback {display: none;}</style><div id=\"sk-container-id-2\" class=\"sk-top-container\"><div class=\"sk-text-repr-fallback\"><pre>Ridge(alpha=1)</pre><b>In a Jupyter environment, please rerun this cell to show the HTML representation or trust the notebook. <br />On GitHub, the HTML representation is unable to render, please try loading this page with nbviewer.org.</b></div><div class=\"sk-container\" hidden><div class=\"sk-item\"><div class=\"sk-estimator sk-toggleable\"><input class=\"sk-toggleable__control sk-hidden--visually\" id=\"sk-estimator-id-2\" type=\"checkbox\" checked><label for=\"sk-estimator-id-2\" class=\"sk-toggleable__label sk-toggleable__label-arrow\">Ridge</label><div class=\"sk-toggleable__content\"><pre>Ridge(alpha=1)</pre></div></div></div></div></div>"
            ]
          },
          "metadata": {},
          "execution_count": 9
        }
      ]
    },
    {
      "cell_type": "code",
      "source": [
        "predictions = model.predict(X_test)"
      ],
      "metadata": {
        "id": "WrW1523nrI1z"
      },
      "execution_count": 10,
      "outputs": []
    },
    {
      "cell_type": "code",
      "source": [
        "from sklearn.metrics import mean_squared_error\n",
        "\n",
        "mean_squared_error(y_test, predictions)"
      ],
      "metadata": {
        "colab": {
          "base_uri": "https://localhost:8080/"
        },
        "id": "KwZpkqjIrKVw",
        "outputId": "be440dbb-47ec-4431-efe2-28337f754846"
      },
      "execution_count": 11,
      "outputs": [
        {
          "output_type": "execute_result",
          "data": {
            "text/plain": [
              "2.319021579428752"
            ]
          },
          "metadata": {},
          "execution_count": 11
        }
      ]
    },
    {
      "cell_type": "markdown",
      "source": [
        "Its good now!\n",
        "\n",
        "But\n",
        "\n",
        "We have to check each alpha value manually to judge which one is best. It is tedious. \n",
        "\n",
        "Let's try another method."
      ],
      "metadata": {
        "id": "fRA7YCuxrM1N"
      }
    },
    {
      "cell_type": "markdown",
      "source": [
        "# **2. Using train-test split -- Using holdout test data**\n",
        "\n",
        "* In simple train-test-split, we check the mean squared error. See if its lower. if not then lower the value of alpha, then check again. keep on doing that till we find the most lower error.\n",
        "\n",
        "* Changing the value of alpha to get better performance is called hyperparameter tuning. Anything in the model whose value is updated to improve model performance is called hyperparameter.\n",
        "\n",
        "* Don't you think so that its cheating? You are updating the value of alpha by checking error each time. This is not honest performance of your model. This is called data leakage. \n",
        "\n",
        "* We want fair evaluation of our model. We will pick one portion of data that will produce final result. That will never get improved. It is called holdout test data. It is final set. "
      ],
      "metadata": {
        "id": "p-0pSfJtwnsV"
      }
    },
    {
      "cell_type": "code",
      "source": [
        "X_train, X_other, y_train, y_other = train_test_split(X, y, test_size = 0.33)\n",
        "\n",
        "X_eval, X_test, y_eval, y_test = train_test_split(X_other, y_other, test_size = 0.50)"
      ],
      "metadata": {
        "id": "DLoodxJwrLfh"
      },
      "execution_count": 54,
      "outputs": []
    },
    {
      "cell_type": "code",
      "source": [
        "from sklearn.preprocessing import StandardScaler\n",
        "\n",
        "scaler = StandardScaler()\n",
        "\n",
        "scaler.fit(X_train)\n",
        "\n",
        "X_train = scaler.transform(X_train)\n",
        "X_test = scaler.transform(X_test)\n",
        "X_eval = scaler.transform(X_eval)"
      ],
      "metadata": {
        "id": "a4XA513y3Dbd"
      },
      "execution_count": 55,
      "outputs": []
    },
    {
      "cell_type": "code",
      "source": [
        "from sklearn.linear_model import Ridge\n",
        "\n",
        "model1 = Ridge(alpha = 100)\n",
        "model1.fit(X_train, y_train)"
      ],
      "metadata": {
        "colab": {
          "base_uri": "https://localhost:8080/",
          "height": 75
        },
        "id": "BaEEs-IN3U2p",
        "outputId": "3b206258-4040-4e5e-e01c-149dd8caa982"
      },
      "execution_count": 56,
      "outputs": [
        {
          "output_type": "execute_result",
          "data": {
            "text/plain": [
              "Ridge(alpha=100)"
            ],
            "text/html": [
              "<style>#sk-container-id-12 {color: black;background-color: white;}#sk-container-id-12 pre{padding: 0;}#sk-container-id-12 div.sk-toggleable {background-color: white;}#sk-container-id-12 label.sk-toggleable__label {cursor: pointer;display: block;width: 100%;margin-bottom: 0;padding: 0.3em;box-sizing: border-box;text-align: center;}#sk-container-id-12 label.sk-toggleable__label-arrow:before {content: \"▸\";float: left;margin-right: 0.25em;color: #696969;}#sk-container-id-12 label.sk-toggleable__label-arrow:hover:before {color: black;}#sk-container-id-12 div.sk-estimator:hover label.sk-toggleable__label-arrow:before {color: black;}#sk-container-id-12 div.sk-toggleable__content {max-height: 0;max-width: 0;overflow: hidden;text-align: left;background-color: #f0f8ff;}#sk-container-id-12 div.sk-toggleable__content pre {margin: 0.2em;color: black;border-radius: 0.25em;background-color: #f0f8ff;}#sk-container-id-12 input.sk-toggleable__control:checked~div.sk-toggleable__content {max-height: 200px;max-width: 100%;overflow: auto;}#sk-container-id-12 input.sk-toggleable__control:checked~label.sk-toggleable__label-arrow:before {content: \"▾\";}#sk-container-id-12 div.sk-estimator input.sk-toggleable__control:checked~label.sk-toggleable__label {background-color: #d4ebff;}#sk-container-id-12 div.sk-label input.sk-toggleable__control:checked~label.sk-toggleable__label {background-color: #d4ebff;}#sk-container-id-12 input.sk-hidden--visually {border: 0;clip: rect(1px 1px 1px 1px);clip: rect(1px, 1px, 1px, 1px);height: 1px;margin: -1px;overflow: hidden;padding: 0;position: absolute;width: 1px;}#sk-container-id-12 div.sk-estimator {font-family: monospace;background-color: #f0f8ff;border: 1px dotted black;border-radius: 0.25em;box-sizing: border-box;margin-bottom: 0.5em;}#sk-container-id-12 div.sk-estimator:hover {background-color: #d4ebff;}#sk-container-id-12 div.sk-parallel-item::after {content: \"\";width: 100%;border-bottom: 1px solid gray;flex-grow: 1;}#sk-container-id-12 div.sk-label:hover label.sk-toggleable__label {background-color: #d4ebff;}#sk-container-id-12 div.sk-serial::before {content: \"\";position: absolute;border-left: 1px solid gray;box-sizing: border-box;top: 0;bottom: 0;left: 50%;z-index: 0;}#sk-container-id-12 div.sk-serial {display: flex;flex-direction: column;align-items: center;background-color: white;padding-right: 0.2em;padding-left: 0.2em;position: relative;}#sk-container-id-12 div.sk-item {position: relative;z-index: 1;}#sk-container-id-12 div.sk-parallel {display: flex;align-items: stretch;justify-content: center;background-color: white;position: relative;}#sk-container-id-12 div.sk-item::before, #sk-container-id-12 div.sk-parallel-item::before {content: \"\";position: absolute;border-left: 1px solid gray;box-sizing: border-box;top: 0;bottom: 0;left: 50%;z-index: -1;}#sk-container-id-12 div.sk-parallel-item {display: flex;flex-direction: column;z-index: 1;position: relative;background-color: white;}#sk-container-id-12 div.sk-parallel-item:first-child::after {align-self: flex-end;width: 50%;}#sk-container-id-12 div.sk-parallel-item:last-child::after {align-self: flex-start;width: 50%;}#sk-container-id-12 div.sk-parallel-item:only-child::after {width: 0;}#sk-container-id-12 div.sk-dashed-wrapped {border: 1px dashed gray;margin: 0 0.4em 0.5em 0.4em;box-sizing: border-box;padding-bottom: 0.4em;background-color: white;}#sk-container-id-12 div.sk-label label {font-family: monospace;font-weight: bold;display: inline-block;line-height: 1.2em;}#sk-container-id-12 div.sk-label-container {text-align: center;}#sk-container-id-12 div.sk-container {/* jupyter's `normalize.less` sets `[hidden] { display: none; }` but bootstrap.min.css set `[hidden] { display: none !important; }` so we also need the `!important` here to be able to override the default hidden behavior on the sphinx rendered scikit-learn.org. See: https://github.com/scikit-learn/scikit-learn/issues/21755 */display: inline-block !important;position: relative;}#sk-container-id-12 div.sk-text-repr-fallback {display: none;}</style><div id=\"sk-container-id-12\" class=\"sk-top-container\"><div class=\"sk-text-repr-fallback\"><pre>Ridge(alpha=100)</pre><b>In a Jupyter environment, please rerun this cell to show the HTML representation or trust the notebook. <br />On GitHub, the HTML representation is unable to render, please try loading this page with nbviewer.org.</b></div><div class=\"sk-container\" hidden><div class=\"sk-item\"><div class=\"sk-estimator sk-toggleable\"><input class=\"sk-toggleable__control sk-hidden--visually\" id=\"sk-estimator-id-12\" type=\"checkbox\" checked><label for=\"sk-estimator-id-12\" class=\"sk-toggleable__label sk-toggleable__label-arrow\">Ridge</label><div class=\"sk-toggleable__content\"><pre>Ridge(alpha=100)</pre></div></div></div></div></div>"
            ]
          },
          "metadata": {},
          "execution_count": 56
        }
      ]
    },
    {
      "cell_type": "code",
      "source": [
        "predictions1 = model1.predict(X_eval)"
      ],
      "metadata": {
        "id": "eZcPvmA33sgI"
      },
      "execution_count": 57,
      "outputs": []
    },
    {
      "cell_type": "code",
      "source": [
        "from sklearn.metrics import mean_squared_error\n",
        "\n",
        "mean_squared_error(y_eval, predictions1)"
      ],
      "metadata": {
        "colab": {
          "base_uri": "https://localhost:8080/"
        },
        "id": "-A8_kVjo32Bv",
        "outputId": "4c1a6b06-db2b-4cab-f0eb-b0167526164e"
      },
      "execution_count": 58,
      "outputs": [
        {
          "output_type": "execute_result",
          "data": {
            "text/plain": [
              "4.423391587904649"
            ]
          },
          "metadata": {},
          "execution_count": 58
        }
      ]
    },
    {
      "cell_type": "markdown",
      "source": [
        "Check the performance with alpha=1."
      ],
      "metadata": {
        "id": "I4Z8UzTe4CPI"
      }
    },
    {
      "cell_type": "code",
      "source": [
        "from sklearn.linear_model import Ridge\n",
        "\n",
        "model2 = Ridge(alpha = 1)\n",
        "model2.fit(X_train, y_train)"
      ],
      "metadata": {
        "colab": {
          "base_uri": "https://localhost:8080/",
          "height": 75
        },
        "id": "9qTm8SSP4EGT",
        "outputId": "9cb86d36-1f4d-41c8-d0d6-c1d052d3cb64"
      },
      "execution_count": 59,
      "outputs": [
        {
          "output_type": "execute_result",
          "data": {
            "text/plain": [
              "Ridge(alpha=1)"
            ],
            "text/html": [
              "<style>#sk-container-id-13 {color: black;background-color: white;}#sk-container-id-13 pre{padding: 0;}#sk-container-id-13 div.sk-toggleable {background-color: white;}#sk-container-id-13 label.sk-toggleable__label {cursor: pointer;display: block;width: 100%;margin-bottom: 0;padding: 0.3em;box-sizing: border-box;text-align: center;}#sk-container-id-13 label.sk-toggleable__label-arrow:before {content: \"▸\";float: left;margin-right: 0.25em;color: #696969;}#sk-container-id-13 label.sk-toggleable__label-arrow:hover:before {color: black;}#sk-container-id-13 div.sk-estimator:hover label.sk-toggleable__label-arrow:before {color: black;}#sk-container-id-13 div.sk-toggleable__content {max-height: 0;max-width: 0;overflow: hidden;text-align: left;background-color: #f0f8ff;}#sk-container-id-13 div.sk-toggleable__content pre {margin: 0.2em;color: black;border-radius: 0.25em;background-color: #f0f8ff;}#sk-container-id-13 input.sk-toggleable__control:checked~div.sk-toggleable__content {max-height: 200px;max-width: 100%;overflow: auto;}#sk-container-id-13 input.sk-toggleable__control:checked~label.sk-toggleable__label-arrow:before {content: \"▾\";}#sk-container-id-13 div.sk-estimator input.sk-toggleable__control:checked~label.sk-toggleable__label {background-color: #d4ebff;}#sk-container-id-13 div.sk-label input.sk-toggleable__control:checked~label.sk-toggleable__label {background-color: #d4ebff;}#sk-container-id-13 input.sk-hidden--visually {border: 0;clip: rect(1px 1px 1px 1px);clip: rect(1px, 1px, 1px, 1px);height: 1px;margin: -1px;overflow: hidden;padding: 0;position: absolute;width: 1px;}#sk-container-id-13 div.sk-estimator {font-family: monospace;background-color: #f0f8ff;border: 1px dotted black;border-radius: 0.25em;box-sizing: border-box;margin-bottom: 0.5em;}#sk-container-id-13 div.sk-estimator:hover {background-color: #d4ebff;}#sk-container-id-13 div.sk-parallel-item::after {content: \"\";width: 100%;border-bottom: 1px solid gray;flex-grow: 1;}#sk-container-id-13 div.sk-label:hover label.sk-toggleable__label {background-color: #d4ebff;}#sk-container-id-13 div.sk-serial::before {content: \"\";position: absolute;border-left: 1px solid gray;box-sizing: border-box;top: 0;bottom: 0;left: 50%;z-index: 0;}#sk-container-id-13 div.sk-serial {display: flex;flex-direction: column;align-items: center;background-color: white;padding-right: 0.2em;padding-left: 0.2em;position: relative;}#sk-container-id-13 div.sk-item {position: relative;z-index: 1;}#sk-container-id-13 div.sk-parallel {display: flex;align-items: stretch;justify-content: center;background-color: white;position: relative;}#sk-container-id-13 div.sk-item::before, #sk-container-id-13 div.sk-parallel-item::before {content: \"\";position: absolute;border-left: 1px solid gray;box-sizing: border-box;top: 0;bottom: 0;left: 50%;z-index: -1;}#sk-container-id-13 div.sk-parallel-item {display: flex;flex-direction: column;z-index: 1;position: relative;background-color: white;}#sk-container-id-13 div.sk-parallel-item:first-child::after {align-self: flex-end;width: 50%;}#sk-container-id-13 div.sk-parallel-item:last-child::after {align-self: flex-start;width: 50%;}#sk-container-id-13 div.sk-parallel-item:only-child::after {width: 0;}#sk-container-id-13 div.sk-dashed-wrapped {border: 1px dashed gray;margin: 0 0.4em 0.5em 0.4em;box-sizing: border-box;padding-bottom: 0.4em;background-color: white;}#sk-container-id-13 div.sk-label label {font-family: monospace;font-weight: bold;display: inline-block;line-height: 1.2em;}#sk-container-id-13 div.sk-label-container {text-align: center;}#sk-container-id-13 div.sk-container {/* jupyter's `normalize.less` sets `[hidden] { display: none; }` but bootstrap.min.css set `[hidden] { display: none !important; }` so we also need the `!important` here to be able to override the default hidden behavior on the sphinx rendered scikit-learn.org. See: https://github.com/scikit-learn/scikit-learn/issues/21755 */display: inline-block !important;position: relative;}#sk-container-id-13 div.sk-text-repr-fallback {display: none;}</style><div id=\"sk-container-id-13\" class=\"sk-top-container\"><div class=\"sk-text-repr-fallback\"><pre>Ridge(alpha=1)</pre><b>In a Jupyter environment, please rerun this cell to show the HTML representation or trust the notebook. <br />On GitHub, the HTML representation is unable to render, please try loading this page with nbviewer.org.</b></div><div class=\"sk-container\" hidden><div class=\"sk-item\"><div class=\"sk-estimator sk-toggleable\"><input class=\"sk-toggleable__control sk-hidden--visually\" id=\"sk-estimator-id-13\" type=\"checkbox\" checked><label for=\"sk-estimator-id-13\" class=\"sk-toggleable__label sk-toggleable__label-arrow\">Ridge</label><div class=\"sk-toggleable__content\"><pre>Ridge(alpha=1)</pre></div></div></div></div></div>"
            ]
          },
          "metadata": {},
          "execution_count": 59
        }
      ]
    },
    {
      "cell_type": "code",
      "source": [
        "predictions2 = model2.predict(X_eval)"
      ],
      "metadata": {
        "id": "ARbekrmu4EuD"
      },
      "execution_count": 60,
      "outputs": []
    },
    {
      "cell_type": "code",
      "source": [
        "from sklearn.metrics import mean_squared_error\n",
        "\n",
        "mean_squared_error(y_eval, predictions2)"
      ],
      "metadata": {
        "colab": {
          "base_uri": "https://localhost:8080/"
        },
        "id": "AvGoheix5F9Y",
        "outputId": "fe71b720-f26f-4948-e3a3-28b3e5570854"
      },
      "execution_count": 61,
      "outputs": [
        {
          "output_type": "execute_result",
          "data": {
            "text/plain": [
              "2.606775212914635"
            ]
          },
          "metadata": {},
          "execution_count": 61
        }
      ]
    },
    {
      "cell_type": "markdown",
      "source": [
        "Now check the final test using holdout test data."
      ],
      "metadata": {
        "id": "jpCOmRdV5HAj"
      }
    },
    {
      "cell_type": "code",
      "source": [
        "predictions_test = model2.predict(X_test)"
      ],
      "metadata": {
        "id": "dp3wILmD5Jdk"
      },
      "execution_count": 62,
      "outputs": []
    },
    {
      "cell_type": "code",
      "source": [
        "from sklearn.metrics import mean_squared_error\n",
        "\n",
        "mean_squared_error(y_test, predictions_test)"
      ],
      "metadata": {
        "colab": {
          "base_uri": "https://localhost:8080/"
        },
        "id": "ljW8SF6l5URW",
        "outputId": "3e2d0de4-a00f-4df5-f07b-6488958c0d37"
      },
      "execution_count": 63,
      "outputs": [
        {
          "output_type": "execute_result",
          "data": {
            "text/plain": [
              "2.2981535084608757"
            ]
          },
          "metadata": {},
          "execution_count": 63
        }
      ]
    },
    {
      "cell_type": "markdown",
      "source": [
        "Good performance achieved with holdout test data.\n",
        "\n",
        "But still the issue is there! We have to add alpha values manually. It is tedious. Let's find some automated way."
      ],
      "metadata": {
        "id": "MndBjbPo7Jkr"
      }
    },
    {
      "cell_type": "markdown",
      "source": [
        "# **3. Cross Validaton: Cross_val_score function**\n",
        "\n",
        "* It is also called **k-fold cross validation.**\n",
        "\n",
        "* In it, the model is trained and evaluated on whole dataset.\n",
        "\n",
        "* It also calculate average error scrore at the end using cross_val_score function.\n",
        "\n",
        "* If you are not satisfied with score, tune hyperparameters and run again.\n",
        "\n",
        "* In it, we also need to give alpha values manually. So that issue is still there:/\n",
        "\n",
        "* But it is just variation over train-test-split."
      ],
      "metadata": {
        "id": "VoaFq_N47Meg"
      }
    },
    {
      "cell_type": "code",
      "source": [
        "from sklearn.model_selection import train_test_split\n",
        "\n",
        "X_train, X_test, y_train, y_test = train_test_split(X, y, test_size = 0.3, random_state = 101)"
      ],
      "metadata": {
        "id": "wPo0mk_b9B1L"
      },
      "execution_count": 67,
      "outputs": []
    },
    {
      "cell_type": "code",
      "source": [
        "from sklearn.preprocessing import StandardScaler\n",
        "\n",
        "scaler = StandardScaler()\n",
        "\n",
        "scaler.fit(X_train)\n",
        "\n",
        "X_train = scaler.transform(X_train)\n",
        "X_test = scaler.transform(X_test)"
      ],
      "metadata": {
        "id": "0BUokfYT9SJl"
      },
      "execution_count": 72,
      "outputs": []
    },
    {
      "cell_type": "code",
      "source": [
        "from sklearn.linear_model import Ridge\n",
        "from sklearn.model_selection import cross_val_score\n",
        "\n",
        "model = Ridge(alpha = 100)\n",
        "\n",
        "scores = cross_val_score(model, X_train, y_train, scoring = 'neg_mean_squared_error', cv = 5) # CV = number of folds"
      ],
      "metadata": {
        "id": "3naMck_n9WGv"
      },
      "execution_count": 73,
      "outputs": []
    },
    {
      "cell_type": "code",
      "source": [
        "scores"
      ],
      "metadata": {
        "colab": {
          "base_uri": "https://localhost:8080/"
        },
        "id": "n0cEcfqdB4cW",
        "outputId": "8e63ebda-bc91-410d-e1b1-6e8b69d9d980"
      },
      "execution_count": 75,
      "outputs": [
        {
          "output_type": "execute_result",
          "data": {
            "text/plain": [
              "array([ -9.32552967,  -4.9449624 , -11.39665242,  -7.0242106 ,\n",
              "        -8.38562723])"
            ]
          },
          "metadata": {},
          "execution_count": 75
        }
      ]
    },
    {
      "cell_type": "code",
      "source": [
        "abs(scores.mean())"
      ],
      "metadata": {
        "colab": {
          "base_uri": "https://localhost:8080/"
        },
        "id": "BxQpZi31_g1d",
        "outputId": "612b096c-3f24-47f7-d00f-712fc73fc063"
      },
      "execution_count": 76,
      "outputs": [
        {
          "output_type": "execute_result",
          "data": {
            "text/plain": [
              "8.215396464543606"
            ]
          },
          "metadata": {},
          "execution_count": 76
        }
      ]
    },
    {
      "cell_type": "markdown",
      "source": [
        "This is final cross validation mean squared error. This is not such a great score as compared to previous ones.\n",
        "\n",
        "Let's try with alpha = 1."
      ],
      "metadata": {
        "id": "aMmxkjJtB-um"
      }
    },
    {
      "cell_type": "code",
      "source": [
        "from sklearn.linear_model import Ridge\n",
        "from sklearn.model_selection import cross_val_score\n",
        "\n",
        "model = Ridge(alpha = 1)\n",
        "\n",
        "scores = cross_val_score(model, X_train, y_train, scoring = 'neg_mean_squared_error', cv = 5) # CV = number of folds"
      ],
      "metadata": {
        "id": "2WwImxarBwhC"
      },
      "execution_count": 77,
      "outputs": []
    },
    {
      "cell_type": "code",
      "source": [
        "scores"
      ],
      "metadata": {
        "colab": {
          "base_uri": "https://localhost:8080/"
        },
        "id": "snUr0ksgCPto",
        "outputId": "134298db-2636-457d-cbae-057092334df3"
      },
      "execution_count": 78,
      "outputs": [
        {
          "output_type": "execute_result",
          "data": {
            "text/plain": [
              "array([-3.15513238, -1.58086982, -5.40455562, -2.21654481, -4.36709384])"
            ]
          },
          "metadata": {},
          "execution_count": 78
        }
      ]
    },
    {
      "cell_type": "code",
      "source": [
        "abs(scores.mean())"
      ],
      "metadata": {
        "colab": {
          "base_uri": "https://localhost:8080/"
        },
        "id": "GlsGv-jlCQJ4",
        "outputId": "9f0f09c3-2f41-4093-d37b-9bf203edf711"
      },
      "execution_count": 79,
      "outputs": [
        {
          "output_type": "execute_result",
          "data": {
            "text/plain": [
              "3.344839296530695"
            ]
          },
          "metadata": {},
          "execution_count": 79
        }
      ]
    },
    {
      "cell_type": "markdown",
      "source": [
        "Not much better than previous models but still its better as it is training and testing on complete dataset."
      ],
      "metadata": {
        "id": "JVjxionJCVZR"
      }
    },
    {
      "cell_type": "markdown",
      "source": [
        "# **4. Cross Validation : Using Cross-validate function**\n",
        "\n",
        "* In above cross_val_score, we only were able to using mean squared error to check performance.\n",
        "\n",
        "* Using cross_validate function, we can use multiple metrics to check performance of our model.\n",
        "\n",
        "* It also tells the fitting and testing time.\n",
        "\n",
        "That is the only difference between cross_val_score and cross_validate function. "
      ],
      "metadata": {
        "id": "LgjBg7yrCmTu"
      }
    },
    {
      "cell_type": "code",
      "source": [
        "from sklearn.linear_model import Ridge\n",
        "from sklearn.model_selection import cross_validate\n",
        "\n",
        "model = Ridge(alpha = 1)\n",
        "\n",
        "scores = cross_validate(model, X_train, y_train, \n",
        "                        scoring = ['neg_mean_squared_error','neg_mean_absolute_error'],\n",
        "                        cv = 10)"
      ],
      "metadata": {
        "id": "zhd_uvITClLO"
      },
      "execution_count": 80,
      "outputs": []
    },
    {
      "cell_type": "code",
      "source": [
        "scores"
      ],
      "metadata": {
        "colab": {
          "base_uri": "https://localhost:8080/"
        },
        "id": "WdbO-f28CSfn",
        "outputId": "6e047e1e-9d54-4243-b751-6421b7fef7fc"
      },
      "execution_count": 81,
      "outputs": [
        {
          "output_type": "execute_result",
          "data": {
            "text/plain": [
              "{'fit_time': array([0.00310397, 0.00201893, 0.00132704, 0.00125861, 0.00098944,\n",
              "        0.00087571, 0.00090384, 0.0008657 , 0.00089359, 0.00086188]),\n",
              " 'score_time': array([0.00181508, 0.00236058, 0.00095797, 0.00107098, 0.00076985,\n",
              "        0.00071692, 0.00074434, 0.00072479, 0.00073338, 0.00073695]),\n",
              " 'test_neg_mean_squared_error': array([-2.96250773, -3.05737833, -2.1737403 , -0.83303438, -3.46401792,\n",
              "        -8.2326467 , -1.90586431, -2.76504844, -4.98950515, -2.84643818]),\n",
              " 'test_neg_mean_absolute_error': array([-1.45717399, -1.5553078 , -1.23877012, -0.76893775, -1.43448944,\n",
              "        -1.4943158 , -1.08136203, -1.25001123, -1.58097132, -1.22332553])}"
            ]
          },
          "metadata": {},
          "execution_count": 81
        }
      ]
    },
    {
      "cell_type": "markdown",
      "source": [
        "Ugh! A messy dictionary.\n",
        "\n",
        "Let's make it in form of table (dataframe) to make readable."
      ],
      "metadata": {
        "id": "chlfLmyeD6F5"
      }
    },
    {
      "cell_type": "code",
      "source": [
        "scores = pd.DataFrame(scores)\n",
        "scores"
      ],
      "metadata": {
        "colab": {
          "base_uri": "https://localhost:8080/",
          "height": 363
        },
        "id": "kiHyQkyND4lL",
        "outputId": "eee1706a-5f45-47db-ae3f-c9acf0f24290"
      },
      "execution_count": 84,
      "outputs": [
        {
          "output_type": "execute_result",
          "data": {
            "text/plain": [
              "   fit_time  score_time  test_neg_mean_squared_error  \\\n",
              "0  0.003104    0.001815                    -2.962508   \n",
              "1  0.002019    0.002361                    -3.057378   \n",
              "2  0.001327    0.000958                    -2.173740   \n",
              "3  0.001259    0.001071                    -0.833034   \n",
              "4  0.000989    0.000770                    -3.464018   \n",
              "5  0.000876    0.000717                    -8.232647   \n",
              "6  0.000904    0.000744                    -1.905864   \n",
              "7  0.000866    0.000725                    -2.765048   \n",
              "8  0.000894    0.000733                    -4.989505   \n",
              "9  0.000862    0.000737                    -2.846438   \n",
              "\n",
              "   test_neg_mean_absolute_error  \n",
              "0                     -1.457174  \n",
              "1                     -1.555308  \n",
              "2                     -1.238770  \n",
              "3                     -0.768938  \n",
              "4                     -1.434489  \n",
              "5                     -1.494316  \n",
              "6                     -1.081362  \n",
              "7                     -1.250011  \n",
              "8                     -1.580971  \n",
              "9                     -1.223326  "
            ],
            "text/html": [
              "\n",
              "  <div id=\"df-9fd3b465-76c1-4ba4-bdb6-7f7513168c72\">\n",
              "    <div class=\"colab-df-container\">\n",
              "      <div>\n",
              "<style scoped>\n",
              "    .dataframe tbody tr th:only-of-type {\n",
              "        vertical-align: middle;\n",
              "    }\n",
              "\n",
              "    .dataframe tbody tr th {\n",
              "        vertical-align: top;\n",
              "    }\n",
              "\n",
              "    .dataframe thead th {\n",
              "        text-align: right;\n",
              "    }\n",
              "</style>\n",
              "<table border=\"1\" class=\"dataframe\">\n",
              "  <thead>\n",
              "    <tr style=\"text-align: right;\">\n",
              "      <th></th>\n",
              "      <th>fit_time</th>\n",
              "      <th>score_time</th>\n",
              "      <th>test_neg_mean_squared_error</th>\n",
              "      <th>test_neg_mean_absolute_error</th>\n",
              "    </tr>\n",
              "  </thead>\n",
              "  <tbody>\n",
              "    <tr>\n",
              "      <th>0</th>\n",
              "      <td>0.003104</td>\n",
              "      <td>0.001815</td>\n",
              "      <td>-2.962508</td>\n",
              "      <td>-1.457174</td>\n",
              "    </tr>\n",
              "    <tr>\n",
              "      <th>1</th>\n",
              "      <td>0.002019</td>\n",
              "      <td>0.002361</td>\n",
              "      <td>-3.057378</td>\n",
              "      <td>-1.555308</td>\n",
              "    </tr>\n",
              "    <tr>\n",
              "      <th>2</th>\n",
              "      <td>0.001327</td>\n",
              "      <td>0.000958</td>\n",
              "      <td>-2.173740</td>\n",
              "      <td>-1.238770</td>\n",
              "    </tr>\n",
              "    <tr>\n",
              "      <th>3</th>\n",
              "      <td>0.001259</td>\n",
              "      <td>0.001071</td>\n",
              "      <td>-0.833034</td>\n",
              "      <td>-0.768938</td>\n",
              "    </tr>\n",
              "    <tr>\n",
              "      <th>4</th>\n",
              "      <td>0.000989</td>\n",
              "      <td>0.000770</td>\n",
              "      <td>-3.464018</td>\n",
              "      <td>-1.434489</td>\n",
              "    </tr>\n",
              "    <tr>\n",
              "      <th>5</th>\n",
              "      <td>0.000876</td>\n",
              "      <td>0.000717</td>\n",
              "      <td>-8.232647</td>\n",
              "      <td>-1.494316</td>\n",
              "    </tr>\n",
              "    <tr>\n",
              "      <th>6</th>\n",
              "      <td>0.000904</td>\n",
              "      <td>0.000744</td>\n",
              "      <td>-1.905864</td>\n",
              "      <td>-1.081362</td>\n",
              "    </tr>\n",
              "    <tr>\n",
              "      <th>7</th>\n",
              "      <td>0.000866</td>\n",
              "      <td>0.000725</td>\n",
              "      <td>-2.765048</td>\n",
              "      <td>-1.250011</td>\n",
              "    </tr>\n",
              "    <tr>\n",
              "      <th>8</th>\n",
              "      <td>0.000894</td>\n",
              "      <td>0.000733</td>\n",
              "      <td>-4.989505</td>\n",
              "      <td>-1.580971</td>\n",
              "    </tr>\n",
              "    <tr>\n",
              "      <th>9</th>\n",
              "      <td>0.000862</td>\n",
              "      <td>0.000737</td>\n",
              "      <td>-2.846438</td>\n",
              "      <td>-1.223326</td>\n",
              "    </tr>\n",
              "  </tbody>\n",
              "</table>\n",
              "</div>\n",
              "      <button class=\"colab-df-convert\" onclick=\"convertToInteractive('df-9fd3b465-76c1-4ba4-bdb6-7f7513168c72')\"\n",
              "              title=\"Convert this dataframe to an interactive table.\"\n",
              "              style=\"display:none;\">\n",
              "        \n",
              "  <svg xmlns=\"http://www.w3.org/2000/svg\" height=\"24px\"viewBox=\"0 0 24 24\"\n",
              "       width=\"24px\">\n",
              "    <path d=\"M0 0h24v24H0V0z\" fill=\"none\"/>\n",
              "    <path d=\"M18.56 5.44l.94 2.06.94-2.06 2.06-.94-2.06-.94-.94-2.06-.94 2.06-2.06.94zm-11 1L8.5 8.5l.94-2.06 2.06-.94-2.06-.94L8.5 2.5l-.94 2.06-2.06.94zm10 10l.94 2.06.94-2.06 2.06-.94-2.06-.94-.94-2.06-.94 2.06-2.06.94z\"/><path d=\"M17.41 7.96l-1.37-1.37c-.4-.4-.92-.59-1.43-.59-.52 0-1.04.2-1.43.59L10.3 9.45l-7.72 7.72c-.78.78-.78 2.05 0 2.83L4 21.41c.39.39.9.59 1.41.59.51 0 1.02-.2 1.41-.59l7.78-7.78 2.81-2.81c.8-.78.8-2.07 0-2.86zM5.41 20L4 18.59l7.72-7.72 1.47 1.35L5.41 20z\"/>\n",
              "  </svg>\n",
              "      </button>\n",
              "      \n",
              "  <style>\n",
              "    .colab-df-container {\n",
              "      display:flex;\n",
              "      flex-wrap:wrap;\n",
              "      gap: 12px;\n",
              "    }\n",
              "\n",
              "    .colab-df-convert {\n",
              "      background-color: #E8F0FE;\n",
              "      border: none;\n",
              "      border-radius: 50%;\n",
              "      cursor: pointer;\n",
              "      display: none;\n",
              "      fill: #1967D2;\n",
              "      height: 32px;\n",
              "      padding: 0 0 0 0;\n",
              "      width: 32px;\n",
              "    }\n",
              "\n",
              "    .colab-df-convert:hover {\n",
              "      background-color: #E2EBFA;\n",
              "      box-shadow: 0px 1px 2px rgba(60, 64, 67, 0.3), 0px 1px 3px 1px rgba(60, 64, 67, 0.15);\n",
              "      fill: #174EA6;\n",
              "    }\n",
              "\n",
              "    [theme=dark] .colab-df-convert {\n",
              "      background-color: #3B4455;\n",
              "      fill: #D2E3FC;\n",
              "    }\n",
              "\n",
              "    [theme=dark] .colab-df-convert:hover {\n",
              "      background-color: #434B5C;\n",
              "      box-shadow: 0px 1px 3px 1px rgba(0, 0, 0, 0.15);\n",
              "      filter: drop-shadow(0px 1px 2px rgba(0, 0, 0, 0.3));\n",
              "      fill: #FFFFFF;\n",
              "    }\n",
              "  </style>\n",
              "\n",
              "      <script>\n",
              "        const buttonEl =\n",
              "          document.querySelector('#df-9fd3b465-76c1-4ba4-bdb6-7f7513168c72 button.colab-df-convert');\n",
              "        buttonEl.style.display =\n",
              "          google.colab.kernel.accessAllowed ? 'block' : 'none';\n",
              "\n",
              "        async function convertToInteractive(key) {\n",
              "          const element = document.querySelector('#df-9fd3b465-76c1-4ba4-bdb6-7f7513168c72');\n",
              "          const dataTable =\n",
              "            await google.colab.kernel.invokeFunction('convertToInteractive',\n",
              "                                                     [key], {});\n",
              "          if (!dataTable) return;\n",
              "\n",
              "          const docLinkHtml = 'Like what you see? Visit the ' +\n",
              "            '<a target=\"_blank\" href=https://colab.research.google.com/notebooks/data_table.ipynb>data table notebook</a>'\n",
              "            + ' to learn more about interactive tables.';\n",
              "          element.innerHTML = '';\n",
              "          dataTable['output_type'] = 'display_data';\n",
              "          await google.colab.output.renderOutput(dataTable, element);\n",
              "          const docLink = document.createElement('div');\n",
              "          docLink.innerHTML = docLinkHtml;\n",
              "          element.appendChild(docLink);\n",
              "        }\n",
              "      </script>\n",
              "    </div>\n",
              "  </div>\n",
              "  "
            ]
          },
          "metadata": {},
          "execution_count": 84
        }
      ]
    },
    {
      "cell_type": "markdown",
      "source": [
        "Now it is more easily readable.\n",
        "\n",
        "To get the average of these all to have better idea:"
      ],
      "metadata": {
        "id": "BK2qik3iEm5I"
      }
    },
    {
      "cell_type": "code",
      "source": [
        "scores.mean()"
      ],
      "metadata": {
        "colab": {
          "base_uri": "https://localhost:8080/"
        },
        "id": "zXO7u7xUD-0y",
        "outputId": "907f7ff9-8083-468d-ea3e-67f4cff7bab0"
      },
      "execution_count": 85,
      "outputs": [
        {
          "output_type": "execute_result",
          "data": {
            "text/plain": [
              "fit_time                        0.001310\n",
              "score_time                      0.001063\n",
              "test_neg_mean_squared_error    -3.323018\n",
              "test_neg_mean_absolute_error   -1.308467\n",
              "dtype: float64"
            ]
          },
          "metadata": {},
          "execution_count": 85
        }
      ]
    },
    {
      "cell_type": "markdown",
      "source": [
        "Just by the way, cross_validate take more computation time than other because it works on more than one metric and also keeps track of fitting and testing time."
      ],
      "metadata": {
        "id": "5ATtuGZ1EvxG"
      }
    },
    {
      "cell_type": "markdown",
      "source": [
        "# **5. Grid Seach**\n",
        "\n",
        "* Sometimes more complex models have multiple adjustable hyperparameters.\n",
        "\n",
        "* A grid search is a way of training and validating a model on every possible combination of multiple hyperparameters options.\n"
      ],
      "metadata": {
        "id": "RhrFBdQnE4nG"
      }
    },
    {
      "cell_type": "code",
      "source": [
        "from sklearn.model_selection import train_test_split\n",
        "\n",
        "X_train, X_test, y_train, y_test = train_test_split(X, y, test_size = 0.3, random_state = 101)"
      ],
      "metadata": {
        "id": "BXht2PQtEsxn"
      },
      "execution_count": 7,
      "outputs": []
    },
    {
      "cell_type": "code",
      "source": [
        "from sklearn.preprocessing import StandardScaler\n",
        "\n",
        "scaler = StandardScaler()\n",
        "\n",
        "scaler.fit(X_train)\n",
        "\n",
        "X_train = scaler.transform(X_train)\n",
        "X_test = scaler.transform(X_test)"
      ],
      "metadata": {
        "id": "kxvD4cI-TuwY"
      },
      "execution_count": 8,
      "outputs": []
    },
    {
      "cell_type": "code",
      "source": [
        "from sklearn.linear_model import ElasticNet\n",
        "\n",
        "elastic_net_model = ElasticNet()\n",
        "\n",
        "param_grid = {'alpha': [0.1, 1, 5, 10, 50, 100], \n",
        "              'l1_ratio': [0.1, 0.5, 0.7, 0.95, 0.99, 1]}"
      ],
      "metadata": {
        "id": "YvZurEfZUWHV"
      },
      "execution_count": 10,
      "outputs": []
    },
    {
      "cell_type": "code",
      "source": [
        "from sklearn.model_selection import GridSearchCV\n",
        "\n",
        "grid_model = GridSearchCV(elastic_net_model, param_grid, \n",
        "                          scoring = 'neg_mean_squared_error',\n",
        "                          cv = 5, verbose = 2)"
      ],
      "metadata": {
        "id": "iQEO-JBzUdwO"
      },
      "execution_count": 20,
      "outputs": []
    },
    {
      "cell_type": "markdown",
      "source": [
        "Verbose controls the verbosity or level of detail of the output during the grid search process.\n",
        "\n",
        "The \"verbose\" parameter accepts different integer values, which determine the amount of information displayed. Here's what the values typically mean:\n",
        "\n",
        "1. \"verbose = 0\": No output is generated during the grid search.\n",
        "2. \"verbose = 1\": Minimal output is displayed, typically showing the progress bar for each fold in the cross-validation process.\n",
        "3. \"verbose = 2\": More detailed output is shown, including the progress bar as well as a summary of the parameters being tried and the results for each combination."
      ],
      "metadata": {
        "id": "qa03Y-R9YAZR"
      }
    },
    {
      "cell_type": "code",
      "source": [
        "grid_model.fit(X_train, y_train)"
      ],
      "metadata": {
        "colab": {
          "base_uri": "https://localhost:8080/",
          "height": 1000
        },
        "id": "vKBbBUj7VItH",
        "outputId": "2faaf988-8f51-461f-b4e3-1563bf1e40b8"
      },
      "execution_count": 21,
      "outputs": [
        {
          "output_type": "stream",
          "name": "stdout",
          "text": [
            "Fitting 5 folds for each of 36 candidates, totalling 180 fits\n",
            "[CV] END ............................alpha=0.1, l1_ratio=0.1; total time=   0.0s\n",
            "[CV] END ............................alpha=0.1, l1_ratio=0.1; total time=   0.0s\n",
            "[CV] END ............................alpha=0.1, l1_ratio=0.1; total time=   0.0s\n",
            "[CV] END ............................alpha=0.1, l1_ratio=0.1; total time=   0.0s\n",
            "[CV] END ............................alpha=0.1, l1_ratio=0.1; total time=   0.0s\n",
            "[CV] END ............................alpha=0.1, l1_ratio=0.5; total time=   0.0s\n",
            "[CV] END ............................alpha=0.1, l1_ratio=0.5; total time=   0.0s\n",
            "[CV] END ............................alpha=0.1, l1_ratio=0.5; total time=   0.0s\n",
            "[CV] END ............................alpha=0.1, l1_ratio=0.5; total time=   0.0s\n",
            "[CV] END ............................alpha=0.1, l1_ratio=0.5; total time=   0.0s\n",
            "[CV] END ............................alpha=0.1, l1_ratio=0.7; total time=   0.0s\n",
            "[CV] END ............................alpha=0.1, l1_ratio=0.7; total time=   0.0s\n",
            "[CV] END ............................alpha=0.1, l1_ratio=0.7; total time=   0.0s\n",
            "[CV] END ............................alpha=0.1, l1_ratio=0.7; total time=   0.0s\n",
            "[CV] END ............................alpha=0.1, l1_ratio=0.7; total time=   0.0s\n",
            "[CV] END ...........................alpha=0.1, l1_ratio=0.95; total time=   0.0s\n",
            "[CV] END ...........................alpha=0.1, l1_ratio=0.95; total time=   0.0s\n",
            "[CV] END ...........................alpha=0.1, l1_ratio=0.95; total time=   0.0s\n",
            "[CV] END ...........................alpha=0.1, l1_ratio=0.95; total time=   0.0s\n",
            "[CV] END ...........................alpha=0.1, l1_ratio=0.95; total time=   0.0s\n",
            "[CV] END ...........................alpha=0.1, l1_ratio=0.99; total time=   0.0s\n",
            "[CV] END ...........................alpha=0.1, l1_ratio=0.99; total time=   0.0s\n",
            "[CV] END ...........................alpha=0.1, l1_ratio=0.99; total time=   0.0s\n",
            "[CV] END ...........................alpha=0.1, l1_ratio=0.99; total time=   0.0s\n",
            "[CV] END ...........................alpha=0.1, l1_ratio=0.99; total time=   0.0s\n",
            "[CV] END ..............................alpha=0.1, l1_ratio=1; total time=   0.0s\n",
            "[CV] END ..............................alpha=0.1, l1_ratio=1; total time=   0.0s\n",
            "[CV] END ..............................alpha=0.1, l1_ratio=1; total time=   0.0s\n",
            "[CV] END ..............................alpha=0.1, l1_ratio=1; total time=   0.0s\n",
            "[CV] END ..............................alpha=0.1, l1_ratio=1; total time=   0.0s\n",
            "[CV] END ..............................alpha=1, l1_ratio=0.1; total time=   0.0s\n",
            "[CV] END ..............................alpha=1, l1_ratio=0.1; total time=   0.0s\n",
            "[CV] END ..............................alpha=1, l1_ratio=0.1; total time=   0.0s\n",
            "[CV] END ..............................alpha=1, l1_ratio=0.1; total time=   0.0s\n",
            "[CV] END ..............................alpha=1, l1_ratio=0.1; total time=   0.0s\n",
            "[CV] END ..............................alpha=1, l1_ratio=0.5; total time=   0.0s\n",
            "[CV] END ..............................alpha=1, l1_ratio=0.5; total time=   0.0s\n",
            "[CV] END ..............................alpha=1, l1_ratio=0.5; total time=   0.0s\n",
            "[CV] END ..............................alpha=1, l1_ratio=0.5; total time=   0.0s\n",
            "[CV] END ..............................alpha=1, l1_ratio=0.5; total time=   0.0s\n",
            "[CV] END ..............................alpha=1, l1_ratio=0.7; total time=   0.0s\n",
            "[CV] END ..............................alpha=1, l1_ratio=0.7; total time=   0.0s\n",
            "[CV] END ..............................alpha=1, l1_ratio=0.7; total time=   0.0s\n",
            "[CV] END ..............................alpha=1, l1_ratio=0.7; total time=   0.0s\n",
            "[CV] END ..............................alpha=1, l1_ratio=0.7; total time=   0.0s\n",
            "[CV] END .............................alpha=1, l1_ratio=0.95; total time=   0.0s\n",
            "[CV] END .............................alpha=1, l1_ratio=0.95; total time=   0.0s\n",
            "[CV] END .............................alpha=1, l1_ratio=0.95; total time=   0.0s\n",
            "[CV] END .............................alpha=1, l1_ratio=0.95; total time=   0.0s\n",
            "[CV] END .............................alpha=1, l1_ratio=0.95; total time=   0.0s\n",
            "[CV] END .............................alpha=1, l1_ratio=0.99; total time=   0.0s\n",
            "[CV] END .............................alpha=1, l1_ratio=0.99; total time=   0.0s\n",
            "[CV] END .............................alpha=1, l1_ratio=0.99; total time=   0.0s\n",
            "[CV] END .............................alpha=1, l1_ratio=0.99; total time=   0.0s\n",
            "[CV] END .............................alpha=1, l1_ratio=0.99; total time=   0.0s\n",
            "[CV] END ................................alpha=1, l1_ratio=1; total time=   0.0s\n",
            "[CV] END ................................alpha=1, l1_ratio=1; total time=   0.0s\n",
            "[CV] END ................................alpha=1, l1_ratio=1; total time=   0.0s\n",
            "[CV] END ................................alpha=1, l1_ratio=1; total time=   0.0s\n",
            "[CV] END ................................alpha=1, l1_ratio=1; total time=   0.0s\n",
            "[CV] END ..............................alpha=5, l1_ratio=0.1; total time=   0.0s\n",
            "[CV] END ..............................alpha=5, l1_ratio=0.1; total time=   0.0s\n",
            "[CV] END ..............................alpha=5, l1_ratio=0.1; total time=   0.0s\n",
            "[CV] END ..............................alpha=5, l1_ratio=0.1; total time=   0.0s\n",
            "[CV] END ..............................alpha=5, l1_ratio=0.1; total time=   0.0s\n",
            "[CV] END ..............................alpha=5, l1_ratio=0.5; total time=   0.0s\n",
            "[CV] END ..............................alpha=5, l1_ratio=0.5; total time=   0.0s\n",
            "[CV] END ..............................alpha=5, l1_ratio=0.5; total time=   0.0s\n",
            "[CV] END ..............................alpha=5, l1_ratio=0.5; total time=   0.0s\n",
            "[CV] END ..............................alpha=5, l1_ratio=0.5; total time=   0.0s\n",
            "[CV] END ..............................alpha=5, l1_ratio=0.7; total time=   0.0s\n",
            "[CV] END ..............................alpha=5, l1_ratio=0.7; total time=   0.0s\n",
            "[CV] END ..............................alpha=5, l1_ratio=0.7; total time=   0.0s\n",
            "[CV] END ..............................alpha=5, l1_ratio=0.7; total time=   0.0s\n",
            "[CV] END ..............................alpha=5, l1_ratio=0.7; total time=   0.0s\n",
            "[CV] END .............................alpha=5, l1_ratio=0.95; total time=   0.0s\n",
            "[CV] END .............................alpha=5, l1_ratio=0.95; total time=   0.0s\n",
            "[CV] END .............................alpha=5, l1_ratio=0.95; total time=   0.0s\n",
            "[CV] END .............................alpha=5, l1_ratio=0.95; total time=   0.0s\n",
            "[CV] END .............................alpha=5, l1_ratio=0.95; total time=   0.0s\n",
            "[CV] END .............................alpha=5, l1_ratio=0.99; total time=   0.0s\n",
            "[CV] END .............................alpha=5, l1_ratio=0.99; total time=   0.0s\n",
            "[CV] END .............................alpha=5, l1_ratio=0.99; total time=   0.0s\n",
            "[CV] END .............................alpha=5, l1_ratio=0.99; total time=   0.0s\n",
            "[CV] END .............................alpha=5, l1_ratio=0.99; total time=   0.0s\n",
            "[CV] END ................................alpha=5, l1_ratio=1; total time=   0.0s\n",
            "[CV] END ................................alpha=5, l1_ratio=1; total time=   0.0s\n",
            "[CV] END ................................alpha=5, l1_ratio=1; total time=   0.0s\n",
            "[CV] END ................................alpha=5, l1_ratio=1; total time=   0.0s\n",
            "[CV] END ................................alpha=5, l1_ratio=1; total time=   0.0s\n",
            "[CV] END .............................alpha=10, l1_ratio=0.1; total time=   0.0s\n",
            "[CV] END .............................alpha=10, l1_ratio=0.1; total time=   0.0s\n",
            "[CV] END .............................alpha=10, l1_ratio=0.1; total time=   0.0s\n",
            "[CV] END .............................alpha=10, l1_ratio=0.1; total time=   0.0s\n",
            "[CV] END .............................alpha=10, l1_ratio=0.1; total time=   0.0s\n",
            "[CV] END .............................alpha=10, l1_ratio=0.5; total time=   0.0s\n",
            "[CV] END .............................alpha=10, l1_ratio=0.5; total time=   0.0s\n",
            "[CV] END .............................alpha=10, l1_ratio=0.5; total time=   0.0s\n",
            "[CV] END .............................alpha=10, l1_ratio=0.5; total time=   0.0s\n",
            "[CV] END .............................alpha=10, l1_ratio=0.5; total time=   0.0s\n",
            "[CV] END .............................alpha=10, l1_ratio=0.7; total time=   0.0s\n",
            "[CV] END .............................alpha=10, l1_ratio=0.7; total time=   0.0s\n",
            "[CV] END .............................alpha=10, l1_ratio=0.7; total time=   0.0s\n",
            "[CV] END .............................alpha=10, l1_ratio=0.7; total time=   0.0s\n",
            "[CV] END .............................alpha=10, l1_ratio=0.7; total time=   0.0s\n",
            "[CV] END ............................alpha=10, l1_ratio=0.95; total time=   0.0s\n",
            "[CV] END ............................alpha=10, l1_ratio=0.95; total time=   0.0s\n",
            "[CV] END ............................alpha=10, l1_ratio=0.95; total time=   0.0s\n",
            "[CV] END ............................alpha=10, l1_ratio=0.95; total time=   0.0s\n",
            "[CV] END ............................alpha=10, l1_ratio=0.95; total time=   0.0s\n",
            "[CV] END ............................alpha=10, l1_ratio=0.99; total time=   0.0s\n",
            "[CV] END ............................alpha=10, l1_ratio=0.99; total time=   0.0s\n",
            "[CV] END ............................alpha=10, l1_ratio=0.99; total time=   0.0s\n",
            "[CV] END ............................alpha=10, l1_ratio=0.99; total time=   0.0s\n",
            "[CV] END ............................alpha=10, l1_ratio=0.99; total time=   0.0s\n",
            "[CV] END ...............................alpha=10, l1_ratio=1; total time=   0.0s\n",
            "[CV] END ...............................alpha=10, l1_ratio=1; total time=   0.0s\n",
            "[CV] END ...............................alpha=10, l1_ratio=1; total time=   0.0s\n",
            "[CV] END ...............................alpha=10, l1_ratio=1; total time=   0.0s\n",
            "[CV] END ...............................alpha=10, l1_ratio=1; total time=   0.0s\n",
            "[CV] END .............................alpha=50, l1_ratio=0.1; total time=   0.0s\n",
            "[CV] END .............................alpha=50, l1_ratio=0.1; total time=   0.0s\n",
            "[CV] END .............................alpha=50, l1_ratio=0.1; total time=   0.0s\n",
            "[CV] END .............................alpha=50, l1_ratio=0.1; total time=   0.0s\n",
            "[CV] END .............................alpha=50, l1_ratio=0.1; total time=   0.0s\n",
            "[CV] END .............................alpha=50, l1_ratio=0.5; total time=   0.0s\n",
            "[CV] END .............................alpha=50, l1_ratio=0.5; total time=   0.0s\n",
            "[CV] END .............................alpha=50, l1_ratio=0.5; total time=   0.0s\n",
            "[CV] END .............................alpha=50, l1_ratio=0.5; total time=   0.0s\n",
            "[CV] END .............................alpha=50, l1_ratio=0.5; total time=   0.0s\n",
            "[CV] END .............................alpha=50, l1_ratio=0.7; total time=   0.0s\n",
            "[CV] END .............................alpha=50, l1_ratio=0.7; total time=   0.0s\n",
            "[CV] END .............................alpha=50, l1_ratio=0.7; total time=   0.0s\n",
            "[CV] END .............................alpha=50, l1_ratio=0.7; total time=   0.0s\n",
            "[CV] END .............................alpha=50, l1_ratio=0.7; total time=   0.0s\n",
            "[CV] END ............................alpha=50, l1_ratio=0.95; total time=   0.0s\n",
            "[CV] END ............................alpha=50, l1_ratio=0.95; total time=   0.0s\n",
            "[CV] END ............................alpha=50, l1_ratio=0.95; total time=   0.0s\n",
            "[CV] END ............................alpha=50, l1_ratio=0.95; total time=   0.0s\n",
            "[CV] END ............................alpha=50, l1_ratio=0.95; total time=   0.0s\n",
            "[CV] END ............................alpha=50, l1_ratio=0.99; total time=   0.0s\n",
            "[CV] END ............................alpha=50, l1_ratio=0.99; total time=   0.0s\n",
            "[CV] END ............................alpha=50, l1_ratio=0.99; total time=   0.0s\n",
            "[CV] END ............................alpha=50, l1_ratio=0.99; total time=   0.0s\n",
            "[CV] END ............................alpha=50, l1_ratio=0.99; total time=   0.0s\n",
            "[CV] END ...............................alpha=50, l1_ratio=1; total time=   0.0s\n",
            "[CV] END ...............................alpha=50, l1_ratio=1; total time=   0.0s\n",
            "[CV] END ...............................alpha=50, l1_ratio=1; total time=   0.0s\n",
            "[CV] END ...............................alpha=50, l1_ratio=1; total time=   0.0s\n",
            "[CV] END ...............................alpha=50, l1_ratio=1; total time=   0.0s\n",
            "[CV] END ............................alpha=100, l1_ratio=0.1; total time=   0.0s\n",
            "[CV] END ............................alpha=100, l1_ratio=0.1; total time=   0.0s\n",
            "[CV] END ............................alpha=100, l1_ratio=0.1; total time=   0.0s\n",
            "[CV] END ............................alpha=100, l1_ratio=0.1; total time=   0.0s\n",
            "[CV] END ............................alpha=100, l1_ratio=0.1; total time=   0.0s\n",
            "[CV] END ............................alpha=100, l1_ratio=0.5; total time=   0.0s\n",
            "[CV] END ............................alpha=100, l1_ratio=0.5; total time=   0.0s\n",
            "[CV] END ............................alpha=100, l1_ratio=0.5; total time=   0.0s\n",
            "[CV] END ............................alpha=100, l1_ratio=0.5; total time=   0.0s\n",
            "[CV] END ............................alpha=100, l1_ratio=0.5; total time=   0.0s\n",
            "[CV] END ............................alpha=100, l1_ratio=0.7; total time=   0.0s\n",
            "[CV] END ............................alpha=100, l1_ratio=0.7; total time=   0.0s\n",
            "[CV] END ............................alpha=100, l1_ratio=0.7; total time=   0.0s\n",
            "[CV] END ............................alpha=100, l1_ratio=0.7; total time=   0.0s\n",
            "[CV] END ............................alpha=100, l1_ratio=0.7; total time=   0.0s\n",
            "[CV] END ...........................alpha=100, l1_ratio=0.95; total time=   0.0s\n",
            "[CV] END ...........................alpha=100, l1_ratio=0.95; total time=   0.0s\n",
            "[CV] END ...........................alpha=100, l1_ratio=0.95; total time=   0.0s\n",
            "[CV] END ...........................alpha=100, l1_ratio=0.95; total time=   0.0s\n",
            "[CV] END ...........................alpha=100, l1_ratio=0.95; total time=   0.0s\n",
            "[CV] END ...........................alpha=100, l1_ratio=0.99; total time=   0.0s\n",
            "[CV] END ...........................alpha=100, l1_ratio=0.99; total time=   0.0s\n",
            "[CV] END ...........................alpha=100, l1_ratio=0.99; total time=   0.0s\n",
            "[CV] END ...........................alpha=100, l1_ratio=0.99; total time=   0.0s\n",
            "[CV] END ...........................alpha=100, l1_ratio=0.99; total time=   0.0s\n",
            "[CV] END ..............................alpha=100, l1_ratio=1; total time=   0.0s\n",
            "[CV] END ..............................alpha=100, l1_ratio=1; total time=   0.0s\n",
            "[CV] END ..............................alpha=100, l1_ratio=1; total time=   0.0s\n",
            "[CV] END ..............................alpha=100, l1_ratio=1; total time=   0.0s\n",
            "[CV] END ..............................alpha=100, l1_ratio=1; total time=   0.0s\n"
          ]
        },
        {
          "output_type": "execute_result",
          "data": {
            "text/plain": [
              "GridSearchCV(cv=5, estimator=ElasticNet(),\n",
              "             param_grid={'alpha': [0.1, 1, 5, 10, 50, 100],\n",
              "                         'l1_ratio': [0.1, 0.5, 0.7, 0.95, 0.99, 1]},\n",
              "             scoring='neg_mean_squared_error', verbose=2)"
            ],
            "text/html": [
              "<style>#sk-container-id-3 {color: black;background-color: white;}#sk-container-id-3 pre{padding: 0;}#sk-container-id-3 div.sk-toggleable {background-color: white;}#sk-container-id-3 label.sk-toggleable__label {cursor: pointer;display: block;width: 100%;margin-bottom: 0;padding: 0.3em;box-sizing: border-box;text-align: center;}#sk-container-id-3 label.sk-toggleable__label-arrow:before {content: \"▸\";float: left;margin-right: 0.25em;color: #696969;}#sk-container-id-3 label.sk-toggleable__label-arrow:hover:before {color: black;}#sk-container-id-3 div.sk-estimator:hover label.sk-toggleable__label-arrow:before {color: black;}#sk-container-id-3 div.sk-toggleable__content {max-height: 0;max-width: 0;overflow: hidden;text-align: left;background-color: #f0f8ff;}#sk-container-id-3 div.sk-toggleable__content pre {margin: 0.2em;color: black;border-radius: 0.25em;background-color: #f0f8ff;}#sk-container-id-3 input.sk-toggleable__control:checked~div.sk-toggleable__content {max-height: 200px;max-width: 100%;overflow: auto;}#sk-container-id-3 input.sk-toggleable__control:checked~label.sk-toggleable__label-arrow:before {content: \"▾\";}#sk-container-id-3 div.sk-estimator input.sk-toggleable__control:checked~label.sk-toggleable__label {background-color: #d4ebff;}#sk-container-id-3 div.sk-label input.sk-toggleable__control:checked~label.sk-toggleable__label {background-color: #d4ebff;}#sk-container-id-3 input.sk-hidden--visually {border: 0;clip: rect(1px 1px 1px 1px);clip: rect(1px, 1px, 1px, 1px);height: 1px;margin: -1px;overflow: hidden;padding: 0;position: absolute;width: 1px;}#sk-container-id-3 div.sk-estimator {font-family: monospace;background-color: #f0f8ff;border: 1px dotted black;border-radius: 0.25em;box-sizing: border-box;margin-bottom: 0.5em;}#sk-container-id-3 div.sk-estimator:hover {background-color: #d4ebff;}#sk-container-id-3 div.sk-parallel-item::after {content: \"\";width: 100%;border-bottom: 1px solid gray;flex-grow: 1;}#sk-container-id-3 div.sk-label:hover label.sk-toggleable__label {background-color: #d4ebff;}#sk-container-id-3 div.sk-serial::before {content: \"\";position: absolute;border-left: 1px solid gray;box-sizing: border-box;top: 0;bottom: 0;left: 50%;z-index: 0;}#sk-container-id-3 div.sk-serial {display: flex;flex-direction: column;align-items: center;background-color: white;padding-right: 0.2em;padding-left: 0.2em;position: relative;}#sk-container-id-3 div.sk-item {position: relative;z-index: 1;}#sk-container-id-3 div.sk-parallel {display: flex;align-items: stretch;justify-content: center;background-color: white;position: relative;}#sk-container-id-3 div.sk-item::before, #sk-container-id-3 div.sk-parallel-item::before {content: \"\";position: absolute;border-left: 1px solid gray;box-sizing: border-box;top: 0;bottom: 0;left: 50%;z-index: -1;}#sk-container-id-3 div.sk-parallel-item {display: flex;flex-direction: column;z-index: 1;position: relative;background-color: white;}#sk-container-id-3 div.sk-parallel-item:first-child::after {align-self: flex-end;width: 50%;}#sk-container-id-3 div.sk-parallel-item:last-child::after {align-self: flex-start;width: 50%;}#sk-container-id-3 div.sk-parallel-item:only-child::after {width: 0;}#sk-container-id-3 div.sk-dashed-wrapped {border: 1px dashed gray;margin: 0 0.4em 0.5em 0.4em;box-sizing: border-box;padding-bottom: 0.4em;background-color: white;}#sk-container-id-3 div.sk-label label {font-family: monospace;font-weight: bold;display: inline-block;line-height: 1.2em;}#sk-container-id-3 div.sk-label-container {text-align: center;}#sk-container-id-3 div.sk-container {/* jupyter's `normalize.less` sets `[hidden] { display: none; }` but bootstrap.min.css set `[hidden] { display: none !important; }` so we also need the `!important` here to be able to override the default hidden behavior on the sphinx rendered scikit-learn.org. See: https://github.com/scikit-learn/scikit-learn/issues/21755 */display: inline-block !important;position: relative;}#sk-container-id-3 div.sk-text-repr-fallback {display: none;}</style><div id=\"sk-container-id-3\" class=\"sk-top-container\"><div class=\"sk-text-repr-fallback\"><pre>GridSearchCV(cv=5, estimator=ElasticNet(),\n",
              "             param_grid={&#x27;alpha&#x27;: [0.1, 1, 5, 10, 50, 100],\n",
              "                         &#x27;l1_ratio&#x27;: [0.1, 0.5, 0.7, 0.95, 0.99, 1]},\n",
              "             scoring=&#x27;neg_mean_squared_error&#x27;, verbose=2)</pre><b>In a Jupyter environment, please rerun this cell to show the HTML representation or trust the notebook. <br />On GitHub, the HTML representation is unable to render, please try loading this page with nbviewer.org.</b></div><div class=\"sk-container\" hidden><div class=\"sk-item sk-dashed-wrapped\"><div class=\"sk-label-container\"><div class=\"sk-label sk-toggleable\"><input class=\"sk-toggleable__control sk-hidden--visually\" id=\"sk-estimator-id-5\" type=\"checkbox\" ><label for=\"sk-estimator-id-5\" class=\"sk-toggleable__label sk-toggleable__label-arrow\">GridSearchCV</label><div class=\"sk-toggleable__content\"><pre>GridSearchCV(cv=5, estimator=ElasticNet(),\n",
              "             param_grid={&#x27;alpha&#x27;: [0.1, 1, 5, 10, 50, 100],\n",
              "                         &#x27;l1_ratio&#x27;: [0.1, 0.5, 0.7, 0.95, 0.99, 1]},\n",
              "             scoring=&#x27;neg_mean_squared_error&#x27;, verbose=2)</pre></div></div></div><div class=\"sk-parallel\"><div class=\"sk-parallel-item\"><div class=\"sk-item\"><div class=\"sk-label-container\"><div class=\"sk-label sk-toggleable\"><input class=\"sk-toggleable__control sk-hidden--visually\" id=\"sk-estimator-id-6\" type=\"checkbox\" ><label for=\"sk-estimator-id-6\" class=\"sk-toggleable__label sk-toggleable__label-arrow\">estimator: ElasticNet</label><div class=\"sk-toggleable__content\"><pre>ElasticNet()</pre></div></div></div><div class=\"sk-serial\"><div class=\"sk-item\"><div class=\"sk-estimator sk-toggleable\"><input class=\"sk-toggleable__control sk-hidden--visually\" id=\"sk-estimator-id-7\" type=\"checkbox\" ><label for=\"sk-estimator-id-7\" class=\"sk-toggleable__label sk-toggleable__label-arrow\">ElasticNet</label><div class=\"sk-toggleable__content\"><pre>ElasticNet()</pre></div></div></div></div></div></div></div></div></div></div>"
            ]
          },
          "metadata": {},
          "execution_count": 21
        }
      ]
    },
    {
      "cell_type": "code",
      "source": [
        "grid_model.best_estimator_"
      ],
      "metadata": {
        "colab": {
          "base_uri": "https://localhost:8080/",
          "height": 75
        },
        "id": "9o1m_xy7VLNk",
        "outputId": "f874e2e0-4786-4963-d1a1-abe4f5c94521"
      },
      "execution_count": 14,
      "outputs": [
        {
          "output_type": "execute_result",
          "data": {
            "text/plain": [
              "ElasticNet(alpha=0.1, l1_ratio=1)"
            ],
            "text/html": [
              "<style>#sk-container-id-2 {color: black;background-color: white;}#sk-container-id-2 pre{padding: 0;}#sk-container-id-2 div.sk-toggleable {background-color: white;}#sk-container-id-2 label.sk-toggleable__label {cursor: pointer;display: block;width: 100%;margin-bottom: 0;padding: 0.3em;box-sizing: border-box;text-align: center;}#sk-container-id-2 label.sk-toggleable__label-arrow:before {content: \"▸\";float: left;margin-right: 0.25em;color: #696969;}#sk-container-id-2 label.sk-toggleable__label-arrow:hover:before {color: black;}#sk-container-id-2 div.sk-estimator:hover label.sk-toggleable__label-arrow:before {color: black;}#sk-container-id-2 div.sk-toggleable__content {max-height: 0;max-width: 0;overflow: hidden;text-align: left;background-color: #f0f8ff;}#sk-container-id-2 div.sk-toggleable__content pre {margin: 0.2em;color: black;border-radius: 0.25em;background-color: #f0f8ff;}#sk-container-id-2 input.sk-toggleable__control:checked~div.sk-toggleable__content {max-height: 200px;max-width: 100%;overflow: auto;}#sk-container-id-2 input.sk-toggleable__control:checked~label.sk-toggleable__label-arrow:before {content: \"▾\";}#sk-container-id-2 div.sk-estimator input.sk-toggleable__control:checked~label.sk-toggleable__label {background-color: #d4ebff;}#sk-container-id-2 div.sk-label input.sk-toggleable__control:checked~label.sk-toggleable__label {background-color: #d4ebff;}#sk-container-id-2 input.sk-hidden--visually {border: 0;clip: rect(1px 1px 1px 1px);clip: rect(1px, 1px, 1px, 1px);height: 1px;margin: -1px;overflow: hidden;padding: 0;position: absolute;width: 1px;}#sk-container-id-2 div.sk-estimator {font-family: monospace;background-color: #f0f8ff;border: 1px dotted black;border-radius: 0.25em;box-sizing: border-box;margin-bottom: 0.5em;}#sk-container-id-2 div.sk-estimator:hover {background-color: #d4ebff;}#sk-container-id-2 div.sk-parallel-item::after {content: \"\";width: 100%;border-bottom: 1px solid gray;flex-grow: 1;}#sk-container-id-2 div.sk-label:hover label.sk-toggleable__label {background-color: #d4ebff;}#sk-container-id-2 div.sk-serial::before {content: \"\";position: absolute;border-left: 1px solid gray;box-sizing: border-box;top: 0;bottom: 0;left: 50%;z-index: 0;}#sk-container-id-2 div.sk-serial {display: flex;flex-direction: column;align-items: center;background-color: white;padding-right: 0.2em;padding-left: 0.2em;position: relative;}#sk-container-id-2 div.sk-item {position: relative;z-index: 1;}#sk-container-id-2 div.sk-parallel {display: flex;align-items: stretch;justify-content: center;background-color: white;position: relative;}#sk-container-id-2 div.sk-item::before, #sk-container-id-2 div.sk-parallel-item::before {content: \"\";position: absolute;border-left: 1px solid gray;box-sizing: border-box;top: 0;bottom: 0;left: 50%;z-index: -1;}#sk-container-id-2 div.sk-parallel-item {display: flex;flex-direction: column;z-index: 1;position: relative;background-color: white;}#sk-container-id-2 div.sk-parallel-item:first-child::after {align-self: flex-end;width: 50%;}#sk-container-id-2 div.sk-parallel-item:last-child::after {align-self: flex-start;width: 50%;}#sk-container-id-2 div.sk-parallel-item:only-child::after {width: 0;}#sk-container-id-2 div.sk-dashed-wrapped {border: 1px dashed gray;margin: 0 0.4em 0.5em 0.4em;box-sizing: border-box;padding-bottom: 0.4em;background-color: white;}#sk-container-id-2 div.sk-label label {font-family: monospace;font-weight: bold;display: inline-block;line-height: 1.2em;}#sk-container-id-2 div.sk-label-container {text-align: center;}#sk-container-id-2 div.sk-container {/* jupyter's `normalize.less` sets `[hidden] { display: none; }` but bootstrap.min.css set `[hidden] { display: none !important; }` so we also need the `!important` here to be able to override the default hidden behavior on the sphinx rendered scikit-learn.org. See: https://github.com/scikit-learn/scikit-learn/issues/21755 */display: inline-block !important;position: relative;}#sk-container-id-2 div.sk-text-repr-fallback {display: none;}</style><div id=\"sk-container-id-2\" class=\"sk-top-container\"><div class=\"sk-text-repr-fallback\"><pre>ElasticNet(alpha=0.1, l1_ratio=1)</pre><b>In a Jupyter environment, please rerun this cell to show the HTML representation or trust the notebook. <br />On GitHub, the HTML representation is unable to render, please try loading this page with nbviewer.org.</b></div><div class=\"sk-container\" hidden><div class=\"sk-item\"><div class=\"sk-estimator sk-toggleable\"><input class=\"sk-toggleable__control sk-hidden--visually\" id=\"sk-estimator-id-4\" type=\"checkbox\" checked><label for=\"sk-estimator-id-4\" class=\"sk-toggleable__label sk-toggleable__label-arrow\">ElasticNet</label><div class=\"sk-toggleable__content\"><pre>ElasticNet(alpha=0.1, l1_ratio=1)</pre></div></div></div></div></div>"
            ]
          },
          "metadata": {},
          "execution_count": 14
        }
      ]
    },
    {
      "cell_type": "markdown",
      "source": [
        "For this model, best alpha value was 0.1 and l1_ration was 1.\n",
        "\n",
        "Or you can even check it like this:"
      ],
      "metadata": {
        "id": "-KImFLlNVW8A"
      }
    },
    {
      "cell_type": "code",
      "source": [
        "grid_model.best_params_"
      ],
      "metadata": {
        "colab": {
          "base_uri": "https://localhost:8080/"
        },
        "id": "689wJ2lMVUPt",
        "outputId": "495e4de9-c3f6-40f6-a891-67db79f7ad57"
      },
      "execution_count": 15,
      "outputs": [
        {
          "output_type": "execute_result",
          "data": {
            "text/plain": [
              "{'alpha': 0.1, 'l1_ratio': 1}"
            ]
          },
          "metadata": {},
          "execution_count": 15
        }
      ]
    },
    {
      "cell_type": "code",
      "source": [
        "grid_model.cv_results_"
      ],
      "metadata": {
        "colab": {
          "base_uri": "https://localhost:8080/"
        },
        "id": "heyNHc5WVf5_",
        "outputId": "26232957-5a07-4698-9460-005e8d9e60c9"
      },
      "execution_count": 16,
      "outputs": [
        {
          "output_type": "execute_result",
          "data": {
            "text/plain": [
              "{'mean_fit_time': array([0.00761104, 0.00328431, 0.00110855, 0.00110502, 0.00102148,\n",
              "        0.00098867, 0.00103254, 0.00253963, 0.00400081, 0.00303941,\n",
              "        0.00109119, 0.00105395, 0.0011766 , 0.00115695, 0.00255327,\n",
              "        0.00253053, 0.00097103, 0.00427737, 0.00097675, 0.00139861,\n",
              "        0.00109882, 0.00751328, 0.00112634, 0.00098977, 0.00102654,\n",
              "        0.00102687, 0.00098433, 0.00091462, 0.0040236 , 0.00091701,\n",
              "        0.00105586, 0.00093575, 0.00107551, 0.00099578, 0.00085511,\n",
              "        0.00086875]),\n",
              " 'std_fit_time': array([5.16331135e-03, 4.53501181e-03, 1.48806400e-04, 8.47841945e-05,\n",
              "        1.48448804e-04, 6.11827600e-05, 1.42636604e-04, 2.90239100e-03,\n",
              "        5.76876838e-03, 2.27226115e-03, 6.80530993e-05, 2.97874795e-05,\n",
              "        2.26205487e-04, 1.61101817e-05, 2.98174191e-03, 2.92003790e-03,\n",
              "        7.38496536e-05, 4.50676295e-03, 8.71973899e-05, 3.64860183e-04,\n",
              "        1.38100669e-04, 7.35943430e-03, 6.60692943e-05, 1.01810440e-04,\n",
              "        9.64157895e-05, 6.65953923e-05, 1.72867485e-04, 1.06856473e-04,\n",
              "        3.86836461e-03, 8.23421149e-05, 1.25251298e-04, 7.99608286e-05,\n",
              "        1.11273606e-04, 1.18432048e-04, 2.86342996e-05, 7.65920418e-05]),\n",
              " 'mean_score_time': array([0.00059037, 0.00188723, 0.00198336, 0.00144758, 0.00043335,\n",
              "        0.00045433, 0.00048609, 0.00177579, 0.00051904, 0.00054989,\n",
              "        0.00050187, 0.00051227, 0.00054431, 0.00053887, 0.00049849,\n",
              "        0.00216146, 0.00044498, 0.0004621 , 0.00044889, 0.00196676,\n",
              "        0.00049825, 0.00052557, 0.00050855, 0.00046372, 0.00045238,\n",
              "        0.00045161, 0.00043516, 0.00228691, 0.00043945, 0.00042191,\n",
              "        0.00048828, 0.00057859, 0.00057487, 0.00045886, 0.00040383,\n",
              "        0.00038733]),\n",
              " 'std_score_time': array([7.53333897e-05, 2.77257760e-03, 2.94450286e-03, 1.85704698e-03,\n",
              "        1.84915704e-05, 3.93887697e-05, 4.18844922e-05, 2.52386868e-03,\n",
              "        2.74788144e-05, 4.25918893e-05, 1.20376594e-05, 1.60032688e-05,\n",
              "        7.31361573e-05, 1.51641714e-05, 4.22934399e-05, 2.85396196e-03,\n",
              "        3.84732834e-05, 6.92073573e-05, 1.68245827e-05, 2.87803417e-03,\n",
              "        2.58375348e-05, 6.83889221e-05, 4.42431912e-05, 4.92591479e-05,\n",
              "        3.49663748e-05, 3.22577430e-05, 4.05422083e-05, 3.75689852e-03,\n",
              "        6.29465506e-05, 2.09757409e-05, 6.08510355e-05, 2.71248112e-04,\n",
              "        2.06831183e-04, 4.96187041e-05, 1.80193980e-05, 2.16798931e-05]),\n",
              " 'param_alpha': masked_array(data=[0.1, 0.1, 0.1, 0.1, 0.1, 0.1, 1, 1, 1, 1, 1, 1, 5, 5,\n",
              "                    5, 5, 5, 5, 10, 10, 10, 10, 10, 10, 50, 50, 50, 50, 50,\n",
              "                    50, 100, 100, 100, 100, 100, 100],\n",
              "              mask=[False, False, False, False, False, False, False, False,\n",
              "                    False, False, False, False, False, False, False, False,\n",
              "                    False, False, False, False, False, False, False, False,\n",
              "                    False, False, False, False, False, False, False, False,\n",
              "                    False, False, False, False],\n",
              "        fill_value='?',\n",
              "             dtype=object),\n",
              " 'param_l1_ratio': masked_array(data=[0.1, 0.5, 0.7, 0.95, 0.99, 1, 0.1, 0.5, 0.7, 0.95,\n",
              "                    0.99, 1, 0.1, 0.5, 0.7, 0.95, 0.99, 1, 0.1, 0.5, 0.7,\n",
              "                    0.95, 0.99, 1, 0.1, 0.5, 0.7, 0.95, 0.99, 1, 0.1, 0.5,\n",
              "                    0.7, 0.95, 0.99, 1],\n",
              "              mask=[False, False, False, False, False, False, False, False,\n",
              "                    False, False, False, False, False, False, False, False,\n",
              "                    False, False, False, False, False, False, False, False,\n",
              "                    False, False, False, False, False, False, False, False,\n",
              "                    False, False, False, False],\n",
              "        fill_value='?',\n",
              "             dtype=object),\n",
              " 'params': [{'alpha': 0.1, 'l1_ratio': 0.1},\n",
              "  {'alpha': 0.1, 'l1_ratio': 0.5},\n",
              "  {'alpha': 0.1, 'l1_ratio': 0.7},\n",
              "  {'alpha': 0.1, 'l1_ratio': 0.95},\n",
              "  {'alpha': 0.1, 'l1_ratio': 0.99},\n",
              "  {'alpha': 0.1, 'l1_ratio': 1},\n",
              "  {'alpha': 1, 'l1_ratio': 0.1},\n",
              "  {'alpha': 1, 'l1_ratio': 0.5},\n",
              "  {'alpha': 1, 'l1_ratio': 0.7},\n",
              "  {'alpha': 1, 'l1_ratio': 0.95},\n",
              "  {'alpha': 1, 'l1_ratio': 0.99},\n",
              "  {'alpha': 1, 'l1_ratio': 1},\n",
              "  {'alpha': 5, 'l1_ratio': 0.1},\n",
              "  {'alpha': 5, 'l1_ratio': 0.5},\n",
              "  {'alpha': 5, 'l1_ratio': 0.7},\n",
              "  {'alpha': 5, 'l1_ratio': 0.95},\n",
              "  {'alpha': 5, 'l1_ratio': 0.99},\n",
              "  {'alpha': 5, 'l1_ratio': 1},\n",
              "  {'alpha': 10, 'l1_ratio': 0.1},\n",
              "  {'alpha': 10, 'l1_ratio': 0.5},\n",
              "  {'alpha': 10, 'l1_ratio': 0.7},\n",
              "  {'alpha': 10, 'l1_ratio': 0.95},\n",
              "  {'alpha': 10, 'l1_ratio': 0.99},\n",
              "  {'alpha': 10, 'l1_ratio': 1},\n",
              "  {'alpha': 50, 'l1_ratio': 0.1},\n",
              "  {'alpha': 50, 'l1_ratio': 0.5},\n",
              "  {'alpha': 50, 'l1_ratio': 0.7},\n",
              "  {'alpha': 50, 'l1_ratio': 0.95},\n",
              "  {'alpha': 50, 'l1_ratio': 0.99},\n",
              "  {'alpha': 50, 'l1_ratio': 1},\n",
              "  {'alpha': 100, 'l1_ratio': 0.1},\n",
              "  {'alpha': 100, 'l1_ratio': 0.5},\n",
              "  {'alpha': 100, 'l1_ratio': 0.7},\n",
              "  {'alpha': 100, 'l1_ratio': 0.95},\n",
              "  {'alpha': 100, 'l1_ratio': 0.99},\n",
              "  {'alpha': 100, 'l1_ratio': 1}],\n",
              " 'split0_test_score': array([ -3.45302084,  -3.32543978,  -3.26988015,  -3.21305234,\n",
              "         -3.20812418,  -3.20694314,  -9.82747531,  -8.70707114,\n",
              "         -7.92086988,  -6.72943525,  -6.52134437,  -6.46880733,\n",
              "        -22.97926512, -27.79348798, -29.65550965, -31.13030692,\n",
              "        -31.13030692, -31.13030692, -27.38534621, -31.13030692,\n",
              "        -31.13030692, -31.13030692, -31.13030692, -31.13030692,\n",
              "        -31.13030692, -31.13030692, -31.13030692, -31.13030692,\n",
              "        -31.13030692, -31.13030692, -31.13030692, -31.13030692,\n",
              "        -31.13030692, -31.13030692, -31.13030692, -31.13030692]),\n",
              " 'split1_test_score': array([ -1.40519031,  -1.42752204,  -1.44243242,  -1.47241701,\n",
              "         -1.47848929,  -1.48006527,  -5.26152539,  -4.2142284 ,\n",
              "         -3.54956183,  -2.59128522,  -2.4313846 ,  -2.39148256,\n",
              "        -15.54710357, -18.60226868, -21.08505942, -22.5494332 ,\n",
              "        -22.5494332 , -22.5494332 , -19.15953413, -22.5494332 ,\n",
              "        -22.5494332 , -22.5494332 , -22.5494332 , -22.5494332 ,\n",
              "        -22.5494332 , -22.5494332 , -22.5494332 , -22.5494332 ,\n",
              "        -22.5494332 , -22.5494332 , -22.5494332 , -22.5494332 ,\n",
              "        -22.5494332 , -22.5494332 , -22.5494332 , -22.5494332 ]),\n",
              " 'split2_test_score': array([ -5.78912486,  -5.59560964,  -5.50243731,  -5.39625768,\n",
              "         -5.38024154,  -5.3762568 , -11.87534671, -10.87926082,\n",
              "        -10.02487666,  -8.7098418 ,  -8.47108601,  -8.410171  ,\n",
              "        -23.66824886, -27.1078486 , -29.62947804, -31.15520408,\n",
              "        -31.15520408, -31.15520408, -27.63546439, -31.15520408,\n",
              "        -31.15520408, -31.15520408, -31.15520408, -31.15520408,\n",
              "        -31.15520408, -31.15520408, -31.15520408, -31.15520408,\n",
              "        -31.15520408, -31.15520408, -31.15520408, -31.15520408,\n",
              "        -31.15520408, -31.15520408, -31.15520408, -31.15520408]),\n",
              " 'split3_test_score': array([ -2.18730248,  -2.16308873,  -2.16395003,  -2.17745178,\n",
              "         -2.18109704,  -2.18207608,  -7.44919523,  -6.20454503,\n",
              "         -5.37955333,  -4.15631737,  -3.9463265 ,  -3.8935656 ,\n",
              "        -19.92106289, -23.94522746, -26.72459503, -27.96344707,\n",
              "        -27.96344707, -27.96344707, -24.15410359, -27.96344707,\n",
              "        -27.96344707, -27.96344707, -27.96344707, -27.96344707,\n",
              "        -27.96344707, -27.96344707, -27.96344707, -27.96344707,\n",
              "        -27.96344707, -27.96344707, -27.96344707, -27.96344707,\n",
              "        -27.96344707, -27.96344707, -27.96344707, -27.96344707]),\n",
              " 'split4_test_score': array([ -4.64557625,  -4.45167948,  -4.3567377 ,  -4.24107995,\n",
              "         -4.22296809,  -4.2184595 ,  -8.54232854,  -7.17303106,\n",
              "         -6.3248362 ,  -5.32991608,  -5.15134446,  -5.10592176,\n",
              "        -16.26273734, -18.06463498, -20.22365404, -21.69819196,\n",
              "        -21.69819196, -21.69819196, -18.96816086, -21.69819196,\n",
              "        -21.69819196, -21.69819196, -21.69819196, -21.69819196,\n",
              "        -21.69819196, -21.69819196, -21.69819196, -21.69819196,\n",
              "        -21.69819196, -21.69819196, -21.69819196, -21.69819196,\n",
              "        -21.69819196, -21.69819196, -21.69819196, -21.69819196]),\n",
              " 'mean_test_score': array([ -3.49604295,  -3.39266793,  -3.34708752,  -3.30005175,\n",
              "         -3.29418403,  -3.29276016,  -8.59117424,  -7.43562729,\n",
              "         -6.63993958,  -5.50335914,  -5.30429719,  -5.25398965,\n",
              "        -19.67568356, -23.10269354, -25.46365924, -26.89931665,\n",
              "        -26.89931665, -26.89931665, -23.46052183, -26.89931665,\n",
              "        -26.89931665, -26.89931665, -26.89931665, -26.89931665,\n",
              "        -26.89931665, -26.89931665, -26.89931665, -26.89931665,\n",
              "        -26.89931665, -26.89931665, -26.89931665, -26.89931665,\n",
              "        -26.89931665, -26.89931665, -26.89931665, -26.89931665]),\n",
              " 'std_test_score': array([1.591601  , 1.50682717, 1.46276536, 1.40624761, 1.39695326,\n",
              "        1.39461278, 2.22293916, 2.25553153, 2.20621303, 2.10283486,\n",
              "        2.07994524, 2.07383159, 3.33490073, 4.10829748, 4.07787705,\n",
              "        4.07723961, 4.07723961, 4.07723961, 3.79460801, 4.07723961,\n",
              "        4.07723961, 4.07723961, 4.07723961, 4.07723961, 4.07723961,\n",
              "        4.07723961, 4.07723961, 4.07723961, 4.07723961, 4.07723961,\n",
              "        4.07723961, 4.07723961, 4.07723961, 4.07723961, 4.07723961,\n",
              "        4.07723961]),\n",
              " 'rank_test_score': array([ 6,  5,  4,  3,  2,  1, 12, 11, 10,  9,  8,  7, 13, 14, 16, 17, 17,\n",
              "        17, 15, 17, 17, 17, 17, 17, 17, 17, 17, 17, 17, 17, 17, 17, 17, 17,\n",
              "        17, 17], dtype=int32)}"
            ]
          },
          "metadata": {},
          "execution_count": 16
        }
      ]
    },
    {
      "cell_type": "code",
      "source": [
        "pd.DataFrame(grid_model.cv_results_)"
      ],
      "metadata": {
        "colab": {
          "base_uri": "https://localhost:8080/",
          "height": 1000
        },
        "id": "tyjfguC9VqPI",
        "outputId": "0c67232b-b56a-487b-949b-f62ac9ec2d27"
      },
      "execution_count": 17,
      "outputs": [
        {
          "output_type": "execute_result",
          "data": {
            "text/plain": [
              "    mean_fit_time  std_fit_time  mean_score_time  std_score_time param_alpha  \\\n",
              "0        0.007611      0.005163         0.000590        0.000075         0.1   \n",
              "1        0.003284      0.004535         0.001887        0.002773         0.1   \n",
              "2        0.001109      0.000149         0.001983        0.002945         0.1   \n",
              "3        0.001105      0.000085         0.001448        0.001857         0.1   \n",
              "4        0.001021      0.000148         0.000433        0.000018         0.1   \n",
              "5        0.000989      0.000061         0.000454        0.000039         0.1   \n",
              "6        0.001033      0.000143         0.000486        0.000042           1   \n",
              "7        0.002540      0.002902         0.001776        0.002524           1   \n",
              "8        0.004001      0.005769         0.000519        0.000027           1   \n",
              "9        0.003039      0.002272         0.000550        0.000043           1   \n",
              "10       0.001091      0.000068         0.000502        0.000012           1   \n",
              "11       0.001054      0.000030         0.000512        0.000016           1   \n",
              "12       0.001177      0.000226         0.000544        0.000073           5   \n",
              "13       0.001157      0.000016         0.000539        0.000015           5   \n",
              "14       0.002553      0.002982         0.000498        0.000042           5   \n",
              "15       0.002531      0.002920         0.002161        0.002854           5   \n",
              "16       0.000971      0.000074         0.000445        0.000038           5   \n",
              "17       0.004277      0.004507         0.000462        0.000069           5   \n",
              "18       0.000977      0.000087         0.000449        0.000017          10   \n",
              "19       0.001399      0.000365         0.001967        0.002878          10   \n",
              "20       0.001099      0.000138         0.000498        0.000026          10   \n",
              "21       0.007513      0.007359         0.000526        0.000068          10   \n",
              "22       0.001126      0.000066         0.000509        0.000044          10   \n",
              "23       0.000990      0.000102         0.000464        0.000049          10   \n",
              "24       0.001027      0.000096         0.000452        0.000035          50   \n",
              "25       0.001027      0.000067         0.000452        0.000032          50   \n",
              "26       0.000984      0.000173         0.000435        0.000041          50   \n",
              "27       0.000915      0.000107         0.002287        0.003757          50   \n",
              "28       0.004024      0.003868         0.000439        0.000063          50   \n",
              "29       0.000917      0.000082         0.000422        0.000021          50   \n",
              "30       0.001056      0.000125         0.000488        0.000061         100   \n",
              "31       0.000936      0.000080         0.000579        0.000271         100   \n",
              "32       0.001076      0.000111         0.000575        0.000207         100   \n",
              "33       0.000996      0.000118         0.000459        0.000050         100   \n",
              "34       0.000855      0.000029         0.000404        0.000018         100   \n",
              "35       0.000869      0.000077         0.000387        0.000022         100   \n",
              "\n",
              "   param_l1_ratio                            params  split0_test_score  \\\n",
              "0             0.1   {'alpha': 0.1, 'l1_ratio': 0.1}          -3.453021   \n",
              "1             0.5   {'alpha': 0.1, 'l1_ratio': 0.5}          -3.325440   \n",
              "2             0.7   {'alpha': 0.1, 'l1_ratio': 0.7}          -3.269880   \n",
              "3            0.95  {'alpha': 0.1, 'l1_ratio': 0.95}          -3.213052   \n",
              "4            0.99  {'alpha': 0.1, 'l1_ratio': 0.99}          -3.208124   \n",
              "5               1     {'alpha': 0.1, 'l1_ratio': 1}          -3.206943   \n",
              "6             0.1     {'alpha': 1, 'l1_ratio': 0.1}          -9.827475   \n",
              "7             0.5     {'alpha': 1, 'l1_ratio': 0.5}          -8.707071   \n",
              "8             0.7     {'alpha': 1, 'l1_ratio': 0.7}          -7.920870   \n",
              "9            0.95    {'alpha': 1, 'l1_ratio': 0.95}          -6.729435   \n",
              "10           0.99    {'alpha': 1, 'l1_ratio': 0.99}          -6.521344   \n",
              "11              1       {'alpha': 1, 'l1_ratio': 1}          -6.468807   \n",
              "12            0.1     {'alpha': 5, 'l1_ratio': 0.1}         -22.979265   \n",
              "13            0.5     {'alpha': 5, 'l1_ratio': 0.5}         -27.793488   \n",
              "14            0.7     {'alpha': 5, 'l1_ratio': 0.7}         -29.655510   \n",
              "15           0.95    {'alpha': 5, 'l1_ratio': 0.95}         -31.130307   \n",
              "16           0.99    {'alpha': 5, 'l1_ratio': 0.99}         -31.130307   \n",
              "17              1       {'alpha': 5, 'l1_ratio': 1}         -31.130307   \n",
              "18            0.1    {'alpha': 10, 'l1_ratio': 0.1}         -27.385346   \n",
              "19            0.5    {'alpha': 10, 'l1_ratio': 0.5}         -31.130307   \n",
              "20            0.7    {'alpha': 10, 'l1_ratio': 0.7}         -31.130307   \n",
              "21           0.95   {'alpha': 10, 'l1_ratio': 0.95}         -31.130307   \n",
              "22           0.99   {'alpha': 10, 'l1_ratio': 0.99}         -31.130307   \n",
              "23              1      {'alpha': 10, 'l1_ratio': 1}         -31.130307   \n",
              "24            0.1    {'alpha': 50, 'l1_ratio': 0.1}         -31.130307   \n",
              "25            0.5    {'alpha': 50, 'l1_ratio': 0.5}         -31.130307   \n",
              "26            0.7    {'alpha': 50, 'l1_ratio': 0.7}         -31.130307   \n",
              "27           0.95   {'alpha': 50, 'l1_ratio': 0.95}         -31.130307   \n",
              "28           0.99   {'alpha': 50, 'l1_ratio': 0.99}         -31.130307   \n",
              "29              1      {'alpha': 50, 'l1_ratio': 1}         -31.130307   \n",
              "30            0.1   {'alpha': 100, 'l1_ratio': 0.1}         -31.130307   \n",
              "31            0.5   {'alpha': 100, 'l1_ratio': 0.5}         -31.130307   \n",
              "32            0.7   {'alpha': 100, 'l1_ratio': 0.7}         -31.130307   \n",
              "33           0.95  {'alpha': 100, 'l1_ratio': 0.95}         -31.130307   \n",
              "34           0.99  {'alpha': 100, 'l1_ratio': 0.99}         -31.130307   \n",
              "35              1     {'alpha': 100, 'l1_ratio': 1}         -31.130307   \n",
              "\n",
              "    split1_test_score  split2_test_score  split3_test_score  \\\n",
              "0           -1.405190          -5.789125          -2.187302   \n",
              "1           -1.427522          -5.595610          -2.163089   \n",
              "2           -1.442432          -5.502437          -2.163950   \n",
              "3           -1.472417          -5.396258          -2.177452   \n",
              "4           -1.478489          -5.380242          -2.181097   \n",
              "5           -1.480065          -5.376257          -2.182076   \n",
              "6           -5.261525         -11.875347          -7.449195   \n",
              "7           -4.214228         -10.879261          -6.204545   \n",
              "8           -3.549562         -10.024877          -5.379553   \n",
              "9           -2.591285          -8.709842          -4.156317   \n",
              "10          -2.431385          -8.471086          -3.946327   \n",
              "11          -2.391483          -8.410171          -3.893566   \n",
              "12         -15.547104         -23.668249         -19.921063   \n",
              "13         -18.602269         -27.107849         -23.945227   \n",
              "14         -21.085059         -29.629478         -26.724595   \n",
              "15         -22.549433         -31.155204         -27.963447   \n",
              "16         -22.549433         -31.155204         -27.963447   \n",
              "17         -22.549433         -31.155204         -27.963447   \n",
              "18         -19.159534         -27.635464         -24.154104   \n",
              "19         -22.549433         -31.155204         -27.963447   \n",
              "20         -22.549433         -31.155204         -27.963447   \n",
              "21         -22.549433         -31.155204         -27.963447   \n",
              "22         -22.549433         -31.155204         -27.963447   \n",
              "23         -22.549433         -31.155204         -27.963447   \n",
              "24         -22.549433         -31.155204         -27.963447   \n",
              "25         -22.549433         -31.155204         -27.963447   \n",
              "26         -22.549433         -31.155204         -27.963447   \n",
              "27         -22.549433         -31.155204         -27.963447   \n",
              "28         -22.549433         -31.155204         -27.963447   \n",
              "29         -22.549433         -31.155204         -27.963447   \n",
              "30         -22.549433         -31.155204         -27.963447   \n",
              "31         -22.549433         -31.155204         -27.963447   \n",
              "32         -22.549433         -31.155204         -27.963447   \n",
              "33         -22.549433         -31.155204         -27.963447   \n",
              "34         -22.549433         -31.155204         -27.963447   \n",
              "35         -22.549433         -31.155204         -27.963447   \n",
              "\n",
              "    split4_test_score  mean_test_score  std_test_score  rank_test_score  \n",
              "0           -4.645576        -3.496043        1.591601                6  \n",
              "1           -4.451679        -3.392668        1.506827                5  \n",
              "2           -4.356738        -3.347088        1.462765                4  \n",
              "3           -4.241080        -3.300052        1.406248                3  \n",
              "4           -4.222968        -3.294184        1.396953                2  \n",
              "5           -4.218460        -3.292760        1.394613                1  \n",
              "6           -8.542329        -8.591174        2.222939               12  \n",
              "7           -7.173031        -7.435627        2.255532               11  \n",
              "8           -6.324836        -6.639940        2.206213               10  \n",
              "9           -5.329916        -5.503359        2.102835                9  \n",
              "10          -5.151344        -5.304297        2.079945                8  \n",
              "11          -5.105922        -5.253990        2.073832                7  \n",
              "12         -16.262737       -19.675684        3.334901               13  \n",
              "13         -18.064635       -23.102694        4.108297               14  \n",
              "14         -20.223654       -25.463659        4.077877               16  \n",
              "15         -21.698192       -26.899317        4.077240               17  \n",
              "16         -21.698192       -26.899317        4.077240               17  \n",
              "17         -21.698192       -26.899317        4.077240               17  \n",
              "18         -18.968161       -23.460522        3.794608               15  \n",
              "19         -21.698192       -26.899317        4.077240               17  \n",
              "20         -21.698192       -26.899317        4.077240               17  \n",
              "21         -21.698192       -26.899317        4.077240               17  \n",
              "22         -21.698192       -26.899317        4.077240               17  \n",
              "23         -21.698192       -26.899317        4.077240               17  \n",
              "24         -21.698192       -26.899317        4.077240               17  \n",
              "25         -21.698192       -26.899317        4.077240               17  \n",
              "26         -21.698192       -26.899317        4.077240               17  \n",
              "27         -21.698192       -26.899317        4.077240               17  \n",
              "28         -21.698192       -26.899317        4.077240               17  \n",
              "29         -21.698192       -26.899317        4.077240               17  \n",
              "30         -21.698192       -26.899317        4.077240               17  \n",
              "31         -21.698192       -26.899317        4.077240               17  \n",
              "32         -21.698192       -26.899317        4.077240               17  \n",
              "33         -21.698192       -26.899317        4.077240               17  \n",
              "34         -21.698192       -26.899317        4.077240               17  \n",
              "35         -21.698192       -26.899317        4.077240               17  "
            ],
            "text/html": [
              "\n",
              "  <div id=\"df-90bf8658-f351-49b9-900c-caf5b584aa7e\">\n",
              "    <div class=\"colab-df-container\">\n",
              "      <div>\n",
              "<style scoped>\n",
              "    .dataframe tbody tr th:only-of-type {\n",
              "        vertical-align: middle;\n",
              "    }\n",
              "\n",
              "    .dataframe tbody tr th {\n",
              "        vertical-align: top;\n",
              "    }\n",
              "\n",
              "    .dataframe thead th {\n",
              "        text-align: right;\n",
              "    }\n",
              "</style>\n",
              "<table border=\"1\" class=\"dataframe\">\n",
              "  <thead>\n",
              "    <tr style=\"text-align: right;\">\n",
              "      <th></th>\n",
              "      <th>mean_fit_time</th>\n",
              "      <th>std_fit_time</th>\n",
              "      <th>mean_score_time</th>\n",
              "      <th>std_score_time</th>\n",
              "      <th>param_alpha</th>\n",
              "      <th>param_l1_ratio</th>\n",
              "      <th>params</th>\n",
              "      <th>split0_test_score</th>\n",
              "      <th>split1_test_score</th>\n",
              "      <th>split2_test_score</th>\n",
              "      <th>split3_test_score</th>\n",
              "      <th>split4_test_score</th>\n",
              "      <th>mean_test_score</th>\n",
              "      <th>std_test_score</th>\n",
              "      <th>rank_test_score</th>\n",
              "    </tr>\n",
              "  </thead>\n",
              "  <tbody>\n",
              "    <tr>\n",
              "      <th>0</th>\n",
              "      <td>0.007611</td>\n",
              "      <td>0.005163</td>\n",
              "      <td>0.000590</td>\n",
              "      <td>0.000075</td>\n",
              "      <td>0.1</td>\n",
              "      <td>0.1</td>\n",
              "      <td>{'alpha': 0.1, 'l1_ratio': 0.1}</td>\n",
              "      <td>-3.453021</td>\n",
              "      <td>-1.405190</td>\n",
              "      <td>-5.789125</td>\n",
              "      <td>-2.187302</td>\n",
              "      <td>-4.645576</td>\n",
              "      <td>-3.496043</td>\n",
              "      <td>1.591601</td>\n",
              "      <td>6</td>\n",
              "    </tr>\n",
              "    <tr>\n",
              "      <th>1</th>\n",
              "      <td>0.003284</td>\n",
              "      <td>0.004535</td>\n",
              "      <td>0.001887</td>\n",
              "      <td>0.002773</td>\n",
              "      <td>0.1</td>\n",
              "      <td>0.5</td>\n",
              "      <td>{'alpha': 0.1, 'l1_ratio': 0.5}</td>\n",
              "      <td>-3.325440</td>\n",
              "      <td>-1.427522</td>\n",
              "      <td>-5.595610</td>\n",
              "      <td>-2.163089</td>\n",
              "      <td>-4.451679</td>\n",
              "      <td>-3.392668</td>\n",
              "      <td>1.506827</td>\n",
              "      <td>5</td>\n",
              "    </tr>\n",
              "    <tr>\n",
              "      <th>2</th>\n",
              "      <td>0.001109</td>\n",
              "      <td>0.000149</td>\n",
              "      <td>0.001983</td>\n",
              "      <td>0.002945</td>\n",
              "      <td>0.1</td>\n",
              "      <td>0.7</td>\n",
              "      <td>{'alpha': 0.1, 'l1_ratio': 0.7}</td>\n",
              "      <td>-3.269880</td>\n",
              "      <td>-1.442432</td>\n",
              "      <td>-5.502437</td>\n",
              "      <td>-2.163950</td>\n",
              "      <td>-4.356738</td>\n",
              "      <td>-3.347088</td>\n",
              "      <td>1.462765</td>\n",
              "      <td>4</td>\n",
              "    </tr>\n",
              "    <tr>\n",
              "      <th>3</th>\n",
              "      <td>0.001105</td>\n",
              "      <td>0.000085</td>\n",
              "      <td>0.001448</td>\n",
              "      <td>0.001857</td>\n",
              "      <td>0.1</td>\n",
              "      <td>0.95</td>\n",
              "      <td>{'alpha': 0.1, 'l1_ratio': 0.95}</td>\n",
              "      <td>-3.213052</td>\n",
              "      <td>-1.472417</td>\n",
              "      <td>-5.396258</td>\n",
              "      <td>-2.177452</td>\n",
              "      <td>-4.241080</td>\n",
              "      <td>-3.300052</td>\n",
              "      <td>1.406248</td>\n",
              "      <td>3</td>\n",
              "    </tr>\n",
              "    <tr>\n",
              "      <th>4</th>\n",
              "      <td>0.001021</td>\n",
              "      <td>0.000148</td>\n",
              "      <td>0.000433</td>\n",
              "      <td>0.000018</td>\n",
              "      <td>0.1</td>\n",
              "      <td>0.99</td>\n",
              "      <td>{'alpha': 0.1, 'l1_ratio': 0.99}</td>\n",
              "      <td>-3.208124</td>\n",
              "      <td>-1.478489</td>\n",
              "      <td>-5.380242</td>\n",
              "      <td>-2.181097</td>\n",
              "      <td>-4.222968</td>\n",
              "      <td>-3.294184</td>\n",
              "      <td>1.396953</td>\n",
              "      <td>2</td>\n",
              "    </tr>\n",
              "    <tr>\n",
              "      <th>5</th>\n",
              "      <td>0.000989</td>\n",
              "      <td>0.000061</td>\n",
              "      <td>0.000454</td>\n",
              "      <td>0.000039</td>\n",
              "      <td>0.1</td>\n",
              "      <td>1</td>\n",
              "      <td>{'alpha': 0.1, 'l1_ratio': 1}</td>\n",
              "      <td>-3.206943</td>\n",
              "      <td>-1.480065</td>\n",
              "      <td>-5.376257</td>\n",
              "      <td>-2.182076</td>\n",
              "      <td>-4.218460</td>\n",
              "      <td>-3.292760</td>\n",
              "      <td>1.394613</td>\n",
              "      <td>1</td>\n",
              "    </tr>\n",
              "    <tr>\n",
              "      <th>6</th>\n",
              "      <td>0.001033</td>\n",
              "      <td>0.000143</td>\n",
              "      <td>0.000486</td>\n",
              "      <td>0.000042</td>\n",
              "      <td>1</td>\n",
              "      <td>0.1</td>\n",
              "      <td>{'alpha': 1, 'l1_ratio': 0.1}</td>\n",
              "      <td>-9.827475</td>\n",
              "      <td>-5.261525</td>\n",
              "      <td>-11.875347</td>\n",
              "      <td>-7.449195</td>\n",
              "      <td>-8.542329</td>\n",
              "      <td>-8.591174</td>\n",
              "      <td>2.222939</td>\n",
              "      <td>12</td>\n",
              "    </tr>\n",
              "    <tr>\n",
              "      <th>7</th>\n",
              "      <td>0.002540</td>\n",
              "      <td>0.002902</td>\n",
              "      <td>0.001776</td>\n",
              "      <td>0.002524</td>\n",
              "      <td>1</td>\n",
              "      <td>0.5</td>\n",
              "      <td>{'alpha': 1, 'l1_ratio': 0.5}</td>\n",
              "      <td>-8.707071</td>\n",
              "      <td>-4.214228</td>\n",
              "      <td>-10.879261</td>\n",
              "      <td>-6.204545</td>\n",
              "      <td>-7.173031</td>\n",
              "      <td>-7.435627</td>\n",
              "      <td>2.255532</td>\n",
              "      <td>11</td>\n",
              "    </tr>\n",
              "    <tr>\n",
              "      <th>8</th>\n",
              "      <td>0.004001</td>\n",
              "      <td>0.005769</td>\n",
              "      <td>0.000519</td>\n",
              "      <td>0.000027</td>\n",
              "      <td>1</td>\n",
              "      <td>0.7</td>\n",
              "      <td>{'alpha': 1, 'l1_ratio': 0.7}</td>\n",
              "      <td>-7.920870</td>\n",
              "      <td>-3.549562</td>\n",
              "      <td>-10.024877</td>\n",
              "      <td>-5.379553</td>\n",
              "      <td>-6.324836</td>\n",
              "      <td>-6.639940</td>\n",
              "      <td>2.206213</td>\n",
              "      <td>10</td>\n",
              "    </tr>\n",
              "    <tr>\n",
              "      <th>9</th>\n",
              "      <td>0.003039</td>\n",
              "      <td>0.002272</td>\n",
              "      <td>0.000550</td>\n",
              "      <td>0.000043</td>\n",
              "      <td>1</td>\n",
              "      <td>0.95</td>\n",
              "      <td>{'alpha': 1, 'l1_ratio': 0.95}</td>\n",
              "      <td>-6.729435</td>\n",
              "      <td>-2.591285</td>\n",
              "      <td>-8.709842</td>\n",
              "      <td>-4.156317</td>\n",
              "      <td>-5.329916</td>\n",
              "      <td>-5.503359</td>\n",
              "      <td>2.102835</td>\n",
              "      <td>9</td>\n",
              "    </tr>\n",
              "    <tr>\n",
              "      <th>10</th>\n",
              "      <td>0.001091</td>\n",
              "      <td>0.000068</td>\n",
              "      <td>0.000502</td>\n",
              "      <td>0.000012</td>\n",
              "      <td>1</td>\n",
              "      <td>0.99</td>\n",
              "      <td>{'alpha': 1, 'l1_ratio': 0.99}</td>\n",
              "      <td>-6.521344</td>\n",
              "      <td>-2.431385</td>\n",
              "      <td>-8.471086</td>\n",
              "      <td>-3.946327</td>\n",
              "      <td>-5.151344</td>\n",
              "      <td>-5.304297</td>\n",
              "      <td>2.079945</td>\n",
              "      <td>8</td>\n",
              "    </tr>\n",
              "    <tr>\n",
              "      <th>11</th>\n",
              "      <td>0.001054</td>\n",
              "      <td>0.000030</td>\n",
              "      <td>0.000512</td>\n",
              "      <td>0.000016</td>\n",
              "      <td>1</td>\n",
              "      <td>1</td>\n",
              "      <td>{'alpha': 1, 'l1_ratio': 1}</td>\n",
              "      <td>-6.468807</td>\n",
              "      <td>-2.391483</td>\n",
              "      <td>-8.410171</td>\n",
              "      <td>-3.893566</td>\n",
              "      <td>-5.105922</td>\n",
              "      <td>-5.253990</td>\n",
              "      <td>2.073832</td>\n",
              "      <td>7</td>\n",
              "    </tr>\n",
              "    <tr>\n",
              "      <th>12</th>\n",
              "      <td>0.001177</td>\n",
              "      <td>0.000226</td>\n",
              "      <td>0.000544</td>\n",
              "      <td>0.000073</td>\n",
              "      <td>5</td>\n",
              "      <td>0.1</td>\n",
              "      <td>{'alpha': 5, 'l1_ratio': 0.1}</td>\n",
              "      <td>-22.979265</td>\n",
              "      <td>-15.547104</td>\n",
              "      <td>-23.668249</td>\n",
              "      <td>-19.921063</td>\n",
              "      <td>-16.262737</td>\n",
              "      <td>-19.675684</td>\n",
              "      <td>3.334901</td>\n",
              "      <td>13</td>\n",
              "    </tr>\n",
              "    <tr>\n",
              "      <th>13</th>\n",
              "      <td>0.001157</td>\n",
              "      <td>0.000016</td>\n",
              "      <td>0.000539</td>\n",
              "      <td>0.000015</td>\n",
              "      <td>5</td>\n",
              "      <td>0.5</td>\n",
              "      <td>{'alpha': 5, 'l1_ratio': 0.5}</td>\n",
              "      <td>-27.793488</td>\n",
              "      <td>-18.602269</td>\n",
              "      <td>-27.107849</td>\n",
              "      <td>-23.945227</td>\n",
              "      <td>-18.064635</td>\n",
              "      <td>-23.102694</td>\n",
              "      <td>4.108297</td>\n",
              "      <td>14</td>\n",
              "    </tr>\n",
              "    <tr>\n",
              "      <th>14</th>\n",
              "      <td>0.002553</td>\n",
              "      <td>0.002982</td>\n",
              "      <td>0.000498</td>\n",
              "      <td>0.000042</td>\n",
              "      <td>5</td>\n",
              "      <td>0.7</td>\n",
              "      <td>{'alpha': 5, 'l1_ratio': 0.7}</td>\n",
              "      <td>-29.655510</td>\n",
              "      <td>-21.085059</td>\n",
              "      <td>-29.629478</td>\n",
              "      <td>-26.724595</td>\n",
              "      <td>-20.223654</td>\n",
              "      <td>-25.463659</td>\n",
              "      <td>4.077877</td>\n",
              "      <td>16</td>\n",
              "    </tr>\n",
              "    <tr>\n",
              "      <th>15</th>\n",
              "      <td>0.002531</td>\n",
              "      <td>0.002920</td>\n",
              "      <td>0.002161</td>\n",
              "      <td>0.002854</td>\n",
              "      <td>5</td>\n",
              "      <td>0.95</td>\n",
              "      <td>{'alpha': 5, 'l1_ratio': 0.95}</td>\n",
              "      <td>-31.130307</td>\n",
              "      <td>-22.549433</td>\n",
              "      <td>-31.155204</td>\n",
              "      <td>-27.963447</td>\n",
              "      <td>-21.698192</td>\n",
              "      <td>-26.899317</td>\n",
              "      <td>4.077240</td>\n",
              "      <td>17</td>\n",
              "    </tr>\n",
              "    <tr>\n",
              "      <th>16</th>\n",
              "      <td>0.000971</td>\n",
              "      <td>0.000074</td>\n",
              "      <td>0.000445</td>\n",
              "      <td>0.000038</td>\n",
              "      <td>5</td>\n",
              "      <td>0.99</td>\n",
              "      <td>{'alpha': 5, 'l1_ratio': 0.99}</td>\n",
              "      <td>-31.130307</td>\n",
              "      <td>-22.549433</td>\n",
              "      <td>-31.155204</td>\n",
              "      <td>-27.963447</td>\n",
              "      <td>-21.698192</td>\n",
              "      <td>-26.899317</td>\n",
              "      <td>4.077240</td>\n",
              "      <td>17</td>\n",
              "    </tr>\n",
              "    <tr>\n",
              "      <th>17</th>\n",
              "      <td>0.004277</td>\n",
              "      <td>0.004507</td>\n",
              "      <td>0.000462</td>\n",
              "      <td>0.000069</td>\n",
              "      <td>5</td>\n",
              "      <td>1</td>\n",
              "      <td>{'alpha': 5, 'l1_ratio': 1}</td>\n",
              "      <td>-31.130307</td>\n",
              "      <td>-22.549433</td>\n",
              "      <td>-31.155204</td>\n",
              "      <td>-27.963447</td>\n",
              "      <td>-21.698192</td>\n",
              "      <td>-26.899317</td>\n",
              "      <td>4.077240</td>\n",
              "      <td>17</td>\n",
              "    </tr>\n",
              "    <tr>\n",
              "      <th>18</th>\n",
              "      <td>0.000977</td>\n",
              "      <td>0.000087</td>\n",
              "      <td>0.000449</td>\n",
              "      <td>0.000017</td>\n",
              "      <td>10</td>\n",
              "      <td>0.1</td>\n",
              "      <td>{'alpha': 10, 'l1_ratio': 0.1}</td>\n",
              "      <td>-27.385346</td>\n",
              "      <td>-19.159534</td>\n",
              "      <td>-27.635464</td>\n",
              "      <td>-24.154104</td>\n",
              "      <td>-18.968161</td>\n",
              "      <td>-23.460522</td>\n",
              "      <td>3.794608</td>\n",
              "      <td>15</td>\n",
              "    </tr>\n",
              "    <tr>\n",
              "      <th>19</th>\n",
              "      <td>0.001399</td>\n",
              "      <td>0.000365</td>\n",
              "      <td>0.001967</td>\n",
              "      <td>0.002878</td>\n",
              "      <td>10</td>\n",
              "      <td>0.5</td>\n",
              "      <td>{'alpha': 10, 'l1_ratio': 0.5}</td>\n",
              "      <td>-31.130307</td>\n",
              "      <td>-22.549433</td>\n",
              "      <td>-31.155204</td>\n",
              "      <td>-27.963447</td>\n",
              "      <td>-21.698192</td>\n",
              "      <td>-26.899317</td>\n",
              "      <td>4.077240</td>\n",
              "      <td>17</td>\n",
              "    </tr>\n",
              "    <tr>\n",
              "      <th>20</th>\n",
              "      <td>0.001099</td>\n",
              "      <td>0.000138</td>\n",
              "      <td>0.000498</td>\n",
              "      <td>0.000026</td>\n",
              "      <td>10</td>\n",
              "      <td>0.7</td>\n",
              "      <td>{'alpha': 10, 'l1_ratio': 0.7}</td>\n",
              "      <td>-31.130307</td>\n",
              "      <td>-22.549433</td>\n",
              "      <td>-31.155204</td>\n",
              "      <td>-27.963447</td>\n",
              "      <td>-21.698192</td>\n",
              "      <td>-26.899317</td>\n",
              "      <td>4.077240</td>\n",
              "      <td>17</td>\n",
              "    </tr>\n",
              "    <tr>\n",
              "      <th>21</th>\n",
              "      <td>0.007513</td>\n",
              "      <td>0.007359</td>\n",
              "      <td>0.000526</td>\n",
              "      <td>0.000068</td>\n",
              "      <td>10</td>\n",
              "      <td>0.95</td>\n",
              "      <td>{'alpha': 10, 'l1_ratio': 0.95}</td>\n",
              "      <td>-31.130307</td>\n",
              "      <td>-22.549433</td>\n",
              "      <td>-31.155204</td>\n",
              "      <td>-27.963447</td>\n",
              "      <td>-21.698192</td>\n",
              "      <td>-26.899317</td>\n",
              "      <td>4.077240</td>\n",
              "      <td>17</td>\n",
              "    </tr>\n",
              "    <tr>\n",
              "      <th>22</th>\n",
              "      <td>0.001126</td>\n",
              "      <td>0.000066</td>\n",
              "      <td>0.000509</td>\n",
              "      <td>0.000044</td>\n",
              "      <td>10</td>\n",
              "      <td>0.99</td>\n",
              "      <td>{'alpha': 10, 'l1_ratio': 0.99}</td>\n",
              "      <td>-31.130307</td>\n",
              "      <td>-22.549433</td>\n",
              "      <td>-31.155204</td>\n",
              "      <td>-27.963447</td>\n",
              "      <td>-21.698192</td>\n",
              "      <td>-26.899317</td>\n",
              "      <td>4.077240</td>\n",
              "      <td>17</td>\n",
              "    </tr>\n",
              "    <tr>\n",
              "      <th>23</th>\n",
              "      <td>0.000990</td>\n",
              "      <td>0.000102</td>\n",
              "      <td>0.000464</td>\n",
              "      <td>0.000049</td>\n",
              "      <td>10</td>\n",
              "      <td>1</td>\n",
              "      <td>{'alpha': 10, 'l1_ratio': 1}</td>\n",
              "      <td>-31.130307</td>\n",
              "      <td>-22.549433</td>\n",
              "      <td>-31.155204</td>\n",
              "      <td>-27.963447</td>\n",
              "      <td>-21.698192</td>\n",
              "      <td>-26.899317</td>\n",
              "      <td>4.077240</td>\n",
              "      <td>17</td>\n",
              "    </tr>\n",
              "    <tr>\n",
              "      <th>24</th>\n",
              "      <td>0.001027</td>\n",
              "      <td>0.000096</td>\n",
              "      <td>0.000452</td>\n",
              "      <td>0.000035</td>\n",
              "      <td>50</td>\n",
              "      <td>0.1</td>\n",
              "      <td>{'alpha': 50, 'l1_ratio': 0.1}</td>\n",
              "      <td>-31.130307</td>\n",
              "      <td>-22.549433</td>\n",
              "      <td>-31.155204</td>\n",
              "      <td>-27.963447</td>\n",
              "      <td>-21.698192</td>\n",
              "      <td>-26.899317</td>\n",
              "      <td>4.077240</td>\n",
              "      <td>17</td>\n",
              "    </tr>\n",
              "    <tr>\n",
              "      <th>25</th>\n",
              "      <td>0.001027</td>\n",
              "      <td>0.000067</td>\n",
              "      <td>0.000452</td>\n",
              "      <td>0.000032</td>\n",
              "      <td>50</td>\n",
              "      <td>0.5</td>\n",
              "      <td>{'alpha': 50, 'l1_ratio': 0.5}</td>\n",
              "      <td>-31.130307</td>\n",
              "      <td>-22.549433</td>\n",
              "      <td>-31.155204</td>\n",
              "      <td>-27.963447</td>\n",
              "      <td>-21.698192</td>\n",
              "      <td>-26.899317</td>\n",
              "      <td>4.077240</td>\n",
              "      <td>17</td>\n",
              "    </tr>\n",
              "    <tr>\n",
              "      <th>26</th>\n",
              "      <td>0.000984</td>\n",
              "      <td>0.000173</td>\n",
              "      <td>0.000435</td>\n",
              "      <td>0.000041</td>\n",
              "      <td>50</td>\n",
              "      <td>0.7</td>\n",
              "      <td>{'alpha': 50, 'l1_ratio': 0.7}</td>\n",
              "      <td>-31.130307</td>\n",
              "      <td>-22.549433</td>\n",
              "      <td>-31.155204</td>\n",
              "      <td>-27.963447</td>\n",
              "      <td>-21.698192</td>\n",
              "      <td>-26.899317</td>\n",
              "      <td>4.077240</td>\n",
              "      <td>17</td>\n",
              "    </tr>\n",
              "    <tr>\n",
              "      <th>27</th>\n",
              "      <td>0.000915</td>\n",
              "      <td>0.000107</td>\n",
              "      <td>0.002287</td>\n",
              "      <td>0.003757</td>\n",
              "      <td>50</td>\n",
              "      <td>0.95</td>\n",
              "      <td>{'alpha': 50, 'l1_ratio': 0.95}</td>\n",
              "      <td>-31.130307</td>\n",
              "      <td>-22.549433</td>\n",
              "      <td>-31.155204</td>\n",
              "      <td>-27.963447</td>\n",
              "      <td>-21.698192</td>\n",
              "      <td>-26.899317</td>\n",
              "      <td>4.077240</td>\n",
              "      <td>17</td>\n",
              "    </tr>\n",
              "    <tr>\n",
              "      <th>28</th>\n",
              "      <td>0.004024</td>\n",
              "      <td>0.003868</td>\n",
              "      <td>0.000439</td>\n",
              "      <td>0.000063</td>\n",
              "      <td>50</td>\n",
              "      <td>0.99</td>\n",
              "      <td>{'alpha': 50, 'l1_ratio': 0.99}</td>\n",
              "      <td>-31.130307</td>\n",
              "      <td>-22.549433</td>\n",
              "      <td>-31.155204</td>\n",
              "      <td>-27.963447</td>\n",
              "      <td>-21.698192</td>\n",
              "      <td>-26.899317</td>\n",
              "      <td>4.077240</td>\n",
              "      <td>17</td>\n",
              "    </tr>\n",
              "    <tr>\n",
              "      <th>29</th>\n",
              "      <td>0.000917</td>\n",
              "      <td>0.000082</td>\n",
              "      <td>0.000422</td>\n",
              "      <td>0.000021</td>\n",
              "      <td>50</td>\n",
              "      <td>1</td>\n",
              "      <td>{'alpha': 50, 'l1_ratio': 1}</td>\n",
              "      <td>-31.130307</td>\n",
              "      <td>-22.549433</td>\n",
              "      <td>-31.155204</td>\n",
              "      <td>-27.963447</td>\n",
              "      <td>-21.698192</td>\n",
              "      <td>-26.899317</td>\n",
              "      <td>4.077240</td>\n",
              "      <td>17</td>\n",
              "    </tr>\n",
              "    <tr>\n",
              "      <th>30</th>\n",
              "      <td>0.001056</td>\n",
              "      <td>0.000125</td>\n",
              "      <td>0.000488</td>\n",
              "      <td>0.000061</td>\n",
              "      <td>100</td>\n",
              "      <td>0.1</td>\n",
              "      <td>{'alpha': 100, 'l1_ratio': 0.1}</td>\n",
              "      <td>-31.130307</td>\n",
              "      <td>-22.549433</td>\n",
              "      <td>-31.155204</td>\n",
              "      <td>-27.963447</td>\n",
              "      <td>-21.698192</td>\n",
              "      <td>-26.899317</td>\n",
              "      <td>4.077240</td>\n",
              "      <td>17</td>\n",
              "    </tr>\n",
              "    <tr>\n",
              "      <th>31</th>\n",
              "      <td>0.000936</td>\n",
              "      <td>0.000080</td>\n",
              "      <td>0.000579</td>\n",
              "      <td>0.000271</td>\n",
              "      <td>100</td>\n",
              "      <td>0.5</td>\n",
              "      <td>{'alpha': 100, 'l1_ratio': 0.5}</td>\n",
              "      <td>-31.130307</td>\n",
              "      <td>-22.549433</td>\n",
              "      <td>-31.155204</td>\n",
              "      <td>-27.963447</td>\n",
              "      <td>-21.698192</td>\n",
              "      <td>-26.899317</td>\n",
              "      <td>4.077240</td>\n",
              "      <td>17</td>\n",
              "    </tr>\n",
              "    <tr>\n",
              "      <th>32</th>\n",
              "      <td>0.001076</td>\n",
              "      <td>0.000111</td>\n",
              "      <td>0.000575</td>\n",
              "      <td>0.000207</td>\n",
              "      <td>100</td>\n",
              "      <td>0.7</td>\n",
              "      <td>{'alpha': 100, 'l1_ratio': 0.7}</td>\n",
              "      <td>-31.130307</td>\n",
              "      <td>-22.549433</td>\n",
              "      <td>-31.155204</td>\n",
              "      <td>-27.963447</td>\n",
              "      <td>-21.698192</td>\n",
              "      <td>-26.899317</td>\n",
              "      <td>4.077240</td>\n",
              "      <td>17</td>\n",
              "    </tr>\n",
              "    <tr>\n",
              "      <th>33</th>\n",
              "      <td>0.000996</td>\n",
              "      <td>0.000118</td>\n",
              "      <td>0.000459</td>\n",
              "      <td>0.000050</td>\n",
              "      <td>100</td>\n",
              "      <td>0.95</td>\n",
              "      <td>{'alpha': 100, 'l1_ratio': 0.95}</td>\n",
              "      <td>-31.130307</td>\n",
              "      <td>-22.549433</td>\n",
              "      <td>-31.155204</td>\n",
              "      <td>-27.963447</td>\n",
              "      <td>-21.698192</td>\n",
              "      <td>-26.899317</td>\n",
              "      <td>4.077240</td>\n",
              "      <td>17</td>\n",
              "    </tr>\n",
              "    <tr>\n",
              "      <th>34</th>\n",
              "      <td>0.000855</td>\n",
              "      <td>0.000029</td>\n",
              "      <td>0.000404</td>\n",
              "      <td>0.000018</td>\n",
              "      <td>100</td>\n",
              "      <td>0.99</td>\n",
              "      <td>{'alpha': 100, 'l1_ratio': 0.99}</td>\n",
              "      <td>-31.130307</td>\n",
              "      <td>-22.549433</td>\n",
              "      <td>-31.155204</td>\n",
              "      <td>-27.963447</td>\n",
              "      <td>-21.698192</td>\n",
              "      <td>-26.899317</td>\n",
              "      <td>4.077240</td>\n",
              "      <td>17</td>\n",
              "    </tr>\n",
              "    <tr>\n",
              "      <th>35</th>\n",
              "      <td>0.000869</td>\n",
              "      <td>0.000077</td>\n",
              "      <td>0.000387</td>\n",
              "      <td>0.000022</td>\n",
              "      <td>100</td>\n",
              "      <td>1</td>\n",
              "      <td>{'alpha': 100, 'l1_ratio': 1}</td>\n",
              "      <td>-31.130307</td>\n",
              "      <td>-22.549433</td>\n",
              "      <td>-31.155204</td>\n",
              "      <td>-27.963447</td>\n",
              "      <td>-21.698192</td>\n",
              "      <td>-26.899317</td>\n",
              "      <td>4.077240</td>\n",
              "      <td>17</td>\n",
              "    </tr>\n",
              "  </tbody>\n",
              "</table>\n",
              "</div>\n",
              "      <button class=\"colab-df-convert\" onclick=\"convertToInteractive('df-90bf8658-f351-49b9-900c-caf5b584aa7e')\"\n",
              "              title=\"Convert this dataframe to an interactive table.\"\n",
              "              style=\"display:none;\">\n",
              "        \n",
              "  <svg xmlns=\"http://www.w3.org/2000/svg\" height=\"24px\"viewBox=\"0 0 24 24\"\n",
              "       width=\"24px\">\n",
              "    <path d=\"M0 0h24v24H0V0z\" fill=\"none\"/>\n",
              "    <path d=\"M18.56 5.44l.94 2.06.94-2.06 2.06-.94-2.06-.94-.94-2.06-.94 2.06-2.06.94zm-11 1L8.5 8.5l.94-2.06 2.06-.94-2.06-.94L8.5 2.5l-.94 2.06-2.06.94zm10 10l.94 2.06.94-2.06 2.06-.94-2.06-.94-.94-2.06-.94 2.06-2.06.94z\"/><path d=\"M17.41 7.96l-1.37-1.37c-.4-.4-.92-.59-1.43-.59-.52 0-1.04.2-1.43.59L10.3 9.45l-7.72 7.72c-.78.78-.78 2.05 0 2.83L4 21.41c.39.39.9.59 1.41.59.51 0 1.02-.2 1.41-.59l7.78-7.78 2.81-2.81c.8-.78.8-2.07 0-2.86zM5.41 20L4 18.59l7.72-7.72 1.47 1.35L5.41 20z\"/>\n",
              "  </svg>\n",
              "      </button>\n",
              "      \n",
              "  <style>\n",
              "    .colab-df-container {\n",
              "      display:flex;\n",
              "      flex-wrap:wrap;\n",
              "      gap: 12px;\n",
              "    }\n",
              "\n",
              "    .colab-df-convert {\n",
              "      background-color: #E8F0FE;\n",
              "      border: none;\n",
              "      border-radius: 50%;\n",
              "      cursor: pointer;\n",
              "      display: none;\n",
              "      fill: #1967D2;\n",
              "      height: 32px;\n",
              "      padding: 0 0 0 0;\n",
              "      width: 32px;\n",
              "    }\n",
              "\n",
              "    .colab-df-convert:hover {\n",
              "      background-color: #E2EBFA;\n",
              "      box-shadow: 0px 1px 2px rgba(60, 64, 67, 0.3), 0px 1px 3px 1px rgba(60, 64, 67, 0.15);\n",
              "      fill: #174EA6;\n",
              "    }\n",
              "\n",
              "    [theme=dark] .colab-df-convert {\n",
              "      background-color: #3B4455;\n",
              "      fill: #D2E3FC;\n",
              "    }\n",
              "\n",
              "    [theme=dark] .colab-df-convert:hover {\n",
              "      background-color: #434B5C;\n",
              "      box-shadow: 0px 1px 3px 1px rgba(0, 0, 0, 0.15);\n",
              "      filter: drop-shadow(0px 1px 2px rgba(0, 0, 0, 0.3));\n",
              "      fill: #FFFFFF;\n",
              "    }\n",
              "  </style>\n",
              "\n",
              "      <script>\n",
              "        const buttonEl =\n",
              "          document.querySelector('#df-90bf8658-f351-49b9-900c-caf5b584aa7e button.colab-df-convert');\n",
              "        buttonEl.style.display =\n",
              "          google.colab.kernel.accessAllowed ? 'block' : 'none';\n",
              "\n",
              "        async function convertToInteractive(key) {\n",
              "          const element = document.querySelector('#df-90bf8658-f351-49b9-900c-caf5b584aa7e');\n",
              "          const dataTable =\n",
              "            await google.colab.kernel.invokeFunction('convertToInteractive',\n",
              "                                                     [key], {});\n",
              "          if (!dataTable) return;\n",
              "\n",
              "          const docLinkHtml = 'Like what you see? Visit the ' +\n",
              "            '<a target=\"_blank\" href=https://colab.research.google.com/notebooks/data_table.ipynb>data table notebook</a>'\n",
              "            + ' to learn more about interactive tables.';\n",
              "          element.innerHTML = '';\n",
              "          dataTable['output_type'] = 'display_data';\n",
              "          await google.colab.output.renderOutput(dataTable, element);\n",
              "          const docLink = document.createElement('div');\n",
              "          docLink.innerHTML = docLinkHtml;\n",
              "          element.appendChild(docLink);\n",
              "        }\n",
              "      </script>\n",
              "    </div>\n",
              "  </div>\n",
              "  "
            ]
          },
          "metadata": {},
          "execution_count": 17
        }
      ]
    },
    {
      "cell_type": "markdown",
      "source": [
        "Now if you are not satisfied with the results, go back and change alpha and l1_ration values. If you're satisfied then move on calculating some performane metrics."
      ],
      "metadata": {
        "id": "1wE4FJC3VzKl"
      }
    },
    {
      "cell_type": "code",
      "source": [
        "predictions = grid_model.predict(X_test)"
      ],
      "metadata": {
        "id": "6j8U_D-4Vtjg"
      },
      "execution_count": 18,
      "outputs": []
    },
    {
      "cell_type": "code",
      "source": [
        "from sklearn.metrics import mean_squared_error\n",
        "\n",
        "mean_squared_error(y_test, predictions)"
      ],
      "metadata": {
        "colab": {
          "base_uri": "https://localhost:8080/"
        },
        "id": "NW0kZTb2XlVt",
        "outputId": "c38989d7-a1eb-4adb-cd52-0f473081ad5e"
      },
      "execution_count": 19,
      "outputs": [
        {
          "output_type": "execute_result",
          "data": {
            "text/plain": [
              "2.387342642087474"
            ]
          },
          "metadata": {},
          "execution_count": 19
        }
      ]
    },
    {
      "cell_type": "code",
      "source": [],
      "metadata": {
        "id": "pu-oBZdPXu_0"
      },
      "execution_count": null,
      "outputs": []
    }
  ]
}