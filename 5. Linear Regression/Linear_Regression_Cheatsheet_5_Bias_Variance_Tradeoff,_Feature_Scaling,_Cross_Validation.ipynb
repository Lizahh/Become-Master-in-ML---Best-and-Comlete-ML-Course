{
  "nbformat": 4,
  "nbformat_minor": 0,
  "metadata": {
    "colab": {
      "provenance": []
    },
    "kernelspec": {
      "name": "python3",
      "display_name": "Python 3"
    },
    "language_info": {
      "name": "python"
    }
  },
  "cells": [
    {
      "cell_type": "markdown",
      "source": [
        "# **TOPIC 1 ✈ Bias-Variance Tradeoff** \n",
        "\n",
        "## **Introduction:**\n",
        "\n",
        "We have seen that increasing the number of features improves the performance of the model.\n",
        "\n",
        "BUT !\n",
        "\n",
        "Increasing the number of features also increases the complexity of the model.\n",
        "\n",
        "Agree? ☹\n",
        "\n",
        "Increasing complexity in search of better performance leads to bias-variance tradeoff."
      ],
      "metadata": {
        "id": "wfRpy7oOPtxb"
      }
    },
    {
      "cell_type": "markdown",
      "source": [
        "# **Bias - Underfitting:**"
      ],
      "metadata": {
        "id": "uU7YDWbVQJqw"
      }
    },
    {
      "cell_type": "markdown",
      "source": [
        "* Bias just means unbalance/unfair.\n",
        "\n",
        "* Remember these phrases.\n",
        "\n",
        "    BU - VO (Bias underfit - Variance underfit)\n",
        "\n",
        "    Bias is too basic, does underfitting. Variance goes wild, overfitting like a child.\n",
        "\n",
        "* Bias means data is not even understanding training data bro. It is not even able to generalize training data. Forget about the test data. Ugh!\n",
        "\n",
        "* **Bias doens't Bother** to trick at all. It gives bad performance on both. \n",
        "\n",
        "* It is easier to catch underfitting - High Bias and low variance\n",
        "\n",
        "Because it is neither performing good on training data nor on test data.\n",
        "\n",
        "*  High bias occurs when a model is too simple and model becomes extra relax :/"
      ],
      "metadata": {
        "id": "CTkGZqdPQLJP"
      }
    },
    {
      "cell_type": "markdown",
      "source": [
        "# **Variance - Overfitting:**"
      ],
      "metadata": {
        "id": "0dRkLTblRYah"
      }
    },
    {
      "cell_type": "markdown",
      "source": [
        "* Variance itself means variability. \n",
        "\n",
        "* It means it sees all the variability while training and memorize them. It is stupid enough! It thinks that I will memorize all the data and will perform good on test data.\n",
        "\n",
        "But!\n",
        "\n",
        "It performs worse on test data. It tries to become **over smart** :/ by performing best on training data. Sometimes, it gives 0 error for the training data.\n",
        "\n",
        "But for testing!!!!\n",
        "\n",
        "It explodes. It performs worse. \n",
        "\n",
        "*  High variance occurs when a model is too complex and model tries to become oversmart during training :/"
      ],
      "metadata": {
        "id": "-gWyriOeRciq"
      }
    },
    {
      "cell_type": "markdown",
      "source": [
        "So bias-variance tradeoff is important. Both should be balance enough.\n",
        "\n",
        "But how do we know how much complexity should we keep of model so we don't get high bias nor higher variance?????\n",
        "\n"
      ],
      "metadata": {
        "id": "hlvc9ttISPaC"
      }
    },
    {
      "cell_type": "markdown",
      "source": [
        "# **Choosing level of Complexity - Choosing degree of Polynomial**"
      ],
      "metadata": {
        "id": "31lfE0lpSm6a"
      }
    },
    {
      "cell_type": "markdown",
      "source": [
        "We can't say one number that would make bias-variance tradeoff for us. Because we have different context, different datasets, and different models.\n",
        "\n",
        "We must have to test on our dataset by running a loop. and in the end, see at which number (degree) model is performing better and choose that for that model.\n",
        "\n",
        "**Steps:**\n",
        "\n",
        "1. Choose how many degrees you wanna check.\n",
        "\n",
        "2. Compute polynomial features and fit them to dataset. Make predictions.\n",
        "\n",
        "3. Check the training and testing error and add it to lists.\n",
        "\n",
        "4. Increase the degree by one number and now move again to step 2 until you reach at end.\n",
        "\n",
        "5. Make plot of error lists and select best degree."
      ],
      "metadata": {
        "id": "ce35cHPhTL2B"
      }
    },
    {
      "cell_type": "markdown",
      "source": [
        "# **-------------------------Coding-----------------------------------**"
      ],
      "metadata": {
        "id": "HivsWoVRUBf7"
      }
    },
    {
      "cell_type": "code",
      "source": [
        "import pandas as pd\n",
        "import seaborn as sns\n",
        "import matplotlib.pyplot as plt\n",
        "import numpy as np"
      ],
      "metadata": {
        "id": "6a1sIeBYUA8T"
      },
      "execution_count": 1,
      "outputs": []
    },
    {
      "cell_type": "code",
      "source": [
        "df = pd.read_csv('/content/sample_data/Advertising.csv')\n",
        "df.head()"
      ],
      "metadata": {
        "colab": {
          "base_uri": "https://localhost:8080/",
          "height": 206
        },
        "id": "oL1oJ98FUWKB",
        "outputId": "412aa749-18d7-44fc-a7e8-e14fb400a65a"
      },
      "execution_count": 3,
      "outputs": [
        {
          "output_type": "execute_result",
          "data": {
            "text/plain": [
              "      TV  radio  newspaper  sales\n",
              "0  230.1   37.8       69.2   22.1\n",
              "1   44.5   39.3       45.1   10.4\n",
              "2   17.2   45.9       69.3    9.3\n",
              "3  151.5   41.3       58.5   18.5\n",
              "4  180.8   10.8       58.4   12.9"
            ],
            "text/html": [
              "\n",
              "  <div id=\"df-444c0c11-5827-4e1e-8d97-4d1aca237b73\">\n",
              "    <div class=\"colab-df-container\">\n",
              "      <div>\n",
              "<style scoped>\n",
              "    .dataframe tbody tr th:only-of-type {\n",
              "        vertical-align: middle;\n",
              "    }\n",
              "\n",
              "    .dataframe tbody tr th {\n",
              "        vertical-align: top;\n",
              "    }\n",
              "\n",
              "    .dataframe thead th {\n",
              "        text-align: right;\n",
              "    }\n",
              "</style>\n",
              "<table border=\"1\" class=\"dataframe\">\n",
              "  <thead>\n",
              "    <tr style=\"text-align: right;\">\n",
              "      <th></th>\n",
              "      <th>TV</th>\n",
              "      <th>radio</th>\n",
              "      <th>newspaper</th>\n",
              "      <th>sales</th>\n",
              "    </tr>\n",
              "  </thead>\n",
              "  <tbody>\n",
              "    <tr>\n",
              "      <th>0</th>\n",
              "      <td>230.1</td>\n",
              "      <td>37.8</td>\n",
              "      <td>69.2</td>\n",
              "      <td>22.1</td>\n",
              "    </tr>\n",
              "    <tr>\n",
              "      <th>1</th>\n",
              "      <td>44.5</td>\n",
              "      <td>39.3</td>\n",
              "      <td>45.1</td>\n",
              "      <td>10.4</td>\n",
              "    </tr>\n",
              "    <tr>\n",
              "      <th>2</th>\n",
              "      <td>17.2</td>\n",
              "      <td>45.9</td>\n",
              "      <td>69.3</td>\n",
              "      <td>9.3</td>\n",
              "    </tr>\n",
              "    <tr>\n",
              "      <th>3</th>\n",
              "      <td>151.5</td>\n",
              "      <td>41.3</td>\n",
              "      <td>58.5</td>\n",
              "      <td>18.5</td>\n",
              "    </tr>\n",
              "    <tr>\n",
              "      <th>4</th>\n",
              "      <td>180.8</td>\n",
              "      <td>10.8</td>\n",
              "      <td>58.4</td>\n",
              "      <td>12.9</td>\n",
              "    </tr>\n",
              "  </tbody>\n",
              "</table>\n",
              "</div>\n",
              "      <button class=\"colab-df-convert\" onclick=\"convertToInteractive('df-444c0c11-5827-4e1e-8d97-4d1aca237b73')\"\n",
              "              title=\"Convert this dataframe to an interactive table.\"\n",
              "              style=\"display:none;\">\n",
              "        \n",
              "  <svg xmlns=\"http://www.w3.org/2000/svg\" height=\"24px\"viewBox=\"0 0 24 24\"\n",
              "       width=\"24px\">\n",
              "    <path d=\"M0 0h24v24H0V0z\" fill=\"none\"/>\n",
              "    <path d=\"M18.56 5.44l.94 2.06.94-2.06 2.06-.94-2.06-.94-.94-2.06-.94 2.06-2.06.94zm-11 1L8.5 8.5l.94-2.06 2.06-.94-2.06-.94L8.5 2.5l-.94 2.06-2.06.94zm10 10l.94 2.06.94-2.06 2.06-.94-2.06-.94-.94-2.06-.94 2.06-2.06.94z\"/><path d=\"M17.41 7.96l-1.37-1.37c-.4-.4-.92-.59-1.43-.59-.52 0-1.04.2-1.43.59L10.3 9.45l-7.72 7.72c-.78.78-.78 2.05 0 2.83L4 21.41c.39.39.9.59 1.41.59.51 0 1.02-.2 1.41-.59l7.78-7.78 2.81-2.81c.8-.78.8-2.07 0-2.86zM5.41 20L4 18.59l7.72-7.72 1.47 1.35L5.41 20z\"/>\n",
              "  </svg>\n",
              "      </button>\n",
              "      \n",
              "  <style>\n",
              "    .colab-df-container {\n",
              "      display:flex;\n",
              "      flex-wrap:wrap;\n",
              "      gap: 12px;\n",
              "    }\n",
              "\n",
              "    .colab-df-convert {\n",
              "      background-color: #E8F0FE;\n",
              "      border: none;\n",
              "      border-radius: 50%;\n",
              "      cursor: pointer;\n",
              "      display: none;\n",
              "      fill: #1967D2;\n",
              "      height: 32px;\n",
              "      padding: 0 0 0 0;\n",
              "      width: 32px;\n",
              "    }\n",
              "\n",
              "    .colab-df-convert:hover {\n",
              "      background-color: #E2EBFA;\n",
              "      box-shadow: 0px 1px 2px rgba(60, 64, 67, 0.3), 0px 1px 3px 1px rgba(60, 64, 67, 0.15);\n",
              "      fill: #174EA6;\n",
              "    }\n",
              "\n",
              "    [theme=dark] .colab-df-convert {\n",
              "      background-color: #3B4455;\n",
              "      fill: #D2E3FC;\n",
              "    }\n",
              "\n",
              "    [theme=dark] .colab-df-convert:hover {\n",
              "      background-color: #434B5C;\n",
              "      box-shadow: 0px 1px 3px 1px rgba(0, 0, 0, 0.15);\n",
              "      filter: drop-shadow(0px 1px 2px rgba(0, 0, 0, 0.3));\n",
              "      fill: #FFFFFF;\n",
              "    }\n",
              "  </style>\n",
              "\n",
              "      <script>\n",
              "        const buttonEl =\n",
              "          document.querySelector('#df-444c0c11-5827-4e1e-8d97-4d1aca237b73 button.colab-df-convert');\n",
              "        buttonEl.style.display =\n",
              "          google.colab.kernel.accessAllowed ? 'block' : 'none';\n",
              "\n",
              "        async function convertToInteractive(key) {\n",
              "          const element = document.querySelector('#df-444c0c11-5827-4e1e-8d97-4d1aca237b73');\n",
              "          const dataTable =\n",
              "            await google.colab.kernel.invokeFunction('convertToInteractive',\n",
              "                                                     [key], {});\n",
              "          if (!dataTable) return;\n",
              "\n",
              "          const docLinkHtml = 'Like what you see? Visit the ' +\n",
              "            '<a target=\"_blank\" href=https://colab.research.google.com/notebooks/data_table.ipynb>data table notebook</a>'\n",
              "            + ' to learn more about interactive tables.';\n",
              "          element.innerHTML = '';\n",
              "          dataTable['output_type'] = 'display_data';\n",
              "          await google.colab.output.renderOutput(dataTable, element);\n",
              "          const docLink = document.createElement('div');\n",
              "          docLink.innerHTML = docLinkHtml;\n",
              "          element.appendChild(docLink);\n",
              "        }\n",
              "      </script>\n",
              "    </div>\n",
              "  </div>\n",
              "  "
            ]
          },
          "metadata": {},
          "execution_count": 3
        }
      ]
    },
    {
      "cell_type": "code",
      "source": [
        "training_error_rmse = []\n",
        "test_error_rmse = []"
      ],
      "metadata": {
        "id": "XiSCOiglUY-m"
      },
      "execution_count": 11,
      "outputs": []
    },
    {
      "cell_type": "code",
      "source": [
        "X = df.drop('sales', axis=1)\n",
        "y = df['sales']"
      ],
      "metadata": {
        "id": "HAPN-5MZUfKZ"
      },
      "execution_count": 12,
      "outputs": []
    },
    {
      "cell_type": "code",
      "source": [
        "from sklearn.preprocessing import PolynomialFeatures\n",
        "from sklearn.model_selection import train_test_split\n",
        "from sklearn.linear_model import LinearRegression\n",
        "from sklearn.metrics import mean_squared_error\n",
        "\n",
        "# we will check the performance of model from degree 1 - 10\n",
        "\n",
        "for d in range(1,10):\n",
        "  poly_converter = PolynomialFeatures(degree = d, include_bias = False)\n",
        "  new_features = poly_converter.fit_transform(X)\n",
        "\n",
        "  model = LinearRegression()\n",
        "  X_train, X_test, y_train, y_test = train_test_split(new_features, y, test_size = 0.33, random_state = 101)\n",
        "  model.fit(X_train, y_train)\n",
        "  predictions_train = model.predict(X_train)\n",
        "  predictions_test = model.predict(X_test)\n",
        "\n",
        "  train_error = np.sqrt(mean_squared_error(predictions_train, y_train))\n",
        "  test_error = np.sqrt(mean_squared_error(predictions_test, y_test))\n",
        "\n",
        "  training_error_rmse.append(train_error)\n",
        "  test_error_rmse.append(test_error)"
      ],
      "metadata": {
        "id": "W2JLDwtNUj0d"
      },
      "execution_count": 13,
      "outputs": []
    },
    {
      "cell_type": "code",
      "source": [
        "training_error_rmse"
      ],
      "metadata": {
        "colab": {
          "base_uri": "https://localhost:8080/"
        },
        "id": "fDurOBWoWJjh",
        "outputId": "b9698998-db0e-4e69-c508-68e9e33eb39f"
      },
      "execution_count": 14,
      "outputs": [
        {
          "output_type": "execute_result",
          "data": {
            "text/plain": [
              "[1.737651598244771,\n",
              " 0.5947926597019145,\n",
              " 0.4405973423236363,\n",
              " 0.35329132820381115,\n",
              " 0.24845371817879838,\n",
              " 0.18843487158569092,\n",
              " 4.814439453639714,\n",
              " 0.1538048452385793,\n",
              " 0.14899332346840982]"
            ]
          },
          "metadata": {},
          "execution_count": 14
        }
      ]
    },
    {
      "cell_type": "markdown",
      "source": [
        "For training it is performing superb! But at degree = 7, it suddenly reached from 0.18 to 4.81 which is weird."
      ],
      "metadata": {
        "id": "QbBfCtpUWvzG"
      }
    },
    {
      "cell_type": "code",
      "source": [
        "test_error_rmse"
      ],
      "metadata": {
        "colab": {
          "base_uri": "https://localhost:8080/"
        },
        "id": "SuBxUAfWWK4y",
        "outputId": "3618a765-8f36-4c53-ec3c-a4d9b3796d4a"
      },
      "execution_count": 15,
      "outputs": [
        {
          "output_type": "execute_result",
          "data": {
            "text/plain": [
              "[1.5324409426512418,\n",
              " 0.6482912032533561,\n",
              " 0.5577254823366882,\n",
              " 0.5064297301182455,\n",
              " 2.3573652717523426,\n",
              " 11.248113658553617,\n",
              " 1207.856965907024,\n",
              " 2457.841910858816,\n",
              " 166828.89058328964]"
            ]
          },
          "metadata": {},
          "execution_count": 15
        }
      ]
    },
    {
      "cell_type": "markdown",
      "source": [
        "Woof! The test error exploded after degree = 4. "
      ],
      "metadata": {
        "id": "jjhj27j5W6IH"
      }
    },
    {
      "cell_type": "markdown",
      "source": [
        "Let's plot these to better get the idea."
      ],
      "metadata": {
        "id": "JlAVsYNHXBES"
      }
    },
    {
      "cell_type": "code",
      "source": [
        "plt.plot(range(1,10), training_error_rmse, label = 'Training Error', color = 'purple')\n",
        "plt.plot(range(1,10), test_error_rmse, label = 'Test Error', color = 'red')\n",
        "\n",
        "plt.legend()\n",
        "plt.xlabel('degree')\n",
        "plt.ylabel('error');"
      ],
      "metadata": {
        "colab": {
          "base_uri": "https://localhost:8080/",
          "height": 455
        },
        "id": "_H2xLtNvWtud",
        "outputId": "a9939014-5dfe-4027-fcf4-ae4b48cd990b"
      },
      "execution_count": 19,
      "outputs": [
        {
          "output_type": "display_data",
          "data": {
            "text/plain": [
              "<Figure size 640x480 with 1 Axes>"
            ],
            "image/png": "[encoded data removed]"
          },
          "metadata": {}
        }
      ]
    },
    {
      "cell_type": "code",
      "source": [
        "# Make it more closer look by plotting 5 as we have seen that it have training performed worse at 4th\n",
        "\n",
        "plt.plot(range(1,6), training_error_rmse[:5], label = 'Training Error', color = 'purple')\n",
        "plt.plot(range(1,6), test_error_rmse[:5], label = 'Test Error', color = 'red')\n",
        "\n",
        "plt.legend()\n",
        "plt.xlabel('degree')\n",
        "plt.ylabel('error');"
      ],
      "metadata": {
        "colab": {
          "base_uri": "https://localhost:8080/",
          "height": 449
        },
        "id": "j-q0eey0YXVX",
        "outputId": "45213686-b864-4ca0-c924-e995f6582237"
      },
      "execution_count": 20,
      "outputs": [
        {
          "output_type": "display_data",
          "data": {
            "text/plain": [
              "<Figure size 640x480 with 1 Axes>"
            ],
            "image/png": "[encoded data removed]"
          },
          "metadata": {}
        }
      ]
    },
    {
      "cell_type": "markdown",
      "source": [
        "It means at degree 4 the test exploded. So to be safe, we can say degree 3 is optimal degree/level of complexity for our this model. Dont look at how good training error is performing because it rather shows overfitting -_- So just look at test error curve and decide optimal degree.\n"
      ],
      "metadata": {
        "id": "YNU06scAY0_-"
      }
    },
    {
      "cell_type": "markdown",
      "source": [
        "# **TOPIC 2 ✈ Feature Scaling** "
      ],
      "metadata": {
        "id": "e9Ula8Xavrki"
      }
    },
    {
      "cell_type": "markdown",
      "source": [
        "## **Motivation:**\n",
        "\n",
        "* If we have features that are having different scales (units) and we try something like gradient descent on them to optimize (beta) coefficients. \n",
        "\n",
        "* Suppose some features are in KG and some in G. The weights with KG unit will take longer to update than those features which are in grams.\n",
        "\n",
        "* Due to this fact, gradient descent will take forever to converge (to reach at required point/minimum beta value for that feature). \n",
        "\n",
        "**Solution:**\n",
        "\n",
        "Make all features in the same scale (unit) / range.\n",
        "\n",
        "* So we can say that feature scaling is critical when using gradient descent. What if we are using algorithm that does'nt optimize beta coefficients with gradient descent? Then????\n",
        "\n",
        "* There are many algorithms where scaling won't have an effect e.g. decision trees or random forest etc. They don't need gradient descent so that don't need feature scaling too.\n",
        "\n",
        "* But feature scaling doesn't harm your data. Do it or not. Upto you. Because it make the feature (beta) coefficients comparable to each other. \n",
        "\n"
      ],
      "metadata": {
        "id": "cWTQ2oeJvuE7"
      }
    },
    {
      "cell_type": "markdown",
      "source": [
        "## **Two Main Ways of Feature Scaling:**"
      ],
      "metadata": {
        "id": "-MWmtSgxxddW"
      }
    },
    {
      "cell_type": "markdown",
      "source": [
        "### **1. Standardization:**\n",
        "\n",
        "* It rescales data to have 0 means (µ) and 1 standard deviation (σ). \n",
        "\n",
        "* Formula: \n",
        "\n",
        "  X_changed = (X - µ) /σ\n",
        "\n",
        "Complete mean and SD of complete feature and do this formula for **complete feature.** all at once. Not row by row.\n",
        "\n",
        "* Standardization is also called 'Z-score Normalization'.\n",
        "\n",
        "### **2. Normalization:**\n",
        "\n",
        "* It rescales data to be between 0 and 1. \n",
        "\n",
        "* Formula: \n",
        "\n",
        "  $X_{\\text{changed}} = \\frac{X - X_{\\text{min}}}{X_{\\text{max}} - X_{\\text{min}}}$\n",
        "\n",
        "\n",
        "Find minimum and maximum value of feature and subtract each value one by one from these and perform normalization.\n",
        "\n"
      ],
      "metadata": {
        "id": "5YvFyqd9xiUj"
      }
    },
    {
      "cell_type": "markdown",
      "source": [
        "Method:\n",
        "\n",
        "1. A .fit() method calculates the mean, SD, X_min etc. all the necessary statistical values.\n",
        "\n",
        "2. A .transform() method will convert all features to rescaled features using calculated statitical values.\n",
        "\n",
        "*(We can seen the same thing in polynomial features calculation too.)*"
      ],
      "metadata": {
        "id": "L-OHHD14y1qO"
      }
    },
    {
      "cell_type": "markdown",
      "source": [
        "**Nota Bene:**\n",
        "\n",
        "Let me tell you a thing. \n",
        "\n",
        "What if I transform the training data and model gets trained on those transformed value.\n",
        "\n",
        "Now when you will do testing, then will you do that on raw data which is not scaled? Your model will fail totally.. Common sense!\n",
        "\n",
        "But oh! Theres some issue. \n",
        "\n",
        "If you will calculate all the SD and X_min etc of the testing data, then your model will cheat and will remember them. :////\n",
        "\n",
        "We dont want our model to see our testing data. Be honest please!\n",
        "\n",
        "This is called data leakage."
      ],
      "metadata": {
        "id": "1rtXc28fzYdq"
      }
    },
    {
      "cell_type": "markdown",
      "source": [
        "## **Data Leakage:**\n",
        "\n",
        "* Data leakage will happen if we calculate all the SD etc. of the test data. \n",
        "\n",
        "* Data leakage can be defined as the unintentional introduction of information from the test or validation data into the training process, leading to an overly optimistic evaluation of the model's performance.\n",
        "\n",
        "* Okay. Fine ! Then, what about: \"Now when you will do testing, then will you do that on raw data which is not scaled? Your model will fail totally.. \"\n",
        "\n",
        "Okay. Lemme tell you the solution. We Calculate the SD etc (fitting) of only training data. Use those same values to transform the test data. \n",
        "\n",
        "Now you must be wondering 'Why data leakage is only a concern while fitting. Why not while transforming?'\n",
        "\n",
        "**Answer is:** \n",
        "\n",
        "Using different scalers for training and testing data is generally not recommended because it can introduce inconsistencies and lead to inaccurate evaluation of your model's performance. \n",
        "\n",
        "When you train a machine learning model, it learns patterns and relationships based on the training data. To evaluate the model's performance effectively, you need to ensure that the test data is processed in the same way as the training data. Using different scalers may introduce inconsistencies, causing a mismatch between the data distributions and leading to misleading evaluation results."
      ],
      "metadata": {
        "id": "8eAuMjxAi496"
      }
    },
    {
      "cell_type": "code",
      "source": [
        "from sklearn.preprocessing import StandardScalar\n",
        "\n",
        "scalar = StandardScalar()\n",
        "\n",
        "scalar.fit(X_train)\n",
        "\n",
        "train_data = scalar.transform(X_train)\n",
        "test_data = scalar.transform(X_test)"
      ],
      "metadata": {
        "id": "AfvnwctPhgh2"
      },
      "execution_count": null,
      "outputs": []
    },
    {
      "cell_type": "markdown",
      "source": [
        "# **TOPIC 3 ✈ Cross Validation** "
      ],
      "metadata": {
        "id": "HrwA3WZM99-u"
      }
    },
    {
      "cell_type": "markdown",
      "source": [
        "## **Motivation:**\n",
        "\n",
        "* Cross validation is a more advanced method of splitting data in training and testing.\n",
        "\n",
        "* We know the purpose of splitting data: we want fairly evaluation of our model on unseen data.\n",
        "\n",
        "* Is there a way we can achieve:\n",
        "\n",
        "  1. Train on all data\n",
        "  2. Test on all data\n",
        "\n",
        "Yes with cross validation ⚡\n",
        "\n",
        "* Suppose we have split the data in k equal parts. Lets say our dataset has 20 rows. We have divided the data into 10 parts by making 2 row in each split;\n",
        "\n",
        "* Now there will be a loop. First time, it will consider first nine sections (18 rows) as training and last two rows as test. In next it will consider row # 17, 18 as test and row # 1-16 and row # 19,20 as training. So on. \n",
        "\n",
        "* These sections are called folds.\n",
        "\n",
        "* We calculate error each time and in the end take average of those all errors to get one error.\n",
        "\n",
        "This is called **'k-fold cross validation'** where k in our case is 10 parts/sections.\n",
        "\n",
        "* Suppose I want sections = number of rows. 100 rows means 100 sections. It is called **'leaves one out cross validation.'** It is computationally expensive. Not recommended !"
      ],
      "metadata": {
        "id": "gs8YBiPS-JLx"
      }
    },
    {
      "cell_type": "markdown",
      "source": [
        "### **I have an issue with this whole :/**\n",
        "\n",
        "Aren't you afraid now of data leakage now? The way you were saying in feature scaling. Now you are using the same data as testing that you have used once for training also. Now what's your POV on data leakage? -_-\n",
        "\n",
        "Here's the solution .....!!!!\n",
        "\n",
        "* Take one portion of the data. Keep it totally separate. \n",
        "\n",
        "* Play with remaining data as train-test-train-test etc.\n",
        "\n",
        "* When you are done with this play, and then check your error. If its not good, tune your hyperparameter. \n",
        "\n",
        "* If the error is low enough, now jump towards that totally separate potion.\n",
        "\n",
        "* Do the final testing on that totally separate part. The model has not seen it at all. So it is fair now!\n",
        "\n",
        "This totally separate part is called **hold-out test data**.\n",
        "\n",
        "We will do final evaluation on this hold-out test data and its report will be final. No hyperparameters will be tuned after it. No editing after this.\n",
        "\n",
        "* This is called **train-validation-test split**, OR **train-validation-holdout test data**, OR **train-validation-holdout dataset.**"
      ],
      "metadata": {
        "id": "3goUzzQb-MiS"
      }
    }
  ]
}