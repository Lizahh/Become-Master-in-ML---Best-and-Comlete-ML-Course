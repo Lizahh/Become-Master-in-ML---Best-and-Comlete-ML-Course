{
  "nbformat": 4,
  "nbformat_minor": 0,
  "metadata": {
    "colab": {
      "provenance": []
    },
    "kernelspec": {
      "name": "python3",
      "display_name": "Python 3"
    },
    "language_info": {
      "name": "python"
    }
  },
  "cells": [
    {
      "cell_type": "markdown",
      "source": [
        "# **Motivation:**\n",
        "\n",
        "*What if we want to improve our Linear regression model?*\n",
        "\n",
        "If you don't want to improve then well and good. Upto you. If we want to improve, then how to do that?\n",
        "\n",
        "* One approach is to use higher order relationships of the features. \n",
        "\n",
        "If we have two features like x1 and x2 then by higher order relationship we mean:\n",
        "\n",
        "\n",
        "  * Combining those features (interaction terms): x1x2 or x2x1\n",
        "  * Making each feature higher order: $x_1^2$, $x_1^3$, $x_2^2$, $x_2^3$ etc.\n"
      ],
      "metadata": {
        "id": "NHqK25JZt8rD"
      }
    },
    {
      "cell_type": "markdown",
      "source": [
        "## **When we'd know that we need to use higher order relationships of features?**\n",
        "\n",
        "Answer: \n",
        "\n",
        "1. When you want to improve your linear regression model.\n",
        "\n",
        "2. When you have features which are **non-linear features**. Means x and y don't have relationship of straight line between them. e.g.\n",
        "\n",
        "1. y = log(x)\n",
        "\n",
        "![image.png](data:image/png;base64,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)\n",
        "\n",
        "Straight line is not fitting the data of feature.\n",
        "\n",
        "2. Making the feature x as higher order: \n",
        "\n",
        "  y = log ($x^2$)\n",
        "\n",
        "![image.png](data:image/png;base64,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)\n",
        "\n",
        "3. Making it more higher order:\n",
        "\n",
        "  y = log ($x^3$)\n",
        "\n",
        "  ![image.png](data:image/png;base64,iVBORw0KGgoAAAANSUhEUgAAAe4AAAE/CAYAAACAdSDcAAAAAXNSR0IArs4c6QAAAARnQU1BAACxjwv8YQUAAAAJcEhZcwAADsMAAA7DAcdvqGQAAAyLSURBVHhe7dw9ctvWGoDhw7uBbEJOcSd1CmkFcppUbtPJpdy4S5kujVRanVtXbmKtQC5Se25jbSIr0CVowaFlEjgg8fcdPM8MJggJ0Cw8fv2dA3n1sJYAgBD+8/hfACAA4QaAQIQbAAIRbgAIRLgBIBDhBoBAhBsAAhFuAAhEuAEgEOEGgECEGwACEW4ACES4ASAQ4QaAQIQbAAIRbgAIRLgBIBDhBoBAhBsAAhFuAAhEuAEgEOEGgECEGwACEW4ACES4ASAQ4QaAQIQbAAIRbgAIRLgBIBDhBoBAhBsAAlk9rD2el+fvHx5PAOBAP//zeDIPJm4ACES4ASAQ4QaAQIQbAAJZ3sNpM3vIAIAZCdANEzcABCLcABCIcANAIMINAIEINwAEItwAEIhwA0Agwg0AgQg3AAQi3AAQiHADQCDCDQCBCDdQvNVq9fWA6IQbKNrTWIs30Qk3UCyRpkTCDRTHsjglE26gKG3Bfnh4eDyDmIQbKIZoswTCDYSXszQu2pRCuIHQcoIt2pREuIGwTNkskXADIYk2SyXcQCht+9mWximdcANhmLJBuIEgRBu+EG5g9kQb/iXcwGzZz4bvCTcwS6Zs2E24gdkRbdhPuIFZEW1oJtzALNjPhjzCDUzOlA35hBuYlGhDN8INTKJtabwi2vA94QZGlxNs0YbdhBsYlSkbjiPcwGhEG44n3MDg2vazLY1DPuEGBmXKhn4JNzAY0Yb+CTewV73Eveto03aNaMNhhBv4Rm6c913Xdu+x+9nbv+72AUsh3MDGMQHMDWgfwd4n59eHEgg3MErwjo12LvGmdMINC1dStGviTcmEGxasLXD1fvSuI0eXa3c5JsDiTamEG/jOscGtHHt/k/r79fE9IRrhhoXaN5HmhDBnmj124u3y/fZ9Z1M3JRJu4Ku2aFchnDKGTd8v5y8cUALhBrKYXmEehBto1Rbtsabdpu/hLxYshXADjaaK9r7P3fV99n1Hy+eUSLiBr7YDWJ03RbuKYh3GpuuGUH+3tu8IJRJuWKimibYthtv37ru2j2n3mM/o49eHORJuoJM6iGNNuwIM3xJuWLBDoth1Iu9Dl8+rrhV7SibcsHBTRraLtiC3vQ+lEG5YuD6Xu8cIZx3opwcshXDDgvUVbfGE8Qg3LFAf+9R1rAUbxiXcsDA5wa5jvB3npwcwDeGGBTl2ygamJ9ywEKINZRBuKFzbfralb4hFuKFgpmwoj3BDoUQbyiTcUCDRhnIJNxTEfjaUT7ihEG1TdqUt7MD8CTcEVoe4a4y37+t6LzAt4YaA+g6ugEMcwg3BDBlY8Yb5E24ACES4ASAQ4YYg7EMDFeGGAMYKtp/xhvkTbuhZPRn3NSGPEW3/MAvEIdzQk32hPibgbffVwT0kusfcC0xHuKEHOWHuEu+22O8K7naIcw4gJuGGmcmZsoHlEm44UtdJuoloA22EGwZwyHK0aAM5hBsmVgW7KdqH/CUAKJdww4RM2UBXwg0DaJuiK6INHEK44UhdAltfK9rAoYQbRtQ2iVfBFm2giXBDD/qIrWADOYQberJvWs4JsmgDuYQbelYHvI6x/WygT8INA8kJtmgDXQk3DMCUDQxFuKFnog0MSbihJ1Wwm6JtaRzog3BDD0zZwFiEG44k2sCYhBuOINrA2ISbItX7zfuOY7V9jv1sYCjCTVFyw5x73S5t9wk2MCThpgiHhrjrfaINTE24Ce+QYD+V8xmiDcyBcEOLKthN0bafDYxJuAktJ6hPj312fZYpG5gb4aY4bYFue78m2sAcCTfFqYLbFN1j388NP8AQhJvQmgJaB/jpsU/1WU3vVwQbmJpwwyPRBiLoPdwvtyab1dl1ut+8ep+uz56+Bv0YI6iiDcxF7+F+8/lDuticXaQPd5fpZHN+ki7vqtfXr72tX4P+DBXW6nNFG5iT/pfKT87T66vT9clNen/75aXK/fUf6dPV63Su2gykjmxOaPu6BmBsg+xxn1z+vpm6b76W+z799S6lF7+oNuPYjviuw342ENVAD6edp1835f4jXVcb2vd/pXfpRdJt5kC0gcgGCvc63a+v0mn6mN79db/u9mbctrfNpOqHJvepp3GAORss3Onkl/TiNKWP7/5Mf/7PMjnTMmUDpRgu3NWT5L9frMt9k24+WSZnOqINlGTAcK+dv07VA+anlsmZQNvSeEW0gWiGDfc61z/+dGqZnNHlBFu0gYgGDvdtem+ZnJGZsoGSDRruzT+6YpmcDPWy9q6ji7brRRuIrvdw31+fff0D99mrn9Lvl7LNbvXvk7bY5lzX9r6lcaAUvYf75MefUvUPnqbTi/Th85t0vnkV/tUW2Sa77m37LMEGSrJa/6FW7p9qf//weLLl538eT5jCocHepfqtK9pArwJ0Y+CH02A4og0skXAzmqbQVpHdd3R16H0AEQg3k8qJbJcQCzZQOuFmUtUU3rbknXNNRbSBJRBuRtMU1jrOu44cog0shXATWhVs0QaWRLgZVZ+RFWxgiYSb0fUxJYs2sFTCzWQODbhoA0sm3EwuN+CHhh6gJMLNLLQ9PS7YAF8IN5MTbYB8ws1k2n5O29I4wPeEm0mYsgEOI9yMTrQBDifcjEq0AY4j3IzCfjZAP4SbTuoA7zr2aXqvItgA+YSbLG1xruy6RrQB+iXctGqL71P19aIN0D/hplHXaNea7rOfDXA44WavQ6PdRLABjiPcdFZPzNtHjtzrANhPuNlp37S9K745k7loA/RDuMkm2gDTE26yPY30EHvgADQTbjqpYy3aANMQbnZqWt7uEm3L5AD9Em72El2A+RFuBiP8AP0TbhodEt/qHtEGGIZws1e1l911P1uwAYYl3OzUFuw60tsHAMMTbr6TE20ApiHcfEO0AeZNuNlo28+2HA4wD8KNKRsgEOEuWD1Fbx9P7Xptm2gDzItwF2hfpCv1e03X1EQbYH6EuzBtMc5hPxtgvoS7IH1FG4D5Eu5CiDbAMgh34XJibGkcIA7hLsC+abuKcc4k3se0DsA4hLtQudEGIBbhLpRoA5RJuBfGXjZAbMK9IKINEJ9wL0QdbUvoALEJ9wK0RdskDhCHcAdWhThngs69DoD5E+6g+gqxaRsgFuEOSLQBlku4A2lb8q5CnBtj0QaISbiDaJuyt0PcFPCm9wCYP+EOoEu0t9WR3j4AiE24Z+7QaANQJuGeqT73swEoh3DPkCkbgH2Ee2ZEG4Amwj0jog1AG+Gegbb97FrONQCUTbgn1jXG4g2wbMI9oUMjLN4AyyXcE6jCe2x8xRtgmYR7ZLnBrX9O2wNpAGwT7hF1ifY28QagJtwj6bK0/fRay+IA1IR7YFV0DwlvfZ9oA7BNuAfUFt1j9rAtnwMsk3APJCfata4RFm2A5RLuAXSJdi03xqINsGzC3aO2Pekquk3hbXq/7V4AlkG4e3LIlL1PHentAwAqwt2DPqMNAE2Ee2CiDUCfhHsglrgBGIJw9+BpoAUbgKEId0/qCVu0ARiScANAIMINAIEINwAEItwAEIhwA0Agwg0AgQg3AAQi3AAQiHADQCDCDQCBCDcABCLcABCIcANAIMINAIEINwAEItwAEIhwA0Agwg0AgQg3AAQi3AAQiHADQCDCDQCBrB7WHs/L8/cPjycAcKCf/3k8mQcTNwAEItwAEIhwA0Agwg0AgZT9cBoAFMbEDQCBCDcABCLcABCIcANAIMINAIEINwAEItwAEIhwA0Agwg0AgQg3AAQi3AAQiHADQCDCDQCBCDcABCLcABCIcEMgL1ertNo6zq7v16/ebr1+ljYvAcVaPaw9ngOzd59uXz5Lz2/Wp6dX6fPdZTqpXr59mVbPU/rw+U0637wAlEq4IZz7dH32LL36mNLFh4f05rz6/99SenuXLkUbiifcEFK1PP483aSLdHHxKaVf79YBf3wLKJpwQ1Sb5fGbb5fMgeJ5OA0COz09Tenjq/SbJ9JgMYQbIrq/Tmd//De9vXubrjbt/s3T5LAQlsohnNv08ux9+vXuTdpsa1cRf/YqfUwX6cPD42tAsUzcEEr1BPnz9OnF638DfXKZ3lZjd7pJz8+u063JG4pm4oZAbl+uvvwM99rp1ed0d3myHrjP0rPqZ8O+Ok1Xn/1oGJRKuAEgEEvlABCIcANAIMINAIEINwAEItwAEIhwA0Agwg0AgQg3AAQi3AAQiHADQCDCDQCBCDcABCLcABCIcANAIMINAIEINwAEItwAEIhwA0Agwg0AgQg3AAQi3AAQiHADQCDCDQCBCDcABCLcABCIcANAGCn9H7FjQu9CTgfjAAAAAElFTkSuQmCC)\n"
      ],
      "metadata": {
        "id": "Ii8U6kzbvOFA"
      }
    },
    {
      "cell_type": "markdown",
      "source": [
        "So, we saw that as we were increasing order of x, we were able to fit the x more better to the y. "
      ],
      "metadata": {
        "id": "cgp3ktCcwtGS"
      }
    },
    {
      "cell_type": "markdown",
      "source": [
        "# **Interaction Terms:**"
      ],
      "metadata": {
        "id": "KuinUuiPw1m5"
      }
    },
    {
      "cell_type": "markdown",
      "source": [
        "As we have seen this:\n",
        "\n",
        "If we have two features like x1 and x2 then by higher order relationship we mean:\n",
        "\n",
        "\n",
        "  * Combining those features (interaction terms): x1x2 or x2x1\n",
        "  * Making each feature higher order: $x_1^2$, $x_1^3$, $x_2^2$, $x_2^3$ etc.\n",
        "\n",
        "So, we have seen that how making feature higher order has affected the fitting to the output.\n",
        "\n",
        "Now, lets see how combining features will affect. \n",
        "\n",
        "* Sometimes, the features are only significant when they are in sync with each other. In business world, this is called 'synergy' (combined action to get more advantage)\n",
        "\n",
        "e.g. spending on TV advertisement is only better if we spend in radio too. \n",
        "\n"
      ],
      "metadata": {
        "id": "VdTcy-Wtw1wh"
      }
    },
    {
      "cell_type": "markdown",
      "source": [
        "One tool for it is to use 'PolynomialFeatures' in Sklearn which will gives us both:\n",
        "\n",
        "1. Higher order features\n",
        "2. Interaction terms\n",
        "3. The bias (the value of 1.0, indicating y-intercept. Mostly, we dont use it)"
      ],
      "metadata": {
        "id": "tFUBPrROxgjM"
      }
    },
    {
      "cell_type": "markdown",
      "source": [
        "# **Steps of getting polynomial features:**\n",
        "\n",
        "1. Make instance of poly_converter using PolynomialFeatures algo of sklearn\n",
        "\n",
        "2. Fit the dataset for polyconverter so it can check the range of dataset to convert features accordingly\n",
        "\n",
        "3. Transform the features dataset to new features with higher order features and interaction terms\n",
        "\n",
        "(We can even combine step 2 and 3 in one line. fit_transform(X))\n",
        "\n",
        "4. Perform train-test split on new features\n",
        "\n",
        "5. Fit the new features training data\n",
        "\n",
        "6. Make predictions\n",
        "\n",
        "7. Performance evaluation"
      ],
      "metadata": {
        "id": "59YMs0sGy-2o"
      }
    },
    {
      "cell_type": "markdown",
      "source": [
        "# **------------------CODING---------------------------**"
      ],
      "metadata": {
        "id": "N86na74YyLLw"
      }
    },
    {
      "cell_type": "code",
      "source": [
        "import pandas as pd\n",
        "import matplotlib.pyplot as plt\n",
        "import numpy as np\n",
        "import seaborn as sns"
      ],
      "metadata": {
        "id": "IDlhmBmbvknd"
      },
      "execution_count": 2,
      "outputs": []
    },
    {
      "cell_type": "code",
      "source": [
        "df = pd.read_csv('/content/sample_data/Advertising.csv')\n",
        "df.head()"
      ],
      "metadata": {
        "colab": {
          "base_uri": "https://localhost:8080/",
          "height": 206
        },
        "id": "bAvQtaoryThq",
        "outputId": "02c46213-8b5c-4f1d-9a94-b41913def276"
      },
      "execution_count": 3,
      "outputs": [
        {
          "output_type": "execute_result",
          "data": {
            "text/plain": [
              "      TV  radio  newspaper  sales\n",
              "0  230.1   37.8       69.2   22.1\n",
              "1   44.5   39.3       45.1   10.4\n",
              "2   17.2   45.9       69.3    9.3\n",
              "3  151.5   41.3       58.5   18.5\n",
              "4  180.8   10.8       58.4   12.9"
            ],
            "text/html": [
              "\n",
              "  <div id=\"df-f6158572-4db4-4943-a950-edf96bea9546\">\n",
              "    <div class=\"colab-df-container\">\n",
              "      <div>\n",
              "<style scoped>\n",
              "    .dataframe tbody tr th:only-of-type {\n",
              "        vertical-align: middle;\n",
              "    }\n",
              "\n",
              "    .dataframe tbody tr th {\n",
              "        vertical-align: top;\n",
              "    }\n",
              "\n",
              "    .dataframe thead th {\n",
              "        text-align: right;\n",
              "    }\n",
              "</style>\n",
              "<table border=\"1\" class=\"dataframe\">\n",
              "  <thead>\n",
              "    <tr style=\"text-align: right;\">\n",
              "      <th></th>\n",
              "      <th>TV</th>\n",
              "      <th>radio</th>\n",
              "      <th>newspaper</th>\n",
              "      <th>sales</th>\n",
              "    </tr>\n",
              "  </thead>\n",
              "  <tbody>\n",
              "    <tr>\n",
              "      <th>0</th>\n",
              "      <td>230.1</td>\n",
              "      <td>37.8</td>\n",
              "      <td>69.2</td>\n",
              "      <td>22.1</td>\n",
              "    </tr>\n",
              "    <tr>\n",
              "      <th>1</th>\n",
              "      <td>44.5</td>\n",
              "      <td>39.3</td>\n",
              "      <td>45.1</td>\n",
              "      <td>10.4</td>\n",
              "    </tr>\n",
              "    <tr>\n",
              "      <th>2</th>\n",
              "      <td>17.2</td>\n",
              "      <td>45.9</td>\n",
              "      <td>69.3</td>\n",
              "      <td>9.3</td>\n",
              "    </tr>\n",
              "    <tr>\n",
              "      <th>3</th>\n",
              "      <td>151.5</td>\n",
              "      <td>41.3</td>\n",
              "      <td>58.5</td>\n",
              "      <td>18.5</td>\n",
              "    </tr>\n",
              "    <tr>\n",
              "      <th>4</th>\n",
              "      <td>180.8</td>\n",
              "      <td>10.8</td>\n",
              "      <td>58.4</td>\n",
              "      <td>12.9</td>\n",
              "    </tr>\n",
              "  </tbody>\n",
              "</table>\n",
              "</div>\n",
              "      <button class=\"colab-df-convert\" onclick=\"convertToInteractive('df-f6158572-4db4-4943-a950-edf96bea9546')\"\n",
              "              title=\"Convert this dataframe to an interactive table.\"\n",
              "              style=\"display:none;\">\n",
              "        \n",
              "  <svg xmlns=\"http://www.w3.org/2000/svg\" height=\"24px\"viewBox=\"0 0 24 24\"\n",
              "       width=\"24px\">\n",
              "    <path d=\"M0 0h24v24H0V0z\" fill=\"none\"/>\n",
              "    <path d=\"M18.56 5.44l.94 2.06.94-2.06 2.06-.94-2.06-.94-.94-2.06-.94 2.06-2.06.94zm-11 1L8.5 8.5l.94-2.06 2.06-.94-2.06-.94L8.5 2.5l-.94 2.06-2.06.94zm10 10l.94 2.06.94-2.06 2.06-.94-2.06-.94-.94-2.06-.94 2.06-2.06.94z\"/><path d=\"M17.41 7.96l-1.37-1.37c-.4-.4-.92-.59-1.43-.59-.52 0-1.04.2-1.43.59L10.3 9.45l-7.72 7.72c-.78.78-.78 2.05 0 2.83L4 21.41c.39.39.9.59 1.41.59.51 0 1.02-.2 1.41-.59l7.78-7.78 2.81-2.81c.8-.78.8-2.07 0-2.86zM5.41 20L4 18.59l7.72-7.72 1.47 1.35L5.41 20z\"/>\n",
              "  </svg>\n",
              "      </button>\n",
              "      \n",
              "  <style>\n",
              "    .colab-df-container {\n",
              "      display:flex;\n",
              "      flex-wrap:wrap;\n",
              "      gap: 12px;\n",
              "    }\n",
              "\n",
              "    .colab-df-convert {\n",
              "      background-color: #E8F0FE;\n",
              "      border: none;\n",
              "      border-radius: 50%;\n",
              "      cursor: pointer;\n",
              "      display: none;\n",
              "      fill: #1967D2;\n",
              "      height: 32px;\n",
              "      padding: 0 0 0 0;\n",
              "      width: 32px;\n",
              "    }\n",
              "\n",
              "    .colab-df-convert:hover {\n",
              "      background-color: #E2EBFA;\n",
              "      box-shadow: 0px 1px 2px rgba(60, 64, 67, 0.3), 0px 1px 3px 1px rgba(60, 64, 67, 0.15);\n",
              "      fill: #174EA6;\n",
              "    }\n",
              "\n",
              "    [theme=dark] .colab-df-convert {\n",
              "      background-color: #3B4455;\n",
              "      fill: #D2E3FC;\n",
              "    }\n",
              "\n",
              "    [theme=dark] .colab-df-convert:hover {\n",
              "      background-color: #434B5C;\n",
              "      box-shadow: 0px 1px 3px 1px rgba(0, 0, 0, 0.15);\n",
              "      filter: drop-shadow(0px 1px 2px rgba(0, 0, 0, 0.3));\n",
              "      fill: #FFFFFF;\n",
              "    }\n",
              "  </style>\n",
              "\n",
              "      <script>\n",
              "        const buttonEl =\n",
              "          document.querySelector('#df-f6158572-4db4-4943-a950-edf96bea9546 button.colab-df-convert');\n",
              "        buttonEl.style.display =\n",
              "          google.colab.kernel.accessAllowed ? 'block' : 'none';\n",
              "\n",
              "        async function convertToInteractive(key) {\n",
              "          const element = document.querySelector('#df-f6158572-4db4-4943-a950-edf96bea9546');\n",
              "          const dataTable =\n",
              "            await google.colab.kernel.invokeFunction('convertToInteractive',\n",
              "                                                     [key], {});\n",
              "          if (!dataTable) return;\n",
              "\n",
              "          const docLinkHtml = 'Like what you see? Visit the ' +\n",
              "            '<a target=\"_blank\" href=https://colab.research.google.com/notebooks/data_table.ipynb>data table notebook</a>'\n",
              "            + ' to learn more about interactive tables.';\n",
              "          element.innerHTML = '';\n",
              "          dataTable['output_type'] = 'display_data';\n",
              "          await google.colab.output.renderOutput(dataTable, element);\n",
              "          const docLink = document.createElement('div');\n",
              "          docLink.innerHTML = docLinkHtml;\n",
              "          element.appendChild(docLink);\n",
              "        }\n",
              "      </script>\n",
              "    </div>\n",
              "  </div>\n",
              "  "
            ]
          },
          "metadata": {},
          "execution_count": 3
        }
      ]
    },
    {
      "cell_type": "code",
      "source": [
        "X = df.drop('sales', axis=1)\n",
        "y = df['sales']"
      ],
      "metadata": {
        "id": "fUjVCPJTyWxD"
      },
      "execution_count": 4,
      "outputs": []
    },
    {
      "cell_type": "markdown",
      "source": [
        "# **1. Get polynomial features (Higher order features + Interaction terms)**"
      ],
      "metadata": {
        "id": "FCbMgEyQyfNZ"
      }
    },
    {
      "cell_type": "code",
      "source": [
        "from sklearn.preprocessing import PolynomialFeatures\n",
        "\n",
        "poly_converter =  PolynomialFeatures(degree = 2, include_bias = False)\n",
        "\n",
        "poly_converter.fit(X)"
      ],
      "metadata": {
        "colab": {
          "base_uri": "https://localhost:8080/",
          "height": 75
        },
        "id": "nzbMSWvUyckQ",
        "outputId": "02c57225-18bb-49fb-b906-d867fc444cfb"
      },
      "execution_count": 10,
      "outputs": [
        {
          "output_type": "execute_result",
          "data": {
            "text/plain": [
              "PolynomialFeatures(include_bias=False)"
            ],
            "text/html": [
              "<style>#sk-container-id-2 {color: black;background-color: white;}#sk-container-id-2 pre{padding: 0;}#sk-container-id-2 div.sk-toggleable {background-color: white;}#sk-container-id-2 label.sk-toggleable__label {cursor: pointer;display: block;width: 100%;margin-bottom: 0;padding: 0.3em;box-sizing: border-box;text-align: center;}#sk-container-id-2 label.sk-toggleable__label-arrow:before {content: \"▸\";float: left;margin-right: 0.25em;color: #696969;}#sk-container-id-2 label.sk-toggleable__label-arrow:hover:before {color: black;}#sk-container-id-2 div.sk-estimator:hover label.sk-toggleable__label-arrow:before {color: black;}#sk-container-id-2 div.sk-toggleable__content {max-height: 0;max-width: 0;overflow: hidden;text-align: left;background-color: #f0f8ff;}#sk-container-id-2 div.sk-toggleable__content pre {margin: 0.2em;color: black;border-radius: 0.25em;background-color: #f0f8ff;}#sk-container-id-2 input.sk-toggleable__control:checked~div.sk-toggleable__content {max-height: 200px;max-width: 100%;overflow: auto;}#sk-container-id-2 input.sk-toggleable__control:checked~label.sk-toggleable__label-arrow:before {content: \"▾\";}#sk-container-id-2 div.sk-estimator input.sk-toggleable__control:checked~label.sk-toggleable__label {background-color: #d4ebff;}#sk-container-id-2 div.sk-label input.sk-toggleable__control:checked~label.sk-toggleable__label {background-color: #d4ebff;}#sk-container-id-2 input.sk-hidden--visually {border: 0;clip: rect(1px 1px 1px 1px);clip: rect(1px, 1px, 1px, 1px);height: 1px;margin: -1px;overflow: hidden;padding: 0;position: absolute;width: 1px;}#sk-container-id-2 div.sk-estimator {font-family: monospace;background-color: #f0f8ff;border: 1px dotted black;border-radius: 0.25em;box-sizing: border-box;margin-bottom: 0.5em;}#sk-container-id-2 div.sk-estimator:hover {background-color: #d4ebff;}#sk-container-id-2 div.sk-parallel-item::after {content: \"\";width: 100%;border-bottom: 1px solid gray;flex-grow: 1;}#sk-container-id-2 div.sk-label:hover label.sk-toggleable__label {background-color: #d4ebff;}#sk-container-id-2 div.sk-serial::before {content: \"\";position: absolute;border-left: 1px solid gray;box-sizing: border-box;top: 0;bottom: 0;left: 50%;z-index: 0;}#sk-container-id-2 div.sk-serial {display: flex;flex-direction: column;align-items: center;background-color: white;padding-right: 0.2em;padding-left: 0.2em;position: relative;}#sk-container-id-2 div.sk-item {position: relative;z-index: 1;}#sk-container-id-2 div.sk-parallel {display: flex;align-items: stretch;justify-content: center;background-color: white;position: relative;}#sk-container-id-2 div.sk-item::before, #sk-container-id-2 div.sk-parallel-item::before {content: \"\";position: absolute;border-left: 1px solid gray;box-sizing: border-box;top: 0;bottom: 0;left: 50%;z-index: -1;}#sk-container-id-2 div.sk-parallel-item {display: flex;flex-direction: column;z-index: 1;position: relative;background-color: white;}#sk-container-id-2 div.sk-parallel-item:first-child::after {align-self: flex-end;width: 50%;}#sk-container-id-2 div.sk-parallel-item:last-child::after {align-self: flex-start;width: 50%;}#sk-container-id-2 div.sk-parallel-item:only-child::after {width: 0;}#sk-container-id-2 div.sk-dashed-wrapped {border: 1px dashed gray;margin: 0 0.4em 0.5em 0.4em;box-sizing: border-box;padding-bottom: 0.4em;background-color: white;}#sk-container-id-2 div.sk-label label {font-family: monospace;font-weight: bold;display: inline-block;line-height: 1.2em;}#sk-container-id-2 div.sk-label-container {text-align: center;}#sk-container-id-2 div.sk-container {/* jupyter's `normalize.less` sets `[hidden] { display: none; }` but bootstrap.min.css set `[hidden] { display: none !important; }` so we also need the `!important` here to be able to override the default hidden behavior on the sphinx rendered scikit-learn.org. See: https://github.com/scikit-learn/scikit-learn/issues/21755 */display: inline-block !important;position: relative;}#sk-container-id-2 div.sk-text-repr-fallback {display: none;}</style><div id=\"sk-container-id-2\" class=\"sk-top-container\"><div class=\"sk-text-repr-fallback\"><pre>PolynomialFeatures(include_bias=False)</pre><b>In a Jupyter environment, please rerun this cell to show the HTML representation or trust the notebook. <br />On GitHub, the HTML representation is unable to render, please try loading this page with nbviewer.org.</b></div><div class=\"sk-container\" hidden><div class=\"sk-item\"><div class=\"sk-estimator sk-toggleable\"><input class=\"sk-toggleable__control sk-hidden--visually\" id=\"sk-estimator-id-2\" type=\"checkbox\" checked><label for=\"sk-estimator-id-2\" class=\"sk-toggleable__label sk-toggleable__label-arrow\">PolynomialFeatures</label><div class=\"sk-toggleable__content\"><pre>PolynomialFeatures(include_bias=False)</pre></div></div></div></div></div>"
            ]
          },
          "metadata": {},
          "execution_count": 10
        }
      ]
    },
    {
      "cell_type": "code",
      "source": [
        "newfeatures = poly_converter.transform(X)"
      ],
      "metadata": {
        "id": "QKEIyyTOyy_Z"
      },
      "execution_count": 11,
      "outputs": []
    },
    {
      "cell_type": "markdown",
      "source": [
        "We can do it in one line as:\n",
        "\n",
        "newfeatures = poly_converter.fit_transform(X)\n",
        "\n",
        "Let's check if we have successfully created polynomial features (higher order features + interaction terms):"
      ],
      "metadata": {
        "id": "13GzOQtX0ABx"
      }
    },
    {
      "cell_type": "code",
      "source": [
        "X.shape"
      ],
      "metadata": {
        "colab": {
          "base_uri": "https://localhost:8080/"
        },
        "id": "U7EYjMCuy0aO",
        "outputId": "c85ac514-2a0a-4df8-a9fe-512bfaddcc54"
      },
      "execution_count": 12,
      "outputs": [
        {
          "output_type": "execute_result",
          "data": {
            "text/plain": [
              "(200, 3)"
            ]
          },
          "metadata": {},
          "execution_count": 12
        }
      ]
    },
    {
      "cell_type": "code",
      "source": [
        "newfeatures.shape"
      ],
      "metadata": {
        "colab": {
          "base_uri": "https://localhost:8080/"
        },
        "id": "Qxdun24-1Wuo",
        "outputId": "141bbca6-00d9-434e-fbc3-55fcf4e8217a"
      },
      "execution_count": 13,
      "outputs": [
        {
          "output_type": "execute_result",
          "data": {
            "text/plain": [
              "(200, 9)"
            ]
          },
          "metadata": {},
          "execution_count": 13
        }
      ]
    },
    {
      "cell_type": "markdown",
      "source": [
        "It means now we have total of 9 features."
      ],
      "metadata": {
        "id": "Y0Yxq30Y2seX"
      }
    },
    {
      "cell_type": "markdown",
      "source": [
        "Woah ! It has created more features. Let's check"
      ],
      "metadata": {
        "id": "K2IJWHqV1bYC"
      }
    },
    {
      "cell_type": "code",
      "source": [
        "X.iloc[0]"
      ],
      "metadata": {
        "colab": {
          "base_uri": "https://localhost:8080/"
        },
        "id": "cDLTTCem1Y6r",
        "outputId": "9be806f4-a61b-4abd-e112-0bba4220a2d7"
      },
      "execution_count": 15,
      "outputs": [
        {
          "output_type": "execute_result",
          "data": {
            "text/plain": [
              "TV           230.1\n",
              "radio         37.8\n",
              "newspaper     69.2\n",
              "Name: 0, dtype: float64"
            ]
          },
          "metadata": {},
          "execution_count": 15
        }
      ]
    },
    {
      "cell_type": "code",
      "source": [
        "newfeatures[0]"
      ],
      "metadata": {
        "colab": {
          "base_uri": "https://localhost:8080/"
        },
        "id": "wQ9DvTF51nvE",
        "outputId": "52ac734d-2807-450a-aca9-fb46046fabf8"
      },
      "execution_count": 16,
      "outputs": [
        {
          "output_type": "execute_result",
          "data": {
            "text/plain": [
              "array([2.301000e+02, 3.780000e+01, 6.920000e+01, 5.294601e+04,\n",
              "       8.697780e+03, 1.592292e+04, 1.428840e+03, 2.615760e+03,\n",
              "       4.788640e+03])"
            ]
          },
          "metadata": {},
          "execution_count": 16
        }
      ]
    },
    {
      "cell_type": "markdown",
      "source": [
        "So we can say here in newfeatures:\n",
        "\n",
        "**Simple features:**\n",
        "\n",
        "1. TV: 230.1\n",
        "\n",
        "2. radio: 37.8 \n",
        "\n",
        "3. newspaper: 69.2 \n",
        "\n",
        "**Higher order features:**\n",
        "\n",
        "4. TV: 230.1 --> 5.294601e+04 (degree 2)\n",
        "\n",
        "5. radio: 37.8 --> 1.428840e+03 (degree 2)\n",
        "\n",
        "6. newspaper: 69.2 -->  4.788640e+03 (degree 2)\n",
        "\n",
        "**Interaction terms:**\n",
        "\n",
        "7. TV x radio = 230.1 x 37.8 = 8.697780e+03\n",
        "\n",
        "8. TV x newspaper = 230.1 x 69.2 = 1.592292e+04\n",
        "\n",
        "9. radio x newspaper = 37.8 x 69.2 = 2.615760e+03\n",
        "\n",
        "This is how 9 features are created from 3 features.\n",
        "\n",
        "Superb!\n"
      ],
      "metadata": {
        "id": "I-oSoCZ61uaT"
      }
    },
    {
      "cell_type": "markdown",
      "source": [
        "# **2. Fit these new Polynomial Features for training and testing**"
      ],
      "metadata": {
        "id": "HYGVtoOd25rX"
      }
    },
    {
      "cell_type": "code",
      "source": [
        "from sklearn.model_selection import train_test_split\n",
        "from sklearn.linear_model import LinearRegression"
      ],
      "metadata": {
        "id": "tZ4wVwgl1ryQ"
      },
      "execution_count": 17,
      "outputs": []
    },
    {
      "cell_type": "code",
      "source": [
        "X_train, X_test, y_train, y_test = train_test_split(newfeatures, y, test_size = 0.33, random_state = 101)"
      ],
      "metadata": {
        "id": "2AMZ5nvC3JfF"
      },
      "execution_count": 18,
      "outputs": []
    },
    {
      "cell_type": "code",
      "source": [
        "mymodel = LinearRegression()"
      ],
      "metadata": {
        "id": "CbPwHao83U7E"
      },
      "execution_count": 19,
      "outputs": []
    },
    {
      "cell_type": "code",
      "source": [
        "mymodel.fit(X_train, y_train)"
      ],
      "metadata": {
        "colab": {
          "base_uri": "https://localhost:8080/",
          "height": 75
        },
        "id": "uzU0cyJx3eYy",
        "outputId": "ff30a459-acd7-4496-efe6-ae2ad192d2dc"
      },
      "execution_count": 20,
      "outputs": [
        {
          "output_type": "execute_result",
          "data": {
            "text/plain": [
              "LinearRegression()"
            ],
            "text/html": [
              "<style>#sk-container-id-3 {color: black;background-color: white;}#sk-container-id-3 pre{padding: 0;}#sk-container-id-3 div.sk-toggleable {background-color: white;}#sk-container-id-3 label.sk-toggleable__label {cursor: pointer;display: block;width: 100%;margin-bottom: 0;padding: 0.3em;box-sizing: border-box;text-align: center;}#sk-container-id-3 label.sk-toggleable__label-arrow:before {content: \"▸\";float: left;margin-right: 0.25em;color: #696969;}#sk-container-id-3 label.sk-toggleable__label-arrow:hover:before {color: black;}#sk-container-id-3 div.sk-estimator:hover label.sk-toggleable__label-arrow:before {color: black;}#sk-container-id-3 div.sk-toggleable__content {max-height: 0;max-width: 0;overflow: hidden;text-align: left;background-color: #f0f8ff;}#sk-container-id-3 div.sk-toggleable__content pre {margin: 0.2em;color: black;border-radius: 0.25em;background-color: #f0f8ff;}#sk-container-id-3 input.sk-toggleable__control:checked~div.sk-toggleable__content {max-height: 200px;max-width: 100%;overflow: auto;}#sk-container-id-3 input.sk-toggleable__control:checked~label.sk-toggleable__label-arrow:before {content: \"▾\";}#sk-container-id-3 div.sk-estimator input.sk-toggleable__control:checked~label.sk-toggleable__label {background-color: #d4ebff;}#sk-container-id-3 div.sk-label input.sk-toggleable__control:checked~label.sk-toggleable__label {background-color: #d4ebff;}#sk-container-id-3 input.sk-hidden--visually {border: 0;clip: rect(1px 1px 1px 1px);clip: rect(1px, 1px, 1px, 1px);height: 1px;margin: -1px;overflow: hidden;padding: 0;position: absolute;width: 1px;}#sk-container-id-3 div.sk-estimator {font-family: monospace;background-color: #f0f8ff;border: 1px dotted black;border-radius: 0.25em;box-sizing: border-box;margin-bottom: 0.5em;}#sk-container-id-3 div.sk-estimator:hover {background-color: #d4ebff;}#sk-container-id-3 div.sk-parallel-item::after {content: \"\";width: 100%;border-bottom: 1px solid gray;flex-grow: 1;}#sk-container-id-3 div.sk-label:hover label.sk-toggleable__label {background-color: #d4ebff;}#sk-container-id-3 div.sk-serial::before {content: \"\";position: absolute;border-left: 1px solid gray;box-sizing: border-box;top: 0;bottom: 0;left: 50%;z-index: 0;}#sk-container-id-3 div.sk-serial {display: flex;flex-direction: column;align-items: center;background-color: white;padding-right: 0.2em;padding-left: 0.2em;position: relative;}#sk-container-id-3 div.sk-item {position: relative;z-index: 1;}#sk-container-id-3 div.sk-parallel {display: flex;align-items: stretch;justify-content: center;background-color: white;position: relative;}#sk-container-id-3 div.sk-item::before, #sk-container-id-3 div.sk-parallel-item::before {content: \"\";position: absolute;border-left: 1px solid gray;box-sizing: border-box;top: 0;bottom: 0;left: 50%;z-index: -1;}#sk-container-id-3 div.sk-parallel-item {display: flex;flex-direction: column;z-index: 1;position: relative;background-color: white;}#sk-container-id-3 div.sk-parallel-item:first-child::after {align-self: flex-end;width: 50%;}#sk-container-id-3 div.sk-parallel-item:last-child::after {align-self: flex-start;width: 50%;}#sk-container-id-3 div.sk-parallel-item:only-child::after {width: 0;}#sk-container-id-3 div.sk-dashed-wrapped {border: 1px dashed gray;margin: 0 0.4em 0.5em 0.4em;box-sizing: border-box;padding-bottom: 0.4em;background-color: white;}#sk-container-id-3 div.sk-label label {font-family: monospace;font-weight: bold;display: inline-block;line-height: 1.2em;}#sk-container-id-3 div.sk-label-container {text-align: center;}#sk-container-id-3 div.sk-container {/* jupyter's `normalize.less` sets `[hidden] { display: none; }` but bootstrap.min.css set `[hidden] { display: none !important; }` so we also need the `!important` here to be able to override the default hidden behavior on the sphinx rendered scikit-learn.org. See: https://github.com/scikit-learn/scikit-learn/issues/21755 */display: inline-block !important;position: relative;}#sk-container-id-3 div.sk-text-repr-fallback {display: none;}</style><div id=\"sk-container-id-3\" class=\"sk-top-container\"><div class=\"sk-text-repr-fallback\"><pre>LinearRegression()</pre><b>In a Jupyter environment, please rerun this cell to show the HTML representation or trust the notebook. <br />On GitHub, the HTML representation is unable to render, please try loading this page with nbviewer.org.</b></div><div class=\"sk-container\" hidden><div class=\"sk-item\"><div class=\"sk-estimator sk-toggleable\"><input class=\"sk-toggleable__control sk-hidden--visually\" id=\"sk-estimator-id-3\" type=\"checkbox\" checked><label for=\"sk-estimator-id-3\" class=\"sk-toggleable__label sk-toggleable__label-arrow\">LinearRegression</label><div class=\"sk-toggleable__content\"><pre>LinearRegression()</pre></div></div></div></div></div>"
            ]
          },
          "metadata": {},
          "execution_count": 20
        }
      ]
    },
    {
      "cell_type": "code",
      "source": [
        "predictions = mymodel.predict(X_test)"
      ],
      "metadata": {
        "id": "N3xpXxxF3fEA"
      },
      "execution_count": 23,
      "outputs": []
    },
    {
      "cell_type": "markdown",
      "source": [
        "# **3. Performance Evaluation**"
      ],
      "metadata": {
        "id": "ulMlrJ_43l0k"
      }
    },
    {
      "cell_type": "code",
      "source": [
        "from sklearn.metrics import mean_absolute_error, mean_squared_error"
      ],
      "metadata": {
        "id": "blB4C17Q3hEe"
      },
      "execution_count": 24,
      "outputs": []
    },
    {
      "cell_type": "code",
      "source": [
        "mean_absolute_error(y_test, predictions)"
      ],
      "metadata": {
        "colab": {
          "base_uri": "https://localhost:8080/"
        },
        "id": "ClDuzdTD3wVC",
        "outputId": "0af48923-40b9-44a5-d615-d4f15c46ac59"
      },
      "execution_count": 25,
      "outputs": [
        {
          "output_type": "execute_result",
          "data": {
            "text/plain": [
              "0.4842810535215478"
            ]
          },
          "metadata": {},
          "execution_count": 25
        }
      ]
    },
    {
      "cell_type": "code",
      "source": [
        "np.sqrt(mean_squared_error(y_test, predictions))"
      ],
      "metadata": {
        "colab": {
          "base_uri": "https://localhost:8080/"
        },
        "id": "0qmoH38N31Sz",
        "outputId": "9b646daf-544a-4fa0-b6e0-8245116fee2e"
      },
      "execution_count": 26,
      "outputs": [
        {
          "output_type": "execute_result",
          "data": {
            "text/plain": [
              "0.6482912032533561"
            ]
          },
          "metadata": {},
          "execution_count": 26
        }
      ]
    },
    {
      "cell_type": "markdown",
      "source": [
        "Woah!\n",
        "\n",
        "Last time, by using 3 features, we got MAE as 1.24 and RMSE as 1.53.\n",
        "\n",
        "But, by increasing features to 9, we got MAE as 0.48 and RMSE as 0.65. \n",
        "\n",
        "Amazing!\n",
        "\n",
        "Now the model has performed extra-ordinary."
      ],
      "metadata": {
        "id": "_M6dnKoM36VX"
      }
    }
  ]
}