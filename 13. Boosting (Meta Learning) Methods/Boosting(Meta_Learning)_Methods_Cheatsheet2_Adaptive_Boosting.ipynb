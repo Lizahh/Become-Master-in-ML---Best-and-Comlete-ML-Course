{
  "nbformat": 4,
  "nbformat_minor": 0,
  "metadata": {
    "colab": {
      "provenance": []
    },
    "kernelspec": {
      "name": "python3",
      "display_name": "Python 3"
    },
    "language_info": {
      "name": "python"
    }
  },
  "cells": [
    {
      "cell_type": "markdown",
      "source": [
        "# **Introduction:**\n",
        "\n",
        "* It has the same idea as we saw in boosting: **Combine weak learners through the use of weighted sum.**\n",
        "\n",
        "* It works this way:\n",
        "\n",
        "**Make one tree --> use learning from this tree --> this learning+dataset => Make next tree ---> Goto step 1 again.**\n",
        "\n",
        "* This is called adaptive because you are adapting findings/result from previous tree to make new tree.\n",
        "\n",
        "**Adaptive ==> make (something) suitable for a new use or purpose; modify.**\n"
      ],
      "metadata": {
        "id": "6hQwK8tf5m1F"
      }
    },
    {
      "cell_type": "markdown",
      "source": [
        "# **AdaBoost Algorithm Steps:**\n",
        "\n",
        "## **- - - - Step 1: Select 'X'- - - -**\n",
        "\n",
        "Start with number of samples $x_1, x_2, ..., x_n$. These $x_{i}$'s are the datapoints in our dataset/feature space.\n",
        "\n",
        "So, if we will have 100 datapoints in our dataset then we will have n = 100.\n",
        "\n",
        "\n",
        "## **- - - - Step 2: Select 'y'- - - -**\n",
        "\n",
        "Select the target label/desired outputs $y_1, y_2, ..., y_n$. These predictions must be in the range from -1 to 1. It shows probability of belonging to any class of that datapoint. i.e.\n",
        "\n",
        "$y_1$ = Probability of datapoint $x_1$ belonging to desired class (class 1) is 0.91 and class 0 is 0.08.\n",
        "\n",
        "## **- - - - Step 3: Select 'w'- - - -**\n",
        "\n",
        "Set up initial weights $w_{1,1}, w_{2,1}, ..., w_{n,1}$ for each data point $x_1, x_2, ..., x_n$, respectively.\n",
        "\n",
        "$w_{n,1}$ means 1st weight setup for nth datapoint.\n",
        "\n",
        "$w_{5,1}$ means 1st weight setup for 5th datapoint.\n",
        "\n",
        "Now question is hmen kya pta kya weight assign krna eh?\n",
        "\n",
        "Answer: Start me sb datapoints ko same weight assign kro = $1/n$.\n",
        "\n",
        "So, if we have 100 datapoints then each data point will have weight equal to $1/n = 1/100$.\n",
        "\n",
        "## **- - - - Step 4: Select Error Function- - - -**\n",
        "\n",
        "$E( f(x), y, i) = e^{-y_i f(x_i)}$\n",
        "\n",
        "On it, the weights will be trained and updated to minimize it.\n",
        "\n",
        "## **- - - - Step 5: Weak Learner Result h: x --> {-1, 1} - - - -**\n",
        "\n",
        "So, we are gonna get a weak learner hypothesis h(x) for all datapoints $X_i$'s. This prediction/result will be in range -1 till 1."
      ],
      "metadata": {
        "id": "HY6sTlzS9vBG"
      }
    },
    {
      "cell_type": "markdown",
      "source": [
        "# **How Training works and Weights get updated:**\n",
        "\n",
        "**1. Train the first learner:** We start by training the first learner using initial weights given to the training examples. The learner tries to minimize the mistakes it makes when classifying the examples like normal algorithm does.\n",
        "\n",
        "**2. Adjust weights and learner importance:** After the first learner is trained, we adjust the weights of the training examples. We increase the weights of the examples that were classified incorrectly and decrease the weights of the examples that were classified correctly. We also assign **a weight** to the first learner based on how well it performed, indicating its importance in the group.\n",
        "\n",
        "**3. Train the next learners:** We continue the process by teaching subsequent learners. Each new learner focuses on the examples that were classified incorrectly by the previous learners. The weights of the examples and the importance of the new learners are updated as well.\n",
        "\n",
        "**4. Combine the learners:** Finally, we combine the predictions of all the learners. Each learner's prediction has a weight that determines its influence. We use weighted voting, where learners with lower error rates are given more importance in the final prediction.\n",
        "\n",
        "### **Summary:**\n",
        "\n",
        "In summary, AdaBoost trains a series of learners, each focusing on the mistakes made by the previous learners. It adjusts the weights of the examples and the importance of the learners based on their performance. The final prediction is made by combining the predictions of all the learners using weighted voting."
      ],
      "metadata": {
        "id": "iDZCXe-eGIiu"
      }
    },
    {
      "cell_type": "markdown",
      "source": [
        "So, we can say **Adaboost uses an ensemble of weak laerners that learn slowly in series.**"
      ],
      "metadata": {
        "id": "enxUC3XEU51g"
      }
    },
    {
      "cell_type": "markdown",
      "source": [
        "Adaboost uses stumps like this:\n",
        "\n",
        "![image.png](data:image/png;base64,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)\n",
        "\n",
        "So it considers one feature at a time.\n",
        "\n",
        "**Building these stumps in series and adding in α parameter allow up to intelligently combine the importance of each feature together.**"
      ],
      "metadata": {
        "id": "9enTQns0VIC5"
      }
    },
    {
      "cell_type": "markdown",
      "source": [
        "Like random forest, adaboost also doens't overfit the model. If we add more trees, it will stop improving like random forest."
      ],
      "metadata": {
        "id": "Rzu1Wqs4ViXB"
      }
    },
    {
      "cell_type": "markdown",
      "source": [
        "# **--------------- Coding -----------------**"
      ],
      "metadata": {
        "id": "73Z7LijnWDOK"
      }
    },
    {
      "cell_type": "markdown",
      "source": [
        "Mashroom data:\n",
        "\n",
        "We have to do 2 tasks in it:\n",
        "\n",
        "1. Predicting poisoness vs edible mashrooms\n",
        "\n",
        "2. Create cautionary guidelines for people picking right mashrooms.\n",
        "\n",
        "Tree based methods have great capabilities to report feature importance.  Adaboost specially focus on one feature at a time which could be useful in creating mashroom picking guidelines."
      ],
      "metadata": {
        "id": "p-sPBLh_WMnN"
      }
    },
    {
      "cell_type": "code",
      "source": [
        "import numpy as np\n",
        "import pandas as pd\n",
        "import matplotlib.pyplot as plt\n",
        "import numpy as np\n",
        "import seaborn as sns"
      ],
      "metadata": {
        "id": "95LK8uNDWGfb"
      },
      "execution_count": 1,
      "outputs": []
    },
    {
      "cell_type": "code",
      "source": [
        "df = pd.read_csv('/content/sample_data/mushrooms.csv')\n",
        "df.head()"
      ],
      "metadata": {
        "colab": {
          "base_uri": "https://localhost:8080/",
          "height": 352
        },
        "id": "Trn9ILxJXdpT",
        "outputId": "a667b33e-24db-4b61-e985-902542260533"
      },
      "execution_count": 2,
      "outputs": [
        {
          "output_type": "execute_result",
          "data": {
            "text/plain": [
              "  class cap-shape cap-surface cap-color bruises odor gill-attachment  \\\n",
              "0     p         x           s         n       t    p               f   \n",
              "1     e         x           s         y       t    a               f   \n",
              "2     e         b           s         w       t    l               f   \n",
              "3     p         x           y         w       t    p               f   \n",
              "4     e         x           s         g       f    n               f   \n",
              "\n",
              "  gill-spacing gill-size gill-color  ... stalk-surface-below-ring  \\\n",
              "0            c         n          k  ...                        s   \n",
              "1            c         b          k  ...                        s   \n",
              "2            c         b          n  ...                        s   \n",
              "3            c         n          n  ...                        s   \n",
              "4            w         b          k  ...                        s   \n",
              "\n",
              "  stalk-color-above-ring stalk-color-below-ring veil-type veil-color  \\\n",
              "0                      w                      w         p          w   \n",
              "1                      w                      w         p          w   \n",
              "2                      w                      w         p          w   \n",
              "3                      w                      w         p          w   \n",
              "4                      w                      w         p          w   \n",
              "\n",
              "  ring-number ring-type spore-print-color population habitat  \n",
              "0           o         p                 k          s       u  \n",
              "1           o         p                 n          n       g  \n",
              "2           o         p                 n          n       m  \n",
              "3           o         p                 k          s       u  \n",
              "4           o         e                 n          a       g  \n",
              "\n",
              "[5 rows x 23 columns]"
            ],
            "text/html": [
              "\n",
              "  <div id=\"df-89bbaf14-ad6f-4283-b0ac-bb0aa658f962\">\n",
              "    <div class=\"colab-df-container\">\n",
              "      <div>\n",
              "<style scoped>\n",
              "    .dataframe tbody tr th:only-of-type {\n",
              "        vertical-align: middle;\n",
              "    }\n",
              "\n",
              "    .dataframe tbody tr th {\n",
              "        vertical-align: top;\n",
              "    }\n",
              "\n",
              "    .dataframe thead th {\n",
              "        text-align: right;\n",
              "    }\n",
              "</style>\n",
              "<table border=\"1\" class=\"dataframe\">\n",
              "  <thead>\n",
              "    <tr style=\"text-align: right;\">\n",
              "      <th></th>\n",
              "      <th>class</th>\n",
              "      <th>cap-shape</th>\n",
              "      <th>cap-surface</th>\n",
              "      <th>cap-color</th>\n",
              "      <th>bruises</th>\n",
              "      <th>odor</th>\n",
              "      <th>gill-attachment</th>\n",
              "      <th>gill-spacing</th>\n",
              "      <th>gill-size</th>\n",
              "      <th>gill-color</th>\n",
              "      <th>...</th>\n",
              "      <th>stalk-surface-below-ring</th>\n",
              "      <th>stalk-color-above-ring</th>\n",
              "      <th>stalk-color-below-ring</th>\n",
              "      <th>veil-type</th>\n",
              "      <th>veil-color</th>\n",
              "      <th>ring-number</th>\n",
              "      <th>ring-type</th>\n",
              "      <th>spore-print-color</th>\n",
              "      <th>population</th>\n",
              "      <th>habitat</th>\n",
              "    </tr>\n",
              "  </thead>\n",
              "  <tbody>\n",
              "    <tr>\n",
              "      <th>0</th>\n",
              "      <td>p</td>\n",
              "      <td>x</td>\n",
              "      <td>s</td>\n",
              "      <td>n</td>\n",
              "      <td>t</td>\n",
              "      <td>p</td>\n",
              "      <td>f</td>\n",
              "      <td>c</td>\n",
              "      <td>n</td>\n",
              "      <td>k</td>\n",
              "      <td>...</td>\n",
              "      <td>s</td>\n",
              "      <td>w</td>\n",
              "      <td>w</td>\n",
              "      <td>p</td>\n",
              "      <td>w</td>\n",
              "      <td>o</td>\n",
              "      <td>p</td>\n",
              "      <td>k</td>\n",
              "      <td>s</td>\n",
              "      <td>u</td>\n",
              "    </tr>\n",
              "    <tr>\n",
              "      <th>1</th>\n",
              "      <td>e</td>\n",
              "      <td>x</td>\n",
              "      <td>s</td>\n",
              "      <td>y</td>\n",
              "      <td>t</td>\n",
              "      <td>a</td>\n",
              "      <td>f</td>\n",
              "      <td>c</td>\n",
              "      <td>b</td>\n",
              "      <td>k</td>\n",
              "      <td>...</td>\n",
              "      <td>s</td>\n",
              "      <td>w</td>\n",
              "      <td>w</td>\n",
              "      <td>p</td>\n",
              "      <td>w</td>\n",
              "      <td>o</td>\n",
              "      <td>p</td>\n",
              "      <td>n</td>\n",
              "      <td>n</td>\n",
              "      <td>g</td>\n",
              "    </tr>\n",
              "    <tr>\n",
              "      <th>2</th>\n",
              "      <td>e</td>\n",
              "      <td>b</td>\n",
              "      <td>s</td>\n",
              "      <td>w</td>\n",
              "      <td>t</td>\n",
              "      <td>l</td>\n",
              "      <td>f</td>\n",
              "      <td>c</td>\n",
              "      <td>b</td>\n",
              "      <td>n</td>\n",
              "      <td>...</td>\n",
              "      <td>s</td>\n",
              "      <td>w</td>\n",
              "      <td>w</td>\n",
              "      <td>p</td>\n",
              "      <td>w</td>\n",
              "      <td>o</td>\n",
              "      <td>p</td>\n",
              "      <td>n</td>\n",
              "      <td>n</td>\n",
              "      <td>m</td>\n",
              "    </tr>\n",
              "    <tr>\n",
              "      <th>3</th>\n",
              "      <td>p</td>\n",
              "      <td>x</td>\n",
              "      <td>y</td>\n",
              "      <td>w</td>\n",
              "      <td>t</td>\n",
              "      <td>p</td>\n",
              "      <td>f</td>\n",
              "      <td>c</td>\n",
              "      <td>n</td>\n",
              "      <td>n</td>\n",
              "      <td>...</td>\n",
              "      <td>s</td>\n",
              "      <td>w</td>\n",
              "      <td>w</td>\n",
              "      <td>p</td>\n",
              "      <td>w</td>\n",
              "      <td>o</td>\n",
              "      <td>p</td>\n",
              "      <td>k</td>\n",
              "      <td>s</td>\n",
              "      <td>u</td>\n",
              "    </tr>\n",
              "    <tr>\n",
              "      <th>4</th>\n",
              "      <td>e</td>\n",
              "      <td>x</td>\n",
              "      <td>s</td>\n",
              "      <td>g</td>\n",
              "      <td>f</td>\n",
              "      <td>n</td>\n",
              "      <td>f</td>\n",
              "      <td>w</td>\n",
              "      <td>b</td>\n",
              "      <td>k</td>\n",
              "      <td>...</td>\n",
              "      <td>s</td>\n",
              "      <td>w</td>\n",
              "      <td>w</td>\n",
              "      <td>p</td>\n",
              "      <td>w</td>\n",
              "      <td>o</td>\n",
              "      <td>e</td>\n",
              "      <td>n</td>\n",
              "      <td>a</td>\n",
              "      <td>g</td>\n",
              "    </tr>\n",
              "  </tbody>\n",
              "</table>\n",
              "<p>5 rows × 23 columns</p>\n",
              "</div>\n",
              "      <button class=\"colab-df-convert\" onclick=\"convertToInteractive('df-89bbaf14-ad6f-4283-b0ac-bb0aa658f962')\"\n",
              "              title=\"Convert this dataframe to an interactive table.\"\n",
              "              style=\"display:none;\">\n",
              "        \n",
              "  <svg xmlns=\"http://www.w3.org/2000/svg\" height=\"24px\"viewBox=\"0 0 24 24\"\n",
              "       width=\"24px\">\n",
              "    <path d=\"M0 0h24v24H0V0z\" fill=\"none\"/>\n",
              "    <path d=\"M18.56 5.44l.94 2.06.94-2.06 2.06-.94-2.06-.94-.94-2.06-.94 2.06-2.06.94zm-11 1L8.5 8.5l.94-2.06 2.06-.94-2.06-.94L8.5 2.5l-.94 2.06-2.06.94zm10 10l.94 2.06.94-2.06 2.06-.94-2.06-.94-.94-2.06-.94 2.06-2.06.94z\"/><path d=\"M17.41 7.96l-1.37-1.37c-.4-.4-.92-.59-1.43-.59-.52 0-1.04.2-1.43.59L10.3 9.45l-7.72 7.72c-.78.78-.78 2.05 0 2.83L4 21.41c.39.39.9.59 1.41.59.51 0 1.02-.2 1.41-.59l7.78-7.78 2.81-2.81c.8-.78.8-2.07 0-2.86zM5.41 20L4 18.59l7.72-7.72 1.47 1.35L5.41 20z\"/>\n",
              "  </svg>\n",
              "      </button>\n",
              "      \n",
              "  <style>\n",
              "    .colab-df-container {\n",
              "      display:flex;\n",
              "      flex-wrap:wrap;\n",
              "      gap: 12px;\n",
              "    }\n",
              "\n",
              "    .colab-df-convert {\n",
              "      background-color: #E8F0FE;\n",
              "      border: none;\n",
              "      border-radius: 50%;\n",
              "      cursor: pointer;\n",
              "      display: none;\n",
              "      fill: #1967D2;\n",
              "      height: 32px;\n",
              "      padding: 0 0 0 0;\n",
              "      width: 32px;\n",
              "    }\n",
              "\n",
              "    .colab-df-convert:hover {\n",
              "      background-color: #E2EBFA;\n",
              "      box-shadow: 0px 1px 2px rgba(60, 64, 67, 0.3), 0px 1px 3px 1px rgba(60, 64, 67, 0.15);\n",
              "      fill: #174EA6;\n",
              "    }\n",
              "\n",
              "    [theme=dark] .colab-df-convert {\n",
              "      background-color: #3B4455;\n",
              "      fill: #D2E3FC;\n",
              "    }\n",
              "\n",
              "    [theme=dark] .colab-df-convert:hover {\n",
              "      background-color: #434B5C;\n",
              "      box-shadow: 0px 1px 3px 1px rgba(0, 0, 0, 0.15);\n",
              "      filter: drop-shadow(0px 1px 2px rgba(0, 0, 0, 0.3));\n",
              "      fill: #FFFFFF;\n",
              "    }\n",
              "  </style>\n",
              "\n",
              "      <script>\n",
              "        const buttonEl =\n",
              "          document.querySelector('#df-89bbaf14-ad6f-4283-b0ac-bb0aa658f962 button.colab-df-convert');\n",
              "        buttonEl.style.display =\n",
              "          google.colab.kernel.accessAllowed ? 'block' : 'none';\n",
              "\n",
              "        async function convertToInteractive(key) {\n",
              "          const element = document.querySelector('#df-89bbaf14-ad6f-4283-b0ac-bb0aa658f962');\n",
              "          const dataTable =\n",
              "            await google.colab.kernel.invokeFunction('convertToInteractive',\n",
              "                                                     [key], {});\n",
              "          if (!dataTable) return;\n",
              "\n",
              "          const docLinkHtml = 'Like what you see? Visit the ' +\n",
              "            '<a target=\"_blank\" href=https://colab.research.google.com/notebooks/data_table.ipynb>data table notebook</a>'\n",
              "            + ' to learn more about interactive tables.';\n",
              "          element.innerHTML = '';\n",
              "          dataTable['output_type'] = 'display_data';\n",
              "          await google.colab.output.renderOutput(dataTable, element);\n",
              "          const docLink = document.createElement('div');\n",
              "          docLink.innerHTML = docLinkHtml;\n",
              "          element.appendChild(docLink);\n",
              "        }\n",
              "      </script>\n",
              "    </div>\n",
              "  </div>\n",
              "  "
            ]
          },
          "metadata": {},
          "execution_count": 2
        }
      ]
    },
    {
      "cell_type": "markdown",
      "source": [
        "Almost all features are categorical. All these lettes in them stands for something we can check in feature info. of this dataset."
      ],
      "metadata": {
        "id": "sbu4lkXLXmD4"
      }
    },
    {
      "cell_type": "code",
      "source": [
        "sns.countplot(data = df, x = 'class');"
      ],
      "metadata": {
        "colab": {
          "base_uri": "https://localhost:8080/",
          "height": 449
        },
        "id": "vN57ABs4XhOD",
        "outputId": "8c9ecba4-57cc-4b64-c246-9f2599f47369"
      },
      "execution_count": 4,
      "outputs": [
        {
          "output_type": "display_data",
          "data": {
            "text/plain": [
              "<Figure size 640x480 with 1 Axes>"
            ],
            "image/png": "[encoded data removed]"
          },
          "metadata": {}
        }
      ]
    },
    {
      "cell_type": "markdown",
      "source": [
        "So, more data is of edible mashroom."
      ],
      "metadata": {
        "id": "ZkchUOqRX4bA"
      }
    },
    {
      "cell_type": "code",
      "source": [
        "df.describe()"
      ],
      "metadata": {
        "colab": {
          "base_uri": "https://localhost:8080/",
          "height": 320
        },
        "id": "CU3EqLu8X1CJ",
        "outputId": "8df649b5-7923-44c0-fda1-9bd6e84f9cef"
      },
      "execution_count": 5,
      "outputs": [
        {
          "output_type": "execute_result",
          "data": {
            "text/plain": [
              "       class cap-shape cap-surface cap-color bruises  odor gill-attachment  \\\n",
              "count   8124      8124        8124      8124    8124  8124            8124   \n",
              "unique     2         6           4        10       2     9               2   \n",
              "top        e         x           y         n       f     n               f   \n",
              "freq    4208      3656        3244      2284    4748  3528            7914   \n",
              "\n",
              "       gill-spacing gill-size gill-color  ... stalk-surface-below-ring  \\\n",
              "count          8124      8124       8124  ...                     8124   \n",
              "unique            2         2         12  ...                        4   \n",
              "top               c         b          b  ...                        s   \n",
              "freq           6812      5612       1728  ...                     4936   \n",
              "\n",
              "       stalk-color-above-ring stalk-color-below-ring veil-type veil-color  \\\n",
              "count                    8124                   8124      8124       8124   \n",
              "unique                      9                      9         1          4   \n",
              "top                         w                      w         p          w   \n",
              "freq                     4464                   4384      8124       7924   \n",
              "\n",
              "       ring-number ring-type spore-print-color population habitat  \n",
              "count         8124      8124              8124       8124    8124  \n",
              "unique           3         5                 9          6       7  \n",
              "top              o         p                 w          v       d  \n",
              "freq          7488      3968              2388       4040    3148  \n",
              "\n",
              "[4 rows x 23 columns]"
            ],
            "text/html": [
              "\n",
              "  <div id=\"df-67e0dfd8-efa6-4378-84bf-7a8dd2aa7da6\">\n",
              "    <div class=\"colab-df-container\">\n",
              "      <div>\n",
              "<style scoped>\n",
              "    .dataframe tbody tr th:only-of-type {\n",
              "        vertical-align: middle;\n",
              "    }\n",
              "\n",
              "    .dataframe tbody tr th {\n",
              "        vertical-align: top;\n",
              "    }\n",
              "\n",
              "    .dataframe thead th {\n",
              "        text-align: right;\n",
              "    }\n",
              "</style>\n",
              "<table border=\"1\" class=\"dataframe\">\n",
              "  <thead>\n",
              "    <tr style=\"text-align: right;\">\n",
              "      <th></th>\n",
              "      <th>class</th>\n",
              "      <th>cap-shape</th>\n",
              "      <th>cap-surface</th>\n",
              "      <th>cap-color</th>\n",
              "      <th>bruises</th>\n",
              "      <th>odor</th>\n",
              "      <th>gill-attachment</th>\n",
              "      <th>gill-spacing</th>\n",
              "      <th>gill-size</th>\n",
              "      <th>gill-color</th>\n",
              "      <th>...</th>\n",
              "      <th>stalk-surface-below-ring</th>\n",
              "      <th>stalk-color-above-ring</th>\n",
              "      <th>stalk-color-below-ring</th>\n",
              "      <th>veil-type</th>\n",
              "      <th>veil-color</th>\n",
              "      <th>ring-number</th>\n",
              "      <th>ring-type</th>\n",
              "      <th>spore-print-color</th>\n",
              "      <th>population</th>\n",
              "      <th>habitat</th>\n",
              "    </tr>\n",
              "  </thead>\n",
              "  <tbody>\n",
              "    <tr>\n",
              "      <th>count</th>\n",
              "      <td>8124</td>\n",
              "      <td>8124</td>\n",
              "      <td>8124</td>\n",
              "      <td>8124</td>\n",
              "      <td>8124</td>\n",
              "      <td>8124</td>\n",
              "      <td>8124</td>\n",
              "      <td>8124</td>\n",
              "      <td>8124</td>\n",
              "      <td>8124</td>\n",
              "      <td>...</td>\n",
              "      <td>8124</td>\n",
              "      <td>8124</td>\n",
              "      <td>8124</td>\n",
              "      <td>8124</td>\n",
              "      <td>8124</td>\n",
              "      <td>8124</td>\n",
              "      <td>8124</td>\n",
              "      <td>8124</td>\n",
              "      <td>8124</td>\n",
              "      <td>8124</td>\n",
              "    </tr>\n",
              "    <tr>\n",
              "      <th>unique</th>\n",
              "      <td>2</td>\n",
              "      <td>6</td>\n",
              "      <td>4</td>\n",
              "      <td>10</td>\n",
              "      <td>2</td>\n",
              "      <td>9</td>\n",
              "      <td>2</td>\n",
              "      <td>2</td>\n",
              "      <td>2</td>\n",
              "      <td>12</td>\n",
              "      <td>...</td>\n",
              "      <td>4</td>\n",
              "      <td>9</td>\n",
              "      <td>9</td>\n",
              "      <td>1</td>\n",
              "      <td>4</td>\n",
              "      <td>3</td>\n",
              "      <td>5</td>\n",
              "      <td>9</td>\n",
              "      <td>6</td>\n",
              "      <td>7</td>\n",
              "    </tr>\n",
              "    <tr>\n",
              "      <th>top</th>\n",
              "      <td>e</td>\n",
              "      <td>x</td>\n",
              "      <td>y</td>\n",
              "      <td>n</td>\n",
              "      <td>f</td>\n",
              "      <td>n</td>\n",
              "      <td>f</td>\n",
              "      <td>c</td>\n",
              "      <td>b</td>\n",
              "      <td>b</td>\n",
              "      <td>...</td>\n",
              "      <td>s</td>\n",
              "      <td>w</td>\n",
              "      <td>w</td>\n",
              "      <td>p</td>\n",
              "      <td>w</td>\n",
              "      <td>o</td>\n",
              "      <td>p</td>\n",
              "      <td>w</td>\n",
              "      <td>v</td>\n",
              "      <td>d</td>\n",
              "    </tr>\n",
              "    <tr>\n",
              "      <th>freq</th>\n",
              "      <td>4208</td>\n",
              "      <td>3656</td>\n",
              "      <td>3244</td>\n",
              "      <td>2284</td>\n",
              "      <td>4748</td>\n",
              "      <td>3528</td>\n",
              "      <td>7914</td>\n",
              "      <td>6812</td>\n",
              "      <td>5612</td>\n",
              "      <td>1728</td>\n",
              "      <td>...</td>\n",
              "      <td>4936</td>\n",
              "      <td>4464</td>\n",
              "      <td>4384</td>\n",
              "      <td>8124</td>\n",
              "      <td>7924</td>\n",
              "      <td>7488</td>\n",
              "      <td>3968</td>\n",
              "      <td>2388</td>\n",
              "      <td>4040</td>\n",
              "      <td>3148</td>\n",
              "    </tr>\n",
              "  </tbody>\n",
              "</table>\n",
              "<p>4 rows × 23 columns</p>\n",
              "</div>\n",
              "      <button class=\"colab-df-convert\" onclick=\"convertToInteractive('df-67e0dfd8-efa6-4378-84bf-7a8dd2aa7da6')\"\n",
              "              title=\"Convert this dataframe to an interactive table.\"\n",
              "              style=\"display:none;\">\n",
              "        \n",
              "  <svg xmlns=\"http://www.w3.org/2000/svg\" height=\"24px\"viewBox=\"0 0 24 24\"\n",
              "       width=\"24px\">\n",
              "    <path d=\"M0 0h24v24H0V0z\" fill=\"none\"/>\n",
              "    <path d=\"M18.56 5.44l.94 2.06.94-2.06 2.06-.94-2.06-.94-.94-2.06-.94 2.06-2.06.94zm-11 1L8.5 8.5l.94-2.06 2.06-.94-2.06-.94L8.5 2.5l-.94 2.06-2.06.94zm10 10l.94 2.06.94-2.06 2.06-.94-2.06-.94-.94-2.06-.94 2.06-2.06.94z\"/><path d=\"M17.41 7.96l-1.37-1.37c-.4-.4-.92-.59-1.43-.59-.52 0-1.04.2-1.43.59L10.3 9.45l-7.72 7.72c-.78.78-.78 2.05 0 2.83L4 21.41c.39.39.9.59 1.41.59.51 0 1.02-.2 1.41-.59l7.78-7.78 2.81-2.81c.8-.78.8-2.07 0-2.86zM5.41 20L4 18.59l7.72-7.72 1.47 1.35L5.41 20z\"/>\n",
              "  </svg>\n",
              "      </button>\n",
              "      \n",
              "  <style>\n",
              "    .colab-df-container {\n",
              "      display:flex;\n",
              "      flex-wrap:wrap;\n",
              "      gap: 12px;\n",
              "    }\n",
              "\n",
              "    .colab-df-convert {\n",
              "      background-color: #E8F0FE;\n",
              "      border: none;\n",
              "      border-radius: 50%;\n",
              "      cursor: pointer;\n",
              "      display: none;\n",
              "      fill: #1967D2;\n",
              "      height: 32px;\n",
              "      padding: 0 0 0 0;\n",
              "      width: 32px;\n",
              "    }\n",
              "\n",
              "    .colab-df-convert:hover {\n",
              "      background-color: #E2EBFA;\n",
              "      box-shadow: 0px 1px 2px rgba(60, 64, 67, 0.3), 0px 1px 3px 1px rgba(60, 64, 67, 0.15);\n",
              "      fill: #174EA6;\n",
              "    }\n",
              "\n",
              "    [theme=dark] .colab-df-convert {\n",
              "      background-color: #3B4455;\n",
              "      fill: #D2E3FC;\n",
              "    }\n",
              "\n",
              "    [theme=dark] .colab-df-convert:hover {\n",
              "      background-color: #434B5C;\n",
              "      box-shadow: 0px 1px 3px 1px rgba(0, 0, 0, 0.15);\n",
              "      filter: drop-shadow(0px 1px 2px rgba(0, 0, 0, 0.3));\n",
              "      fill: #FFFFFF;\n",
              "    }\n",
              "  </style>\n",
              "\n",
              "      <script>\n",
              "        const buttonEl =\n",
              "          document.querySelector('#df-67e0dfd8-efa6-4378-84bf-7a8dd2aa7da6 button.colab-df-convert');\n",
              "        buttonEl.style.display =\n",
              "          google.colab.kernel.accessAllowed ? 'block' : 'none';\n",
              "\n",
              "        async function convertToInteractive(key) {\n",
              "          const element = document.querySelector('#df-67e0dfd8-efa6-4378-84bf-7a8dd2aa7da6');\n",
              "          const dataTable =\n",
              "            await google.colab.kernel.invokeFunction('convertToInteractive',\n",
              "                                                     [key], {});\n",
              "          if (!dataTable) return;\n",
              "\n",
              "          const docLinkHtml = 'Like what you see? Visit the ' +\n",
              "            '<a target=\"_blank\" href=https://colab.research.google.com/notebooks/data_table.ipynb>data table notebook</a>'\n",
              "            + ' to learn more about interactive tables.';\n",
              "          element.innerHTML = '';\n",
              "          dataTable['output_type'] = 'display_data';\n",
              "          await google.colab.output.renderOutput(dataTable, element);\n",
              "          const docLink = document.createElement('div');\n",
              "          docLink.innerHTML = docLinkHtml;\n",
              "          element.appendChild(docLink);\n",
              "        }\n",
              "      </script>\n",
              "    </div>\n",
              "  </div>\n",
              "  "
            ]
          },
          "metadata": {},
          "execution_count": 5
        }
      ]
    },
    {
      "cell_type": "code",
      "source": [
        "X = df.drop('class', axis = 1)\n",
        "y = df['class']"
      ],
      "metadata": {
        "id": "kYNYGLveX7bQ"
      },
      "execution_count": 6,
      "outputs": []
    },
    {
      "cell_type": "code",
      "source": [
        "X.isnull().sum()"
      ],
      "metadata": {
        "colab": {
          "base_uri": "https://localhost:8080/"
        },
        "id": "I879kSH6YJzm",
        "outputId": "36e0b1ce-2f76-4be9-ee2b-032c6bed4785"
      },
      "execution_count": 7,
      "outputs": [
        {
          "output_type": "execute_result",
          "data": {
            "text/plain": [
              "cap-shape                   0\n",
              "cap-surface                 0\n",
              "cap-color                   0\n",
              "bruises                     0\n",
              "odor                        0\n",
              "gill-attachment             0\n",
              "gill-spacing                0\n",
              "gill-size                   0\n",
              "gill-color                  0\n",
              "stalk-shape                 0\n",
              "stalk-root                  0\n",
              "stalk-surface-above-ring    0\n",
              "stalk-surface-below-ring    0\n",
              "stalk-color-above-ring      0\n",
              "stalk-color-below-ring      0\n",
              "veil-type                   0\n",
              "veil-color                  0\n",
              "ring-number                 0\n",
              "ring-type                   0\n",
              "spore-print-color           0\n",
              "population                  0\n",
              "habitat                     0\n",
              "dtype: int64"
            ]
          },
          "metadata": {},
          "execution_count": 7
        }
      ]
    },
    {
      "cell_type": "markdown",
      "source": [
        "We need to convert them to continous bro."
      ],
      "metadata": {
        "id": "j_10tWFoYYHx"
      }
    },
    {
      "cell_type": "code",
      "source": [
        "X = pd.get_dummies(df.drop('class', axis=1), drop_first=True)"
      ],
      "metadata": {
        "id": "YKllGK53YWp8"
      },
      "execution_count": 8,
      "outputs": []
    },
    {
      "cell_type": "code",
      "source": [
        "from sklearn.model_selection import train_test_split\n",
        "\n",
        "X_train, X_test, y_train, y_test = train_test_split(X, y, test_size = 0.33)"
      ],
      "metadata": {
        "id": "CFRNsAQuYid_"
      },
      "execution_count": 9,
      "outputs": []
    },
    {
      "cell_type": "code",
      "source": [
        "from sklearn.ensemble import AdaBoostClassifier"
      ],
      "metadata": {
        "id": "yd2OQxBYYrPD"
      },
      "execution_count": 10,
      "outputs": []
    },
    {
      "cell_type": "markdown",
      "source": [
        "AdaBoostClassifier takes **base_estimator** as parameter. If we set it **None**, it will set **max_depth = 1** and it will take only one stump decision tree.\n",
        "\n",
        "It also has **n_estimators** that shows how many decision trees/weak learners you want."
      ],
      "metadata": {
        "id": "q-7fwujaYy_W"
      }
    },
    {
      "cell_type": "code",
      "source": [
        "model  = AdaBoostClassifier(n_estimators = 1)"
      ],
      "metadata": {
        "id": "HoStQWBUYyn_"
      },
      "execution_count": 14,
      "outputs": []
    },
    {
      "cell_type": "markdown",
      "source": [
        "It means the classifier has to now figure out one best single feature to split on. Definitely it is done with gini impurity/entropy etc. that we do in normal DTs."
      ],
      "metadata": {
        "id": "iBUmhCtcZjb9"
      }
    },
    {
      "cell_type": "code",
      "source": [
        "model.fit(X_train, y_train)"
      ],
      "metadata": {
        "colab": {
          "base_uri": "https://localhost:8080/",
          "height": 75
        },
        "id": "KS16ZDI6ZeYj",
        "outputId": "7c91c80c-fa1b-43dd-9b99-70839d8e7166"
      },
      "execution_count": 15,
      "outputs": [
        {
          "output_type": "execute_result",
          "data": {
            "text/plain": [
              "AdaBoostClassifier(n_estimators=1)"
            ],
            "text/html": [
              "<style>#sk-container-id-1 {color: black;background-color: white;}#sk-container-id-1 pre{padding: 0;}#sk-container-id-1 div.sk-toggleable {background-color: white;}#sk-container-id-1 label.sk-toggleable__label {cursor: pointer;display: block;width: 100%;margin-bottom: 0;padding: 0.3em;box-sizing: border-box;text-align: center;}#sk-container-id-1 label.sk-toggleable__label-arrow:before {content: \"▸\";float: left;margin-right: 0.25em;color: #696969;}#sk-container-id-1 label.sk-toggleable__label-arrow:hover:before {color: black;}#sk-container-id-1 div.sk-estimator:hover label.sk-toggleable__label-arrow:before {color: black;}#sk-container-id-1 div.sk-toggleable__content {max-height: 0;max-width: 0;overflow: hidden;text-align: left;background-color: #f0f8ff;}#sk-container-id-1 div.sk-toggleable__content pre {margin: 0.2em;color: black;border-radius: 0.25em;background-color: #f0f8ff;}#sk-container-id-1 input.sk-toggleable__control:checked~div.sk-toggleable__content {max-height: 200px;max-width: 100%;overflow: auto;}#sk-container-id-1 input.sk-toggleable__control:checked~label.sk-toggleable__label-arrow:before {content: \"▾\";}#sk-container-id-1 div.sk-estimator input.sk-toggleable__control:checked~label.sk-toggleable__label {background-color: #d4ebff;}#sk-container-id-1 div.sk-label input.sk-toggleable__control:checked~label.sk-toggleable__label {background-color: #d4ebff;}#sk-container-id-1 input.sk-hidden--visually {border: 0;clip: rect(1px 1px 1px 1px);clip: rect(1px, 1px, 1px, 1px);height: 1px;margin: -1px;overflow: hidden;padding: 0;position: absolute;width: 1px;}#sk-container-id-1 div.sk-estimator {font-family: monospace;background-color: #f0f8ff;border: 1px dotted black;border-radius: 0.25em;box-sizing: border-box;margin-bottom: 0.5em;}#sk-container-id-1 div.sk-estimator:hover {background-color: #d4ebff;}#sk-container-id-1 div.sk-parallel-item::after {content: \"\";width: 100%;border-bottom: 1px solid gray;flex-grow: 1;}#sk-container-id-1 div.sk-label:hover label.sk-toggleable__label {background-color: #d4ebff;}#sk-container-id-1 div.sk-serial::before {content: \"\";position: absolute;border-left: 1px solid gray;box-sizing: border-box;top: 0;bottom: 0;left: 50%;z-index: 0;}#sk-container-id-1 div.sk-serial {display: flex;flex-direction: column;align-items: center;background-color: white;padding-right: 0.2em;padding-left: 0.2em;position: relative;}#sk-container-id-1 div.sk-item {position: relative;z-index: 1;}#sk-container-id-1 div.sk-parallel {display: flex;align-items: stretch;justify-content: center;background-color: white;position: relative;}#sk-container-id-1 div.sk-item::before, #sk-container-id-1 div.sk-parallel-item::before {content: \"\";position: absolute;border-left: 1px solid gray;box-sizing: border-box;top: 0;bottom: 0;left: 50%;z-index: -1;}#sk-container-id-1 div.sk-parallel-item {display: flex;flex-direction: column;z-index: 1;position: relative;background-color: white;}#sk-container-id-1 div.sk-parallel-item:first-child::after {align-self: flex-end;width: 50%;}#sk-container-id-1 div.sk-parallel-item:last-child::after {align-self: flex-start;width: 50%;}#sk-container-id-1 div.sk-parallel-item:only-child::after {width: 0;}#sk-container-id-1 div.sk-dashed-wrapped {border: 1px dashed gray;margin: 0 0.4em 0.5em 0.4em;box-sizing: border-box;padding-bottom: 0.4em;background-color: white;}#sk-container-id-1 div.sk-label label {font-family: monospace;font-weight: bold;display: inline-block;line-height: 1.2em;}#sk-container-id-1 div.sk-label-container {text-align: center;}#sk-container-id-1 div.sk-container {/* jupyter's `normalize.less` sets `[hidden] { display: none; }` but bootstrap.min.css set `[hidden] { display: none !important; }` so we also need the `!important` here to be able to override the default hidden behavior on the sphinx rendered scikit-learn.org. See: https://github.com/scikit-learn/scikit-learn/issues/21755 */display: inline-block !important;position: relative;}#sk-container-id-1 div.sk-text-repr-fallback {display: none;}</style><div id=\"sk-container-id-1\" class=\"sk-top-container\"><div class=\"sk-text-repr-fallback\"><pre>AdaBoostClassifier(n_estimators=1)</pre><b>In a Jupyter environment, please rerun this cell to show the HTML representation or trust the notebook. <br />On GitHub, the HTML representation is unable to render, please try loading this page with nbviewer.org.</b></div><div class=\"sk-container\" hidden><div class=\"sk-item\"><div class=\"sk-estimator sk-toggleable\"><input class=\"sk-toggleable__control sk-hidden--visually\" id=\"sk-estimator-id-1\" type=\"checkbox\" checked><label for=\"sk-estimator-id-1\" class=\"sk-toggleable__label sk-toggleable__label-arrow\">AdaBoostClassifier</label><div class=\"sk-toggleable__content\"><pre>AdaBoostClassifier(n_estimators=1)</pre></div></div></div></div></div>"
            ]
          },
          "metadata": {},
          "execution_count": 15
        }
      ]
    },
    {
      "cell_type": "code",
      "source": [
        "predictions = model.predict(X_test)"
      ],
      "metadata": {
        "id": "eIzF6beqZa10"
      },
      "execution_count": 16,
      "outputs": []
    },
    {
      "cell_type": "code",
      "source": [
        "predictions"
      ],
      "metadata": {
        "colab": {
          "base_uri": "https://localhost:8080/"
        },
        "id": "iwbWAhxSaG1m",
        "outputId": "4ab47b37-748e-46f6-d9fe-771327cdc45a"
      },
      "execution_count": 17,
      "outputs": [
        {
          "output_type": "execute_result",
          "data": {
            "text/plain": [
              "array(['e', 'e', 'e', ..., 'e', 'e', 'p'], dtype=object)"
            ]
          },
          "metadata": {},
          "execution_count": 17
        }
      ]
    },
    {
      "cell_type": "code",
      "source": [
        "from sklearn.metrics import classification_report\n",
        "\n",
        "print(classification_report(y_test, predictions))"
      ],
      "metadata": {
        "colab": {
          "base_uri": "https://localhost:8080/"
        },
        "id": "dfIzvI-OaJBl",
        "outputId": "51d98a81-2ea9-405c-9323-2e005b635f28"
      },
      "execution_count": 18,
      "outputs": [
        {
          "output_type": "stream",
          "name": "stdout",
          "text": [
            "              precision    recall  f1-score   support\n",
            "\n",
            "           e       0.97      0.80      0.88      1425\n",
            "           p       0.81      0.97      0.88      1256\n",
            "\n",
            "    accuracy                           0.88      2681\n",
            "   macro avg       0.89      0.89      0.88      2681\n",
            "weighted avg       0.90      0.88      0.88      2681\n",
            "\n"
          ]
        }
      ]
    },
    {
      "cell_type": "markdown",
      "source": [
        "Good performance even with single feature."
      ],
      "metadata": {
        "id": "JPm_V5ZGaeRw"
      }
    },
    {
      "cell_type": "code",
      "source": [
        "model.feature_importances_"
      ],
      "metadata": {
        "colab": {
          "base_uri": "https://localhost:8080/"
        },
        "id": "dXbtSVWUaQLE",
        "outputId": "0d769647-1c26-4935-f519-9bd7e83ef3fd"
      },
      "execution_count": 19,
      "outputs": [
        {
          "output_type": "execute_result",
          "data": {
            "text/plain": [
              "array([0., 0., 0., 0., 0., 0., 0., 0., 0., 0., 0., 0., 0., 0., 0., 0., 0.,\n",
              "       0., 0., 0., 0., 0., 1., 0., 0., 0., 0., 0., 0., 0., 0., 0., 0., 0.,\n",
              "       0., 0., 0., 0., 0., 0., 0., 0., 0., 0., 0., 0., 0., 0., 0., 0., 0.,\n",
              "       0., 0., 0., 0., 0., 0., 0., 0., 0., 0., 0., 0., 0., 0., 0., 0., 0.,\n",
              "       0., 0., 0., 0., 0., 0., 0., 0., 0., 0., 0., 0., 0., 0., 0., 0., 0.,\n",
              "       0., 0., 0., 0., 0., 0., 0., 0., 0., 0.])"
            ]
          },
          "metadata": {},
          "execution_count": 19
        }
      ]
    },
    {
      "cell_type": "code",
      "source": [
        "model.feature_importances_.argmax()"
      ],
      "metadata": {
        "colab": {
          "base_uri": "https://localhost:8080/"
        },
        "id": "KePRkDd2amoe",
        "outputId": "c4606917-788d-4ef0-e7c0-27dd3e9da957"
      },
      "execution_count": 20,
      "outputs": [
        {
          "output_type": "execute_result",
          "data": {
            "text/plain": [
              "22"
            ]
          },
          "metadata": {},
          "execution_count": 20
        }
      ]
    },
    {
      "cell_type": "code",
      "source": [
        "X.columns[22]"
      ],
      "metadata": {
        "colab": {
          "base_uri": "https://localhost:8080/",
          "height": 35
        },
        "id": "yLBGkwmaapGI",
        "outputId": "0b5172c1-caf8-4b50-b146-cdcde640b1f8"
      },
      "execution_count": 21,
      "outputs": [
        {
          "output_type": "execute_result",
          "data": {
            "text/plain": [
              "'odor_n'"
            ],
            "application/vnd.google.colaboratory.intrinsic+json": {
              "type": "string"
            }
          },
          "metadata": {},
          "execution_count": 21
        }
      ]
    },
    {
      "cell_type": "markdown",
      "source": [
        "So, it has split on base of feature 'odor_n' of mashroom to decide if its poisoness or edible.\n",
        "\n",
        "Let's improve the performance by adding more weak learners."
      ],
      "metadata": {
        "id": "9QR3E_23av22"
      }
    },
    {
      "cell_type": "code",
      "source": [
        "sns.countplot(data = df, x='odor', hue = 'class');"
      ],
      "metadata": {
        "colab": {
          "base_uri": "https://localhost:8080/",
          "height": 449
        },
        "id": "TldFqOdlauh7",
        "outputId": "2c9993e0-42a0-41f9-8642-d789a2cddbd5"
      },
      "execution_count": 27,
      "outputs": [
        {
          "output_type": "display_data",
          "data": {
            "text/plain": [
              "<Figure size 640x480 with 1 Axes>"
            ],
            "image/png": "[encoded data removed]"
          },
          "metadata": {}
        }
      ]
    },
    {
      "cell_type": "markdown",
      "source": [
        "So, we can setup the guideline that **go and pick mashroom then smell it. If it has no odor, it is edible.**"
      ],
      "metadata": {
        "id": "hnt-lZ2kbTSb"
      }
    },
    {
      "cell_type": "markdown",
      "source": [
        "Let's ensemble many weak learners."
      ],
      "metadata": {
        "id": "2AnUFQvwbdop"
      }
    },
    {
      "cell_type": "code",
      "source": [
        "len(X.columns)"
      ],
      "metadata": {
        "colab": {
          "base_uri": "https://localhost:8080/"
        },
        "id": "OMdgSwcUbLdL",
        "outputId": "42889076-474b-45bc-cc9d-41b801aa25c7"
      },
      "execution_count": 28,
      "outputs": [
        {
          "output_type": "execute_result",
          "data": {
            "text/plain": [
              "95"
            ]
          },
          "metadata": {},
          "execution_count": 28
        }
      ]
    },
    {
      "cell_type": "markdown",
      "source": [
        "95 features means we can make 95 stumps at max."
      ],
      "metadata": {
        "id": "4RY6O5_kbjFQ"
      }
    },
    {
      "cell_type": "code",
      "source": [
        "from sklearn.metrics import accuracy_score\n",
        "\n",
        "error_rate = []\n",
        "\n",
        "for n in range(1, 96):\n",
        "  model  = AdaBoostClassifier(n_estimators = n)\n",
        "  model.fit(X_train, y_train)\n",
        "  predictions = model.predict(X_test)\n",
        "\n",
        "  error = 1 - accuracy_score(y_test, predictions)\n",
        "\n",
        "  error_rate.append(error)"
      ],
      "metadata": {
        "id": "EErvO-18biJt"
      },
      "execution_count": 30,
      "outputs": []
    },
    {
      "cell_type": "code",
      "source": [
        "plt.plot(range(1,96), error_rate)"
      ],
      "metadata": {
        "colab": {
          "base_uri": "https://localhost:8080/",
          "height": 447
        },
        "id": "D5rBxZekb__V",
        "outputId": "435a449a-f520-42d3-e22b-669d5b23bfe2"
      },
      "execution_count": 31,
      "outputs": [
        {
          "output_type": "execute_result",
          "data": {
            "text/plain": [
              "[<matplotlib.lines.Line2D at 0x7f1e79b00eb0>]"
            ]
          },
          "metadata": {},
          "execution_count": 31
        },
        {
          "output_type": "display_data",
          "data": {
            "text/plain": [
              "<Figure size 640x480 with 1 Axes>"
            ],
            "image/png": "[encoded data removed]"
          },
          "metadata": {}
        }
      ]
    },
    {
      "cell_type": "markdown",
      "source": [
        "We can see after 20th stump, it stops reducing error.\n",
        "\n",
        "Let's see which features are important."
      ],
      "metadata": {
        "id": "c1p0ChhscXoG"
      }
    },
    {
      "cell_type": "code",
      "source": [
        "model.feature_importances_"
      ],
      "metadata": {
        "colab": {
          "base_uri": "https://localhost:8080/"
        },
        "id": "y9uCagHtcfyU",
        "outputId": "c7684d79-6df0-4e80-ae41-f052d0aac10e"
      },
      "execution_count": 32,
      "outputs": [
        {
          "output_type": "execute_result",
          "data": {
            "text/plain": [
              "array([0.        , 0.        , 0.        , 0.        , 0.        ,\n",
              "       0.        , 0.        , 0.        , 0.01052632, 0.        ,\n",
              "       0.        , 0.01052632, 0.        , 0.        , 0.        ,\n",
              "       0.02105263, 0.        , 0.        , 0.04210526, 0.03157895,\n",
              "       0.        , 0.        , 0.05263158, 0.03157895, 0.        ,\n",
              "       0.        , 0.        , 0.08421053, 0.09473684, 0.        ,\n",
              "       0.        , 0.        , 0.        , 0.        , 0.        ,\n",
              "       0.        , 0.        , 0.        , 0.        , 0.        ,\n",
              "       0.04210526, 0.01052632, 0.        , 0.        , 0.        ,\n",
              "       0.04210526, 0.        , 0.        , 0.        , 0.        ,\n",
              "       0.03157895, 0.        , 0.        , 0.        , 0.        ,\n",
              "       0.        , 0.        , 0.        , 0.        , 0.        ,\n",
              "       0.        , 0.        , 0.05263158, 0.01052632, 0.        ,\n",
              "       0.01052632, 0.        , 0.        , 0.        , 0.        ,\n",
              "       0.        , 0.03157895, 0.01052632, 0.        , 0.        ,\n",
              "       0.02105263, 0.        , 0.03157895, 0.04210526, 0.        ,\n",
              "       0.04210526, 0.01052632, 0.09473684, 0.        , 0.07368421,\n",
              "       0.        , 0.        , 0.03157895, 0.01052632, 0.        ,\n",
              "       0.        , 0.        , 0.        , 0.        , 0.02105263])"
            ]
          },
          "metadata": {},
          "execution_count": 32
        }
      ]
    },
    {
      "cell_type": "markdown",
      "source": [
        "Ugh. Let's set it."
      ],
      "metadata": {
        "id": "Qil6dOu4cv2m"
      }
    },
    {
      "cell_type": "code",
      "source": [
        "pd.DataFrame(data = model.feature_importances_,  index = X.columns, columns = ['Feature Importance']).sort_values(by = 'Feature Importance', ascending = False)"
      ],
      "metadata": {
        "colab": {
          "base_uri": "https://localhost:8080/",
          "height": 424
        },
        "id": "fhPkgmgFcu1N",
        "outputId": "e2b10f85-6803-4a2f-e0d1-cf56c30c5db3"
      },
      "execution_count": 34,
      "outputs": [
        {
          "output_type": "execute_result",
          "data": {
            "text/plain": [
              "                            Feature Importance\n",
              "spore-print-color_w                   0.094737\n",
              "gill-size_n                           0.094737\n",
              "gill-spacing_w                        0.084211\n",
              "population_c                          0.073684\n",
              "stalk-color-below-ring_n              0.052632\n",
              "...                                        ...\n",
              "gill-color_p                          0.000000\n",
              "gill-color_o                          0.000000\n",
              "gill-color_n                          0.000000\n",
              "gill-color_k                          0.000000\n",
              "stalk-surface-above-ring_y            0.000000\n",
              "\n",
              "[95 rows x 1 columns]"
            ],
            "text/html": [
              "\n",
              "  <div id=\"df-31b3e3cd-70a1-4f01-ad6e-7f9e25c0b1f7\">\n",
              "    <div class=\"colab-df-container\">\n",
              "      <div>\n",
              "<style scoped>\n",
              "    .dataframe tbody tr th:only-of-type {\n",
              "        vertical-align: middle;\n",
              "    }\n",
              "\n",
              "    .dataframe tbody tr th {\n",
              "        vertical-align: top;\n",
              "    }\n",
              "\n",
              "    .dataframe thead th {\n",
              "        text-align: right;\n",
              "    }\n",
              "</style>\n",
              "<table border=\"1\" class=\"dataframe\">\n",
              "  <thead>\n",
              "    <tr style=\"text-align: right;\">\n",
              "      <th></th>\n",
              "      <th>Feature Importance</th>\n",
              "    </tr>\n",
              "  </thead>\n",
              "  <tbody>\n",
              "    <tr>\n",
              "      <th>spore-print-color_w</th>\n",
              "      <td>0.094737</td>\n",
              "    </tr>\n",
              "    <tr>\n",
              "      <th>gill-size_n</th>\n",
              "      <td>0.094737</td>\n",
              "    </tr>\n",
              "    <tr>\n",
              "      <th>gill-spacing_w</th>\n",
              "      <td>0.084211</td>\n",
              "    </tr>\n",
              "    <tr>\n",
              "      <th>population_c</th>\n",
              "      <td>0.073684</td>\n",
              "    </tr>\n",
              "    <tr>\n",
              "      <th>stalk-color-below-ring_n</th>\n",
              "      <td>0.052632</td>\n",
              "    </tr>\n",
              "    <tr>\n",
              "      <th>...</th>\n",
              "      <td>...</td>\n",
              "    </tr>\n",
              "    <tr>\n",
              "      <th>gill-color_p</th>\n",
              "      <td>0.000000</td>\n",
              "    </tr>\n",
              "    <tr>\n",
              "      <th>gill-color_o</th>\n",
              "      <td>0.000000</td>\n",
              "    </tr>\n",
              "    <tr>\n",
              "      <th>gill-color_n</th>\n",
              "      <td>0.000000</td>\n",
              "    </tr>\n",
              "    <tr>\n",
              "      <th>gill-color_k</th>\n",
              "      <td>0.000000</td>\n",
              "    </tr>\n",
              "    <tr>\n",
              "      <th>stalk-surface-above-ring_y</th>\n",
              "      <td>0.000000</td>\n",
              "    </tr>\n",
              "  </tbody>\n",
              "</table>\n",
              "<p>95 rows × 1 columns</p>\n",
              "</div>\n",
              "      <button class=\"colab-df-convert\" onclick=\"convertToInteractive('df-31b3e3cd-70a1-4f01-ad6e-7f9e25c0b1f7')\"\n",
              "              title=\"Convert this dataframe to an interactive table.\"\n",
              "              style=\"display:none;\">\n",
              "        \n",
              "  <svg xmlns=\"http://www.w3.org/2000/svg\" height=\"24px\"viewBox=\"0 0 24 24\"\n",
              "       width=\"24px\">\n",
              "    <path d=\"M0 0h24v24H0V0z\" fill=\"none\"/>\n",
              "    <path d=\"M18.56 5.44l.94 2.06.94-2.06 2.06-.94-2.06-.94-.94-2.06-.94 2.06-2.06.94zm-11 1L8.5 8.5l.94-2.06 2.06-.94-2.06-.94L8.5 2.5l-.94 2.06-2.06.94zm10 10l.94 2.06.94-2.06 2.06-.94-2.06-.94-.94-2.06-.94 2.06-2.06.94z\"/><path d=\"M17.41 7.96l-1.37-1.37c-.4-.4-.92-.59-1.43-.59-.52 0-1.04.2-1.43.59L10.3 9.45l-7.72 7.72c-.78.78-.78 2.05 0 2.83L4 21.41c.39.39.9.59 1.41.59.51 0 1.02-.2 1.41-.59l7.78-7.78 2.81-2.81c.8-.78.8-2.07 0-2.86zM5.41 20L4 18.59l7.72-7.72 1.47 1.35L5.41 20z\"/>\n",
              "  </svg>\n",
              "      </button>\n",
              "      \n",
              "  <style>\n",
              "    .colab-df-container {\n",
              "      display:flex;\n",
              "      flex-wrap:wrap;\n",
              "      gap: 12px;\n",
              "    }\n",
              "\n",
              "    .colab-df-convert {\n",
              "      background-color: #E8F0FE;\n",
              "      border: none;\n",
              "      border-radius: 50%;\n",
              "      cursor: pointer;\n",
              "      display: none;\n",
              "      fill: #1967D2;\n",
              "      height: 32px;\n",
              "      padding: 0 0 0 0;\n",
              "      width: 32px;\n",
              "    }\n",
              "\n",
              "    .colab-df-convert:hover {\n",
              "      background-color: #E2EBFA;\n",
              "      box-shadow: 0px 1px 2px rgba(60, 64, 67, 0.3), 0px 1px 3px 1px rgba(60, 64, 67, 0.15);\n",
              "      fill: #174EA6;\n",
              "    }\n",
              "\n",
              "    [theme=dark] .colab-df-convert {\n",
              "      background-color: #3B4455;\n",
              "      fill: #D2E3FC;\n",
              "    }\n",
              "\n",
              "    [theme=dark] .colab-df-convert:hover {\n",
              "      background-color: #434B5C;\n",
              "      box-shadow: 0px 1px 3px 1px rgba(0, 0, 0, 0.15);\n",
              "      filter: drop-shadow(0px 1px 2px rgba(0, 0, 0, 0.3));\n",
              "      fill: #FFFFFF;\n",
              "    }\n",
              "  </style>\n",
              "\n",
              "      <script>\n",
              "        const buttonEl =\n",
              "          document.querySelector('#df-31b3e3cd-70a1-4f01-ad6e-7f9e25c0b1f7 button.colab-df-convert');\n",
              "        buttonEl.style.display =\n",
              "          google.colab.kernel.accessAllowed ? 'block' : 'none';\n",
              "\n",
              "        async function convertToInteractive(key) {\n",
              "          const element = document.querySelector('#df-31b3e3cd-70a1-4f01-ad6e-7f9e25c0b1f7');\n",
              "          const dataTable =\n",
              "            await google.colab.kernel.invokeFunction('convertToInteractive',\n",
              "                                                     [key], {});\n",
              "          if (!dataTable) return;\n",
              "\n",
              "          const docLinkHtml = 'Like what you see? Visit the ' +\n",
              "            '<a target=\"_blank\" href=https://colab.research.google.com/notebooks/data_table.ipynb>data table notebook</a>'\n",
              "            + ' to learn more about interactive tables.';\n",
              "          element.innerHTML = '';\n",
              "          dataTable['output_type'] = 'display_data';\n",
              "          await google.colab.output.renderOutput(dataTable, element);\n",
              "          const docLink = document.createElement('div');\n",
              "          docLink.innerHTML = docLinkHtml;\n",
              "          element.appendChild(docLink);\n",
              "        }\n",
              "      </script>\n",
              "    </div>\n",
              "  </div>\n",
              "  "
            ]
          },
          "metadata": {},
          "execution_count": 34
        }
      ]
    },
    {
      "cell_type": "markdown",
      "source": [
        "Ughh. Get only who are > 0."
      ],
      "metadata": {
        "id": "UicBsSvddHRI"
      }
    },
    {
      "cell_type": "code",
      "source": [
        "feats = pd.DataFrame(data = model.feature_importances_,  index = X.columns, columns = ['Feature Importance']).sort_values(by = 'Feature Importance', ascending = False)\n",
        "\n",
        "imp_feats = feats[feats['Feature Importance'] > 0]\n",
        "\n",
        "imp_feats"
      ],
      "metadata": {
        "colab": {
          "base_uri": "https://localhost:8080/",
          "height": 927
        },
        "id": "C53_0VondBY4",
        "outputId": "9a1ec0e1-de68-493c-b906-b6efe4e23ecc"
      },
      "execution_count": 35,
      "outputs": [
        {
          "output_type": "execute_result",
          "data": {
            "text/plain": [
              "                            Feature Importance\n",
              "spore-print-color_w                   0.094737\n",
              "gill-size_n                           0.094737\n",
              "gill-spacing_w                        0.084211\n",
              "population_c                          0.073684\n",
              "stalk-color-below-ring_n              0.052632\n",
              "odor_n                                0.052632\n",
              "stalk-surface-above-ring_k            0.042105\n",
              "stalk-shape_t                         0.042105\n",
              "spore-print-color_r                   0.042105\n",
              "odor_c                                0.042105\n",
              "spore-print-color_n                   0.042105\n",
              "odor_p                                0.031579\n",
              "population_v                          0.031579\n",
              "spore-print-color_k                   0.031579\n",
              "ring-number_t                         0.031579\n",
              "stalk-surface-below-ring_y            0.031579\n",
              "odor_f                                0.031579\n",
              "ring-type_p                           0.021053\n",
              "habitat_w                             0.021053\n",
              "cap-color_w                           0.021053\n",
              "spore-print-color_u                   0.010526\n",
              "cap-color_c                           0.010526\n",
              "stalk-root_b                          0.010526\n",
              "stalk-color-below-ring_o              0.010526\n",
              "ring-type_f                           0.010526\n",
              "stalk-color-below-ring_w              0.010526\n",
              "population_y                          0.010526\n",
              "cap-color_n                           0.010526"
            ],
            "text/html": [
              "\n",
              "  <div id=\"df-a4ddaf53-38e8-426a-91df-b644c05cecab\">\n",
              "    <div class=\"colab-df-container\">\n",
              "      <div>\n",
              "<style scoped>\n",
              "    .dataframe tbody tr th:only-of-type {\n",
              "        vertical-align: middle;\n",
              "    }\n",
              "\n",
              "    .dataframe tbody tr th {\n",
              "        vertical-align: top;\n",
              "    }\n",
              "\n",
              "    .dataframe thead th {\n",
              "        text-align: right;\n",
              "    }\n",
              "</style>\n",
              "<table border=\"1\" class=\"dataframe\">\n",
              "  <thead>\n",
              "    <tr style=\"text-align: right;\">\n",
              "      <th></th>\n",
              "      <th>Feature Importance</th>\n",
              "    </tr>\n",
              "  </thead>\n",
              "  <tbody>\n",
              "    <tr>\n",
              "      <th>spore-print-color_w</th>\n",
              "      <td>0.094737</td>\n",
              "    </tr>\n",
              "    <tr>\n",
              "      <th>gill-size_n</th>\n",
              "      <td>0.094737</td>\n",
              "    </tr>\n",
              "    <tr>\n",
              "      <th>gill-spacing_w</th>\n",
              "      <td>0.084211</td>\n",
              "    </tr>\n",
              "    <tr>\n",
              "      <th>population_c</th>\n",
              "      <td>0.073684</td>\n",
              "    </tr>\n",
              "    <tr>\n",
              "      <th>stalk-color-below-ring_n</th>\n",
              "      <td>0.052632</td>\n",
              "    </tr>\n",
              "    <tr>\n",
              "      <th>odor_n</th>\n",
              "      <td>0.052632</td>\n",
              "    </tr>\n",
              "    <tr>\n",
              "      <th>stalk-surface-above-ring_k</th>\n",
              "      <td>0.042105</td>\n",
              "    </tr>\n",
              "    <tr>\n",
              "      <th>stalk-shape_t</th>\n",
              "      <td>0.042105</td>\n",
              "    </tr>\n",
              "    <tr>\n",
              "      <th>spore-print-color_r</th>\n",
              "      <td>0.042105</td>\n",
              "    </tr>\n",
              "    <tr>\n",
              "      <th>odor_c</th>\n",
              "      <td>0.042105</td>\n",
              "    </tr>\n",
              "    <tr>\n",
              "      <th>spore-print-color_n</th>\n",
              "      <td>0.042105</td>\n",
              "    </tr>\n",
              "    <tr>\n",
              "      <th>odor_p</th>\n",
              "      <td>0.031579</td>\n",
              "    </tr>\n",
              "    <tr>\n",
              "      <th>population_v</th>\n",
              "      <td>0.031579</td>\n",
              "    </tr>\n",
              "    <tr>\n",
              "      <th>spore-print-color_k</th>\n",
              "      <td>0.031579</td>\n",
              "    </tr>\n",
              "    <tr>\n",
              "      <th>ring-number_t</th>\n",
              "      <td>0.031579</td>\n",
              "    </tr>\n",
              "    <tr>\n",
              "      <th>stalk-surface-below-ring_y</th>\n",
              "      <td>0.031579</td>\n",
              "    </tr>\n",
              "    <tr>\n",
              "      <th>odor_f</th>\n",
              "      <td>0.031579</td>\n",
              "    </tr>\n",
              "    <tr>\n",
              "      <th>ring-type_p</th>\n",
              "      <td>0.021053</td>\n",
              "    </tr>\n",
              "    <tr>\n",
              "      <th>habitat_w</th>\n",
              "      <td>0.021053</td>\n",
              "    </tr>\n",
              "    <tr>\n",
              "      <th>cap-color_w</th>\n",
              "      <td>0.021053</td>\n",
              "    </tr>\n",
              "    <tr>\n",
              "      <th>spore-print-color_u</th>\n",
              "      <td>0.010526</td>\n",
              "    </tr>\n",
              "    <tr>\n",
              "      <th>cap-color_c</th>\n",
              "      <td>0.010526</td>\n",
              "    </tr>\n",
              "    <tr>\n",
              "      <th>stalk-root_b</th>\n",
              "      <td>0.010526</td>\n",
              "    </tr>\n",
              "    <tr>\n",
              "      <th>stalk-color-below-ring_o</th>\n",
              "      <td>0.010526</td>\n",
              "    </tr>\n",
              "    <tr>\n",
              "      <th>ring-type_f</th>\n",
              "      <td>0.010526</td>\n",
              "    </tr>\n",
              "    <tr>\n",
              "      <th>stalk-color-below-ring_w</th>\n",
              "      <td>0.010526</td>\n",
              "    </tr>\n",
              "    <tr>\n",
              "      <th>population_y</th>\n",
              "      <td>0.010526</td>\n",
              "    </tr>\n",
              "    <tr>\n",
              "      <th>cap-color_n</th>\n",
              "      <td>0.010526</td>\n",
              "    </tr>\n",
              "  </tbody>\n",
              "</table>\n",
              "</div>\n",
              "      <button class=\"colab-df-convert\" onclick=\"convertToInteractive('df-a4ddaf53-38e8-426a-91df-b644c05cecab')\"\n",
              "              title=\"Convert this dataframe to an interactive table.\"\n",
              "              style=\"display:none;\">\n",
              "        \n",
              "  <svg xmlns=\"http://www.w3.org/2000/svg\" height=\"24px\"viewBox=\"0 0 24 24\"\n",
              "       width=\"24px\">\n",
              "    <path d=\"M0 0h24v24H0V0z\" fill=\"none\"/>\n",
              "    <path d=\"M18.56 5.44l.94 2.06.94-2.06 2.06-.94-2.06-.94-.94-2.06-.94 2.06-2.06.94zm-11 1L8.5 8.5l.94-2.06 2.06-.94-2.06-.94L8.5 2.5l-.94 2.06-2.06.94zm10 10l.94 2.06.94-2.06 2.06-.94-2.06-.94-.94-2.06-.94 2.06-2.06.94z\"/><path d=\"M17.41 7.96l-1.37-1.37c-.4-.4-.92-.59-1.43-.59-.52 0-1.04.2-1.43.59L10.3 9.45l-7.72 7.72c-.78.78-.78 2.05 0 2.83L4 21.41c.39.39.9.59 1.41.59.51 0 1.02-.2 1.41-.59l7.78-7.78 2.81-2.81c.8-.78.8-2.07 0-2.86zM5.41 20L4 18.59l7.72-7.72 1.47 1.35L5.41 20z\"/>\n",
              "  </svg>\n",
              "      </button>\n",
              "      \n",
              "  <style>\n",
              "    .colab-df-container {\n",
              "      display:flex;\n",
              "      flex-wrap:wrap;\n",
              "      gap: 12px;\n",
              "    }\n",
              "\n",
              "    .colab-df-convert {\n",
              "      background-color: #E8F0FE;\n",
              "      border: none;\n",
              "      border-radius: 50%;\n",
              "      cursor: pointer;\n",
              "      display: none;\n",
              "      fill: #1967D2;\n",
              "      height: 32px;\n",
              "      padding: 0 0 0 0;\n",
              "      width: 32px;\n",
              "    }\n",
              "\n",
              "    .colab-df-convert:hover {\n",
              "      background-color: #E2EBFA;\n",
              "      box-shadow: 0px 1px 2px rgba(60, 64, 67, 0.3), 0px 1px 3px 1px rgba(60, 64, 67, 0.15);\n",
              "      fill: #174EA6;\n",
              "    }\n",
              "\n",
              "    [theme=dark] .colab-df-convert {\n",
              "      background-color: #3B4455;\n",
              "      fill: #D2E3FC;\n",
              "    }\n",
              "\n",
              "    [theme=dark] .colab-df-convert:hover {\n",
              "      background-color: #434B5C;\n",
              "      box-shadow: 0px 1px 3px 1px rgba(0, 0, 0, 0.15);\n",
              "      filter: drop-shadow(0px 1px 2px rgba(0, 0, 0, 0.3));\n",
              "      fill: #FFFFFF;\n",
              "    }\n",
              "  </style>\n",
              "\n",
              "      <script>\n",
              "        const buttonEl =\n",
              "          document.querySelector('#df-a4ddaf53-38e8-426a-91df-b644c05cecab button.colab-df-convert');\n",
              "        buttonEl.style.display =\n",
              "          google.colab.kernel.accessAllowed ? 'block' : 'none';\n",
              "\n",
              "        async function convertToInteractive(key) {\n",
              "          const element = document.querySelector('#df-a4ddaf53-38e8-426a-91df-b644c05cecab');\n",
              "          const dataTable =\n",
              "            await google.colab.kernel.invokeFunction('convertToInteractive',\n",
              "                                                     [key], {});\n",
              "          if (!dataTable) return;\n",
              "\n",
              "          const docLinkHtml = 'Like what you see? Visit the ' +\n",
              "            '<a target=\"_blank\" href=https://colab.research.google.com/notebooks/data_table.ipynb>data table notebook</a>'\n",
              "            + ' to learn more about interactive tables.';\n",
              "          element.innerHTML = '';\n",
              "          dataTable['output_type'] = 'display_data';\n",
              "          await google.colab.output.renderOutput(dataTable, element);\n",
              "          const docLink = document.createElement('div');\n",
              "          docLink.innerHTML = docLinkHtml;\n",
              "          element.appendChild(docLink);\n",
              "        }\n",
              "      </script>\n",
              "    </div>\n",
              "  </div>\n",
              "  "
            ]
          },
          "metadata": {},
          "execution_count": 35
        }
      ]
    },
    {
      "cell_type": "markdown",
      "source": [
        "To visualize it:"
      ],
      "metadata": {
        "id": "PdfXrACLdYfE"
      }
    },
    {
      "cell_type": "code",
      "source": [
        "sns.barplot(data = imp_feats, x = imp_feats.index, y = 'Feature Importance')\n",
        "plt.xticks(rotation=90);"
      ],
      "metadata": {
        "colab": {
          "base_uri": "https://localhost:8080/",
          "height": 600
        },
        "id": "j6DPEZqadWLK",
        "outputId": "3e37c293-8b7a-4a23-ffee-219c8dd69bd9"
      },
      "execution_count": 37,
      "outputs": [
        {
          "output_type": "display_data",
          "data": {
            "text/plain": [
              "<Figure size 640x480 with 1 Axes>"
            ],
            "image/png": "[encoded data removed]"
          },
          "metadata": {}
        }
      ]
    }
  ]
}