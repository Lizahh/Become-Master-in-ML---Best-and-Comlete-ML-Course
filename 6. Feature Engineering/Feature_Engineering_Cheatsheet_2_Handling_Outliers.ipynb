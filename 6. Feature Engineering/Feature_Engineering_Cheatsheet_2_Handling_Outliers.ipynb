{
  "nbformat": 4,
  "nbformat_minor": 0,
  "metadata": {
    "colab": {
      "provenance": []
    },
    "kernelspec": {
      "name": "python3",
      "display_name": "Python 3"
    },
    "language_info": {
      "name": "python"
    }
  },
  "cells": [
    {
      "cell_type": "markdown",
      "source": [
        "# **Introduction:**\n",
        "\n",
        "* Often a dataset will have a few points that will be beyond limits or you can say which are extreme. For example, all points of a feature are between 10-100 but some points are on 5000 etc. Such points are called outliers.\n",
        "\n",
        "* Its better to simply remove these points from the dataset to better generalize the features and datasets.\n",
        "\n",
        "* Many statistical models assume that the data follow a certain distribution or have specific properties. Outliers can violate these assumptions, leading to inaccurate inferences and predictions.\n",
        "\n",
        "* Outliers can arise due to data entry errors, measurement errors, or rare events. They may not reflect the true nature of the phenomenon being studied. Removing outliers helps in improving data quality.\n",
        "\n",
        "* Just remember, if your dataset have a very large percentage of outliers then may be your data is having wide distribution. Thats not outliers.\n",
        "\n"
      ],
      "metadata": {
        "id": "-E-dgIFL2i1U"
      }
    },
    {
      "cell_type": "markdown",
      "source": [
        "# **Methods of Identifying Outliers:**\n",
        "\n",
        "The very first thing is to decide the limit of each feature. Of course only after that, we will be able to check which are outliers or not.\n",
        "\n",
        "We can decide the limit of each feature using any of the following method:\n",
        "\n",
        "1. By calculating Inter Quartile Range (IQR) e.g. Boxplot\n",
        "2. By calculating Standard Deviation (S.D.): E.g. everything above 3S.D will be an outlier.\n",
        "3. By Visualizing or Domain Limit value e.g. scatterplot\n",
        "  \n",
        "  (Domain limit value means decide what will the maximum value of that feature. Anything above that will be considered as outlier.)\n",
        "\n",
        "Keep in mind, no methodology will tell you 100% correct outliers.\n"
      ],
      "metadata": {
        "id": "b2kbD4be3_ga"
      }
    },
    {
      "cell_type": "markdown",
      "source": [
        "## **1. Using Interquartile Range(IQR):**"
      ],
      "metadata": {
        "id": "c05ZF3Pa9sWf"
      }
    },
    {
      "cell_type": "code",
      "source": [
        "import pandas as pd\n",
        "import numpy as np\n",
        "import matplotlib.pyplot as plt\n",
        "import seaborn as sns"
      ],
      "metadata": {
        "id": "LYYuYrN--CML"
      },
      "execution_count": 49,
      "outputs": []
    },
    {
      "cell_type": "code",
      "source": [
        "# Function that will craete a random distribution of ages\n",
        "\n",
        "def create_ages(mu = 50, sigma = 13, num_samples = 100): # mu = mean of ages, sigma: S.D of ages, num_samples = number of ages to produce by this method\n",
        "  sample_ages = np.random.normal(loc = mu, scale = sigma, size = num_samples)\n",
        "  sample_ages = np.round(sample_ages, decimals = 0)\n",
        "  return sample_ages"
      ],
      "metadata": {
        "id": "gioZWmJd-IDu"
      },
      "execution_count": 50,
      "outputs": []
    },
    {
      "cell_type": "code",
      "source": [
        "sample =create_ages()\n",
        "sample"
      ],
      "metadata": {
        "colab": {
          "base_uri": "https://localhost:8080/"
        },
        "id": "DjNq1n9QKJwG",
        "outputId": "4a504440-557a-45f9-cc2e-e19134afd00c"
      },
      "execution_count": 51,
      "outputs": [
        {
          "output_type": "execute_result",
          "data": {
            "text/plain": [
              "array([24., 55., 53., 58., 63., 49., 59., 46., 68., 38., 62., 55., 29.,\n",
              "       35., 34., 40., 47., 31., 40., 56., 45., 37., 33., 65., 51., 44.,\n",
              "       55., 52., 31., 55., 55., 48., 50., 36., 71., 53., 26., 66., 39.,\n",
              "       55., 50., 51., 69., 66., 40., 53., 53., 64., 59., 58., 56., 59.,\n",
              "       56., 66., 52., 46., 48., 45., 60., 48., 35., 69., 41., 48., 70.,\n",
              "       79., 46., 61., 58., 11., 41., 44., 56., 38., 33., 55., 63., 37.,\n",
              "       40., 52., 40., 47., 59., 59., 49., 47., 55., 38., 57., 37., 67.,\n",
              "       25., 61., 39., 55., 46., 39., 59., 48., 24.])"
            ]
          },
          "metadata": {},
          "execution_count": 51
        }
      ]
    },
    {
      "cell_type": "markdown",
      "source": [
        "Let's check outliers in it. At first, check the distributions in your dataset"
      ],
      "metadata": {
        "id": "x9lG6iDdKfr2"
      }
    },
    {
      "cell_type": "code",
      "source": [
        "sns.displot(sample);"
      ],
      "metadata": {
        "colab": {
          "base_uri": "https://localhost:8080/",
          "height": 506
        },
        "id": "PbOQqdQBKOEh",
        "outputId": "d88de00d-c452-4788-c087-ccdc35764b2b"
      },
      "execution_count": 52,
      "outputs": [
        {
          "output_type": "display_data",
          "data": {
            "text/plain": [
              "<Figure size 500x500 with 1 Axes>"
            ],
            "image/png": "[encoded data removed]"
          },
          "metadata": {}
        }
      ]
    },
    {
      "cell_type": "markdown",
      "source": [
        "It's a bit unclear. Let's add bins to visualize it more clearly."
      ],
      "metadata": {
        "id": "q289KWTpKyFI"
      }
    },
    {
      "cell_type": "code",
      "source": [
        "sns.displot(sample, bins = 70);"
      ],
      "metadata": {
        "colab": {
          "base_uri": "https://localhost:8080/",
          "height": 506
        },
        "id": "rOegCoziKqAQ",
        "outputId": "21ae2e07-0cb9-4c2a-e759-23fd6f6377bf"
      },
      "execution_count": 53,
      "outputs": [
        {
          "output_type": "display_data",
          "data": {
            "text/plain": [
              "<Figure size 500x500 with 1 Axes>"
            ],
            "image/png": "[encoded data removed]"
          },
          "metadata": {}
        }
      ]
    },
    {
      "cell_type": "markdown",
      "source": [
        "We can see everything above 80 is outlier. or even I think everything below 20 is also outlier.\n",
        "\n",
        "Let's make boxplot of it."
      ],
      "metadata": {
        "id": "TmRPR1TYLEMj"
      }
    },
    {
      "cell_type": "code",
      "source": [
        "sns.boxplot(sample);"
      ],
      "metadata": {
        "colab": {
          "base_uri": "https://localhost:8080/",
          "height": 430
        },
        "id": "HI0LaB0hK70V",
        "outputId": "cde52129-e4a5-4189-dca3-f65f2adf72be"
      },
      "execution_count": 54,
      "outputs": [
        {
          "output_type": "display_data",
          "data": {
            "text/plain": [
              "<Figure size 640x480 with 1 Axes>"
            ],
            "image/png": "[encoded data removed]"
          },
          "metadata": {}
        }
      ]
    },
    {
      "cell_type": "markdown",
      "source": [
        "See it has also shown an outlier near 100. Let's calculate it."
      ],
      "metadata": {
        "id": "qmFdiO9YLmJj"
      }
    },
    {
      "cell_type": "code",
      "source": [
        "ser = pd.Series(sample)"
      ],
      "metadata": {
        "id": "8BxciQoBLhAw"
      },
      "execution_count": 55,
      "outputs": []
    },
    {
      "cell_type": "code",
      "source": [
        "ser.describe()"
      ],
      "metadata": {
        "colab": {
          "base_uri": "https://localhost:8080/"
        },
        "id": "hzrPF5t-Lve_",
        "outputId": "f7b8176f-fce8-445d-b4df-6a09959ffb52"
      },
      "execution_count": 56,
      "outputs": [
        {
          "output_type": "execute_result",
          "data": {
            "text/plain": [
              "count    100.000000\n",
              "mean      49.360000\n",
              "std       12.330073\n",
              "min       11.000000\n",
              "25%       40.000000\n",
              "50%       50.500000\n",
              "75%       58.000000\n",
              "max       79.000000\n",
              "dtype: float64"
            ]
          },
          "metadata": {},
          "execution_count": 56
        }
      ]
    },
    {
      "cell_type": "markdown",
      "source": [
        "We know everything between 25% and 75% is IQR. So, we need to get the lower limit first."
      ],
      "metadata": {
        "id": "XJ0kabs2L1Vx"
      }
    },
    {
      "cell_type": "code",
      "source": [
        "IQR = 60.0000 - 42.0000\n",
        "IQR"
      ],
      "metadata": {
        "colab": {
          "base_uri": "https://localhost:8080/"
        },
        "id": "3ST_59s9Ly1w",
        "outputId": "6cd48798-996c-471f-c73d-ef503beb5d23"
      },
      "execution_count": 57,
      "outputs": [
        {
          "output_type": "execute_result",
          "data": {
            "text/plain": [
              "18.0"
            ]
          },
          "metadata": {},
          "execution_count": 57
        }
      ]
    },
    {
      "cell_type": "code",
      "source": [
        "lower_limit = 42.000 - 1.5 * IQR\n",
        "lower_limit"
      ],
      "metadata": {
        "colab": {
          "base_uri": "https://localhost:8080/"
        },
        "id": "4-Xy3pRiMGjy",
        "outputId": "ed151f94-d104-4641-a7d9-fb2776e21d48"
      },
      "execution_count": 58,
      "outputs": [
        {
          "output_type": "execute_result",
          "data": {
            "text/plain": [
              "15.0"
            ]
          },
          "metadata": {},
          "execution_count": 58
        }
      ]
    },
    {
      "cell_type": "markdown",
      "source": [
        "So, this is what we saw in displot that point below 20 was outliter. The value of that outlier was 15.\n",
        "\n",
        "Now, we need to remove all points below 15 because those all are outliers. We can calculate it this way:"
      ],
      "metadata": {
        "id": "-vszF6M5MV_i"
      }
    },
    {
      "cell_type": "code",
      "source": [
        "ser[ser > lower_limit]"
      ],
      "metadata": {
        "colab": {
          "base_uri": "https://localhost:8080/"
        },
        "id": "7lKZ_053MR_D",
        "outputId": "341ba97b-a03c-457b-ba4f-db204c54286b"
      },
      "execution_count": 68,
      "outputs": [
        {
          "output_type": "execute_result",
          "data": {
            "text/plain": [
              "0     24.0\n",
              "1     55.0\n",
              "2     53.0\n",
              "3     58.0\n",
              "4     63.0\n",
              "      ... \n",
              "95    46.0\n",
              "96    39.0\n",
              "97    59.0\n",
              "98    48.0\n",
              "99    24.0\n",
              "Length: 99, dtype: float64"
            ]
          },
          "metadata": {},
          "execution_count": 68
        }
      ]
    },
    {
      "cell_type": "markdown",
      "source": [
        "This is manual way of getting rid of outliers !!!\n",
        "\n",
        "We can also use Numpy for it."
      ],
      "metadata": {
        "id": "6-3NL4X_MvbT"
      }
    },
    {
      "cell_type": "code",
      "source": [
        "np.percentile(sample, [75])"
      ],
      "metadata": {
        "colab": {
          "base_uri": "https://localhost:8080/"
        },
        "id": "bQ4zbUfpMkIW",
        "outputId": "be643fa1-82b0-4fba-a069-cc9db440db10"
      },
      "execution_count": 69,
      "outputs": [
        {
          "output_type": "execute_result",
          "data": {
            "text/plain": [
              "array([58.])"
            ]
          },
          "metadata": {},
          "execution_count": 69
        }
      ]
    },
    {
      "cell_type": "code",
      "source": [
        "np.percentile(sample, [25])"
      ],
      "metadata": {
        "colab": {
          "base_uri": "https://localhost:8080/"
        },
        "id": "V6H54udZM7m7",
        "outputId": "7dd8a0e5-409c-43ed-a326-0f8bc96a0bee"
      },
      "execution_count": 70,
      "outputs": [
        {
          "output_type": "execute_result",
          "data": {
            "text/plain": [
              "array([40.])"
            ]
          },
          "metadata": {},
          "execution_count": 70
        }
      ]
    },
    {
      "cell_type": "code",
      "source": [
        "q75, q25 = np.percentile(sample, [75, 25])"
      ],
      "metadata": {
        "id": "teGyRvXlM9p-"
      },
      "execution_count": 71,
      "outputs": []
    },
    {
      "cell_type": "code",
      "source": [
        "q75"
      ],
      "metadata": {
        "colab": {
          "base_uri": "https://localhost:8080/"
        },
        "id": "oDC48F-0M_RI",
        "outputId": "446f32b0-938c-4501-d3cf-2d2cdda17725"
      },
      "execution_count": 72,
      "outputs": [
        {
          "output_type": "execute_result",
          "data": {
            "text/plain": [
              "58.0"
            ]
          },
          "metadata": {},
          "execution_count": 72
        }
      ]
    },
    {
      "cell_type": "code",
      "source": [
        "q25"
      ],
      "metadata": {
        "colab": {
          "base_uri": "https://localhost:8080/"
        },
        "id": "GbuN7q-BNDtX",
        "outputId": "cac8e4f9-a453-4752-a819-d883253b7e9d"
      },
      "execution_count": 74,
      "outputs": [
        {
          "output_type": "execute_result",
          "data": {
            "text/plain": [
              "40.0"
            ]
          },
          "metadata": {},
          "execution_count": 74
        }
      ]
    },
    {
      "cell_type": "code",
      "source": [
        "IQR = q75 - q25\n",
        "IQR"
      ],
      "metadata": {
        "colab": {
          "base_uri": "https://localhost:8080/"
        },
        "id": "PiU3o2X-NEgv",
        "outputId": "beabeb38-59de-4a14-ad78-cd26e8432a15"
      },
      "execution_count": 75,
      "outputs": [
        {
          "output_type": "execute_result",
          "data": {
            "text/plain": [
              "18.0"
            ]
          },
          "metadata": {},
          "execution_count": 75
        }
      ]
    },
    {
      "cell_type": "code",
      "source": [
        "lower_limit = q25 - 1.5 * IQR\n",
        "lower_limit"
      ],
      "metadata": {
        "colab": {
          "base_uri": "https://localhost:8080/"
        },
        "id": "sy498pd6NHTA",
        "outputId": "84a09d03-8c4b-44ab-93f9-2c7bfc030605"
      },
      "execution_count": 76,
      "outputs": [
        {
          "output_type": "execute_result",
          "data": {
            "text/plain": [
              "13.0"
            ]
          },
          "metadata": {},
          "execution_count": 76
        }
      ]
    },
    {
      "cell_type": "code",
      "source": [
        "upper_limit = q75 + 1.5 * IQR\n",
        "upper_limit"
      ],
      "metadata": {
        "colab": {
          "base_uri": "https://localhost:8080/"
        },
        "id": "VPpYfGVoRw7Z",
        "outputId": "d4a64902-ed80-4b1e-c266-b1776c7c9180"
      },
      "execution_count": 77,
      "outputs": [
        {
          "output_type": "execute_result",
          "data": {
            "text/plain": [
              "85.0"
            ]
          },
          "metadata": {},
          "execution_count": 77
        }
      ]
    },
    {
      "cell_type": "markdown",
      "source": [
        "See we got the same result."
      ],
      "metadata": {
        "id": "UjClzJFQNM77"
      }
    },
    {
      "cell_type": "markdown",
      "source": [
        "### **Applying methods on Dataset:**"
      ],
      "metadata": {
        "id": "jGPpsGX1Npzn"
      }
    },
    {
      "cell_type": "code",
      "source": [
        "df = pd.read_csv('/content/sample_data/AmesHousing.csv')"
      ],
      "metadata": {
        "id": "QtknZMisNLlC"
      },
      "execution_count": 100,
      "outputs": []
    },
    {
      "cell_type": "markdown",
      "source": [
        "Let's check correlation of all features."
      ],
      "metadata": {
        "id": "8BjXn2CWPThC"
      }
    },
    {
      "cell_type": "code",
      "source": [
        "df.corr()"
      ],
      "metadata": {
        "colab": {
          "base_uri": "https://localhost:8080/",
          "height": 1000
        },
        "id": "N6OWnoRZPQ3S",
        "outputId": "ea6853b3-a547-49a7-e73d-3874efef511b"
      },
      "execution_count": 79,
      "outputs": [
        {
          "output_type": "stream",
          "name": "stderr",
          "text": [
            "<ipython-input-79-2f6f6606aa2c>:1: FutureWarning: The default value of numeric_only in DataFrame.corr is deprecated. In a future version, it will default to False. Select only valid columns or specify the value of numeric_only to silence this warning.\n",
            "  df.corr()\n"
          ]
        },
        {
          "output_type": "execute_result",
          "data": {
            "text/plain": [
              "                    Order       PID  MS SubClass  Lot Frontage  Lot Area  \\\n",
              "Order            1.000000  0.173593     0.011797     -0.007034  0.031354   \n",
              "PID              0.173593  1.000000    -0.001281     -0.096918  0.034868   \n",
              "MS SubClass      0.011797 -0.001281     1.000000     -0.420135 -0.204613   \n",
              "Lot Frontage    -0.007034 -0.096918    -0.420135      1.000000  0.491313   \n",
              "Lot Area         0.031354  0.034868    -0.204613      0.491313  1.000000   \n",
              "Overall Qual    -0.048500 -0.263147     0.039419      0.212042  0.097188   \n",
              "Overall Cond    -0.011054  0.104451    -0.067349     -0.074448 -0.034759   \n",
              "Year Built      -0.052319 -0.343388     0.036579      0.121562  0.023258   \n",
              "Year Remod/Add  -0.075566 -0.157111     0.043397      0.091712  0.021682   \n",
              "Mas Vnr Area    -0.030907 -0.229283     0.002730      0.222407  0.126830   \n",
              "BsmtFin SF 1    -0.032321 -0.098375    -0.060075      0.215583  0.191555   \n",
              "BsmtFin SF 2    -0.002773 -0.001145    -0.070946      0.045999  0.083150   \n",
              "Bsmt Unf SF      0.005780 -0.087707    -0.130421      0.116743  0.023658   \n",
              "Total Bsmt SF   -0.028719 -0.189642    -0.219445      0.353773  0.253589   \n",
              "1st Flr SF      -0.013201 -0.141902    -0.247828      0.457391  0.332235   \n",
              "2nd Flr SF      -0.000417 -0.003289     0.304237      0.029187  0.032996   \n",
              "Low Qual Fin SF  0.013589  0.056940     0.025765      0.005249  0.000812   \n",
              "Gr Liv Area     -0.009342 -0.107579     0.068061      0.383822  0.285599   \n",
              "Bsmt Full Bath  -0.042539 -0.037759     0.013701      0.108915  0.125877   \n",
              "Bsmt Half Bath   0.024978  0.004328    -0.003329     -0.024724  0.026903   \n",
              "Full Bath       -0.044985 -0.171431     0.134631      0.184521  0.127433   \n",
              "Half Bath       -0.039749 -0.166636     0.175879      0.041880  0.035497   \n",
              "Bedroom AbvGr    0.015424  0.006345    -0.019208      0.240442  0.136569   \n",
              "Kitchen AbvGr   -0.017685  0.076470     0.257698      0.005407 -0.020301   \n",
              "TotRms AbvGrd    0.002612 -0.068981     0.031898      0.353137  0.216597   \n",
              "Fireplaces      -0.019156 -0.108056    -0.049955      0.257255  0.256989   \n",
              "Garage Yr Blt   -0.051160 -0.256829     0.088754      0.076306 -0.008952   \n",
              "Garage Cars     -0.036185 -0.237484    -0.045883      0.308706  0.179512   \n",
              "Garage Area     -0.035435 -0.210606    -0.103239      0.358505  0.212822   \n",
              "Wood Deck SF    -0.011292 -0.051135    -0.017310      0.120084  0.157212   \n",
              "Open Porch SF    0.016355 -0.071311    -0.014823      0.163040  0.103760   \n",
              "Enclosed Porch   0.027908  0.162519    -0.022866      0.012758  0.021868   \n",
              "3Ssn Porch      -0.024975 -0.024894    -0.037956      0.028564  0.016243   \n",
              "Screen Porch     0.004307 -0.025735    -0.050614      0.076666  0.055044   \n",
              "Pool Area        0.052518 -0.002845    -0.003434      0.173947  0.093775   \n",
              "Misc Val        -0.006083 -0.008260    -0.029254      0.044476  0.069188   \n",
              "Mo Sold          0.133365 -0.050455     0.000350      0.011085  0.003859   \n",
              "Yr Sold         -0.975993  0.009579    -0.017905     -0.007547 -0.023085   \n",
              "SalePrice       -0.031408 -0.246521    -0.085092      0.357318  0.266549   \n",
              "\n",
              "                 Overall Qual  Overall Cond  Year Built  Year Remod/Add  \\\n",
              "Order               -0.048500     -0.011054   -0.052319       -0.075566   \n",
              "PID                 -0.263147      0.104451   -0.343388       -0.157111   \n",
              "MS SubClass          0.039419     -0.067349    0.036579        0.043397   \n",
              "Lot Frontage         0.212042     -0.074448    0.121562        0.091712   \n",
              "Lot Area             0.097188     -0.034759    0.023258        0.021682   \n",
              "Overall Qual         1.000000     -0.094812    0.597027        0.569609   \n",
              "Overall Cond        -0.094812      1.000000   -0.368773        0.047680   \n",
              "Year Built           0.597027     -0.368773    1.000000        0.612095   \n",
              "Year Remod/Add       0.569609      0.047680    0.612095        1.000000   \n",
              "Mas Vnr Area         0.429418     -0.135340    0.313292        0.196928   \n",
              "BsmtFin SF 1         0.284118     -0.050935    0.279870        0.151790   \n",
              "BsmtFin SF 2        -0.041287      0.041134   -0.027415       -0.062129   \n",
              "Bsmt Unf SF          0.270058     -0.136819    0.128998        0.164805   \n",
              "Total Bsmt SF        0.547294     -0.173344    0.407526        0.297481   \n",
              "1st Flr SF           0.477837     -0.157052    0.310463        0.242108   \n",
              "2nd Flr SF           0.241402      0.006218    0.016828        0.158939   \n",
              "Low Qual Fin SF     -0.048680      0.009175   -0.144282       -0.060365   \n",
              "Gr Liv Area          0.570556     -0.115643    0.241726        0.316855   \n",
              "Bsmt Full Bath       0.167858     -0.042766    0.211849        0.134387   \n",
              "Bsmt Half Bath      -0.041647      0.084455   -0.030626       -0.046292   \n",
              "Full Bath            0.522263     -0.214316    0.469406        0.457266   \n",
              "Half Bath            0.268853     -0.088127    0.269268        0.211771   \n",
              "Bedroom AbvGr        0.063291     -0.006137   -0.055093       -0.021536   \n",
              "Kitchen AbvGr       -0.159744     -0.086386   -0.137852       -0.142404   \n",
              "TotRms AbvGrd        0.380693     -0.089816    0.111919        0.197528   \n",
              "Fireplaces           0.393007     -0.031702    0.170672        0.133322   \n",
              "Garage Yr Blt        0.570569     -0.326017    0.834849        0.652310   \n",
              "Garage Cars          0.599545     -0.181557    0.537443        0.425403   \n",
              "Garage Area          0.563503     -0.153754    0.480131        0.376438   \n",
              "Wood Deck SF         0.255663      0.020344    0.228964        0.217857   \n",
              "Open Porch SF        0.298412     -0.068934    0.198365        0.241748   \n",
              "Enclosed Porch      -0.140332      0.071459   -0.374364       -0.220383   \n",
              "3Ssn Porch           0.018240      0.043852    0.015803        0.037412   \n",
              "Screen Porch         0.041615      0.044055   -0.041436       -0.046888   \n",
              "Pool Area            0.030399     -0.016787    0.002213       -0.011410   \n",
              "Misc Val             0.005179      0.034056   -0.011011       -0.003132   \n",
              "Mo Sold              0.031103     -0.007295    0.014577        0.018048   \n",
              "Yr Sold             -0.020719      0.031207   -0.013197        0.032652   \n",
              "SalePrice            0.799262     -0.101697    0.558426        0.532974   \n",
              "\n",
              "                 Mas Vnr Area  ...  Wood Deck SF  Open Porch SF  \\\n",
              "Order               -0.030907  ...     -0.011292       0.016355   \n",
              "PID                 -0.229283  ...     -0.051135      -0.071311   \n",
              "MS SubClass          0.002730  ...     -0.017310      -0.014823   \n",
              "Lot Frontage         0.222407  ...      0.120084       0.163040   \n",
              "Lot Area             0.126830  ...      0.157212       0.103760   \n",
              "Overall Qual         0.429418  ...      0.255663       0.298412   \n",
              "Overall Cond        -0.135340  ...      0.020344      -0.068934   \n",
              "Year Built           0.313292  ...      0.228964       0.198365   \n",
              "Year Remod/Add       0.196928  ...      0.217857       0.241748   \n",
              "Mas Vnr Area         1.000000  ...      0.165467       0.143748   \n",
              "BsmtFin SF 1         0.301872  ...      0.224010       0.124947   \n",
              "BsmtFin SF 2        -0.016019  ...      0.098528      -0.005587   \n",
              "Bsmt Unf SF          0.091668  ...     -0.039621       0.118880   \n",
              "Total Bsmt SF        0.397040  ...      0.229931       0.245627   \n",
              "1st Flr SF           0.395736  ...      0.227131       0.238041   \n",
              "2nd Flr SF           0.121805  ...      0.089097       0.184538   \n",
              "Low Qual Fin SF     -0.057701  ...     -0.015646      -0.000761   \n",
              "Gr Liv Area          0.403611  ...      0.250153       0.340857   \n",
              "Bsmt Full Bath       0.140113  ...      0.186945       0.082268   \n",
              "Bsmt Half Bath       0.015421  ...      0.051430      -0.035069   \n",
              "Full Bath            0.260153  ...      0.179574       0.258675   \n",
              "Half Bath            0.192965  ...      0.115212       0.180704   \n",
              "Bedroom AbvGr        0.080546  ...      0.029711       0.083650   \n",
              "Kitchen AbvGr       -0.050998  ...     -0.087410      -0.068283   \n",
              "TotRms AbvGrd        0.279563  ...      0.154735       0.235684   \n",
              "Fireplaces           0.272068  ...      0.228064       0.159637   \n",
              "Garage Yr Blt        0.254784  ...      0.221991       0.231240   \n",
              "Garage Cars          0.360159  ...      0.241226       0.204182   \n",
              "Garage Area          0.373458  ...      0.238371       0.232912   \n",
              "Wood Deck SF         0.165467  ...      1.000000       0.039243   \n",
              "Open Porch SF        0.143748  ...      0.039243       1.000000   \n",
              "Enclosed Porch      -0.110787  ...     -0.119136      -0.059875   \n",
              "3Ssn Porch           0.013778  ...     -0.003967      -0.009458   \n",
              "Screen Porch         0.065643  ...     -0.052191       0.047548   \n",
              "Pool Area            0.004617  ...      0.094156       0.064135   \n",
              "Misc Val             0.044934  ...      0.056820       0.077254   \n",
              "Mo Sold             -0.000276  ...      0.016974       0.033651   \n",
              "Yr Sold             -0.017715  ...      0.000882      -0.037467   \n",
              "SalePrice            0.508285  ...      0.327143       0.312951   \n",
              "\n",
              "                 Enclosed Porch  3Ssn Porch  Screen Porch  Pool Area  \\\n",
              "Order                  0.027908   -0.024975      0.004307   0.052518   \n",
              "PID                    0.162519   -0.024894     -0.025735  -0.002845   \n",
              "MS SubClass           -0.022866   -0.037956     -0.050614  -0.003434   \n",
              "Lot Frontage           0.012758    0.028564      0.076666   0.173947   \n",
              "Lot Area               0.021868    0.016243      0.055044   0.093775   \n",
              "Overall Qual          -0.140332    0.018240      0.041615   0.030399   \n",
              "Overall Cond           0.071459    0.043852      0.044055  -0.016787   \n",
              "Year Built            -0.374364    0.015803     -0.041436   0.002213   \n",
              "Year Remod/Add        -0.220383    0.037412     -0.046888  -0.011410   \n",
              "Mas Vnr Area          -0.110787    0.013778      0.065643   0.004617   \n",
              "BsmtFin SF 1          -0.100455    0.050541      0.095874   0.084140   \n",
              "BsmtFin SF 2           0.032380   -0.023325      0.062951   0.044398   \n",
              "Bsmt Unf SF            0.006229   -0.005446     -0.048083  -0.031999   \n",
              "Total Bsmt SF         -0.085225    0.037871      0.075341   0.072128   \n",
              "1st Flr SF            -0.065713    0.044061      0.098316   0.121821   \n",
              "2nd Flr SF             0.055429   -0.032172      0.011741   0.044602   \n",
              "Low Qual Fin SF        0.087326   -0.004505      0.006943   0.035200   \n",
              "Gr Liv Area            0.004030    0.006481      0.086804   0.135463   \n",
              "Bsmt Full Bath        -0.069235    0.027034      0.052208   0.043705   \n",
              "Bsmt Half Bath        -0.009334    0.026954      0.042326   0.066902   \n",
              "Full Bath             -0.117795    0.015435     -0.015130   0.028205   \n",
              "Half Bath             -0.081312   -0.023231      0.035990   0.001515   \n",
              "Bedroom AbvGr          0.052115   -0.047151      0.009250   0.036707   \n",
              "Kitchen AbvGr          0.027911   -0.021379     -0.056337  -0.013066   \n",
              "TotRms AbvGrd          0.017221   -0.025097      0.033731   0.072103   \n",
              "Fireplaces            -0.000250    0.018414      0.168004   0.098449   \n",
              "Garage Yr Blt         -0.300879    0.020617     -0.062515  -0.014513   \n",
              "Garage Cars           -0.132840    0.023345      0.043012   0.030393   \n",
              "Garage Area           -0.106272    0.029458      0.062436   0.053051   \n",
              "Wood Deck SF          -0.119136   -0.003967     -0.052191   0.094156   \n",
              "Open Porch SF         -0.059875   -0.009458      0.047548   0.064135   \n",
              "Enclosed Porch         1.000000   -0.032674     -0.063965   0.092596   \n",
              "3Ssn Porch            -0.032674    1.000000     -0.029430  -0.006501   \n",
              "Screen Porch          -0.063965   -0.029430      1.000000   0.026383   \n",
              "Pool Area              0.092596   -0.006501      0.026383   1.000000   \n",
              "Misc Val               0.008773   -0.000753      0.007162   0.011942   \n",
              "Mo Sold               -0.021324    0.027229      0.028169  -0.042223   \n",
              "Yr Sold               -0.000505    0.022668     -0.006116  -0.052541   \n",
              "SalePrice             -0.128787    0.032225      0.112151   0.068403   \n",
              "\n",
              "                 Misc Val   Mo Sold   Yr Sold  SalePrice  \n",
              "Order           -0.006083  0.133365 -0.975993  -0.031408  \n",
              "PID             -0.008260 -0.050455  0.009579  -0.246521  \n",
              "MS SubClass     -0.029254  0.000350 -0.017905  -0.085092  \n",
              "Lot Frontage     0.044476  0.011085 -0.007547   0.357318  \n",
              "Lot Area         0.069188  0.003859 -0.023085   0.266549  \n",
              "Overall Qual     0.005179  0.031103 -0.020719   0.799262  \n",
              "Overall Cond     0.034056 -0.007295  0.031207  -0.101697  \n",
              "Year Built      -0.011011  0.014577 -0.013197   0.558426  \n",
              "Year Remod/Add  -0.003132  0.018048  0.032652   0.532974  \n",
              "Mas Vnr Area     0.044934 -0.000276 -0.017715   0.508285  \n",
              "BsmtFin SF 1     0.092886 -0.001155  0.022397   0.432914  \n",
              "BsmtFin SF 2    -0.005204 -0.009484  0.007105   0.005891  \n",
              "Bsmt Unf SF     -0.010166  0.021569 -0.036384   0.182855  \n",
              "Total Bsmt SF    0.083904  0.016678 -0.010405   0.632280  \n",
              "1st Flr SF       0.093003  0.040496 -0.013667   0.621676  \n",
              "2nd Flr SF      -0.005078  0.013247 -0.018530   0.269373  \n",
              "Low Qual Fin SF -0.005939  0.011397 -0.002074  -0.037660  \n",
              "Gr Liv Area      0.067252  0.043665 -0.026489   0.706780  \n",
              "Bsmt Full Bath  -0.004868 -0.003471  0.044905   0.276050  \n",
              "Bsmt Half Bath   0.036982  0.022699 -0.019529  -0.035835  \n",
              "Full Bath       -0.009771  0.046032 -0.004754   0.545604  \n",
              "Half Bath        0.026648 -0.001311  0.001561   0.285056  \n",
              "Bedroom AbvGr    0.000887  0.053677 -0.018008   0.143913  \n",
              "Kitchen AbvGr    0.025145  0.035201  0.035421  -0.119814  \n",
              "TotRms AbvGrd    0.061134  0.043784 -0.030498   0.495474  \n",
              "Fireplaces       0.008192  0.032152 -0.007612   0.474558  \n",
              "Garage Yr Blt   -0.009265  0.024498 -0.005159   0.526965  \n",
              "Garage Cars     -0.016948  0.049847 -0.022488   0.647877  \n",
              "Garage Area      0.008466  0.039544 -0.013018   0.640401  \n",
              "Wood Deck SF     0.056820  0.016974  0.000882   0.327143  \n",
              "Open Porch SF    0.077254  0.033651 -0.037467   0.312951  \n",
              "Enclosed Porch   0.008773 -0.021324 -0.000505  -0.128787  \n",
              "3Ssn Porch      -0.000753  0.027229  0.022668   0.032225  \n",
              "Screen Porch     0.007162  0.028169 -0.006116   0.112151  \n",
              "Pool Area        0.011942 -0.042223 -0.052541   0.068403  \n",
              "Misc Val         1.000000  0.007333  0.008574  -0.015691  \n",
              "Mo Sold          0.007333  1.000000 -0.155554   0.035259  \n",
              "Yr Sold          0.008574 -0.155554  1.000000  -0.030569  \n",
              "SalePrice       -0.015691  0.035259 -0.030569   1.000000  \n",
              "\n",
              "[39 rows x 39 columns]"
            ],
            "text/html": [
              "\n",
              "  <div id=\"df-1a14c287-b6ba-4bb0-bcfc-198629835c1c\">\n",
              "    <div class=\"colab-df-container\">\n",
              "      <div>\n",
              "<style scoped>\n",
              "    .dataframe tbody tr th:only-of-type {\n",
              "        vertical-align: middle;\n",
              "    }\n",
              "\n",
              "    .dataframe tbody tr th {\n",
              "        vertical-align: top;\n",
              "    }\n",
              "\n",
              "    .dataframe thead th {\n",
              "        text-align: right;\n",
              "    }\n",
              "</style>\n",
              "<table border=\"1\" class=\"dataframe\">\n",
              "  <thead>\n",
              "    <tr style=\"text-align: right;\">\n",
              "      <th></th>\n",
              "      <th>Order</th>\n",
              "      <th>PID</th>\n",
              "      <th>MS SubClass</th>\n",
              "      <th>Lot Frontage</th>\n",
              "      <th>Lot Area</th>\n",
              "      <th>Overall Qual</th>\n",
              "      <th>Overall Cond</th>\n",
              "      <th>Year Built</th>\n",
              "      <th>Year Remod/Add</th>\n",
              "      <th>Mas Vnr Area</th>\n",
              "      <th>...</th>\n",
              "      <th>Wood Deck SF</th>\n",
              "      <th>Open Porch SF</th>\n",
              "      <th>Enclosed Porch</th>\n",
              "      <th>3Ssn Porch</th>\n",
              "      <th>Screen Porch</th>\n",
              "      <th>Pool Area</th>\n",
              "      <th>Misc Val</th>\n",
              "      <th>Mo Sold</th>\n",
              "      <th>Yr Sold</th>\n",
              "      <th>SalePrice</th>\n",
              "    </tr>\n",
              "  </thead>\n",
              "  <tbody>\n",
              "    <tr>\n",
              "      <th>Order</th>\n",
              "      <td>1.000000</td>\n",
              "      <td>0.173593</td>\n",
              "      <td>0.011797</td>\n",
              "      <td>-0.007034</td>\n",
              "      <td>0.031354</td>\n",
              "      <td>-0.048500</td>\n",
              "      <td>-0.011054</td>\n",
              "      <td>-0.052319</td>\n",
              "      <td>-0.075566</td>\n",
              "      <td>-0.030907</td>\n",
              "      <td>...</td>\n",
              "      <td>-0.011292</td>\n",
              "      <td>0.016355</td>\n",
              "      <td>0.027908</td>\n",
              "      <td>-0.024975</td>\n",
              "      <td>0.004307</td>\n",
              "      <td>0.052518</td>\n",
              "      <td>-0.006083</td>\n",
              "      <td>0.133365</td>\n",
              "      <td>-0.975993</td>\n",
              "      <td>-0.031408</td>\n",
              "    </tr>\n",
              "    <tr>\n",
              "      <th>PID</th>\n",
              "      <td>0.173593</td>\n",
              "      <td>1.000000</td>\n",
              "      <td>-0.001281</td>\n",
              "      <td>-0.096918</td>\n",
              "      <td>0.034868</td>\n",
              "      <td>-0.263147</td>\n",
              "      <td>0.104451</td>\n",
              "      <td>-0.343388</td>\n",
              "      <td>-0.157111</td>\n",
              "      <td>-0.229283</td>\n",
              "      <td>...</td>\n",
              "      <td>-0.051135</td>\n",
              "      <td>-0.071311</td>\n",
              "      <td>0.162519</td>\n",
              "      <td>-0.024894</td>\n",
              "      <td>-0.025735</td>\n",
              "      <td>-0.002845</td>\n",
              "      <td>-0.008260</td>\n",
              "      <td>-0.050455</td>\n",
              "      <td>0.009579</td>\n",
              "      <td>-0.246521</td>\n",
              "    </tr>\n",
              "    <tr>\n",
              "      <th>MS SubClass</th>\n",
              "      <td>0.011797</td>\n",
              "      <td>-0.001281</td>\n",
              "      <td>1.000000</td>\n",
              "      <td>-0.420135</td>\n",
              "      <td>-0.204613</td>\n",
              "      <td>0.039419</td>\n",
              "      <td>-0.067349</td>\n",
              "      <td>0.036579</td>\n",
              "      <td>0.043397</td>\n",
              "      <td>0.002730</td>\n",
              "      <td>...</td>\n",
              "      <td>-0.017310</td>\n",
              "      <td>-0.014823</td>\n",
              "      <td>-0.022866</td>\n",
              "      <td>-0.037956</td>\n",
              "      <td>-0.050614</td>\n",
              "      <td>-0.003434</td>\n",
              "      <td>-0.029254</td>\n",
              "      <td>0.000350</td>\n",
              "      <td>-0.017905</td>\n",
              "      <td>-0.085092</td>\n",
              "    </tr>\n",
              "    <tr>\n",
              "      <th>Lot Frontage</th>\n",
              "      <td>-0.007034</td>\n",
              "      <td>-0.096918</td>\n",
              "      <td>-0.420135</td>\n",
              "      <td>1.000000</td>\n",
              "      <td>0.491313</td>\n",
              "      <td>0.212042</td>\n",
              "      <td>-0.074448</td>\n",
              "      <td>0.121562</td>\n",
              "      <td>0.091712</td>\n",
              "      <td>0.222407</td>\n",
              "      <td>...</td>\n",
              "      <td>0.120084</td>\n",
              "      <td>0.163040</td>\n",
              "      <td>0.012758</td>\n",
              "      <td>0.028564</td>\n",
              "      <td>0.076666</td>\n",
              "      <td>0.173947</td>\n",
              "      <td>0.044476</td>\n",
              "      <td>0.011085</td>\n",
              "      <td>-0.007547</td>\n",
              "      <td>0.357318</td>\n",
              "    </tr>\n",
              "    <tr>\n",
              "      <th>Lot Area</th>\n",
              "      <td>0.031354</td>\n",
              "      <td>0.034868</td>\n",
              "      <td>-0.204613</td>\n",
              "      <td>0.491313</td>\n",
              "      <td>1.000000</td>\n",
              "      <td>0.097188</td>\n",
              "      <td>-0.034759</td>\n",
              "      <td>0.023258</td>\n",
              "      <td>0.021682</td>\n",
              "      <td>0.126830</td>\n",
              "      <td>...</td>\n",
              "      <td>0.157212</td>\n",
              "      <td>0.103760</td>\n",
              "      <td>0.021868</td>\n",
              "      <td>0.016243</td>\n",
              "      <td>0.055044</td>\n",
              "      <td>0.093775</td>\n",
              "      <td>0.069188</td>\n",
              "      <td>0.003859</td>\n",
              "      <td>-0.023085</td>\n",
              "      <td>0.266549</td>\n",
              "    </tr>\n",
              "    <tr>\n",
              "      <th>Overall Qual</th>\n",
              "      <td>-0.048500</td>\n",
              "      <td>-0.263147</td>\n",
              "      <td>0.039419</td>\n",
              "      <td>0.212042</td>\n",
              "      <td>0.097188</td>\n",
              "      <td>1.000000</td>\n",
              "      <td>-0.094812</td>\n",
              "      <td>0.597027</td>\n",
              "      <td>0.569609</td>\n",
              "      <td>0.429418</td>\n",
              "      <td>...</td>\n",
              "      <td>0.255663</td>\n",
              "      <td>0.298412</td>\n",
              "      <td>-0.140332</td>\n",
              "      <td>0.018240</td>\n",
              "      <td>0.041615</td>\n",
              "      <td>0.030399</td>\n",
              "      <td>0.005179</td>\n",
              "      <td>0.031103</td>\n",
              "      <td>-0.020719</td>\n",
              "      <td>0.799262</td>\n",
              "    </tr>\n",
              "    <tr>\n",
              "      <th>Overall Cond</th>\n",
              "      <td>-0.011054</td>\n",
              "      <td>0.104451</td>\n",
              "      <td>-0.067349</td>\n",
              "      <td>-0.074448</td>\n",
              "      <td>-0.034759</td>\n",
              "      <td>-0.094812</td>\n",
              "      <td>1.000000</td>\n",
              "      <td>-0.368773</td>\n",
              "      <td>0.047680</td>\n",
              "      <td>-0.135340</td>\n",
              "      <td>...</td>\n",
              "      <td>0.020344</td>\n",
              "      <td>-0.068934</td>\n",
              "      <td>0.071459</td>\n",
              "      <td>0.043852</td>\n",
              "      <td>0.044055</td>\n",
              "      <td>-0.016787</td>\n",
              "      <td>0.034056</td>\n",
              "      <td>-0.007295</td>\n",
              "      <td>0.031207</td>\n",
              "      <td>-0.101697</td>\n",
              "    </tr>\n",
              "    <tr>\n",
              "      <th>Year Built</th>\n",
              "      <td>-0.052319</td>\n",
              "      <td>-0.343388</td>\n",
              "      <td>0.036579</td>\n",
              "      <td>0.121562</td>\n",
              "      <td>0.023258</td>\n",
              "      <td>0.597027</td>\n",
              "      <td>-0.368773</td>\n",
              "      <td>1.000000</td>\n",
              "      <td>0.612095</td>\n",
              "      <td>0.313292</td>\n",
              "      <td>...</td>\n",
              "      <td>0.228964</td>\n",
              "      <td>0.198365</td>\n",
              "      <td>-0.374364</td>\n",
              "      <td>0.015803</td>\n",
              "      <td>-0.041436</td>\n",
              "      <td>0.002213</td>\n",
              "      <td>-0.011011</td>\n",
              "      <td>0.014577</td>\n",
              "      <td>-0.013197</td>\n",
              "      <td>0.558426</td>\n",
              "    </tr>\n",
              "    <tr>\n",
              "      <th>Year Remod/Add</th>\n",
              "      <td>-0.075566</td>\n",
              "      <td>-0.157111</td>\n",
              "      <td>0.043397</td>\n",
              "      <td>0.091712</td>\n",
              "      <td>0.021682</td>\n",
              "      <td>0.569609</td>\n",
              "      <td>0.047680</td>\n",
              "      <td>0.612095</td>\n",
              "      <td>1.000000</td>\n",
              "      <td>0.196928</td>\n",
              "      <td>...</td>\n",
              "      <td>0.217857</td>\n",
              "      <td>0.241748</td>\n",
              "      <td>-0.220383</td>\n",
              "      <td>0.037412</td>\n",
              "      <td>-0.046888</td>\n",
              "      <td>-0.011410</td>\n",
              "      <td>-0.003132</td>\n",
              "      <td>0.018048</td>\n",
              "      <td>0.032652</td>\n",
              "      <td>0.532974</td>\n",
              "    </tr>\n",
              "    <tr>\n",
              "      <th>Mas Vnr Area</th>\n",
              "      <td>-0.030907</td>\n",
              "      <td>-0.229283</td>\n",
              "      <td>0.002730</td>\n",
              "      <td>0.222407</td>\n",
              "      <td>0.126830</td>\n",
              "      <td>0.429418</td>\n",
              "      <td>-0.135340</td>\n",
              "      <td>0.313292</td>\n",
              "      <td>0.196928</td>\n",
              "      <td>1.000000</td>\n",
              "      <td>...</td>\n",
              "      <td>0.165467</td>\n",
              "      <td>0.143748</td>\n",
              "      <td>-0.110787</td>\n",
              "      <td>0.013778</td>\n",
              "      <td>0.065643</td>\n",
              "      <td>0.004617</td>\n",
              "      <td>0.044934</td>\n",
              "      <td>-0.000276</td>\n",
              "      <td>-0.017715</td>\n",
              "      <td>0.508285</td>\n",
              "    </tr>\n",
              "    <tr>\n",
              "      <th>BsmtFin SF 1</th>\n",
              "      <td>-0.032321</td>\n",
              "      <td>-0.098375</td>\n",
              "      <td>-0.060075</td>\n",
              "      <td>0.215583</td>\n",
              "      <td>0.191555</td>\n",
              "      <td>0.284118</td>\n",
              "      <td>-0.050935</td>\n",
              "      <td>0.279870</td>\n",
              "      <td>0.151790</td>\n",
              "      <td>0.301872</td>\n",
              "      <td>...</td>\n",
              "      <td>0.224010</td>\n",
              "      <td>0.124947</td>\n",
              "      <td>-0.100455</td>\n",
              "      <td>0.050541</td>\n",
              "      <td>0.095874</td>\n",
              "      <td>0.084140</td>\n",
              "      <td>0.092886</td>\n",
              "      <td>-0.001155</td>\n",
              "      <td>0.022397</td>\n",
              "      <td>0.432914</td>\n",
              "    </tr>\n",
              "    <tr>\n",
              "      <th>BsmtFin SF 2</th>\n",
              "      <td>-0.002773</td>\n",
              "      <td>-0.001145</td>\n",
              "      <td>-0.070946</td>\n",
              "      <td>0.045999</td>\n",
              "      <td>0.083150</td>\n",
              "      <td>-0.041287</td>\n",
              "      <td>0.041134</td>\n",
              "      <td>-0.027415</td>\n",
              "      <td>-0.062129</td>\n",
              "      <td>-0.016019</td>\n",
              "      <td>...</td>\n",
              "      <td>0.098528</td>\n",
              "      <td>-0.005587</td>\n",
              "      <td>0.032380</td>\n",
              "      <td>-0.023325</td>\n",
              "      <td>0.062951</td>\n",
              "      <td>0.044398</td>\n",
              "      <td>-0.005204</td>\n",
              "      <td>-0.009484</td>\n",
              "      <td>0.007105</td>\n",
              "      <td>0.005891</td>\n",
              "    </tr>\n",
              "    <tr>\n",
              "      <th>Bsmt Unf SF</th>\n",
              "      <td>0.005780</td>\n",
              "      <td>-0.087707</td>\n",
              "      <td>-0.130421</td>\n",
              "      <td>0.116743</td>\n",
              "      <td>0.023658</td>\n",
              "      <td>0.270058</td>\n",
              "      <td>-0.136819</td>\n",
              "      <td>0.128998</td>\n",
              "      <td>0.164805</td>\n",
              "      <td>0.091668</td>\n",
              "      <td>...</td>\n",
              "      <td>-0.039621</td>\n",
              "      <td>0.118880</td>\n",
              "      <td>0.006229</td>\n",
              "      <td>-0.005446</td>\n",
              "      <td>-0.048083</td>\n",
              "      <td>-0.031999</td>\n",
              "      <td>-0.010166</td>\n",
              "      <td>0.021569</td>\n",
              "      <td>-0.036384</td>\n",
              "      <td>0.182855</td>\n",
              "    </tr>\n",
              "    <tr>\n",
              "      <th>Total Bsmt SF</th>\n",
              "      <td>-0.028719</td>\n",
              "      <td>-0.189642</td>\n",
              "      <td>-0.219445</td>\n",
              "      <td>0.353773</td>\n",
              "      <td>0.253589</td>\n",
              "      <td>0.547294</td>\n",
              "      <td>-0.173344</td>\n",
              "      <td>0.407526</td>\n",
              "      <td>0.297481</td>\n",
              "      <td>0.397040</td>\n",
              "      <td>...</td>\n",
              "      <td>0.229931</td>\n",
              "      <td>0.245627</td>\n",
              "      <td>-0.085225</td>\n",
              "      <td>0.037871</td>\n",
              "      <td>0.075341</td>\n",
              "      <td>0.072128</td>\n",
              "      <td>0.083904</td>\n",
              "      <td>0.016678</td>\n",
              "      <td>-0.010405</td>\n",
              "      <td>0.632280</td>\n",
              "    </tr>\n",
              "    <tr>\n",
              "      <th>1st Flr SF</th>\n",
              "      <td>-0.013201</td>\n",
              "      <td>-0.141902</td>\n",
              "      <td>-0.247828</td>\n",
              "      <td>0.457391</td>\n",
              "      <td>0.332235</td>\n",
              "      <td>0.477837</td>\n",
              "      <td>-0.157052</td>\n",
              "      <td>0.310463</td>\n",
              "      <td>0.242108</td>\n",
              "      <td>0.395736</td>\n",
              "      <td>...</td>\n",
              "      <td>0.227131</td>\n",
              "      <td>0.238041</td>\n",
              "      <td>-0.065713</td>\n",
              "      <td>0.044061</td>\n",
              "      <td>0.098316</td>\n",
              "      <td>0.121821</td>\n",
              "      <td>0.093003</td>\n",
              "      <td>0.040496</td>\n",
              "      <td>-0.013667</td>\n",
              "      <td>0.621676</td>\n",
              "    </tr>\n",
              "    <tr>\n",
              "      <th>2nd Flr SF</th>\n",
              "      <td>-0.000417</td>\n",
              "      <td>-0.003289</td>\n",
              "      <td>0.304237</td>\n",
              "      <td>0.029187</td>\n",
              "      <td>0.032996</td>\n",
              "      <td>0.241402</td>\n",
              "      <td>0.006218</td>\n",
              "      <td>0.016828</td>\n",
              "      <td>0.158939</td>\n",
              "      <td>0.121805</td>\n",
              "      <td>...</td>\n",
              "      <td>0.089097</td>\n",
              "      <td>0.184538</td>\n",
              "      <td>0.055429</td>\n",
              "      <td>-0.032172</td>\n",
              "      <td>0.011741</td>\n",
              "      <td>0.044602</td>\n",
              "      <td>-0.005078</td>\n",
              "      <td>0.013247</td>\n",
              "      <td>-0.018530</td>\n",
              "      <td>0.269373</td>\n",
              "    </tr>\n",
              "    <tr>\n",
              "      <th>Low Qual Fin SF</th>\n",
              "      <td>0.013589</td>\n",
              "      <td>0.056940</td>\n",
              "      <td>0.025765</td>\n",
              "      <td>0.005249</td>\n",
              "      <td>0.000812</td>\n",
              "      <td>-0.048680</td>\n",
              "      <td>0.009175</td>\n",
              "      <td>-0.144282</td>\n",
              "      <td>-0.060365</td>\n",
              "      <td>-0.057701</td>\n",
              "      <td>...</td>\n",
              "      <td>-0.015646</td>\n",
              "      <td>-0.000761</td>\n",
              "      <td>0.087326</td>\n",
              "      <td>-0.004505</td>\n",
              "      <td>0.006943</td>\n",
              "      <td>0.035200</td>\n",
              "      <td>-0.005939</td>\n",
              "      <td>0.011397</td>\n",
              "      <td>-0.002074</td>\n",
              "      <td>-0.037660</td>\n",
              "    </tr>\n",
              "    <tr>\n",
              "      <th>Gr Liv Area</th>\n",
              "      <td>-0.009342</td>\n",
              "      <td>-0.107579</td>\n",
              "      <td>0.068061</td>\n",
              "      <td>0.383822</td>\n",
              "      <td>0.285599</td>\n",
              "      <td>0.570556</td>\n",
              "      <td>-0.115643</td>\n",
              "      <td>0.241726</td>\n",
              "      <td>0.316855</td>\n",
              "      <td>0.403611</td>\n",
              "      <td>...</td>\n",
              "      <td>0.250153</td>\n",
              "      <td>0.340857</td>\n",
              "      <td>0.004030</td>\n",
              "      <td>0.006481</td>\n",
              "      <td>0.086804</td>\n",
              "      <td>0.135463</td>\n",
              "      <td>0.067252</td>\n",
              "      <td>0.043665</td>\n",
              "      <td>-0.026489</td>\n",
              "      <td>0.706780</td>\n",
              "    </tr>\n",
              "    <tr>\n",
              "      <th>Bsmt Full Bath</th>\n",
              "      <td>-0.042539</td>\n",
              "      <td>-0.037759</td>\n",
              "      <td>0.013701</td>\n",
              "      <td>0.108915</td>\n",
              "      <td>0.125877</td>\n",
              "      <td>0.167858</td>\n",
              "      <td>-0.042766</td>\n",
              "      <td>0.211849</td>\n",
              "      <td>0.134387</td>\n",
              "      <td>0.140113</td>\n",
              "      <td>...</td>\n",
              "      <td>0.186945</td>\n",
              "      <td>0.082268</td>\n",
              "      <td>-0.069235</td>\n",
              "      <td>0.027034</td>\n",
              "      <td>0.052208</td>\n",
              "      <td>0.043705</td>\n",
              "      <td>-0.004868</td>\n",
              "      <td>-0.003471</td>\n",
              "      <td>0.044905</td>\n",
              "      <td>0.276050</td>\n",
              "    </tr>\n",
              "    <tr>\n",
              "      <th>Bsmt Half Bath</th>\n",
              "      <td>0.024978</td>\n",
              "      <td>0.004328</td>\n",
              "      <td>-0.003329</td>\n",
              "      <td>-0.024724</td>\n",
              "      <td>0.026903</td>\n",
              "      <td>-0.041647</td>\n",
              "      <td>0.084455</td>\n",
              "      <td>-0.030626</td>\n",
              "      <td>-0.046292</td>\n",
              "      <td>0.015421</td>\n",
              "      <td>...</td>\n",
              "      <td>0.051430</td>\n",
              "      <td>-0.035069</td>\n",
              "      <td>-0.009334</td>\n",
              "      <td>0.026954</td>\n",
              "      <td>0.042326</td>\n",
              "      <td>0.066902</td>\n",
              "      <td>0.036982</td>\n",
              "      <td>0.022699</td>\n",
              "      <td>-0.019529</td>\n",
              "      <td>-0.035835</td>\n",
              "    </tr>\n",
              "    <tr>\n",
              "      <th>Full Bath</th>\n",
              "      <td>-0.044985</td>\n",
              "      <td>-0.171431</td>\n",
              "      <td>0.134631</td>\n",
              "      <td>0.184521</td>\n",
              "      <td>0.127433</td>\n",
              "      <td>0.522263</td>\n",
              "      <td>-0.214316</td>\n",
              "      <td>0.469406</td>\n",
              "      <td>0.457266</td>\n",
              "      <td>0.260153</td>\n",
              "      <td>...</td>\n",
              "      <td>0.179574</td>\n",
              "      <td>0.258675</td>\n",
              "      <td>-0.117795</td>\n",
              "      <td>0.015435</td>\n",
              "      <td>-0.015130</td>\n",
              "      <td>0.028205</td>\n",
              "      <td>-0.009771</td>\n",
              "      <td>0.046032</td>\n",
              "      <td>-0.004754</td>\n",
              "      <td>0.545604</td>\n",
              "    </tr>\n",
              "    <tr>\n",
              "      <th>Half Bath</th>\n",
              "      <td>-0.039749</td>\n",
              "      <td>-0.166636</td>\n",
              "      <td>0.175879</td>\n",
              "      <td>0.041880</td>\n",
              "      <td>0.035497</td>\n",
              "      <td>0.268853</td>\n",
              "      <td>-0.088127</td>\n",
              "      <td>0.269268</td>\n",
              "      <td>0.211771</td>\n",
              "      <td>0.192965</td>\n",
              "      <td>...</td>\n",
              "      <td>0.115212</td>\n",
              "      <td>0.180704</td>\n",
              "      <td>-0.081312</td>\n",
              "      <td>-0.023231</td>\n",
              "      <td>0.035990</td>\n",
              "      <td>0.001515</td>\n",
              "      <td>0.026648</td>\n",
              "      <td>-0.001311</td>\n",
              "      <td>0.001561</td>\n",
              "      <td>0.285056</td>\n",
              "    </tr>\n",
              "    <tr>\n",
              "      <th>Bedroom AbvGr</th>\n",
              "      <td>0.015424</td>\n",
              "      <td>0.006345</td>\n",
              "      <td>-0.019208</td>\n",
              "      <td>0.240442</td>\n",
              "      <td>0.136569</td>\n",
              "      <td>0.063291</td>\n",
              "      <td>-0.006137</td>\n",
              "      <td>-0.055093</td>\n",
              "      <td>-0.021536</td>\n",
              "      <td>0.080546</td>\n",
              "      <td>...</td>\n",
              "      <td>0.029711</td>\n",
              "      <td>0.083650</td>\n",
              "      <td>0.052115</td>\n",
              "      <td>-0.047151</td>\n",
              "      <td>0.009250</td>\n",
              "      <td>0.036707</td>\n",
              "      <td>0.000887</td>\n",
              "      <td>0.053677</td>\n",
              "      <td>-0.018008</td>\n",
              "      <td>0.143913</td>\n",
              "    </tr>\n",
              "    <tr>\n",
              "      <th>Kitchen AbvGr</th>\n",
              "      <td>-0.017685</td>\n",
              "      <td>0.076470</td>\n",
              "      <td>0.257698</td>\n",
              "      <td>0.005407</td>\n",
              "      <td>-0.020301</td>\n",
              "      <td>-0.159744</td>\n",
              "      <td>-0.086386</td>\n",
              "      <td>-0.137852</td>\n",
              "      <td>-0.142404</td>\n",
              "      <td>-0.050998</td>\n",
              "      <td>...</td>\n",
              "      <td>-0.087410</td>\n",
              "      <td>-0.068283</td>\n",
              "      <td>0.027911</td>\n",
              "      <td>-0.021379</td>\n",
              "      <td>-0.056337</td>\n",
              "      <td>-0.013066</td>\n",
              "      <td>0.025145</td>\n",
              "      <td>0.035201</td>\n",
              "      <td>0.035421</td>\n",
              "      <td>-0.119814</td>\n",
              "    </tr>\n",
              "    <tr>\n",
              "      <th>TotRms AbvGrd</th>\n",
              "      <td>0.002612</td>\n",
              "      <td>-0.068981</td>\n",
              "      <td>0.031898</td>\n",
              "      <td>0.353137</td>\n",
              "      <td>0.216597</td>\n",
              "      <td>0.380693</td>\n",
              "      <td>-0.089816</td>\n",
              "      <td>0.111919</td>\n",
              "      <td>0.197528</td>\n",
              "      <td>0.279563</td>\n",
              "      <td>...</td>\n",
              "      <td>0.154735</td>\n",
              "      <td>0.235684</td>\n",
              "      <td>0.017221</td>\n",
              "      <td>-0.025097</td>\n",
              "      <td>0.033731</td>\n",
              "      <td>0.072103</td>\n",
              "      <td>0.061134</td>\n",
              "      <td>0.043784</td>\n",
              "      <td>-0.030498</td>\n",
              "      <td>0.495474</td>\n",
              "    </tr>\n",
              "    <tr>\n",
              "      <th>Fireplaces</th>\n",
              "      <td>-0.019156</td>\n",
              "      <td>-0.108056</td>\n",
              "      <td>-0.049955</td>\n",
              "      <td>0.257255</td>\n",
              "      <td>0.256989</td>\n",
              "      <td>0.393007</td>\n",
              "      <td>-0.031702</td>\n",
              "      <td>0.170672</td>\n",
              "      <td>0.133322</td>\n",
              "      <td>0.272068</td>\n",
              "      <td>...</td>\n",
              "      <td>0.228064</td>\n",
              "      <td>0.159637</td>\n",
              "      <td>-0.000250</td>\n",
              "      <td>0.018414</td>\n",
              "      <td>0.168004</td>\n",
              "      <td>0.098449</td>\n",
              "      <td>0.008192</td>\n",
              "      <td>0.032152</td>\n",
              "      <td>-0.007612</td>\n",
              "      <td>0.474558</td>\n",
              "    </tr>\n",
              "    <tr>\n",
              "      <th>Garage Yr Blt</th>\n",
              "      <td>-0.051160</td>\n",
              "      <td>-0.256829</td>\n",
              "      <td>0.088754</td>\n",
              "      <td>0.076306</td>\n",
              "      <td>-0.008952</td>\n",
              "      <td>0.570569</td>\n",
              "      <td>-0.326017</td>\n",
              "      <td>0.834849</td>\n",
              "      <td>0.652310</td>\n",
              "      <td>0.254784</td>\n",
              "      <td>...</td>\n",
              "      <td>0.221991</td>\n",
              "      <td>0.231240</td>\n",
              "      <td>-0.300879</td>\n",
              "      <td>0.020617</td>\n",
              "      <td>-0.062515</td>\n",
              "      <td>-0.014513</td>\n",
              "      <td>-0.009265</td>\n",
              "      <td>0.024498</td>\n",
              "      <td>-0.005159</td>\n",
              "      <td>0.526965</td>\n",
              "    </tr>\n",
              "    <tr>\n",
              "      <th>Garage Cars</th>\n",
              "      <td>-0.036185</td>\n",
              "      <td>-0.237484</td>\n",
              "      <td>-0.045883</td>\n",
              "      <td>0.308706</td>\n",
              "      <td>0.179512</td>\n",
              "      <td>0.599545</td>\n",
              "      <td>-0.181557</td>\n",
              "      <td>0.537443</td>\n",
              "      <td>0.425403</td>\n",
              "      <td>0.360159</td>\n",
              "      <td>...</td>\n",
              "      <td>0.241226</td>\n",
              "      <td>0.204182</td>\n",
              "      <td>-0.132840</td>\n",
              "      <td>0.023345</td>\n",
              "      <td>0.043012</td>\n",
              "      <td>0.030393</td>\n",
              "      <td>-0.016948</td>\n",
              "      <td>0.049847</td>\n",
              "      <td>-0.022488</td>\n",
              "      <td>0.647877</td>\n",
              "    </tr>\n",
              "    <tr>\n",
              "      <th>Garage Area</th>\n",
              "      <td>-0.035435</td>\n",
              "      <td>-0.210606</td>\n",
              "      <td>-0.103239</td>\n",
              "      <td>0.358505</td>\n",
              "      <td>0.212822</td>\n",
              "      <td>0.563503</td>\n",
              "      <td>-0.153754</td>\n",
              "      <td>0.480131</td>\n",
              "      <td>0.376438</td>\n",
              "      <td>0.373458</td>\n",
              "      <td>...</td>\n",
              "      <td>0.238371</td>\n",
              "      <td>0.232912</td>\n",
              "      <td>-0.106272</td>\n",
              "      <td>0.029458</td>\n",
              "      <td>0.062436</td>\n",
              "      <td>0.053051</td>\n",
              "      <td>0.008466</td>\n",
              "      <td>0.039544</td>\n",
              "      <td>-0.013018</td>\n",
              "      <td>0.640401</td>\n",
              "    </tr>\n",
              "    <tr>\n",
              "      <th>Wood Deck SF</th>\n",
              "      <td>-0.011292</td>\n",
              "      <td>-0.051135</td>\n",
              "      <td>-0.017310</td>\n",
              "      <td>0.120084</td>\n",
              "      <td>0.157212</td>\n",
              "      <td>0.255663</td>\n",
              "      <td>0.020344</td>\n",
              "      <td>0.228964</td>\n",
              "      <td>0.217857</td>\n",
              "      <td>0.165467</td>\n",
              "      <td>...</td>\n",
              "      <td>1.000000</td>\n",
              "      <td>0.039243</td>\n",
              "      <td>-0.119136</td>\n",
              "      <td>-0.003967</td>\n",
              "      <td>-0.052191</td>\n",
              "      <td>0.094156</td>\n",
              "      <td>0.056820</td>\n",
              "      <td>0.016974</td>\n",
              "      <td>0.000882</td>\n",
              "      <td>0.327143</td>\n",
              "    </tr>\n",
              "    <tr>\n",
              "      <th>Open Porch SF</th>\n",
              "      <td>0.016355</td>\n",
              "      <td>-0.071311</td>\n",
              "      <td>-0.014823</td>\n",
              "      <td>0.163040</td>\n",
              "      <td>0.103760</td>\n",
              "      <td>0.298412</td>\n",
              "      <td>-0.068934</td>\n",
              "      <td>0.198365</td>\n",
              "      <td>0.241748</td>\n",
              "      <td>0.143748</td>\n",
              "      <td>...</td>\n",
              "      <td>0.039243</td>\n",
              "      <td>1.000000</td>\n",
              "      <td>-0.059875</td>\n",
              "      <td>-0.009458</td>\n",
              "      <td>0.047548</td>\n",
              "      <td>0.064135</td>\n",
              "      <td>0.077254</td>\n",
              "      <td>0.033651</td>\n",
              "      <td>-0.037467</td>\n",
              "      <td>0.312951</td>\n",
              "    </tr>\n",
              "    <tr>\n",
              "      <th>Enclosed Porch</th>\n",
              "      <td>0.027908</td>\n",
              "      <td>0.162519</td>\n",
              "      <td>-0.022866</td>\n",
              "      <td>0.012758</td>\n",
              "      <td>0.021868</td>\n",
              "      <td>-0.140332</td>\n",
              "      <td>0.071459</td>\n",
              "      <td>-0.374364</td>\n",
              "      <td>-0.220383</td>\n",
              "      <td>-0.110787</td>\n",
              "      <td>...</td>\n",
              "      <td>-0.119136</td>\n",
              "      <td>-0.059875</td>\n",
              "      <td>1.000000</td>\n",
              "      <td>-0.032674</td>\n",
              "      <td>-0.063965</td>\n",
              "      <td>0.092596</td>\n",
              "      <td>0.008773</td>\n",
              "      <td>-0.021324</td>\n",
              "      <td>-0.000505</td>\n",
              "      <td>-0.128787</td>\n",
              "    </tr>\n",
              "    <tr>\n",
              "      <th>3Ssn Porch</th>\n",
              "      <td>-0.024975</td>\n",
              "      <td>-0.024894</td>\n",
              "      <td>-0.037956</td>\n",
              "      <td>0.028564</td>\n",
              "      <td>0.016243</td>\n",
              "      <td>0.018240</td>\n",
              "      <td>0.043852</td>\n",
              "      <td>0.015803</td>\n",
              "      <td>0.037412</td>\n",
              "      <td>0.013778</td>\n",
              "      <td>...</td>\n",
              "      <td>-0.003967</td>\n",
              "      <td>-0.009458</td>\n",
              "      <td>-0.032674</td>\n",
              "      <td>1.000000</td>\n",
              "      <td>-0.029430</td>\n",
              "      <td>-0.006501</td>\n",
              "      <td>-0.000753</td>\n",
              "      <td>0.027229</td>\n",
              "      <td>0.022668</td>\n",
              "      <td>0.032225</td>\n",
              "    </tr>\n",
              "    <tr>\n",
              "      <th>Screen Porch</th>\n",
              "      <td>0.004307</td>\n",
              "      <td>-0.025735</td>\n",
              "      <td>-0.050614</td>\n",
              "      <td>0.076666</td>\n",
              "      <td>0.055044</td>\n",
              "      <td>0.041615</td>\n",
              "      <td>0.044055</td>\n",
              "      <td>-0.041436</td>\n",
              "      <td>-0.046888</td>\n",
              "      <td>0.065643</td>\n",
              "      <td>...</td>\n",
              "      <td>-0.052191</td>\n",
              "      <td>0.047548</td>\n",
              "      <td>-0.063965</td>\n",
              "      <td>-0.029430</td>\n",
              "      <td>1.000000</td>\n",
              "      <td>0.026383</td>\n",
              "      <td>0.007162</td>\n",
              "      <td>0.028169</td>\n",
              "      <td>-0.006116</td>\n",
              "      <td>0.112151</td>\n",
              "    </tr>\n",
              "    <tr>\n",
              "      <th>Pool Area</th>\n",
              "      <td>0.052518</td>\n",
              "      <td>-0.002845</td>\n",
              "      <td>-0.003434</td>\n",
              "      <td>0.173947</td>\n",
              "      <td>0.093775</td>\n",
              "      <td>0.030399</td>\n",
              "      <td>-0.016787</td>\n",
              "      <td>0.002213</td>\n",
              "      <td>-0.011410</td>\n",
              "      <td>0.004617</td>\n",
              "      <td>...</td>\n",
              "      <td>0.094156</td>\n",
              "      <td>0.064135</td>\n",
              "      <td>0.092596</td>\n",
              "      <td>-0.006501</td>\n",
              "      <td>0.026383</td>\n",
              "      <td>1.000000</td>\n",
              "      <td>0.011942</td>\n",
              "      <td>-0.042223</td>\n",
              "      <td>-0.052541</td>\n",
              "      <td>0.068403</td>\n",
              "    </tr>\n",
              "    <tr>\n",
              "      <th>Misc Val</th>\n",
              "      <td>-0.006083</td>\n",
              "      <td>-0.008260</td>\n",
              "      <td>-0.029254</td>\n",
              "      <td>0.044476</td>\n",
              "      <td>0.069188</td>\n",
              "      <td>0.005179</td>\n",
              "      <td>0.034056</td>\n",
              "      <td>-0.011011</td>\n",
              "      <td>-0.003132</td>\n",
              "      <td>0.044934</td>\n",
              "      <td>...</td>\n",
              "      <td>0.056820</td>\n",
              "      <td>0.077254</td>\n",
              "      <td>0.008773</td>\n",
              "      <td>-0.000753</td>\n",
              "      <td>0.007162</td>\n",
              "      <td>0.011942</td>\n",
              "      <td>1.000000</td>\n",
              "      <td>0.007333</td>\n",
              "      <td>0.008574</td>\n",
              "      <td>-0.015691</td>\n",
              "    </tr>\n",
              "    <tr>\n",
              "      <th>Mo Sold</th>\n",
              "      <td>0.133365</td>\n",
              "      <td>-0.050455</td>\n",
              "      <td>0.000350</td>\n",
              "      <td>0.011085</td>\n",
              "      <td>0.003859</td>\n",
              "      <td>0.031103</td>\n",
              "      <td>-0.007295</td>\n",
              "      <td>0.014577</td>\n",
              "      <td>0.018048</td>\n",
              "      <td>-0.000276</td>\n",
              "      <td>...</td>\n",
              "      <td>0.016974</td>\n",
              "      <td>0.033651</td>\n",
              "      <td>-0.021324</td>\n",
              "      <td>0.027229</td>\n",
              "      <td>0.028169</td>\n",
              "      <td>-0.042223</td>\n",
              "      <td>0.007333</td>\n",
              "      <td>1.000000</td>\n",
              "      <td>-0.155554</td>\n",
              "      <td>0.035259</td>\n",
              "    </tr>\n",
              "    <tr>\n",
              "      <th>Yr Sold</th>\n",
              "      <td>-0.975993</td>\n",
              "      <td>0.009579</td>\n",
              "      <td>-0.017905</td>\n",
              "      <td>-0.007547</td>\n",
              "      <td>-0.023085</td>\n",
              "      <td>-0.020719</td>\n",
              "      <td>0.031207</td>\n",
              "      <td>-0.013197</td>\n",
              "      <td>0.032652</td>\n",
              "      <td>-0.017715</td>\n",
              "      <td>...</td>\n",
              "      <td>0.000882</td>\n",
              "      <td>-0.037467</td>\n",
              "      <td>-0.000505</td>\n",
              "      <td>0.022668</td>\n",
              "      <td>-0.006116</td>\n",
              "      <td>-0.052541</td>\n",
              "      <td>0.008574</td>\n",
              "      <td>-0.155554</td>\n",
              "      <td>1.000000</td>\n",
              "      <td>-0.030569</td>\n",
              "    </tr>\n",
              "    <tr>\n",
              "      <th>SalePrice</th>\n",
              "      <td>-0.031408</td>\n",
              "      <td>-0.246521</td>\n",
              "      <td>-0.085092</td>\n",
              "      <td>0.357318</td>\n",
              "      <td>0.266549</td>\n",
              "      <td>0.799262</td>\n",
              "      <td>-0.101697</td>\n",
              "      <td>0.558426</td>\n",
              "      <td>0.532974</td>\n",
              "      <td>0.508285</td>\n",
              "      <td>...</td>\n",
              "      <td>0.327143</td>\n",
              "      <td>0.312951</td>\n",
              "      <td>-0.128787</td>\n",
              "      <td>0.032225</td>\n",
              "      <td>0.112151</td>\n",
              "      <td>0.068403</td>\n",
              "      <td>-0.015691</td>\n",
              "      <td>0.035259</td>\n",
              "      <td>-0.030569</td>\n",
              "      <td>1.000000</td>\n",
              "    </tr>\n",
              "  </tbody>\n",
              "</table>\n",
              "<p>39 rows × 39 columns</p>\n",
              "</div>\n",
              "      <button class=\"colab-df-convert\" onclick=\"convertToInteractive('df-1a14c287-b6ba-4bb0-bcfc-198629835c1c')\"\n",
              "              title=\"Convert this dataframe to an interactive table.\"\n",
              "              style=\"display:none;\">\n",
              "        \n",
              "  <svg xmlns=\"http://www.w3.org/2000/svg\" height=\"24px\"viewBox=\"0 0 24 24\"\n",
              "       width=\"24px\">\n",
              "    <path d=\"M0 0h24v24H0V0z\" fill=\"none\"/>\n",
              "    <path d=\"M18.56 5.44l.94 2.06.94-2.06 2.06-.94-2.06-.94-.94-2.06-.94 2.06-2.06.94zm-11 1L8.5 8.5l.94-2.06 2.06-.94-2.06-.94L8.5 2.5l-.94 2.06-2.06.94zm10 10l.94 2.06.94-2.06 2.06-.94-2.06-.94-.94-2.06-.94 2.06-2.06.94z\"/><path d=\"M17.41 7.96l-1.37-1.37c-.4-.4-.92-.59-1.43-.59-.52 0-1.04.2-1.43.59L10.3 9.45l-7.72 7.72c-.78.78-.78 2.05 0 2.83L4 21.41c.39.39.9.59 1.41.59.51 0 1.02-.2 1.41-.59l7.78-7.78 2.81-2.81c.8-.78.8-2.07 0-2.86zM5.41 20L4 18.59l7.72-7.72 1.47 1.35L5.41 20z\"/>\n",
              "  </svg>\n",
              "      </button>\n",
              "      \n",
              "  <style>\n",
              "    .colab-df-container {\n",
              "      display:flex;\n",
              "      flex-wrap:wrap;\n",
              "      gap: 12px;\n",
              "    }\n",
              "\n",
              "    .colab-df-convert {\n",
              "      background-color: #E8F0FE;\n",
              "      border: none;\n",
              "      border-radius: 50%;\n",
              "      cursor: pointer;\n",
              "      display: none;\n",
              "      fill: #1967D2;\n",
              "      height: 32px;\n",
              "      padding: 0 0 0 0;\n",
              "      width: 32px;\n",
              "    }\n",
              "\n",
              "    .colab-df-convert:hover {\n",
              "      background-color: #E2EBFA;\n",
              "      box-shadow: 0px 1px 2px rgba(60, 64, 67, 0.3), 0px 1px 3px 1px rgba(60, 64, 67, 0.15);\n",
              "      fill: #174EA6;\n",
              "    }\n",
              "\n",
              "    [theme=dark] .colab-df-convert {\n",
              "      background-color: #3B4455;\n",
              "      fill: #D2E3FC;\n",
              "    }\n",
              "\n",
              "    [theme=dark] .colab-df-convert:hover {\n",
              "      background-color: #434B5C;\n",
              "      box-shadow: 0px 1px 3px 1px rgba(0, 0, 0, 0.15);\n",
              "      filter: drop-shadow(0px 1px 2px rgba(0, 0, 0, 0.3));\n",
              "      fill: #FFFFFF;\n",
              "    }\n",
              "  </style>\n",
              "\n",
              "      <script>\n",
              "        const buttonEl =\n",
              "          document.querySelector('#df-1a14c287-b6ba-4bb0-bcfc-198629835c1c button.colab-df-convert');\n",
              "        buttonEl.style.display =\n",
              "          google.colab.kernel.accessAllowed ? 'block' : 'none';\n",
              "\n",
              "        async function convertToInteractive(key) {\n",
              "          const element = document.querySelector('#df-1a14c287-b6ba-4bb0-bcfc-198629835c1c');\n",
              "          const dataTable =\n",
              "            await google.colab.kernel.invokeFunction('convertToInteractive',\n",
              "                                                     [key], {});\n",
              "          if (!dataTable) return;\n",
              "\n",
              "          const docLinkHtml = 'Like what you see? Visit the ' +\n",
              "            '<a target=\"_blank\" href=https://colab.research.google.com/notebooks/data_table.ipynb>data table notebook</a>'\n",
              "            + ' to learn more about interactive tables.';\n",
              "          element.innerHTML = '';\n",
              "          dataTable['output_type'] = 'display_data';\n",
              "          await google.colab.output.renderOutput(dataTable, element);\n",
              "          const docLink = document.createElement('div');\n",
              "          docLink.innerHTML = docLinkHtml;\n",
              "          element.appendChild(docLink);\n",
              "        }\n",
              "      </script>\n",
              "    </div>\n",
              "  </div>\n",
              "  "
            ]
          },
          "metadata": {},
          "execution_count": 79
        }
      ]
    },
    {
      "cell_type": "markdown",
      "source": [
        "Ugh, its too much mess. \n",
        "\n",
        "Our target label is 'SalePrice'. So, we should see correlation of that only."
      ],
      "metadata": {
        "id": "n3y7LJBIPbm1"
      }
    },
    {
      "cell_type": "code",
      "source": [
        "df.corr()['SalePrice']"
      ],
      "metadata": {
        "colab": {
          "base_uri": "https://localhost:8080/"
        },
        "id": "t7vkAJdcPXFi",
        "outputId": "79b6a50e-c80f-4a3a-93ee-f8ec9a932f75"
      },
      "execution_count": 80,
      "outputs": [
        {
          "output_type": "stream",
          "name": "stderr",
          "text": [
            "<ipython-input-80-5ff461099641>:1: FutureWarning: The default value of numeric_only in DataFrame.corr is deprecated. In a future version, it will default to False. Select only valid columns or specify the value of numeric_only to silence this warning.\n",
            "  df.corr()['SalePrice']\n"
          ]
        },
        {
          "output_type": "execute_result",
          "data": {
            "text/plain": [
              "Order             -0.031408\n",
              "PID               -0.246521\n",
              "MS SubClass       -0.085092\n",
              "Lot Frontage       0.357318\n",
              "Lot Area           0.266549\n",
              "Overall Qual       0.799262\n",
              "Overall Cond      -0.101697\n",
              "Year Built         0.558426\n",
              "Year Remod/Add     0.532974\n",
              "Mas Vnr Area       0.508285\n",
              "BsmtFin SF 1       0.432914\n",
              "BsmtFin SF 2       0.005891\n",
              "Bsmt Unf SF        0.182855\n",
              "Total Bsmt SF      0.632280\n",
              "1st Flr SF         0.621676\n",
              "2nd Flr SF         0.269373\n",
              "Low Qual Fin SF   -0.037660\n",
              "Gr Liv Area        0.706780\n",
              "Bsmt Full Bath     0.276050\n",
              "Bsmt Half Bath    -0.035835\n",
              "Full Bath          0.545604\n",
              "Half Bath          0.285056\n",
              "Bedroom AbvGr      0.143913\n",
              "Kitchen AbvGr     -0.119814\n",
              "TotRms AbvGrd      0.495474\n",
              "Fireplaces         0.474558\n",
              "Garage Yr Blt      0.526965\n",
              "Garage Cars        0.647877\n",
              "Garage Area        0.640401\n",
              "Wood Deck SF       0.327143\n",
              "Open Porch SF      0.312951\n",
              "Enclosed Porch    -0.128787\n",
              "3Ssn Porch         0.032225\n",
              "Screen Porch       0.112151\n",
              "Pool Area          0.068403\n",
              "Misc Val          -0.015691\n",
              "Mo Sold            0.035259\n",
              "Yr Sold           -0.030569\n",
              "SalePrice          1.000000\n",
              "Name: SalePrice, dtype: float64"
            ]
          },
          "metadata": {},
          "execution_count": 80
        }
      ]
    },
    {
      "cell_type": "markdown",
      "source": [
        "Ugh! There are alot of features. Let's just check the features which are strongly correlated to SalePrice."
      ],
      "metadata": {
        "id": "1xpGdJUNQC2w"
      }
    },
    {
      "cell_type": "code",
      "source": [
        "df.corr()['SalePrice'].sort_values(ascending = False)"
      ],
      "metadata": {
        "colab": {
          "base_uri": "https://localhost:8080/"
        },
        "id": "snTkfRqdPsfS",
        "outputId": "324d29a2-623a-4503-d1f3-c935b881176f"
      },
      "execution_count": 81,
      "outputs": [
        {
          "output_type": "stream",
          "name": "stderr",
          "text": [
            "<ipython-input-81-b96943278a62>:1: FutureWarning: The default value of numeric_only in DataFrame.corr is deprecated. In a future version, it will default to False. Select only valid columns or specify the value of numeric_only to silence this warning.\n",
            "  df.corr()['SalePrice'].sort_values(ascending = False)\n"
          ]
        },
        {
          "output_type": "execute_result",
          "data": {
            "text/plain": [
              "SalePrice          1.000000\n",
              "Overall Qual       0.799262\n",
              "Gr Liv Area        0.706780\n",
              "Garage Cars        0.647877\n",
              "Garage Area        0.640401\n",
              "Total Bsmt SF      0.632280\n",
              "1st Flr SF         0.621676\n",
              "Year Built         0.558426\n",
              "Full Bath          0.545604\n",
              "Year Remod/Add     0.532974\n",
              "Garage Yr Blt      0.526965\n",
              "Mas Vnr Area       0.508285\n",
              "TotRms AbvGrd      0.495474\n",
              "Fireplaces         0.474558\n",
              "BsmtFin SF 1       0.432914\n",
              "Lot Frontage       0.357318\n",
              "Wood Deck SF       0.327143\n",
              "Open Porch SF      0.312951\n",
              "Half Bath          0.285056\n",
              "Bsmt Full Bath     0.276050\n",
              "2nd Flr SF         0.269373\n",
              "Lot Area           0.266549\n",
              "Bsmt Unf SF        0.182855\n",
              "Bedroom AbvGr      0.143913\n",
              "Screen Porch       0.112151\n",
              "Pool Area          0.068403\n",
              "Mo Sold            0.035259\n",
              "3Ssn Porch         0.032225\n",
              "BsmtFin SF 2       0.005891\n",
              "Misc Val          -0.015691\n",
              "Yr Sold           -0.030569\n",
              "Order             -0.031408\n",
              "Bsmt Half Bath    -0.035835\n",
              "Low Qual Fin SF   -0.037660\n",
              "MS SubClass       -0.085092\n",
              "Overall Cond      -0.101697\n",
              "Kitchen AbvGr     -0.119814\n",
              "Enclosed Porch    -0.128787\n",
              "PID               -0.246521\n",
              "Name: SalePrice, dtype: float64"
            ]
          },
          "metadata": {},
          "execution_count": 81
        }
      ]
    },
    {
      "cell_type": "markdown",
      "source": [
        "So, overall Qual is highly correlated to SalePrice target label. Means it will influence the most on getting the required target label.\n",
        "\n",
        "So, let's remove outliers from it. For it, let's visualize it first."
      ],
      "metadata": {
        "id": "PgIPVt_MRXau"
      }
    },
    {
      "cell_type": "code",
      "source": [
        "sns.scatterplot(x = 'Overall Qual', y = 'SalePrice', data = df);"
      ],
      "metadata": {
        "colab": {
          "base_uri": "https://localhost:8080/",
          "height": 449
        },
        "id": "8ArvUz1kQXeT",
        "outputId": "5e737b5c-8e33-45d9-b0e5-db200972b595"
      },
      "execution_count": 82,
      "outputs": [
        {
          "output_type": "display_data",
          "data": {
            "text/plain": [
              "<Figure size 640x480 with 1 Axes>"
            ],
            "image/png": "[encoded data removed]"
          },
          "metadata": {}
        }
      ]
    },
    {
      "cell_type": "markdown",
      "source": [
        "It seems point of lower side of Qual 10 are the outlier. i.e.where the sale value is between 100000 and 200000 and quality is 10.\n",
        "\n",
        "Let's confirm this by checking on more features. I.E. the next most correlated feature: Gr Liv Area   "
      ],
      "metadata": {
        "id": "doOhqACtSZ7D"
      }
    },
    {
      "cell_type": "code",
      "source": [
        "sns.scatterplot(x = 'Gr Liv Area',  y = 'SalePrice', data = df);"
      ],
      "metadata": {
        "colab": {
          "base_uri": "https://localhost:8080/",
          "height": 449
        },
        "id": "QN-VNXcfSSqW",
        "outputId": "f38242e8-0841-4963-df74-74ad8cd492c3"
      },
      "execution_count": 83,
      "outputs": [
        {
          "output_type": "display_data",
          "data": {
            "text/plain": [
              "<Figure size 640x480 with 1 Axes>"
            ],
            "image/png": "[encoded data removed]"
          },
          "metadata": {}
        }
      ]
    },
    {
      "cell_type": "markdown",
      "source": [
        "See, here its more clear that those points where saleprice is between 100000 and 200000 and Garage live area is more than 4000 seems outlier. \n",
        "\n",
        "Let's think is more realistically. If we see the trend on Garage Live area, we can say that more big garage area then more high sale price. What is those 3 points??? where garage area is so big like more than 4000 and sale price is so low??? It clearly shows its outlier. They will screw our assumptions and model. Its not making us able to generalize fact using our features.\n",
        "\n",
        "So, we can say:\n",
        "\n",
        "  **1. To check outliers, do with better with scatterplot.**\n",
        "  \n",
        "  **2. To remove outliers, apply conditioning and drop them.**"
      ],
      "metadata": {
        "id": "O7ccInTGSz_k"
      }
    },
    {
      "cell_type": "code",
      "source": [
        "drop_outliers = df[(df['Gr Liv Area'] > 4000) & (df['SalePrice'] < 400000)]"
      ],
      "metadata": {
        "id": "uk_Tlw_LSrqs"
      },
      "execution_count": 93,
      "outputs": []
    },
    {
      "cell_type": "code",
      "source": [
        "drop_outliers"
      ],
      "metadata": {
        "colab": {
          "base_uri": "https://localhost:8080/",
          "height": 254
        },
        "id": "V7sIw2_eW4dh",
        "outputId": "55cf2c12-5f9a-4caf-feb2-ee96bf24feda"
      },
      "execution_count": 89,
      "outputs": [
        {
          "output_type": "execute_result",
          "data": {
            "text/plain": [
              "      Order        PID  MS SubClass MS Zoning  Lot Frontage  Lot Area Street  \\\n",
              "1498   1499  908154235           60        RL         313.0     63887   Pave   \n",
              "2180   2181  908154195           20        RL         128.0     39290   Pave   \n",
              "2181   2182  908154205           60        RL         130.0     40094   Pave   \n",
              "\n",
              "     Alley Lot Shape Land Contour  ... Pool Area Pool QC Fence Misc Feature  \\\n",
              "1498   NaN       IR3          Bnk  ...       480      Gd   NaN          NaN   \n",
              "2180   NaN       IR1          Bnk  ...         0     NaN   NaN         Elev   \n",
              "2181   NaN       IR1          Bnk  ...         0     NaN   NaN          NaN   \n",
              "\n",
              "     Misc Val Mo Sold Yr Sold Sale Type  Sale Condition  SalePrice  \n",
              "1498        0       1    2008       New         Partial     160000  \n",
              "2180    17000      10    2007       New         Partial     183850  \n",
              "2181        0      10    2007       New         Partial     184750  \n",
              "\n",
              "[3 rows x 82 columns]"
            ],
            "text/html": [
              "\n",
              "  <div id=\"df-03952000-8c66-4ef7-935f-556ce5e77434\">\n",
              "    <div class=\"colab-df-container\">\n",
              "      <div>\n",
              "<style scoped>\n",
              "    .dataframe tbody tr th:only-of-type {\n",
              "        vertical-align: middle;\n",
              "    }\n",
              "\n",
              "    .dataframe tbody tr th {\n",
              "        vertical-align: top;\n",
              "    }\n",
              "\n",
              "    .dataframe thead th {\n",
              "        text-align: right;\n",
              "    }\n",
              "</style>\n",
              "<table border=\"1\" class=\"dataframe\">\n",
              "  <thead>\n",
              "    <tr style=\"text-align: right;\">\n",
              "      <th></th>\n",
              "      <th>Order</th>\n",
              "      <th>PID</th>\n",
              "      <th>MS SubClass</th>\n",
              "      <th>MS Zoning</th>\n",
              "      <th>Lot Frontage</th>\n",
              "      <th>Lot Area</th>\n",
              "      <th>Street</th>\n",
              "      <th>Alley</th>\n",
              "      <th>Lot Shape</th>\n",
              "      <th>Land Contour</th>\n",
              "      <th>...</th>\n",
              "      <th>Pool Area</th>\n",
              "      <th>Pool QC</th>\n",
              "      <th>Fence</th>\n",
              "      <th>Misc Feature</th>\n",
              "      <th>Misc Val</th>\n",
              "      <th>Mo Sold</th>\n",
              "      <th>Yr Sold</th>\n",
              "      <th>Sale Type</th>\n",
              "      <th>Sale Condition</th>\n",
              "      <th>SalePrice</th>\n",
              "    </tr>\n",
              "  </thead>\n",
              "  <tbody>\n",
              "    <tr>\n",
              "      <th>1498</th>\n",
              "      <td>1499</td>\n",
              "      <td>908154235</td>\n",
              "      <td>60</td>\n",
              "      <td>RL</td>\n",
              "      <td>313.0</td>\n",
              "      <td>63887</td>\n",
              "      <td>Pave</td>\n",
              "      <td>NaN</td>\n",
              "      <td>IR3</td>\n",
              "      <td>Bnk</td>\n",
              "      <td>...</td>\n",
              "      <td>480</td>\n",
              "      <td>Gd</td>\n",
              "      <td>NaN</td>\n",
              "      <td>NaN</td>\n",
              "      <td>0</td>\n",
              "      <td>1</td>\n",
              "      <td>2008</td>\n",
              "      <td>New</td>\n",
              "      <td>Partial</td>\n",
              "      <td>160000</td>\n",
              "    </tr>\n",
              "    <tr>\n",
              "      <th>2180</th>\n",
              "      <td>2181</td>\n",
              "      <td>908154195</td>\n",
              "      <td>20</td>\n",
              "      <td>RL</td>\n",
              "      <td>128.0</td>\n",
              "      <td>39290</td>\n",
              "      <td>Pave</td>\n",
              "      <td>NaN</td>\n",
              "      <td>IR1</td>\n",
              "      <td>Bnk</td>\n",
              "      <td>...</td>\n",
              "      <td>0</td>\n",
              "      <td>NaN</td>\n",
              "      <td>NaN</td>\n",
              "      <td>Elev</td>\n",
              "      <td>17000</td>\n",
              "      <td>10</td>\n",
              "      <td>2007</td>\n",
              "      <td>New</td>\n",
              "      <td>Partial</td>\n",
              "      <td>183850</td>\n",
              "    </tr>\n",
              "    <tr>\n",
              "      <th>2181</th>\n",
              "      <td>2182</td>\n",
              "      <td>908154205</td>\n",
              "      <td>60</td>\n",
              "      <td>RL</td>\n",
              "      <td>130.0</td>\n",
              "      <td>40094</td>\n",
              "      <td>Pave</td>\n",
              "      <td>NaN</td>\n",
              "      <td>IR1</td>\n",
              "      <td>Bnk</td>\n",
              "      <td>...</td>\n",
              "      <td>0</td>\n",
              "      <td>NaN</td>\n",
              "      <td>NaN</td>\n",
              "      <td>NaN</td>\n",
              "      <td>0</td>\n",
              "      <td>10</td>\n",
              "      <td>2007</td>\n",
              "      <td>New</td>\n",
              "      <td>Partial</td>\n",
              "      <td>184750</td>\n",
              "    </tr>\n",
              "  </tbody>\n",
              "</table>\n",
              "<p>3 rows × 82 columns</p>\n",
              "</div>\n",
              "      <button class=\"colab-df-convert\" onclick=\"convertToInteractive('df-03952000-8c66-4ef7-935f-556ce5e77434')\"\n",
              "              title=\"Convert this dataframe to an interactive table.\"\n",
              "              style=\"display:none;\">\n",
              "        \n",
              "  <svg xmlns=\"http://www.w3.org/2000/svg\" height=\"24px\"viewBox=\"0 0 24 24\"\n",
              "       width=\"24px\">\n",
              "    <path d=\"M0 0h24v24H0V0z\" fill=\"none\"/>\n",
              "    <path d=\"M18.56 5.44l.94 2.06.94-2.06 2.06-.94-2.06-.94-.94-2.06-.94 2.06-2.06.94zm-11 1L8.5 8.5l.94-2.06 2.06-.94-2.06-.94L8.5 2.5l-.94 2.06-2.06.94zm10 10l.94 2.06.94-2.06 2.06-.94-2.06-.94-.94-2.06-.94 2.06-2.06.94z\"/><path d=\"M17.41 7.96l-1.37-1.37c-.4-.4-.92-.59-1.43-.59-.52 0-1.04.2-1.43.59L10.3 9.45l-7.72 7.72c-.78.78-.78 2.05 0 2.83L4 21.41c.39.39.9.59 1.41.59.51 0 1.02-.2 1.41-.59l7.78-7.78 2.81-2.81c.8-.78.8-2.07 0-2.86zM5.41 20L4 18.59l7.72-7.72 1.47 1.35L5.41 20z\"/>\n",
              "  </svg>\n",
              "      </button>\n",
              "      \n",
              "  <style>\n",
              "    .colab-df-container {\n",
              "      display:flex;\n",
              "      flex-wrap:wrap;\n",
              "      gap: 12px;\n",
              "    }\n",
              "\n",
              "    .colab-df-convert {\n",
              "      background-color: #E8F0FE;\n",
              "      border: none;\n",
              "      border-radius: 50%;\n",
              "      cursor: pointer;\n",
              "      display: none;\n",
              "      fill: #1967D2;\n",
              "      height: 32px;\n",
              "      padding: 0 0 0 0;\n",
              "      width: 32px;\n",
              "    }\n",
              "\n",
              "    .colab-df-convert:hover {\n",
              "      background-color: #E2EBFA;\n",
              "      box-shadow: 0px 1px 2px rgba(60, 64, 67, 0.3), 0px 1px 3px 1px rgba(60, 64, 67, 0.15);\n",
              "      fill: #174EA6;\n",
              "    }\n",
              "\n",
              "    [theme=dark] .colab-df-convert {\n",
              "      background-color: #3B4455;\n",
              "      fill: #D2E3FC;\n",
              "    }\n",
              "\n",
              "    [theme=dark] .colab-df-convert:hover {\n",
              "      background-color: #434B5C;\n",
              "      box-shadow: 0px 1px 3px 1px rgba(0, 0, 0, 0.15);\n",
              "      filter: drop-shadow(0px 1px 2px rgba(0, 0, 0, 0.3));\n",
              "      fill: #FFFFFF;\n",
              "    }\n",
              "  </style>\n",
              "\n",
              "      <script>\n",
              "        const buttonEl =\n",
              "          document.querySelector('#df-03952000-8c66-4ef7-935f-556ce5e77434 button.colab-df-convert');\n",
              "        buttonEl.style.display =\n",
              "          google.colab.kernel.accessAllowed ? 'block' : 'none';\n",
              "\n",
              "        async function convertToInteractive(key) {\n",
              "          const element = document.querySelector('#df-03952000-8c66-4ef7-935f-556ce5e77434');\n",
              "          const dataTable =\n",
              "            await google.colab.kernel.invokeFunction('convertToInteractive',\n",
              "                                                     [key], {});\n",
              "          if (!dataTable) return;\n",
              "\n",
              "          const docLinkHtml = 'Like what you see? Visit the ' +\n",
              "            '<a target=\"_blank\" href=https://colab.research.google.com/notebooks/data_table.ipynb>data table notebook</a>'\n",
              "            + ' to learn more about interactive tables.';\n",
              "          element.innerHTML = '';\n",
              "          dataTable['output_type'] = 'display_data';\n",
              "          await google.colab.output.renderOutput(dataTable, element);\n",
              "          const docLink = document.createElement('div');\n",
              "          docLink.innerHTML = docLinkHtml;\n",
              "          element.appendChild(docLink);\n",
              "        }\n",
              "      </script>\n",
              "    </div>\n",
              "  </div>\n",
              "  "
            ]
          },
          "metadata": {},
          "execution_count": 89
        }
      ]
    },
    {
      "cell_type": "code",
      "source": [
        "df.drop(drop_outliers.index, inplace=True)"
      ],
      "metadata": {
        "id": "D1DCdfPLUaUR"
      },
      "execution_count": 94,
      "outputs": []
    },
    {
      "cell_type": "code",
      "source": [],
      "metadata": {
        "colab": {
          "base_uri": "https://localhost:8080/"
        },
        "id": "fUH1aXCcUgC_",
        "outputId": "d2b132f0-ea9d-4eb2-f7e6-255d3ff64516"
      },
      "execution_count": 95,
      "outputs": [
        {
          "output_type": "execute_result",
          "data": {
            "text/plain": [
              "Index(['Order', 'PID', 'MS SubClass', 'MS Zoning', 'Lot Frontage', 'Lot Area',\n",
              "       'Street', 'Alley', 'Lot Shape', 'Land Contour', 'Utilities',\n",
              "       'Lot Config', 'Land Slope', 'Neighborhood', 'Condition 1',\n",
              "       'Condition 2', 'Bldg Type', 'House Style', 'Overall Qual',\n",
              "       'Overall Cond', 'Year Built', 'Year Remod/Add', 'Roof Style',\n",
              "       'Roof Matl', 'Exterior 1st', 'Exterior 2nd', 'Mas Vnr Type',\n",
              "       'Mas Vnr Area', 'Exter Qual', 'Exter Cond', 'Foundation', 'Bsmt Qual',\n",
              "       'Bsmt Cond', 'Bsmt Exposure', 'BsmtFin Type 1', 'BsmtFin SF 1',\n",
              "       'BsmtFin Type 2', 'BsmtFin SF 2', 'Bsmt Unf SF', 'Total Bsmt SF',\n",
              "       'Heating', 'Heating QC', 'Central Air', 'Electrical', '1st Flr SF',\n",
              "       '2nd Flr SF', 'Low Qual Fin SF', 'Gr Liv Area', 'Bsmt Full Bath',\n",
              "       'Bsmt Half Bath', 'Full Bath', 'Half Bath', 'Bedroom AbvGr',\n",
              "       'Kitchen AbvGr', 'Kitchen Qual', 'TotRms AbvGrd', 'Functional',\n",
              "       'Fireplaces', 'Fireplace Qu', 'Garage Type', 'Garage Yr Blt',\n",
              "       'Garage Finish', 'Garage Cars', 'Garage Area', 'Garage Qual',\n",
              "       'Garage Cond', 'Paved Drive', 'Wood Deck SF', 'Open Porch SF',\n",
              "       'Enclosed Porch', '3Ssn Porch', 'Screen Porch', 'Pool Area', 'Pool QC',\n",
              "       'Fence', 'Misc Feature', 'Misc Val', 'Mo Sold', 'Yr Sold', 'Sale Type',\n",
              "       'Sale Condition', 'SalePrice'],\n",
              "      dtype='object')"
            ]
          },
          "metadata": {},
          "execution_count": 95
        }
      ]
    },
    {
      "cell_type": "code",
      "source": [
        "sns.scatterplot(x = 'Gr Liv Area',  y = 'SalePrice', data = df);"
      ],
      "metadata": {
        "colab": {
          "base_uri": "https://localhost:8080/",
          "height": 449
        },
        "id": "42JeiaIvUlxL",
        "outputId": "14dae74b-687d-44e0-bff3-b609afbb25ba"
      },
      "execution_count": 96,
      "outputs": [
        {
          "output_type": "display_data",
          "data": {
            "text/plain": [
              "<Figure size 640x480 with 1 Axes>"
            ],
            "image/png": "[encoded data removed]"
          },
          "metadata": {}
        }
      ]
    },
    {
      "cell_type": "markdown",
      "source": [
        "See the outliers are gone from Gr live Area.\n",
        "\n",
        "Let's remove it from Overal Qual too."
      ],
      "metadata": {
        "id": "zQ_ri34XXsoR"
      }
    },
    {
      "cell_type": "code",
      "source": [
        "drop_qual_outliers = df[(df['Overall Qual'] > 8) & (df['SalePrice'] < 200000)]\n",
        "drop_qual_outliers"
      ],
      "metadata": {
        "colab": {
          "base_uri": "https://localhost:8080/",
          "height": 286
        },
        "id": "xXc7Ga0iXqjv",
        "outputId": "52b27c57-83e9-485f-bf97-239dd59b4999"
      },
      "execution_count": 101,
      "outputs": [
        {
          "output_type": "execute_result",
          "data": {
            "text/plain": [
              "      Order        PID  MS SubClass MS Zoning  Lot Frontage  Lot Area Street  \\\n",
              "1182   1183  533350090           60        RL           NaN     24572   Pave   \n",
              "1498   1499  908154235           60        RL         313.0     63887   Pave   \n",
              "2180   2181  908154195           20        RL         128.0     39290   Pave   \n",
              "2181   2182  908154205           60        RL         130.0     40094   Pave   \n",
              "\n",
              "     Alley Lot Shape Land Contour  ... Pool Area Pool QC Fence Misc Feature  \\\n",
              "1182   NaN       IR1          Lvl  ...         0     NaN   NaN          NaN   \n",
              "1498   NaN       IR3          Bnk  ...       480      Gd   NaN          NaN   \n",
              "2180   NaN       IR1          Bnk  ...         0     NaN   NaN         Elev   \n",
              "2181   NaN       IR1          Bnk  ...         0     NaN   NaN          NaN   \n",
              "\n",
              "     Misc Val Mo Sold Yr Sold Sale Type  Sale Condition  SalePrice  \n",
              "1182        0       6    2008       WD           Family     150000  \n",
              "1498        0       1    2008       New         Partial     160000  \n",
              "2180    17000      10    2007       New         Partial     183850  \n",
              "2181        0      10    2007       New         Partial     184750  \n",
              "\n",
              "[4 rows x 82 columns]"
            ],
            "text/html": [
              "\n",
              "  <div id=\"df-71b08fc0-6160-412c-80c0-e36fc9898354\">\n",
              "    <div class=\"colab-df-container\">\n",
              "      <div>\n",
              "<style scoped>\n",
              "    .dataframe tbody tr th:only-of-type {\n",
              "        vertical-align: middle;\n",
              "    }\n",
              "\n",
              "    .dataframe tbody tr th {\n",
              "        vertical-align: top;\n",
              "    }\n",
              "\n",
              "    .dataframe thead th {\n",
              "        text-align: right;\n",
              "    }\n",
              "</style>\n",
              "<table border=\"1\" class=\"dataframe\">\n",
              "  <thead>\n",
              "    <tr style=\"text-align: right;\">\n",
              "      <th></th>\n",
              "      <th>Order</th>\n",
              "      <th>PID</th>\n",
              "      <th>MS SubClass</th>\n",
              "      <th>MS Zoning</th>\n",
              "      <th>Lot Frontage</th>\n",
              "      <th>Lot Area</th>\n",
              "      <th>Street</th>\n",
              "      <th>Alley</th>\n",
              "      <th>Lot Shape</th>\n",
              "      <th>Land Contour</th>\n",
              "      <th>...</th>\n",
              "      <th>Pool Area</th>\n",
              "      <th>Pool QC</th>\n",
              "      <th>Fence</th>\n",
              "      <th>Misc Feature</th>\n",
              "      <th>Misc Val</th>\n",
              "      <th>Mo Sold</th>\n",
              "      <th>Yr Sold</th>\n",
              "      <th>Sale Type</th>\n",
              "      <th>Sale Condition</th>\n",
              "      <th>SalePrice</th>\n",
              "    </tr>\n",
              "  </thead>\n",
              "  <tbody>\n",
              "    <tr>\n",
              "      <th>1182</th>\n",
              "      <td>1183</td>\n",
              "      <td>533350090</td>\n",
              "      <td>60</td>\n",
              "      <td>RL</td>\n",
              "      <td>NaN</td>\n",
              "      <td>24572</td>\n",
              "      <td>Pave</td>\n",
              "      <td>NaN</td>\n",
              "      <td>IR1</td>\n",
              "      <td>Lvl</td>\n",
              "      <td>...</td>\n",
              "      <td>0</td>\n",
              "      <td>NaN</td>\n",
              "      <td>NaN</td>\n",
              "      <td>NaN</td>\n",
              "      <td>0</td>\n",
              "      <td>6</td>\n",
              "      <td>2008</td>\n",
              "      <td>WD</td>\n",
              "      <td>Family</td>\n",
              "      <td>150000</td>\n",
              "    </tr>\n",
              "    <tr>\n",
              "      <th>1498</th>\n",
              "      <td>1499</td>\n",
              "      <td>908154235</td>\n",
              "      <td>60</td>\n",
              "      <td>RL</td>\n",
              "      <td>313.0</td>\n",
              "      <td>63887</td>\n",
              "      <td>Pave</td>\n",
              "      <td>NaN</td>\n",
              "      <td>IR3</td>\n",
              "      <td>Bnk</td>\n",
              "      <td>...</td>\n",
              "      <td>480</td>\n",
              "      <td>Gd</td>\n",
              "      <td>NaN</td>\n",
              "      <td>NaN</td>\n",
              "      <td>0</td>\n",
              "      <td>1</td>\n",
              "      <td>2008</td>\n",
              "      <td>New</td>\n",
              "      <td>Partial</td>\n",
              "      <td>160000</td>\n",
              "    </tr>\n",
              "    <tr>\n",
              "      <th>2180</th>\n",
              "      <td>2181</td>\n",
              "      <td>908154195</td>\n",
              "      <td>20</td>\n",
              "      <td>RL</td>\n",
              "      <td>128.0</td>\n",
              "      <td>39290</td>\n",
              "      <td>Pave</td>\n",
              "      <td>NaN</td>\n",
              "      <td>IR1</td>\n",
              "      <td>Bnk</td>\n",
              "      <td>...</td>\n",
              "      <td>0</td>\n",
              "      <td>NaN</td>\n",
              "      <td>NaN</td>\n",
              "      <td>Elev</td>\n",
              "      <td>17000</td>\n",
              "      <td>10</td>\n",
              "      <td>2007</td>\n",
              "      <td>New</td>\n",
              "      <td>Partial</td>\n",
              "      <td>183850</td>\n",
              "    </tr>\n",
              "    <tr>\n",
              "      <th>2181</th>\n",
              "      <td>2182</td>\n",
              "      <td>908154205</td>\n",
              "      <td>60</td>\n",
              "      <td>RL</td>\n",
              "      <td>130.0</td>\n",
              "      <td>40094</td>\n",
              "      <td>Pave</td>\n",
              "      <td>NaN</td>\n",
              "      <td>IR1</td>\n",
              "      <td>Bnk</td>\n",
              "      <td>...</td>\n",
              "      <td>0</td>\n",
              "      <td>NaN</td>\n",
              "      <td>NaN</td>\n",
              "      <td>NaN</td>\n",
              "      <td>0</td>\n",
              "      <td>10</td>\n",
              "      <td>2007</td>\n",
              "      <td>New</td>\n",
              "      <td>Partial</td>\n",
              "      <td>184750</td>\n",
              "    </tr>\n",
              "  </tbody>\n",
              "</table>\n",
              "<p>4 rows × 82 columns</p>\n",
              "</div>\n",
              "      <button class=\"colab-df-convert\" onclick=\"convertToInteractive('df-71b08fc0-6160-412c-80c0-e36fc9898354')\"\n",
              "              title=\"Convert this dataframe to an interactive table.\"\n",
              "              style=\"display:none;\">\n",
              "        \n",
              "  <svg xmlns=\"http://www.w3.org/2000/svg\" height=\"24px\"viewBox=\"0 0 24 24\"\n",
              "       width=\"24px\">\n",
              "    <path d=\"M0 0h24v24H0V0z\" fill=\"none\"/>\n",
              "    <path d=\"M18.56 5.44l.94 2.06.94-2.06 2.06-.94-2.06-.94-.94-2.06-.94 2.06-2.06.94zm-11 1L8.5 8.5l.94-2.06 2.06-.94-2.06-.94L8.5 2.5l-.94 2.06-2.06.94zm10 10l.94 2.06.94-2.06 2.06-.94-2.06-.94-.94-2.06-.94 2.06-2.06.94z\"/><path d=\"M17.41 7.96l-1.37-1.37c-.4-.4-.92-.59-1.43-.59-.52 0-1.04.2-1.43.59L10.3 9.45l-7.72 7.72c-.78.78-.78 2.05 0 2.83L4 21.41c.39.39.9.59 1.41.59.51 0 1.02-.2 1.41-.59l7.78-7.78 2.81-2.81c.8-.78.8-2.07 0-2.86zM5.41 20L4 18.59l7.72-7.72 1.47 1.35L5.41 20z\"/>\n",
              "  </svg>\n",
              "      </button>\n",
              "      \n",
              "  <style>\n",
              "    .colab-df-container {\n",
              "      display:flex;\n",
              "      flex-wrap:wrap;\n",
              "      gap: 12px;\n",
              "    }\n",
              "\n",
              "    .colab-df-convert {\n",
              "      background-color: #E8F0FE;\n",
              "      border: none;\n",
              "      border-radius: 50%;\n",
              "      cursor: pointer;\n",
              "      display: none;\n",
              "      fill: #1967D2;\n",
              "      height: 32px;\n",
              "      padding: 0 0 0 0;\n",
              "      width: 32px;\n",
              "    }\n",
              "\n",
              "    .colab-df-convert:hover {\n",
              "      background-color: #E2EBFA;\n",
              "      box-shadow: 0px 1px 2px rgba(60, 64, 67, 0.3), 0px 1px 3px 1px rgba(60, 64, 67, 0.15);\n",
              "      fill: #174EA6;\n",
              "    }\n",
              "\n",
              "    [theme=dark] .colab-df-convert {\n",
              "      background-color: #3B4455;\n",
              "      fill: #D2E3FC;\n",
              "    }\n",
              "\n",
              "    [theme=dark] .colab-df-convert:hover {\n",
              "      background-color: #434B5C;\n",
              "      box-shadow: 0px 1px 3px 1px rgba(0, 0, 0, 0.15);\n",
              "      filter: drop-shadow(0px 1px 2px rgba(0, 0, 0, 0.3));\n",
              "      fill: #FFFFFF;\n",
              "    }\n",
              "  </style>\n",
              "\n",
              "      <script>\n",
              "        const buttonEl =\n",
              "          document.querySelector('#df-71b08fc0-6160-412c-80c0-e36fc9898354 button.colab-df-convert');\n",
              "        buttonEl.style.display =\n",
              "          google.colab.kernel.accessAllowed ? 'block' : 'none';\n",
              "\n",
              "        async function convertToInteractive(key) {\n",
              "          const element = document.querySelector('#df-71b08fc0-6160-412c-80c0-e36fc9898354');\n",
              "          const dataTable =\n",
              "            await google.colab.kernel.invokeFunction('convertToInteractive',\n",
              "                                                     [key], {});\n",
              "          if (!dataTable) return;\n",
              "\n",
              "          const docLinkHtml = 'Like what you see? Visit the ' +\n",
              "            '<a target=\"_blank\" href=https://colab.research.google.com/notebooks/data_table.ipynb>data table notebook</a>'\n",
              "            + ' to learn more about interactive tables.';\n",
              "          element.innerHTML = '';\n",
              "          dataTable['output_type'] = 'display_data';\n",
              "          await google.colab.output.renderOutput(dataTable, element);\n",
              "          const docLink = document.createElement('div');\n",
              "          docLink.innerHTML = docLinkHtml;\n",
              "          element.appendChild(docLink);\n",
              "        }\n",
              "      </script>\n",
              "    </div>\n",
              "  </div>\n",
              "  "
            ]
          },
          "metadata": {},
          "execution_count": 101
        }
      ]
    },
    {
      "cell_type": "code",
      "source": [
        "df.drop(drop_qual_outliers.index, inplace = True)"
      ],
      "metadata": {
        "id": "zCirREa6YDKV"
      },
      "execution_count": 102,
      "outputs": []
    },
    {
      "cell_type": "code",
      "source": [
        "sns.scatterplot(x = 'Overall Qual', y = 'SalePrice', data = df);"
      ],
      "metadata": {
        "colab": {
          "base_uri": "https://localhost:8080/",
          "height": 449
        },
        "id": "AKb278joYH36",
        "outputId": "8937799b-76e7-4937-bca8-f45825df3cee"
      },
      "execution_count": 103,
      "outputs": [
        {
          "output_type": "display_data",
          "data": {
            "text/plain": [
              "<Figure size 640x480 with 1 Axes>"
            ],
            "image/png": "[encoded data removed]"
          },
          "metadata": {}
        }
      ]
    },
    {
      "cell_type": "markdown",
      "source": [
        "Great! Al the outliers gone!"
      ],
      "metadata": {
        "id": "CQylOZ2CZGA1"
      }
    },
    {
      "cell_type": "markdown",
      "source": [
        "Don't forget to this outlier-removed file."
      ],
      "metadata": {
        "id": "830HWOOQZJ7W"
      }
    },
    {
      "cell_type": "code",
      "source": [
        "df.to_csv('/content/sample_data/Ames_without_outliers.csv')"
      ],
      "metadata": {
        "id": "Z6g33nmMZNuL"
      },
      "execution_count": 104,
      "outputs": []
    }
  ]
}